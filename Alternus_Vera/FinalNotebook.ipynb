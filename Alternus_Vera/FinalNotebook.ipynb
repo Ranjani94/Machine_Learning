{
  "nbformat": 4,
  "nbformat_minor": 0,
  "metadata": {
    "colab": {
      "name": "FinalNotebook.ipynb",
      "provenance": [],
      "collapsed_sections": [],
      "include_colab_link": true
    },
    "kernelspec": {
      "name": "python3",
      "display_name": "Python 3"
    }
  },
  "cells": [
    {
      "cell_type": "markdown",
      "metadata": {
        "id": "view-in-github",
        "colab_type": "text"
      },
      "source": [
        "<a href=\"https://colab.research.google.com/github/Ranjani94/Machine_Learning/blob/master/Alternus_Vera/FinalNotebook.ipynb\" target=\"_parent\"><img src=\"https://colab.research.google.com/assets/colab-badge.svg\" alt=\"Open In Colab\"/></a>"
      ]
    },
    {
      "cell_type": "markdown",
      "metadata": {
        "id": "8xOOzN1XLXiy",
        "colab_type": "text"
      },
      "source": [
        "#Alternum Vera: Fake News Detection\n",
        "\n",
        "- Course code : CMPE-257\n",
        "- Team name : The Expendables\n",
        "\n",
        "\n",
        "###Datasets\n",
        "\n",
        "- Liar Liar Pants on Fire Dataset \n",
        "- Fake News Dataset\n",
        "- News Category Dataset"
      ]
    },
    {
      "cell_type": "markdown",
      "metadata": {
        "id": "PiwRHwbzLq4Q",
        "colab_type": "text"
      },
      "source": [
        "###Github URL:\n",
        "\n",
        "Political Bias: https://github.com/Vigneshthanga/MachineLearning-CMPE257/blob/master/AlternusVera_Sprint4_Political_Bias.ipynb \n",
        "\n",
        "Title Vs Body: https://github.com/Poohi5/AlternusVera \n",
        "\n",
        "Clickbait: https://github.com/Ranjani94/Machine_Learning/blob/master/Alternus_Vera/AlternusVera_Sprint4_Clickbait.ipynb \n",
        "\n",
        "NodeRank: https://github.com/akshaya-nagarajan/MachineLearning/blob/master/AlternusVeraSprint4NodeRank_Akshaya.ipynb "
      ]
    },
    {
      "cell_type": "markdown",
      "metadata": {
        "id": "JM-rgWPjLsEn",
        "colab_type": "text"
      },
      "source": [
        "###Process Steps:\n",
        "\n",
        " - Load the Data\n",
        " - Distillation Process\n",
        "        - Data Preparation\n",
        "        - Data Observation\n",
        "        - Data Cleaning and Text Preprocessing\n",
        "        - Data Visualization\n",
        "        - Feature Extraction\n",
        "        - TF-IDF Vectorization\n",
        "        - LDA Topic Modelling\n",
        "        - Classification\n",
        "        - Extract Feature Vector\n",
        " - Classification Models\n",
        "        - Random Forest Classifier\n",
        "        - XGBoost classifier\n",
        "        - Decision Tree Classifier\n",
        " - Ranking and Importance\n",
        " - Merge all features and individual contributions\n",
        " - Form Polynomial Equation"
      ]
    },
    {
      "cell_type": "markdown",
      "metadata": {
        "id": "1K7HsC1ALvlx",
        "colab_type": "text"
      },
      "source": [
        "###Feature Selection:\n",
        "\n",
        "1. Political Bias\n",
        "2. Title Vs Body\n",
        "3. Clickbait\n",
        "4. Node Rank"
      ]
    },
    {
      "cell_type": "markdown",
      "metadata": {
        "id": "s8ozEnt2LyA9",
        "colab_type": "text"
      },
      "source": [
        "###Individual Contributions\n",
        "\n",
        "- Political Bias - Vignesh Kumar Thangarajan\n",
        "- Title Vs Body - Pooja Patil\n",
        "- Clickbait - Sivaranjani Kumar\n",
        "- Node Rank - Akshaya Nagarajan"
      ]
    },
    {
      "cell_type": "markdown",
      "metadata": {
        "id": "A3d0sOcnL0Ll",
        "colab_type": "text"
      },
      "source": [
        "###Libraries Used\n",
        "\n",
        "- NLTK\n",
        "- Gensim\n",
        "- Numpy\n",
        "- Pandas\n",
        "- CSV\n",
        "- WordCloud\n",
        "- Seaborn\n",
        "- Scipy\n",
        "- Regualr Expression\n",
        "- Matplotlib\n",
        "- Sklearn\n",
        "- Keras"
      ]
    },
    {
      "cell_type": "markdown",
      "metadata": {
        "id": "C1IqCaUyL-Wg",
        "colab_type": "text"
      },
      "source": [
        "As a team, we decided on the importance of the factors presented above. We brainstormed on the general pre-processing techniques we did want to use. We also had common visualization methods and similar techniques for evaluating the classification model accuracy. Each of us enriched the dataset with individual features and persisted it in a csv file. Each feature vector is persisted on csv (which is distilled with LDA, sentiment scores). We also came up with a polynomial equation based on the factors and the accuracy scores we received by classification. The polynomial equation is then used to build a model for fake news classification. The polynomial equation that we have used is (0.4 * NodeRank) + (0.8 * Political Bias) + (0.7 * ClickBait) + (0.25 * TitlevsBody). The final model that we built is a variation of the stack ensemble technique. The trained models are saved in Pickle File and can be later used to predict new unseen data. We followed two approach to calculate the final class label for the data:\n",
        "\n",
        "\n",
        "\n",
        "1.  With polynomial equation: As we discussed above, we calculated weights using accuracy using this formula : int(round(a1+a2+a3+a4)). The accuracy we got is 25.7 percent\n",
        "2.  Without polynomial equation : We gone with the class that has majority votes. We made use of mode function in pandas dataframe. The accuracy is 36 percent.\n",
        "\n"
      ]
    },
    {
      "cell_type": "markdown",
      "metadata": {
        "id": "BqZY3J2RTbpn",
        "colab_type": "text"
      },
      "source": [
        "## Mounting Google drive"
      ]
    },
    {
      "cell_type": "code",
      "metadata": {
        "id": "NF6MnMj9-p_r",
        "colab_type": "code",
        "outputId": "3f277e7f-bf53-474b-8867-e8e697a9bbe0",
        "colab": {
          "base_uri": "https://localhost:8080/",
          "height": 34
        }
      },
      "source": [
        "from google.colab import drive\n",
        "import pandas as pd\n",
        "drive.mount('/content/gdrive', force_remount=True)\n",
        "root_dir = \"/content/gdrive/My Drive/MLSpring2020/\"\n",
        "base_dir = root_dir + 'the_expendables_AirQuality_Traffic'"
      ],
      "execution_count": 0,
      "outputs": [
        {
          "output_type": "stream",
          "text": [
            "Mounted at /content/gdrive\n"
          ],
          "name": "stdout"
        }
      ]
    },
    {
      "cell_type": "code",
      "metadata": {
        "id": "QenEUjwTUrAm",
        "colab_type": "code",
        "colab": {}
      },
      "source": [
        "df = pd.read_csv(base_dir+'/Alternus_vera/Classification_4.csv')"
      ],
      "execution_count": 0,
      "outputs": []
    },
    {
      "cell_type": "code",
      "metadata": {
        "id": "P6UgR5se-4q3",
        "colab_type": "code",
        "outputId": "f764a85c-e523-474f-adc3-29450976a0eb",
        "colab": {
          "base_uri": "https://localhost:8080/",
          "height": 173
        }
      },
      "source": [
        "df.head(4)"
      ],
      "execution_count": 0,
      "outputs": [
        {
          "output_type": "execute_result",
          "data": {
            "text/html": [
              "<div>\n",
              "<style scoped>\n",
              "    .dataframe tbody tr th:only-of-type {\n",
              "        vertical-align: middle;\n",
              "    }\n",
              "\n",
              "    .dataframe tbody tr th {\n",
              "        vertical-align: top;\n",
              "    }\n",
              "\n",
              "    .dataframe thead th {\n",
              "        text-align: right;\n",
              "    }\n",
              "</style>\n",
              "<table border=\"1\" class=\"dataframe\">\n",
              "  <thead>\n",
              "    <tr style=\"text-align: right;\">\n",
              "      <th></th>\n",
              "      <th>Unnamed: 0</th>\n",
              "      <th>NodeRankClass</th>\n",
              "      <th>politicalbiasClass</th>\n",
              "      <th>clickbaitclass</th>\n",
              "      <th>ActualClass</th>\n",
              "      <th>titlebodyclass</th>\n",
              "    </tr>\n",
              "  </thead>\n",
              "  <tbody>\n",
              "    <tr>\n",
              "      <th>0</th>\n",
              "      <td>0</td>\n",
              "      <td>FALSE</td>\n",
              "      <td>FALSE</td>\n",
              "      <td>FALSE</td>\n",
              "      <td>FALSE</td>\n",
              "      <td>half-true</td>\n",
              "    </tr>\n",
              "    <tr>\n",
              "      <th>1</th>\n",
              "      <td>1</td>\n",
              "      <td>half-true</td>\n",
              "      <td>mostly-true</td>\n",
              "      <td>half-true</td>\n",
              "      <td>half-true</td>\n",
              "      <td>half-true</td>\n",
              "    </tr>\n",
              "    <tr>\n",
              "      <th>2</th>\n",
              "      <td>2</td>\n",
              "      <td>mostly-true</td>\n",
              "      <td>mostly-true</td>\n",
              "      <td>mostly-true</td>\n",
              "      <td>mostly-true</td>\n",
              "      <td>half-true</td>\n",
              "    </tr>\n",
              "    <tr>\n",
              "      <th>3</th>\n",
              "      <td>3</td>\n",
              "      <td>mostly-true</td>\n",
              "      <td>half-true</td>\n",
              "      <td>FALSE</td>\n",
              "      <td>FALSE</td>\n",
              "      <td>half-true</td>\n",
              "    </tr>\n",
              "  </tbody>\n",
              "</table>\n",
              "</div>"
            ],
            "text/plain": [
              "   Unnamed: 0 NodeRankClass  ...  ActualClass titlebodyclass\n",
              "0           0         FALSE  ...        FALSE      half-true\n",
              "1           1     half-true  ...    half-true      half-true\n",
              "2           2   mostly-true  ...  mostly-true      half-true\n",
              "3           3   mostly-true  ...        FALSE      half-true\n",
              "\n",
              "[4 rows x 6 columns]"
            ]
          },
          "metadata": {
            "tags": []
          },
          "execution_count": 267
        }
      ]
    },
    {
      "cell_type": "code",
      "metadata": {
        "id": "e0bGIcRi-58z",
        "colab_type": "code",
        "outputId": "d6e0249a-3258-4cb3-f12b-2617d6d3b2f8",
        "colab": {
          "base_uri": "https://localhost:8080/",
          "height": 34
        }
      },
      "source": [
        "df.shape"
      ],
      "execution_count": 0,
      "outputs": [
        {
          "output_type": "execute_result",
          "data": {
            "text/plain": [
              "(3000, 6)"
            ]
          },
          "metadata": {
            "tags": []
          },
          "execution_count": 268
        }
      ]
    },
    {
      "cell_type": "code",
      "metadata": {
        "id": "oIvhVgRhASGl",
        "colab_type": "code",
        "colab": {}
      },
      "source": [
        "acc = [0.4, 0.8, 0.7, 0.2]"
      ],
      "execution_count": 0,
      "outputs": []
    },
    {
      "cell_type": "code",
      "metadata": {
        "id": "IlL3RChPAtyZ",
        "colab_type": "code",
        "colab": {}
      },
      "source": [
        "weight = [float(i)/sum(acc) for i in acc]"
      ],
      "execution_count": 0,
      "outputs": []
    },
    {
      "cell_type": "code",
      "metadata": {
        "id": "kodrcBwdA_4T",
        "colab_type": "code",
        "colab": {}
      },
      "source": [
        "for i in range(len(weight)):\n",
        "  weight[i] = round(weight[i], 2) "
      ],
      "execution_count": 0,
      "outputs": []
    },
    {
      "cell_type": "code",
      "metadata": {
        "id": "DasN4ZcUFIVn",
        "colab_type": "code",
        "outputId": "d1065a87-94f7-4997-afd6-e9aa6ea19330",
        "colab": {
          "base_uri": "https://localhost:8080/",
          "height": 34
        }
      },
      "source": [
        "weight"
      ],
      "execution_count": 0,
      "outputs": [
        {
          "output_type": "execute_result",
          "data": {
            "text/plain": [
              "[0.19, 0.38, 0.33, 0.1]"
            ]
          },
          "metadata": {
            "tags": []
          },
          "execution_count": 272
        }
      ]
    },
    {
      "cell_type": "code",
      "metadata": {
        "id": "ULBXX-3ZBBNj",
        "colab_type": "code",
        "outputId": "1fa311d8-3d36-4772-d48b-f043f9c6c596",
        "colab": {
          "base_uri": "https://localhost:8080/",
          "height": 34
        }
      },
      "source": [
        "from sklearn import preprocessing\n",
        "label_encoder = preprocessing.LabelEncoder()\n",
        "label_encoder.fit(df['NodeRankClass'])"
      ],
      "execution_count": 0,
      "outputs": [
        {
          "output_type": "execute_result",
          "data": {
            "text/plain": [
              "LabelEncoder()"
            ]
          },
          "metadata": {
            "tags": []
          },
          "execution_count": 273
        }
      ]
    },
    {
      "cell_type": "code",
      "metadata": {
        "id": "z24qa6qfBO8A",
        "colab_type": "code",
        "colab": {}
      },
      "source": [
        "df['NodeRank_label'] = label_encoder.transform(df['NodeRankClass'])\n",
        "df['politicalbias_label'] = label_encoder.transform(df['politicalbiasClass'])\n",
        "df['clickbait_label'] = label_encoder.transform(df['clickbaitclass'])\n",
        "df['titlebody_label'] = label_encoder.transform(df['titlebodyclass'])"
      ],
      "execution_count": 0,
      "outputs": []
    },
    {
      "cell_type": "code",
      "metadata": {
        "id": "CR1DadLwCBkN",
        "colab_type": "code",
        "colab": {}
      },
      "source": [
        "try:\n",
        "  df.drop(columns=['Unnamed: 0'], inplace=True)\n",
        "except e as Exception:\n",
        "  pass"
      ],
      "execution_count": 0,
      "outputs": []
    },
    {
      "cell_type": "code",
      "metadata": {
        "id": "_6mJMtePBiYW",
        "colab_type": "code",
        "outputId": "0a04506a-09d2-4986-bd2d-a1fbd60a9df2",
        "colab": {
          "base_uri": "https://localhost:8080/",
          "height": 210
        }
      },
      "source": [
        "df.head(4)"
      ],
      "execution_count": 0,
      "outputs": [
        {
          "output_type": "execute_result",
          "data": {
            "text/html": [
              "<div>\n",
              "<style scoped>\n",
              "    .dataframe tbody tr th:only-of-type {\n",
              "        vertical-align: middle;\n",
              "    }\n",
              "\n",
              "    .dataframe tbody tr th {\n",
              "        vertical-align: top;\n",
              "    }\n",
              "\n",
              "    .dataframe thead th {\n",
              "        text-align: right;\n",
              "    }\n",
              "</style>\n",
              "<table border=\"1\" class=\"dataframe\">\n",
              "  <thead>\n",
              "    <tr style=\"text-align: right;\">\n",
              "      <th></th>\n",
              "      <th>Unnamed: 0</th>\n",
              "      <th>NodeRankClass</th>\n",
              "      <th>politicalbiasClass</th>\n",
              "      <th>clickbaitclass</th>\n",
              "      <th>ActualClass</th>\n",
              "      <th>titlebodyclass</th>\n",
              "      <th>NodeRank_label</th>\n",
              "      <th>politicalbias_label</th>\n",
              "      <th>clickbait_label</th>\n",
              "      <th>titlebody_label</th>\n",
              "    </tr>\n",
              "  </thead>\n",
              "  <tbody>\n",
              "    <tr>\n",
              "      <th>0</th>\n",
              "      <td>0</td>\n",
              "      <td>FALSE</td>\n",
              "      <td>FALSE</td>\n",
              "      <td>FALSE</td>\n",
              "      <td>FALSE</td>\n",
              "      <td>half-true</td>\n",
              "      <td>0</td>\n",
              "      <td>0</td>\n",
              "      <td>0</td>\n",
              "      <td>3</td>\n",
              "    </tr>\n",
              "    <tr>\n",
              "      <th>1</th>\n",
              "      <td>1</td>\n",
              "      <td>half-true</td>\n",
              "      <td>mostly-true</td>\n",
              "      <td>half-true</td>\n",
              "      <td>half-true</td>\n",
              "      <td>half-true</td>\n",
              "      <td>3</td>\n",
              "      <td>4</td>\n",
              "      <td>3</td>\n",
              "      <td>3</td>\n",
              "    </tr>\n",
              "    <tr>\n",
              "      <th>2</th>\n",
              "      <td>2</td>\n",
              "      <td>mostly-true</td>\n",
              "      <td>mostly-true</td>\n",
              "      <td>mostly-true</td>\n",
              "      <td>mostly-true</td>\n",
              "      <td>half-true</td>\n",
              "      <td>4</td>\n",
              "      <td>4</td>\n",
              "      <td>4</td>\n",
              "      <td>3</td>\n",
              "    </tr>\n",
              "    <tr>\n",
              "      <th>3</th>\n",
              "      <td>3</td>\n",
              "      <td>mostly-true</td>\n",
              "      <td>half-true</td>\n",
              "      <td>FALSE</td>\n",
              "      <td>FALSE</td>\n",
              "      <td>half-true</td>\n",
              "      <td>4</td>\n",
              "      <td>3</td>\n",
              "      <td>0</td>\n",
              "      <td>3</td>\n",
              "    </tr>\n",
              "  </tbody>\n",
              "</table>\n",
              "</div>"
            ],
            "text/plain": [
              "   Unnamed: 0 NodeRankClass  ... clickbait_label titlebody_label\n",
              "0           0         FALSE  ...               0               3\n",
              "1           1     half-true  ...               3               3\n",
              "2           2   mostly-true  ...               4               3\n",
              "3           3   mostly-true  ...               0               3\n",
              "\n",
              "[4 rows x 10 columns]"
            ]
          },
          "metadata": {
            "tags": []
          },
          "execution_count": 276
        }
      ]
    },
    {
      "cell_type": "code",
      "metadata": {
        "id": "YxuB_WoICS08",
        "colab_type": "code",
        "colab": {}
      },
      "source": [
        "df_1 = df[['NodeRank_label', 'politicalbias_label','clickbait_label','titlebody_label']]"
      ],
      "execution_count": 0,
      "outputs": []
    },
    {
      "cell_type": "code",
      "metadata": {
        "id": "_bVnJbZpCmw3",
        "colab_type": "code",
        "colab": {}
      },
      "source": [
        "def calcLabel(x):\n",
        "  a1 = x.NodeRank_label * weight[0]\n",
        "  a2 = x.politicalbias_label * weight[1]\n",
        "  a3 = x.clickbait_label * weight[2]\n",
        "  a4 = x.titlebody_label * weight[3]\n",
        "  s = int(round(a1+a2+a3+a4))\n",
        "  return s"
      ],
      "execution_count": 0,
      "outputs": []
    },
    {
      "cell_type": "code",
      "metadata": {
        "id": "bdaKJuFXFvOI",
        "colab_type": "code",
        "outputId": "e4a8462a-f09c-4843-cb71-8a066041737b",
        "colab": {
          "base_uri": "https://localhost:8080/",
          "height": 173
        }
      },
      "source": [
        "df_1.head(4)"
      ],
      "execution_count": 0,
      "outputs": [
        {
          "output_type": "execute_result",
          "data": {
            "text/html": [
              "<div>\n",
              "<style scoped>\n",
              "    .dataframe tbody tr th:only-of-type {\n",
              "        vertical-align: middle;\n",
              "    }\n",
              "\n",
              "    .dataframe tbody tr th {\n",
              "        vertical-align: top;\n",
              "    }\n",
              "\n",
              "    .dataframe thead th {\n",
              "        text-align: right;\n",
              "    }\n",
              "</style>\n",
              "<table border=\"1\" class=\"dataframe\">\n",
              "  <thead>\n",
              "    <tr style=\"text-align: right;\">\n",
              "      <th></th>\n",
              "      <th>NodeRank_label</th>\n",
              "      <th>politicalbias_label</th>\n",
              "      <th>clickbait_label</th>\n",
              "      <th>titlebody_label</th>\n",
              "    </tr>\n",
              "  </thead>\n",
              "  <tbody>\n",
              "    <tr>\n",
              "      <th>0</th>\n",
              "      <td>0</td>\n",
              "      <td>0</td>\n",
              "      <td>0</td>\n",
              "      <td>3</td>\n",
              "    </tr>\n",
              "    <tr>\n",
              "      <th>1</th>\n",
              "      <td>3</td>\n",
              "      <td>4</td>\n",
              "      <td>3</td>\n",
              "      <td>3</td>\n",
              "    </tr>\n",
              "    <tr>\n",
              "      <th>2</th>\n",
              "      <td>4</td>\n",
              "      <td>4</td>\n",
              "      <td>4</td>\n",
              "      <td>3</td>\n",
              "    </tr>\n",
              "    <tr>\n",
              "      <th>3</th>\n",
              "      <td>4</td>\n",
              "      <td>3</td>\n",
              "      <td>0</td>\n",
              "      <td>3</td>\n",
              "    </tr>\n",
              "  </tbody>\n",
              "</table>\n",
              "</div>"
            ],
            "text/plain": [
              "   NodeRank_label  politicalbias_label  clickbait_label  titlebody_label\n",
              "0               0                    0                0                3\n",
              "1               3                    4                3                3\n",
              "2               4                    4                4                3\n",
              "3               4                    3                0                3"
            ]
          },
          "metadata": {
            "tags": []
          },
          "execution_count": 279
        }
      ]
    },
    {
      "cell_type": "code",
      "metadata": {
        "id": "S9cc6TEDCez8",
        "colab_type": "code",
        "outputId": "872b64e3-1e4c-4aa4-bf16-d93edf312a8e",
        "colab": {
          "base_uri": "https://localhost:8080/",
          "height": 139
        }
      },
      "source": [
        "df_1['final_label'] = df_1.apply(lambda x: calcLabel(x), axis=1)"
      ],
      "execution_count": 0,
      "outputs": [
        {
          "output_type": "stream",
          "text": [
            "/usr/local/lib/python3.6/dist-packages/ipykernel_launcher.py:1: SettingWithCopyWarning: \n",
            "A value is trying to be set on a copy of a slice from a DataFrame.\n",
            "Try using .loc[row_indexer,col_indexer] = value instead\n",
            "\n",
            "See the caveats in the documentation: https://pandas.pydata.org/pandas-docs/stable/user_guide/indexing.html#returning-a-view-versus-a-copy\n",
            "  \"\"\"Entry point for launching an IPython kernel.\n"
          ],
          "name": "stderr"
        }
      ]
    },
    {
      "cell_type": "code",
      "metadata": {
        "id": "9GngDVdcHGW1",
        "colab_type": "code",
        "colab": {}
      },
      "source": [
        "df['label_class'] = label_encoder.inverse_transform(df_1['final_label'].values)"
      ],
      "execution_count": 0,
      "outputs": []
    },
    {
      "cell_type": "code",
      "metadata": {
        "id": "RXl7DbewHSPW",
        "colab_type": "code",
        "outputId": "ea081dc7-c123-46a3-c911-30205a3ed3d2",
        "colab": {
          "base_uri": "https://localhost:8080/",
          "height": 210
        }
      },
      "source": [
        "df.head(4)"
      ],
      "execution_count": 0,
      "outputs": [
        {
          "output_type": "execute_result",
          "data": {
            "text/html": [
              "<div>\n",
              "<style scoped>\n",
              "    .dataframe tbody tr th:only-of-type {\n",
              "        vertical-align: middle;\n",
              "    }\n",
              "\n",
              "    .dataframe tbody tr th {\n",
              "        vertical-align: top;\n",
              "    }\n",
              "\n",
              "    .dataframe thead th {\n",
              "        text-align: right;\n",
              "    }\n",
              "</style>\n",
              "<table border=\"1\" class=\"dataframe\">\n",
              "  <thead>\n",
              "    <tr style=\"text-align: right;\">\n",
              "      <th></th>\n",
              "      <th>Unnamed: 0</th>\n",
              "      <th>NodeRankClass</th>\n",
              "      <th>politicalbiasClass</th>\n",
              "      <th>clickbaitclass</th>\n",
              "      <th>ActualClass</th>\n",
              "      <th>titlebodyclass</th>\n",
              "      <th>NodeRank_label</th>\n",
              "      <th>politicalbias_label</th>\n",
              "      <th>clickbait_label</th>\n",
              "      <th>titlebody_label</th>\n",
              "      <th>label_class</th>\n",
              "    </tr>\n",
              "  </thead>\n",
              "  <tbody>\n",
              "    <tr>\n",
              "      <th>0</th>\n",
              "      <td>0</td>\n",
              "      <td>FALSE</td>\n",
              "      <td>FALSE</td>\n",
              "      <td>FALSE</td>\n",
              "      <td>FALSE</td>\n",
              "      <td>half-true</td>\n",
              "      <td>0</td>\n",
              "      <td>0</td>\n",
              "      <td>0</td>\n",
              "      <td>3</td>\n",
              "      <td>FALSE</td>\n",
              "    </tr>\n",
              "    <tr>\n",
              "      <th>1</th>\n",
              "      <td>1</td>\n",
              "      <td>half-true</td>\n",
              "      <td>mostly-true</td>\n",
              "      <td>half-true</td>\n",
              "      <td>half-true</td>\n",
              "      <td>half-true</td>\n",
              "      <td>3</td>\n",
              "      <td>4</td>\n",
              "      <td>3</td>\n",
              "      <td>3</td>\n",
              "      <td>half-true</td>\n",
              "    </tr>\n",
              "    <tr>\n",
              "      <th>2</th>\n",
              "      <td>2</td>\n",
              "      <td>mostly-true</td>\n",
              "      <td>mostly-true</td>\n",
              "      <td>mostly-true</td>\n",
              "      <td>mostly-true</td>\n",
              "      <td>half-true</td>\n",
              "      <td>4</td>\n",
              "      <td>4</td>\n",
              "      <td>4</td>\n",
              "      <td>3</td>\n",
              "      <td>mostly-true</td>\n",
              "    </tr>\n",
              "    <tr>\n",
              "      <th>3</th>\n",
              "      <td>3</td>\n",
              "      <td>mostly-true</td>\n",
              "      <td>half-true</td>\n",
              "      <td>FALSE</td>\n",
              "      <td>FALSE</td>\n",
              "      <td>half-true</td>\n",
              "      <td>4</td>\n",
              "      <td>3</td>\n",
              "      <td>0</td>\n",
              "      <td>3</td>\n",
              "      <td>barely-true</td>\n",
              "    </tr>\n",
              "  </tbody>\n",
              "</table>\n",
              "</div>"
            ],
            "text/plain": [
              "   Unnamed: 0 NodeRankClass  ... titlebody_label  label_class\n",
              "0           0         FALSE  ...               3        FALSE\n",
              "1           1     half-true  ...               3    half-true\n",
              "2           2   mostly-true  ...               3  mostly-true\n",
              "3           3   mostly-true  ...               3  barely-true\n",
              "\n",
              "[4 rows x 11 columns]"
            ]
          },
          "metadata": {
            "tags": []
          },
          "execution_count": 283
        }
      ]
    },
    {
      "cell_type": "code",
      "metadata": {
        "id": "vZG9FCvQHV1v",
        "colab_type": "code",
        "colab": {}
      },
      "source": [
        "from sklearn.metrics import accuracy_score"
      ],
      "execution_count": 0,
      "outputs": []
    },
    {
      "cell_type": "markdown",
      "metadata": {
        "id": "3-iFUhFcNmKh",
        "colab_type": "text"
      },
      "source": [
        "## Accuracy score with Polynomial Equation"
      ]
    },
    {
      "cell_type": "code",
      "metadata": {
        "id": "r00E4U61HYql",
        "colab_type": "code",
        "outputId": "ed70ca73-b04b-4668-b83a-e7bd4dee1406",
        "colab": {
          "base_uri": "https://localhost:8080/",
          "height": 34
        }
      },
      "source": [
        "print('Accuracy Score is {}'.format(accuracy_score(df['ActualClass'], df['label_class'])*100))"
      ],
      "execution_count": 0,
      "outputs": [
        {
          "output_type": "stream",
          "text": [
            "Accuracy Score is 25.7\n"
          ],
          "name": "stdout"
        }
      ]
    },
    {
      "cell_type": "markdown",
      "metadata": {
        "id": "fKLYs1umNsFy",
        "colab_type": "text"
      },
      "source": [
        "## Accuracy score without Polynomial Equation"
      ]
    },
    {
      "cell_type": "code",
      "metadata": {
        "id": "SDTD0z-wN3Sq",
        "colab_type": "code",
        "colab": {}
      },
      "source": [
        "df_2 = df[['NodeRankClass', 'politicalbiasClass','clickbaitclass','titlebodyclass']]"
      ],
      "execution_count": 0,
      "outputs": []
    },
    {
      "cell_type": "code",
      "metadata": {
        "id": "uu1cmYwgNwhx",
        "colab_type": "code",
        "outputId": "71526655-7104-44cf-9462-44d328418b89",
        "colab": {
          "base_uri": "https://localhost:8080/",
          "height": 139
        }
      },
      "source": [
        "df_2['final_class'] = df_2.mode(axis=1)[0]"
      ],
      "execution_count": 0,
      "outputs": [
        {
          "output_type": "stream",
          "text": [
            "/usr/local/lib/python3.6/dist-packages/ipykernel_launcher.py:1: SettingWithCopyWarning: \n",
            "A value is trying to be set on a copy of a slice from a DataFrame.\n",
            "Try using .loc[row_indexer,col_indexer] = value instead\n",
            "\n",
            "See the caveats in the documentation: https://pandas.pydata.org/pandas-docs/stable/user_guide/indexing.html#returning-a-view-versus-a-copy\n",
            "  \"\"\"Entry point for launching an IPython kernel.\n"
          ],
          "name": "stderr"
        }
      ]
    },
    {
      "cell_type": "code",
      "metadata": {
        "id": "EjfmUtEEOTs1",
        "colab_type": "code",
        "outputId": "28ed082f-c9a9-4180-eeb4-c2f33a0038b6",
        "colab": {
          "base_uri": "https://localhost:8080/",
          "height": 34
        }
      },
      "source": [
        "print('Accuracy Score is {}'. format(round(accuracy_score(df['ActualClass'], df_2['final_class']), 2) * 100))"
      ],
      "execution_count": 0,
      "outputs": [
        {
          "output_type": "stream",
          "text": [
            "Accuracy Score is 36.0\n"
          ],
          "name": "stdout"
        }
      ]
    }
  ]
}