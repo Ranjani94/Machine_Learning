{
  "nbformat": 4,
  "nbformat_minor": 0,
  "metadata": {
    "colab": {
      "name": "ML_Project.ipynb",
      "provenance": [],
      "collapsed_sections": [],
      "include_colab_link": true
    },
    "kernelspec": {
      "name": "python3",
      "display_name": "Python 3"
    },
    "accelerator": "GPU"
  },
  "cells": [
    {
      "cell_type": "markdown",
      "metadata": {
        "id": "view-in-github",
        "colab_type": "text"
      },
      "source": [
        "<a href=\"https://colab.research.google.com/github/Ranjani94/Machine_Learning/blob/master/ML_Project.ipynb\" target=\"_parent\"><img src=\"https://colab.research.google.com/assets/colab-badge.svg\" alt=\"Open In Colab\"/></a>"
      ]
    },
    {
      "cell_type": "markdown",
      "metadata": {
        "id": "DoBspyhd1YTA",
        "colab_type": "text"
      },
      "source": [
        "# Data collection, Cleaning, Amalgamation"
      ]
    },
    {
      "cell_type": "markdown",
      "metadata": {
        "id": "bQBH9nsrmnoA",
        "colab_type": "text"
      },
      "source": [
        "### Mounting drive"
      ]
    },
    {
      "cell_type": "code",
      "metadata": {
        "id": "LmhQCgyy3y4a",
        "colab_type": "code",
        "outputId": "61aee124-b697-4d08-d65c-7206305779f2",
        "colab": {
          "base_uri": "https://localhost:8080/",
          "height": 122
        }
      },
      "source": [
        "from google.colab import drive\n",
        "drive.mount('/content/gdrive', force_remount=True)\n",
        "root_dir = \"/content/gdrive/My Drive/MLSpring2020/\"\n",
        "base_dir = root_dir + 'the_expendables_AirQuality_Traffic'"
      ],
      "execution_count": 1,
      "outputs": [
        {
          "output_type": "stream",
          "text": [
            "Go to this URL in a browser: https://accounts.google.com/o/oauth2/auth?client_id=947318989803-6bn6qk8qdgf4n4g3pfee6491hc0brc4i.apps.googleusercontent.com&redirect_uri=urn%3aietf%3awg%3aoauth%3a2.0%3aoob&response_type=code&scope=email%20https%3a%2f%2fwww.googleapis.com%2fauth%2fdocs.test%20https%3a%2f%2fwww.googleapis.com%2fauth%2fdrive%20https%3a%2f%2fwww.googleapis.com%2fauth%2fdrive.photos.readonly%20https%3a%2f%2fwww.googleapis.com%2fauth%2fpeopleapi.readonly\n",
            "\n",
            "Enter your authorization code:\n",
            "··········\n",
            "Mounted at /content/gdrive\n"
          ],
          "name": "stdout"
        }
      ]
    },
    {
      "cell_type": "markdown",
      "metadata": {
        "id": "k2BeaZyfmtGe",
        "colab_type": "text"
      },
      "source": [
        "### File path and data frames\n"
      ]
    },
    {
      "cell_type": "code",
      "metadata": {
        "id": "9EM4rDhW39dd",
        "colab_type": "code",
        "colab": {}
      },
      "source": [
        "aqiFilePath = base_dir + '/aqidaily_2016_to_2019.csv'\n",
        "weatherFilePath = base_dir + '/bakersfield_weather_2016_to_2019.csv'"
      ],
      "execution_count": 0,
      "outputs": []
    },
    {
      "cell_type": "code",
      "metadata": {
        "id": "u_blyOBW473u",
        "colab_type": "code",
        "colab": {}
      },
      "source": [
        "import pandas as pd\n",
        "import numpy as np"
      ],
      "execution_count": 0,
      "outputs": []
    },
    {
      "cell_type": "code",
      "metadata": {
        "id": "xmcGlwql4-1g",
        "colab_type": "code",
        "colab": {}
      },
      "source": [
        "aqiDataFrame = pd.read_csv(aqiFilePath)\n",
        "weatherDataFrame = pd.read_csv(weatherFilePath)"
      ],
      "execution_count": 0,
      "outputs": []
    },
    {
      "cell_type": "code",
      "metadata": {
        "id": "ll5TFwfO5IXh",
        "colab_type": "code",
        "outputId": "1b178985-395e-4bc2-bff4-585b83a9eb54",
        "colab": {
          "base_uri": "https://localhost:8080/",
          "height": 111
        }
      },
      "source": [
        "aqiDataFrame.head(2)"
      ],
      "execution_count": 5,
      "outputs": [
        {
          "output_type": "execute_result",
          "data": {
            "text/html": [
              "<div>\n",
              "<style scoped>\n",
              "    .dataframe tbody tr th:only-of-type {\n",
              "        vertical-align: middle;\n",
              "    }\n",
              "\n",
              "    .dataframe tbody tr th {\n",
              "        vertical-align: top;\n",
              "    }\n",
              "\n",
              "    .dataframe thead th {\n",
              "        text-align: right;\n",
              "    }\n",
              "</style>\n",
              "<table border=\"1\" class=\"dataframe\">\n",
              "  <thead>\n",
              "    <tr style=\"text-align: right;\">\n",
              "      <th></th>\n",
              "      <th>Date</th>\n",
              "      <th>Overall AQI Value</th>\n",
              "      <th>Main Pollutant</th>\n",
              "      <th>Site Name (of Overall AQI)</th>\n",
              "      <th>Site ID (of Overall AQI)</th>\n",
              "      <th>Source (of Overall AQI)</th>\n",
              "      <th>CO</th>\n",
              "      <th>Ozone</th>\n",
              "      <th>PM10</th>\n",
              "      <th>PM25</th>\n",
              "      <th>NO2</th>\n",
              "    </tr>\n",
              "  </thead>\n",
              "  <tbody>\n",
              "    <tr>\n",
              "      <th>0</th>\n",
              "      <td>1/1/16</td>\n",
              "      <td>148</td>\n",
              "      <td>PM2.5</td>\n",
              "      <td>Bakersfield-California</td>\n",
              "      <td>06-029-0014</td>\n",
              "      <td>AQS</td>\n",
              "      <td>8</td>\n",
              "      <td>37</td>\n",
              "      <td>52</td>\n",
              "      <td>148</td>\n",
              "      <td>23</td>\n",
              "    </tr>\n",
              "    <tr>\n",
              "      <th>1</th>\n",
              "      <td>1/2/16</td>\n",
              "      <td>113</td>\n",
              "      <td>PM2.5</td>\n",
              "      <td>Bakersfield-California</td>\n",
              "      <td>06-029-0014</td>\n",
              "      <td>AQS</td>\n",
              "      <td>7</td>\n",
              "      <td>37</td>\n",
              "      <td>14</td>\n",
              "      <td>113</td>\n",
              "      <td>25</td>\n",
              "    </tr>\n",
              "  </tbody>\n",
              "</table>\n",
              "</div>"
            ],
            "text/plain": [
              "     Date  Overall AQI Value Main Pollutant  ... PM10 PM25 NO2\n",
              "0  1/1/16                148          PM2.5  ...   52  148  23\n",
              "1  1/2/16                113          PM2.5  ...   14  113  25\n",
              "\n",
              "[2 rows x 11 columns]"
            ]
          },
          "metadata": {
            "tags": []
          },
          "execution_count": 5
        }
      ]
    },
    {
      "cell_type": "code",
      "metadata": {
        "id": "6gtNr8VK5p8x",
        "colab_type": "code",
        "outputId": "6e77349a-34f9-4a5e-d8c0-d40c4eec3d8c",
        "colab": {
          "base_uri": "https://localhost:8080/",
          "height": 111
        }
      },
      "source": [
        "weatherDataFrame.head(2)"
      ],
      "execution_count": 6,
      "outputs": [
        {
          "output_type": "execute_result",
          "data": {
            "text/html": [
              "<div>\n",
              "<style scoped>\n",
              "    .dataframe tbody tr th:only-of-type {\n",
              "        vertical-align: middle;\n",
              "    }\n",
              "\n",
              "    .dataframe tbody tr th {\n",
              "        vertical-align: top;\n",
              "    }\n",
              "\n",
              "    .dataframe thead th {\n",
              "        text-align: right;\n",
              "    }\n",
              "</style>\n",
              "<table border=\"1\" class=\"dataframe\">\n",
              "  <thead>\n",
              "    <tr style=\"text-align: right;\">\n",
              "      <th></th>\n",
              "      <th>date</th>\n",
              "      <th>temperature</th>\n",
              "      <th>temperature_min</th>\n",
              "      <th>temperature_max</th>\n",
              "      <th>precipitation</th>\n",
              "      <th>snowfall</th>\n",
              "      <th>snowdepth</th>\n",
              "      <th>winddirection</th>\n",
              "      <th>windspeed</th>\n",
              "      <th>peakgust</th>\n",
              "      <th>sunshine</th>\n",
              "      <th>pressure</th>\n",
              "    </tr>\n",
              "  </thead>\n",
              "  <tbody>\n",
              "    <tr>\n",
              "      <th>0</th>\n",
              "      <td>2016-01-01</td>\n",
              "      <td>4.4</td>\n",
              "      <td>-2.7</td>\n",
              "      <td>12.8</td>\n",
              "      <td>0.0</td>\n",
              "      <td>NaN</td>\n",
              "      <td>NaN</td>\n",
              "      <td>NaN</td>\n",
              "      <td>6.5</td>\n",
              "      <td>NaN</td>\n",
              "      <td>NaN</td>\n",
              "      <td>1020.3</td>\n",
              "    </tr>\n",
              "    <tr>\n",
              "      <th>1</th>\n",
              "      <td>2016-01-02</td>\n",
              "      <td>7.1</td>\n",
              "      <td>1.1</td>\n",
              "      <td>13.9</td>\n",
              "      <td>0.0</td>\n",
              "      <td>NaN</td>\n",
              "      <td>NaN</td>\n",
              "      <td>NaN</td>\n",
              "      <td>3.6</td>\n",
              "      <td>NaN</td>\n",
              "      <td>NaN</td>\n",
              "      <td>1017.9</td>\n",
              "    </tr>\n",
              "  </tbody>\n",
              "</table>\n",
              "</div>"
            ],
            "text/plain": [
              "         date  temperature  temperature_min  ...  peakgust  sunshine  pressure\n",
              "0  2016-01-01          4.4             -2.7  ...       NaN       NaN    1020.3\n",
              "1  2016-01-02          7.1              1.1  ...       NaN       NaN    1017.9\n",
              "\n",
              "[2 rows x 12 columns]"
            ]
          },
          "metadata": {
            "tags": []
          },
          "execution_count": 6
        }
      ]
    },
    {
      "cell_type": "markdown",
      "metadata": {
        "id": "PNCmej8sm3e3",
        "colab_type": "text"
      },
      "source": [
        "### Column names to lower case"
      ]
    },
    {
      "cell_type": "code",
      "metadata": {
        "id": "I2Jf20hX53-F",
        "colab_type": "code",
        "outputId": "5b4bac82-91cc-4bc9-c94e-d9fcdf3fbbf3",
        "colab": {
          "base_uri": "https://localhost:8080/",
          "height": 85
        }
      },
      "source": [
        "aqiDataFrame.columns = map(str.lower, aqiDataFrame.columns)\n",
        "aqiDataFrame.columns"
      ],
      "execution_count": 7,
      "outputs": [
        {
          "output_type": "execute_result",
          "data": {
            "text/plain": [
              "Index(['date', 'overall aqi value', 'main pollutant',\n",
              "       'site name (of overall aqi)', 'site id (of overall aqi)',\n",
              "       'source (of overall aqi)', 'co', 'ozone', 'pm10', 'pm25', 'no2'],\n",
              "      dtype='object')"
            ]
          },
          "metadata": {
            "tags": []
          },
          "execution_count": 7
        }
      ]
    },
    {
      "cell_type": "markdown",
      "metadata": {
        "id": "2oDXk75Qm8Sj",
        "colab_type": "text"
      },
      "source": [
        "### Common date format"
      ]
    },
    {
      "cell_type": "code",
      "metadata": {
        "id": "WWjR1ThQ7yRl",
        "colab_type": "code",
        "colab": {}
      },
      "source": [
        "aqiDataFrame['date'] = pd.to_datetime(aqiDataFrame['date']).dt.strftime('%m/%d/%Y')\n",
        "weatherDataFrame['date'] = pd.to_datetime(weatherDataFrame['date']).dt.strftime('%m/%d/%Y')"
      ],
      "execution_count": 0,
      "outputs": []
    },
    {
      "cell_type": "code",
      "metadata": {
        "id": "5c2KbHPK8HVU",
        "colab_type": "code",
        "outputId": "425a03fe-2db5-4660-db1a-b516329c8f08",
        "colab": {
          "base_uri": "https://localhost:8080/",
          "height": 111
        }
      },
      "source": [
        "aqiDataFrame.head(2)"
      ],
      "execution_count": 9,
      "outputs": [
        {
          "output_type": "execute_result",
          "data": {
            "text/html": [
              "<div>\n",
              "<style scoped>\n",
              "    .dataframe tbody tr th:only-of-type {\n",
              "        vertical-align: middle;\n",
              "    }\n",
              "\n",
              "    .dataframe tbody tr th {\n",
              "        vertical-align: top;\n",
              "    }\n",
              "\n",
              "    .dataframe thead th {\n",
              "        text-align: right;\n",
              "    }\n",
              "</style>\n",
              "<table border=\"1\" class=\"dataframe\">\n",
              "  <thead>\n",
              "    <tr style=\"text-align: right;\">\n",
              "      <th></th>\n",
              "      <th>date</th>\n",
              "      <th>overall aqi value</th>\n",
              "      <th>main pollutant</th>\n",
              "      <th>site name (of overall aqi)</th>\n",
              "      <th>site id (of overall aqi)</th>\n",
              "      <th>source (of overall aqi)</th>\n",
              "      <th>co</th>\n",
              "      <th>ozone</th>\n",
              "      <th>pm10</th>\n",
              "      <th>pm25</th>\n",
              "      <th>no2</th>\n",
              "    </tr>\n",
              "  </thead>\n",
              "  <tbody>\n",
              "    <tr>\n",
              "      <th>0</th>\n",
              "      <td>01/01/2016</td>\n",
              "      <td>148</td>\n",
              "      <td>PM2.5</td>\n",
              "      <td>Bakersfield-California</td>\n",
              "      <td>06-029-0014</td>\n",
              "      <td>AQS</td>\n",
              "      <td>8</td>\n",
              "      <td>37</td>\n",
              "      <td>52</td>\n",
              "      <td>148</td>\n",
              "      <td>23</td>\n",
              "    </tr>\n",
              "    <tr>\n",
              "      <th>1</th>\n",
              "      <td>01/02/2016</td>\n",
              "      <td>113</td>\n",
              "      <td>PM2.5</td>\n",
              "      <td>Bakersfield-California</td>\n",
              "      <td>06-029-0014</td>\n",
              "      <td>AQS</td>\n",
              "      <td>7</td>\n",
              "      <td>37</td>\n",
              "      <td>14</td>\n",
              "      <td>113</td>\n",
              "      <td>25</td>\n",
              "    </tr>\n",
              "  </tbody>\n",
              "</table>\n",
              "</div>"
            ],
            "text/plain": [
              "         date  overall aqi value main pollutant  ... pm10 pm25 no2\n",
              "0  01/01/2016                148          PM2.5  ...   52  148  23\n",
              "1  01/02/2016                113          PM2.5  ...   14  113  25\n",
              "\n",
              "[2 rows x 11 columns]"
            ]
          },
          "metadata": {
            "tags": []
          },
          "execution_count": 9
        }
      ]
    },
    {
      "cell_type": "code",
      "metadata": {
        "id": "Z6J0fC7F8Ppd",
        "colab_type": "code",
        "outputId": "d2c850af-a264-4d4e-ee1f-306be002cab1",
        "colab": {
          "base_uri": "https://localhost:8080/",
          "height": 111
        }
      },
      "source": [
        "weatherDataFrame.head(2)"
      ],
      "execution_count": 10,
      "outputs": [
        {
          "output_type": "execute_result",
          "data": {
            "text/html": [
              "<div>\n",
              "<style scoped>\n",
              "    .dataframe tbody tr th:only-of-type {\n",
              "        vertical-align: middle;\n",
              "    }\n",
              "\n",
              "    .dataframe tbody tr th {\n",
              "        vertical-align: top;\n",
              "    }\n",
              "\n",
              "    .dataframe thead th {\n",
              "        text-align: right;\n",
              "    }\n",
              "</style>\n",
              "<table border=\"1\" class=\"dataframe\">\n",
              "  <thead>\n",
              "    <tr style=\"text-align: right;\">\n",
              "      <th></th>\n",
              "      <th>date</th>\n",
              "      <th>temperature</th>\n",
              "      <th>temperature_min</th>\n",
              "      <th>temperature_max</th>\n",
              "      <th>precipitation</th>\n",
              "      <th>snowfall</th>\n",
              "      <th>snowdepth</th>\n",
              "      <th>winddirection</th>\n",
              "      <th>windspeed</th>\n",
              "      <th>peakgust</th>\n",
              "      <th>sunshine</th>\n",
              "      <th>pressure</th>\n",
              "    </tr>\n",
              "  </thead>\n",
              "  <tbody>\n",
              "    <tr>\n",
              "      <th>0</th>\n",
              "      <td>01/01/2016</td>\n",
              "      <td>4.4</td>\n",
              "      <td>-2.7</td>\n",
              "      <td>12.8</td>\n",
              "      <td>0.0</td>\n",
              "      <td>NaN</td>\n",
              "      <td>NaN</td>\n",
              "      <td>NaN</td>\n",
              "      <td>6.5</td>\n",
              "      <td>NaN</td>\n",
              "      <td>NaN</td>\n",
              "      <td>1020.3</td>\n",
              "    </tr>\n",
              "    <tr>\n",
              "      <th>1</th>\n",
              "      <td>01/02/2016</td>\n",
              "      <td>7.1</td>\n",
              "      <td>1.1</td>\n",
              "      <td>13.9</td>\n",
              "      <td>0.0</td>\n",
              "      <td>NaN</td>\n",
              "      <td>NaN</td>\n",
              "      <td>NaN</td>\n",
              "      <td>3.6</td>\n",
              "      <td>NaN</td>\n",
              "      <td>NaN</td>\n",
              "      <td>1017.9</td>\n",
              "    </tr>\n",
              "  </tbody>\n",
              "</table>\n",
              "</div>"
            ],
            "text/plain": [
              "         date  temperature  temperature_min  ...  peakgust  sunshine  pressure\n",
              "0  01/01/2016          4.4             -2.7  ...       NaN       NaN    1020.3\n",
              "1  01/02/2016          7.1              1.1  ...       NaN       NaN    1017.9\n",
              "\n",
              "[2 rows x 12 columns]"
            ]
          },
          "metadata": {
            "tags": []
          },
          "execution_count": 10
        }
      ]
    },
    {
      "cell_type": "markdown",
      "metadata": {
        "id": "YjQLkPNVm_Uk",
        "colab_type": "text"
      },
      "source": [
        "### Merging the datasets"
      ]
    },
    {
      "cell_type": "code",
      "metadata": {
        "id": "aGPk72o15MjA",
        "colab_type": "code",
        "colab": {}
      },
      "source": [
        "df = pd.merge(aqiDataFrame, weatherDataFrame, on='date', how='inner')"
      ],
      "execution_count": 0,
      "outputs": []
    },
    {
      "cell_type": "code",
      "metadata": {
        "id": "SJfJ6tCI6Aax",
        "colab_type": "code",
        "outputId": "6fa0972c-041b-42fc-f20f-ea5ccdfac824",
        "colab": {
          "base_uri": "https://localhost:8080/",
          "height": 216
        }
      },
      "source": [
        "df.head(2)"
      ],
      "execution_count": 12,
      "outputs": [
        {
          "output_type": "execute_result",
          "data": {
            "text/html": [
              "<div>\n",
              "<style scoped>\n",
              "    .dataframe tbody tr th:only-of-type {\n",
              "        vertical-align: middle;\n",
              "    }\n",
              "\n",
              "    .dataframe tbody tr th {\n",
              "        vertical-align: top;\n",
              "    }\n",
              "\n",
              "    .dataframe thead th {\n",
              "        text-align: right;\n",
              "    }\n",
              "</style>\n",
              "<table border=\"1\" class=\"dataframe\">\n",
              "  <thead>\n",
              "    <tr style=\"text-align: right;\">\n",
              "      <th></th>\n",
              "      <th>date</th>\n",
              "      <th>overall aqi value</th>\n",
              "      <th>main pollutant</th>\n",
              "      <th>site name (of overall aqi)</th>\n",
              "      <th>site id (of overall aqi)</th>\n",
              "      <th>source (of overall aqi)</th>\n",
              "      <th>co</th>\n",
              "      <th>ozone</th>\n",
              "      <th>pm10</th>\n",
              "      <th>pm25</th>\n",
              "      <th>no2</th>\n",
              "      <th>temperature</th>\n",
              "      <th>temperature_min</th>\n",
              "      <th>temperature_max</th>\n",
              "      <th>precipitation</th>\n",
              "      <th>snowfall</th>\n",
              "      <th>snowdepth</th>\n",
              "      <th>winddirection</th>\n",
              "      <th>windspeed</th>\n",
              "      <th>peakgust</th>\n",
              "      <th>sunshine</th>\n",
              "      <th>pressure</th>\n",
              "    </tr>\n",
              "  </thead>\n",
              "  <tbody>\n",
              "    <tr>\n",
              "      <th>0</th>\n",
              "      <td>01/01/2016</td>\n",
              "      <td>148</td>\n",
              "      <td>PM2.5</td>\n",
              "      <td>Bakersfield-California</td>\n",
              "      <td>06-029-0014</td>\n",
              "      <td>AQS</td>\n",
              "      <td>8</td>\n",
              "      <td>37</td>\n",
              "      <td>52</td>\n",
              "      <td>148</td>\n",
              "      <td>23</td>\n",
              "      <td>4.4</td>\n",
              "      <td>-2.7</td>\n",
              "      <td>12.8</td>\n",
              "      <td>0.0</td>\n",
              "      <td>NaN</td>\n",
              "      <td>NaN</td>\n",
              "      <td>NaN</td>\n",
              "      <td>6.5</td>\n",
              "      <td>NaN</td>\n",
              "      <td>NaN</td>\n",
              "      <td>1020.3</td>\n",
              "    </tr>\n",
              "    <tr>\n",
              "      <th>1</th>\n",
              "      <td>01/02/2016</td>\n",
              "      <td>113</td>\n",
              "      <td>PM2.5</td>\n",
              "      <td>Bakersfield-California</td>\n",
              "      <td>06-029-0014</td>\n",
              "      <td>AQS</td>\n",
              "      <td>7</td>\n",
              "      <td>37</td>\n",
              "      <td>14</td>\n",
              "      <td>113</td>\n",
              "      <td>25</td>\n",
              "      <td>7.1</td>\n",
              "      <td>1.1</td>\n",
              "      <td>13.9</td>\n",
              "      <td>0.0</td>\n",
              "      <td>NaN</td>\n",
              "      <td>NaN</td>\n",
              "      <td>NaN</td>\n",
              "      <td>3.6</td>\n",
              "      <td>NaN</td>\n",
              "      <td>NaN</td>\n",
              "      <td>1017.9</td>\n",
              "    </tr>\n",
              "  </tbody>\n",
              "</table>\n",
              "</div>"
            ],
            "text/plain": [
              "         date  overall aqi value main pollutant  ... peakgust sunshine pressure\n",
              "0  01/01/2016                148          PM2.5  ...      NaN      NaN   1020.3\n",
              "1  01/02/2016                113          PM2.5  ...      NaN      NaN   1017.9\n",
              "\n",
              "[2 rows x 22 columns]"
            ]
          },
          "metadata": {
            "tags": []
          },
          "execution_count": 12
        }
      ]
    },
    {
      "cell_type": "markdown",
      "metadata": {
        "id": "RpIhReNUnEHI",
        "colab_type": "text"
      },
      "source": [
        "### Renaming column names"
      ]
    },
    {
      "cell_type": "code",
      "metadata": {
        "id": "oT7ly1A96FW9",
        "colab_type": "code",
        "colab": {}
      },
      "source": [
        "df.rename(columns = {'overall aqi value':'aqi', 'site name (of overall aqi)':'location', 'site id (of overall aqi)':'location id',\n",
        "                     'source (of overall aqi)' : 'aqi source'}, inplace = True) "
      ],
      "execution_count": 0,
      "outputs": []
    },
    {
      "cell_type": "code",
      "metadata": {
        "id": "5bUg9TWD9bZ7",
        "colab_type": "code",
        "outputId": "ff558255-9887-49eb-81e4-c7be9086c2e0",
        "colab": {
          "base_uri": "https://localhost:8080/",
          "height": 182
        }
      },
      "source": [
        "df.head(2)"
      ],
      "execution_count": 14,
      "outputs": [
        {
          "output_type": "execute_result",
          "data": {
            "text/html": [
              "<div>\n",
              "<style scoped>\n",
              "    .dataframe tbody tr th:only-of-type {\n",
              "        vertical-align: middle;\n",
              "    }\n",
              "\n",
              "    .dataframe tbody tr th {\n",
              "        vertical-align: top;\n",
              "    }\n",
              "\n",
              "    .dataframe thead th {\n",
              "        text-align: right;\n",
              "    }\n",
              "</style>\n",
              "<table border=\"1\" class=\"dataframe\">\n",
              "  <thead>\n",
              "    <tr style=\"text-align: right;\">\n",
              "      <th></th>\n",
              "      <th>date</th>\n",
              "      <th>aqi</th>\n",
              "      <th>main pollutant</th>\n",
              "      <th>location</th>\n",
              "      <th>location id</th>\n",
              "      <th>aqi source</th>\n",
              "      <th>co</th>\n",
              "      <th>ozone</th>\n",
              "      <th>pm10</th>\n",
              "      <th>pm25</th>\n",
              "      <th>no2</th>\n",
              "      <th>temperature</th>\n",
              "      <th>temperature_min</th>\n",
              "      <th>temperature_max</th>\n",
              "      <th>precipitation</th>\n",
              "      <th>snowfall</th>\n",
              "      <th>snowdepth</th>\n",
              "      <th>winddirection</th>\n",
              "      <th>windspeed</th>\n",
              "      <th>peakgust</th>\n",
              "      <th>sunshine</th>\n",
              "      <th>pressure</th>\n",
              "    </tr>\n",
              "  </thead>\n",
              "  <tbody>\n",
              "    <tr>\n",
              "      <th>0</th>\n",
              "      <td>01/01/2016</td>\n",
              "      <td>148</td>\n",
              "      <td>PM2.5</td>\n",
              "      <td>Bakersfield-California</td>\n",
              "      <td>06-029-0014</td>\n",
              "      <td>AQS</td>\n",
              "      <td>8</td>\n",
              "      <td>37</td>\n",
              "      <td>52</td>\n",
              "      <td>148</td>\n",
              "      <td>23</td>\n",
              "      <td>4.4</td>\n",
              "      <td>-2.7</td>\n",
              "      <td>12.8</td>\n",
              "      <td>0.0</td>\n",
              "      <td>NaN</td>\n",
              "      <td>NaN</td>\n",
              "      <td>NaN</td>\n",
              "      <td>6.5</td>\n",
              "      <td>NaN</td>\n",
              "      <td>NaN</td>\n",
              "      <td>1020.3</td>\n",
              "    </tr>\n",
              "    <tr>\n",
              "      <th>1</th>\n",
              "      <td>01/02/2016</td>\n",
              "      <td>113</td>\n",
              "      <td>PM2.5</td>\n",
              "      <td>Bakersfield-California</td>\n",
              "      <td>06-029-0014</td>\n",
              "      <td>AQS</td>\n",
              "      <td>7</td>\n",
              "      <td>37</td>\n",
              "      <td>14</td>\n",
              "      <td>113</td>\n",
              "      <td>25</td>\n",
              "      <td>7.1</td>\n",
              "      <td>1.1</td>\n",
              "      <td>13.9</td>\n",
              "      <td>0.0</td>\n",
              "      <td>NaN</td>\n",
              "      <td>NaN</td>\n",
              "      <td>NaN</td>\n",
              "      <td>3.6</td>\n",
              "      <td>NaN</td>\n",
              "      <td>NaN</td>\n",
              "      <td>1017.9</td>\n",
              "    </tr>\n",
              "  </tbody>\n",
              "</table>\n",
              "</div>"
            ],
            "text/plain": [
              "         date  aqi main pollutant  ... peakgust sunshine pressure\n",
              "0  01/01/2016  148          PM2.5  ...      NaN      NaN   1020.3\n",
              "1  01/02/2016  113          PM2.5  ...      NaN      NaN   1017.9\n",
              "\n",
              "[2 rows x 22 columns]"
            ]
          },
          "metadata": {
            "tags": []
          },
          "execution_count": 14
        }
      ]
    },
    {
      "cell_type": "code",
      "metadata": {
        "id": "rGcE2veM2y_9",
        "colab_type": "code",
        "colab": {}
      },
      "source": [
        "df.drop(df.columns[[15,16,17,19,20]], axis=1, inplace=True)"
      ],
      "execution_count": 0,
      "outputs": []
    },
    {
      "cell_type": "markdown",
      "metadata": {
        "id": "M8Wv-dnqnH0B",
        "colab_type": "text"
      },
      "source": [
        "### Shape of DF"
      ]
    },
    {
      "cell_type": "code",
      "metadata": {
        "id": "jpbxwks69dN9",
        "colab_type": "code",
        "outputId": "3b154e5b-5c26-4c57-88f8-6323767265b7",
        "colab": {
          "base_uri": "https://localhost:8080/",
          "height": 34
        }
      },
      "source": [
        "df.shape"
      ],
      "execution_count": 16,
      "outputs": [
        {
          "output_type": "execute_result",
          "data": {
            "text/plain": [
              "(1461, 17)"
            ]
          },
          "metadata": {
            "tags": []
          },
          "execution_count": 16
        }
      ]
    },
    {
      "cell_type": "markdown",
      "metadata": {
        "id": "14flQ1bVnKzm",
        "colab_type": "text"
      },
      "source": [
        "### Columns with NaN "
      ]
    },
    {
      "cell_type": "code",
      "metadata": {
        "id": "S3ALhcQL-frL",
        "colab_type": "code",
        "outputId": "777f2796-01af-43e9-99c0-db67366488f3",
        "colab": {
          "base_uri": "https://localhost:8080/",
          "height": 34
        }
      },
      "source": [
        "df.columns[df.isna().any()].tolist()"
      ],
      "execution_count": 17,
      "outputs": [
        {
          "output_type": "execute_result",
          "data": {
            "text/plain": [
              "['precipitation', 'pressure']"
            ]
          },
          "metadata": {
            "tags": []
          },
          "execution_count": 17
        }
      ]
    },
    {
      "cell_type": "markdown",
      "metadata": {
        "id": "q8Ai9SySnPgx",
        "colab_type": "text"
      },
      "source": [
        "### Replacing invalid data with 0"
      ]
    },
    {
      "cell_type": "code",
      "metadata": {
        "id": "8gWpl6X49qni",
        "colab_type": "code",
        "outputId": "992c2922-597b-4b4a-c1c5-e34819e8f417",
        "colab": {
          "base_uri": "https://localhost:8080/",
          "height": 419
        }
      },
      "source": [
        "df = df.fillna(0)\n",
        "df['co'].replace('.','0',inplace=True)\n",
        "df['no2'].replace('.','0',inplace=True)\n",
        "df['pm10'].replace('.','0',inplace=True)\n",
        "df"
      ],
      "execution_count": 18,
      "outputs": [
        {
          "output_type": "execute_result",
          "data": {
            "text/html": [
              "<div>\n",
              "<style scoped>\n",
              "    .dataframe tbody tr th:only-of-type {\n",
              "        vertical-align: middle;\n",
              "    }\n",
              "\n",
              "    .dataframe tbody tr th {\n",
              "        vertical-align: top;\n",
              "    }\n",
              "\n",
              "    .dataframe thead th {\n",
              "        text-align: right;\n",
              "    }\n",
              "</style>\n",
              "<table border=\"1\" class=\"dataframe\">\n",
              "  <thead>\n",
              "    <tr style=\"text-align: right;\">\n",
              "      <th></th>\n",
              "      <th>date</th>\n",
              "      <th>aqi</th>\n",
              "      <th>main pollutant</th>\n",
              "      <th>location</th>\n",
              "      <th>location id</th>\n",
              "      <th>aqi source</th>\n",
              "      <th>co</th>\n",
              "      <th>ozone</th>\n",
              "      <th>pm10</th>\n",
              "      <th>pm25</th>\n",
              "      <th>no2</th>\n",
              "      <th>temperature</th>\n",
              "      <th>temperature_min</th>\n",
              "      <th>temperature_max</th>\n",
              "      <th>precipitation</th>\n",
              "      <th>windspeed</th>\n",
              "      <th>pressure</th>\n",
              "    </tr>\n",
              "  </thead>\n",
              "  <tbody>\n",
              "    <tr>\n",
              "      <th>0</th>\n",
              "      <td>01/01/2016</td>\n",
              "      <td>148</td>\n",
              "      <td>PM2.5</td>\n",
              "      <td>Bakersfield-California</td>\n",
              "      <td>06-029-0014</td>\n",
              "      <td>AQS</td>\n",
              "      <td>8</td>\n",
              "      <td>37</td>\n",
              "      <td>52</td>\n",
              "      <td>148</td>\n",
              "      <td>23</td>\n",
              "      <td>4.4</td>\n",
              "      <td>-2.7</td>\n",
              "      <td>12.8</td>\n",
              "      <td>0.0</td>\n",
              "      <td>6.5</td>\n",
              "      <td>1020.3</td>\n",
              "    </tr>\n",
              "    <tr>\n",
              "      <th>1</th>\n",
              "      <td>01/02/2016</td>\n",
              "      <td>113</td>\n",
              "      <td>PM2.5</td>\n",
              "      <td>Bakersfield-California</td>\n",
              "      <td>06-029-0014</td>\n",
              "      <td>AQS</td>\n",
              "      <td>7</td>\n",
              "      <td>37</td>\n",
              "      <td>14</td>\n",
              "      <td>113</td>\n",
              "      <td>25</td>\n",
              "      <td>7.1</td>\n",
              "      <td>1.1</td>\n",
              "      <td>13.9</td>\n",
              "      <td>0.0</td>\n",
              "      <td>3.6</td>\n",
              "      <td>1017.9</td>\n",
              "    </tr>\n",
              "    <tr>\n",
              "      <th>2</th>\n",
              "      <td>01/03/2016</td>\n",
              "      <td>80</td>\n",
              "      <td>PM2.5</td>\n",
              "      <td>Bakersfield-California</td>\n",
              "      <td>06-029-0014</td>\n",
              "      <td>AQS</td>\n",
              "      <td>7</td>\n",
              "      <td>36</td>\n",
              "      <td>9</td>\n",
              "      <td>80</td>\n",
              "      <td>28</td>\n",
              "      <td>9.6</td>\n",
              "      <td>3.9</td>\n",
              "      <td>20.0</td>\n",
              "      <td>0.0</td>\n",
              "      <td>11.5</td>\n",
              "      <td>1011.5</td>\n",
              "    </tr>\n",
              "    <tr>\n",
              "      <th>3</th>\n",
              "      <td>01/04/2016</td>\n",
              "      <td>87</td>\n",
              "      <td>PM2.5</td>\n",
              "      <td>Bakersfield-Airport (Planz)</td>\n",
              "      <td>06-029-0016</td>\n",
              "      <td>AQS</td>\n",
              "      <td>5</td>\n",
              "      <td>37</td>\n",
              "      <td>8</td>\n",
              "      <td>87</td>\n",
              "      <td>28</td>\n",
              "      <td>10.6</td>\n",
              "      <td>5.6</td>\n",
              "      <td>18.3</td>\n",
              "      <td>0.0</td>\n",
              "      <td>7.2</td>\n",
              "      <td>1008.8</td>\n",
              "    </tr>\n",
              "    <tr>\n",
              "      <th>4</th>\n",
              "      <td>01/05/2016</td>\n",
              "      <td>54</td>\n",
              "      <td>PM2.5</td>\n",
              "      <td>Bakersfield-California</td>\n",
              "      <td>06-029-0014</td>\n",
              "      <td>AQS</td>\n",
              "      <td>5</td>\n",
              "      <td>41</td>\n",
              "      <td>6</td>\n",
              "      <td>54</td>\n",
              "      <td>30</td>\n",
              "      <td>12.5</td>\n",
              "      <td>8.3</td>\n",
              "      <td>14.4</td>\n",
              "      <td>12.2</td>\n",
              "      <td>7.6</td>\n",
              "      <td>1008.2</td>\n",
              "    </tr>\n",
              "    <tr>\n",
              "      <th>...</th>\n",
              "      <td>...</td>\n",
              "      <td>...</td>\n",
              "      <td>...</td>\n",
              "      <td>...</td>\n",
              "      <td>...</td>\n",
              "      <td>...</td>\n",
              "      <td>...</td>\n",
              "      <td>...</td>\n",
              "      <td>...</td>\n",
              "      <td>...</td>\n",
              "      <td>...</td>\n",
              "      <td>...</td>\n",
              "      <td>...</td>\n",
              "      <td>...</td>\n",
              "      <td>...</td>\n",
              "      <td>...</td>\n",
              "      <td>...</td>\n",
              "    </tr>\n",
              "    <tr>\n",
              "      <th>1456</th>\n",
              "      <td>12/27/2019</td>\n",
              "      <td>36</td>\n",
              "      <td>PM2.5</td>\n",
              "      <td>Bakersfield-California</td>\n",
              "      <td>06-029-0014</td>\n",
              "      <td>AirNow</td>\n",
              "      <td>0</td>\n",
              "      <td>33</td>\n",
              "      <td>0</td>\n",
              "      <td>36</td>\n",
              "      <td>0</td>\n",
              "      <td>7.9</td>\n",
              "      <td>3.9</td>\n",
              "      <td>11.7</td>\n",
              "      <td>0.0</td>\n",
              "      <td>4.0</td>\n",
              "      <td>1017.3</td>\n",
              "    </tr>\n",
              "    <tr>\n",
              "      <th>1457</th>\n",
              "      <td>12/28/2019</td>\n",
              "      <td>58</td>\n",
              "      <td>PM2.5</td>\n",
              "      <td>Bakersfield-California</td>\n",
              "      <td>06-029-0014</td>\n",
              "      <td>AQS</td>\n",
              "      <td>0</td>\n",
              "      <td>32</td>\n",
              "      <td>2</td>\n",
              "      <td>58</td>\n",
              "      <td>0</td>\n",
              "      <td>7.1</td>\n",
              "      <td>1.7</td>\n",
              "      <td>13.3</td>\n",
              "      <td>0.0</td>\n",
              "      <td>3.2</td>\n",
              "      <td>1020.8</td>\n",
              "    </tr>\n",
              "    <tr>\n",
              "      <th>1458</th>\n",
              "      <td>12/29/2019</td>\n",
              "      <td>60</td>\n",
              "      <td>PM2.5</td>\n",
              "      <td>Bakersfield-Golden/M St</td>\n",
              "      <td>06-029-0010</td>\n",
              "      <td>AQS</td>\n",
              "      <td>0</td>\n",
              "      <td>31</td>\n",
              "      <td>3</td>\n",
              "      <td>60</td>\n",
              "      <td>0</td>\n",
              "      <td>7.6</td>\n",
              "      <td>2.8</td>\n",
              "      <td>15.6</td>\n",
              "      <td>0.0</td>\n",
              "      <td>2.9</td>\n",
              "      <td>1019.5</td>\n",
              "    </tr>\n",
              "    <tr>\n",
              "      <th>1459</th>\n",
              "      <td>12/30/2019</td>\n",
              "      <td>62</td>\n",
              "      <td>PM2.5</td>\n",
              "      <td>Bakersfield-California</td>\n",
              "      <td>06-029-0014</td>\n",
              "      <td>AQS</td>\n",
              "      <td>0</td>\n",
              "      <td>34</td>\n",
              "      <td>4</td>\n",
              "      <td>62</td>\n",
              "      <td>0</td>\n",
              "      <td>10.4</td>\n",
              "      <td>5.6</td>\n",
              "      <td>13.9</td>\n",
              "      <td>0.0</td>\n",
              "      <td>7.9</td>\n",
              "      <td>1018.4</td>\n",
              "    </tr>\n",
              "    <tr>\n",
              "      <th>1460</th>\n",
              "      <td>12/31/2019</td>\n",
              "      <td>85</td>\n",
              "      <td>PM2.5</td>\n",
              "      <td>Bakersfield-California</td>\n",
              "      <td>06-029-0014</td>\n",
              "      <td>AQS</td>\n",
              "      <td>0</td>\n",
              "      <td>35</td>\n",
              "      <td>3</td>\n",
              "      <td>85</td>\n",
              "      <td>0</td>\n",
              "      <td>8.3</td>\n",
              "      <td>2.8</td>\n",
              "      <td>14.4</td>\n",
              "      <td>0.0</td>\n",
              "      <td>6.8</td>\n",
              "      <td>0.0</td>\n",
              "    </tr>\n",
              "  </tbody>\n",
              "</table>\n",
              "<p>1461 rows × 17 columns</p>\n",
              "</div>"
            ],
            "text/plain": [
              "            date  aqi main pollutant  ... precipitation windspeed pressure\n",
              "0     01/01/2016  148          PM2.5  ...           0.0       6.5   1020.3\n",
              "1     01/02/2016  113          PM2.5  ...           0.0       3.6   1017.9\n",
              "2     01/03/2016   80          PM2.5  ...           0.0      11.5   1011.5\n",
              "3     01/04/2016   87          PM2.5  ...           0.0       7.2   1008.8\n",
              "4     01/05/2016   54          PM2.5  ...          12.2       7.6   1008.2\n",
              "...          ...  ...            ...  ...           ...       ...      ...\n",
              "1456  12/27/2019   36          PM2.5  ...           0.0       4.0   1017.3\n",
              "1457  12/28/2019   58          PM2.5  ...           0.0       3.2   1020.8\n",
              "1458  12/29/2019   60          PM2.5  ...           0.0       2.9   1019.5\n",
              "1459  12/30/2019   62          PM2.5  ...           0.0       7.9   1018.4\n",
              "1460  12/31/2019   85          PM2.5  ...           0.0       6.8      0.0\n",
              "\n",
              "[1461 rows x 17 columns]"
            ]
          },
          "metadata": {
            "tags": []
          },
          "execution_count": 18
        }
      ]
    },
    {
      "cell_type": "code",
      "metadata": {
        "id": "fEqkPNQfXAIX",
        "colab_type": "code",
        "colab": {}
      },
      "source": [
        "# c = df['temperature_min'] < 0\n",
        "# df['temperature_min'] =  df['temperature_min'].astype(float)\n",
        "# newdf = df[c]\n",
        "# newdf"
      ],
      "execution_count": 0,
      "outputs": []
    },
    {
      "cell_type": "code",
      "metadata": {
        "id": "6_ypaORzCTep",
        "colab_type": "code",
        "outputId": "e08bf3f4-1a9b-40fc-b057-7e0bec6dbd15",
        "colab": {
          "base_uri": "https://localhost:8080/",
          "height": 323
        }
      },
      "source": [
        "df.dtypes"
      ],
      "execution_count": 20,
      "outputs": [
        {
          "output_type": "execute_result",
          "data": {
            "text/plain": [
              "date                object\n",
              "aqi                  int64\n",
              "main pollutant      object\n",
              "location            object\n",
              "location id         object\n",
              "aqi source          object\n",
              "co                  object\n",
              "ozone                int64\n",
              "pm10                object\n",
              "pm25                 int64\n",
              "no2                 object\n",
              "temperature        float64\n",
              "temperature_min    float64\n",
              "temperature_max    float64\n",
              "precipitation      float64\n",
              "windspeed          float64\n",
              "pressure           float64\n",
              "dtype: object"
            ]
          },
          "metadata": {
            "tags": []
          },
          "execution_count": 20
        }
      ]
    },
    {
      "cell_type": "markdown",
      "metadata": {
        "id": "HbkYpwqJnWzo",
        "colab_type": "text"
      },
      "source": [
        "### Object to Float"
      ]
    },
    {
      "cell_type": "code",
      "metadata": {
        "id": "l9pCOkV8Cfo4",
        "colab_type": "code",
        "colab": {}
      },
      "source": [
        "def covert_to_float(param):\n",
        "    df[param] =  df[param].astype(float)\n",
        "\n",
        "arr = ['aqi','co','no2','pm10']\n",
        "for i in arr:\n",
        "    covert_to_float(i)"
      ],
      "execution_count": 0,
      "outputs": []
    },
    {
      "cell_type": "code",
      "metadata": {
        "id": "O07vThByls0O",
        "colab_type": "code",
        "outputId": "30d69ace-e5e4-4891-cbc7-98e51fa36f30",
        "colab": {
          "base_uri": "https://localhost:8080/",
          "height": 323
        }
      },
      "source": [
        "df.dtypes"
      ],
      "execution_count": 22,
      "outputs": [
        {
          "output_type": "execute_result",
          "data": {
            "text/plain": [
              "date                object\n",
              "aqi                float64\n",
              "main pollutant      object\n",
              "location            object\n",
              "location id         object\n",
              "aqi source          object\n",
              "co                 float64\n",
              "ozone                int64\n",
              "pm10               float64\n",
              "pm25                 int64\n",
              "no2                float64\n",
              "temperature        float64\n",
              "temperature_min    float64\n",
              "temperature_max    float64\n",
              "precipitation      float64\n",
              "windspeed          float64\n",
              "pressure           float64\n",
              "dtype: object"
            ]
          },
          "metadata": {
            "tags": []
          },
          "execution_count": 22
        }
      ]
    },
    {
      "cell_type": "code",
      "metadata": {
        "id": "mKqfqjy1EK0c",
        "colab_type": "code",
        "outputId": "e57a3381-243e-4892-abc6-8bd855d48307",
        "colab": {
          "base_uri": "https://localhost:8080/",
          "height": 34
        }
      },
      "source": [
        "df.columns[df.isna().any()].tolist()"
      ],
      "execution_count": 23,
      "outputs": [
        {
          "output_type": "execute_result",
          "data": {
            "text/plain": [
              "[]"
            ]
          },
          "metadata": {
            "tags": []
          },
          "execution_count": 23
        }
      ]
    },
    {
      "cell_type": "code",
      "metadata": {
        "id": "NVYZ9AMaFtv2",
        "colab_type": "code",
        "outputId": "b38549db-5360-44cb-a928-bd3806e56828",
        "colab": {
          "base_uri": "https://localhost:8080/",
          "height": 102
        }
      },
      "source": [
        "df.columns"
      ],
      "execution_count": 24,
      "outputs": [
        {
          "output_type": "execute_result",
          "data": {
            "text/plain": [
              "Index(['date', 'aqi', 'main pollutant', 'location', 'location id',\n",
              "       'aqi source', 'co', 'ozone', 'pm10', 'pm25', 'no2', 'temperature',\n",
              "       'temperature_min', 'temperature_max', 'precipitation', 'windspeed',\n",
              "       'pressure'],\n",
              "      dtype='object')"
            ]
          },
          "metadata": {
            "tags": []
          },
          "execution_count": 24
        }
      ]
    },
    {
      "cell_type": "markdown",
      "metadata": {
        "id": "awXzqTar13sB",
        "colab_type": "text"
      },
      "source": [
        "# Heatmap: Correlation"
      ]
    },
    {
      "cell_type": "code",
      "metadata": {
        "id": "LqaWm-Hv1rGa",
        "colab_type": "code",
        "outputId": "58f0325a-577a-47f1-efd5-a9bab763daea",
        "colab": {
          "base_uri": "https://localhost:8080/",
          "height": 644
        }
      },
      "source": [
        "import seaborn as sns\n",
        "corrMatrix = df.corr()\n",
        "sns.set(rc={'figure.figsize':(11.7,8.27)})\n",
        "sns.heatmap(corrMatrix, annot=True)"
      ],
      "execution_count": 25,
      "outputs": [
        {
          "output_type": "stream",
          "text": [
            "/usr/local/lib/python3.6/dist-packages/statsmodels/tools/_testing.py:19: FutureWarning: pandas.util.testing is deprecated. Use the functions in the public API at pandas.testing instead.\n",
            "  import pandas.util.testing as tm\n"
          ],
          "name": "stderr"
        },
        {
          "output_type": "execute_result",
          "data": {
            "text/plain": [
              "<matplotlib.axes._subplots.AxesSubplot at 0x7f8bb67aa048>"
            ]
          },
          "metadata": {
            "tags": []
          },
          "execution_count": 25
        },
        {
          "output_type": "display_data",
          "data": {
            "image/png": "[encoded data removed]",
            "text/plain": [
              "<Figure size 842.4x595.44 with 2 Axes>"
            ]
          },
          "metadata": {
            "tags": []
          }
        }
      ]
    },
    {
      "cell_type": "markdown",
      "metadata": {
        "id": "OlD-Vd9k1EJa",
        "colab_type": "text"
      },
      "source": [
        "# K-Means Clustering on amalgamated data"
      ]
    },
    {
      "cell_type": "code",
      "metadata": {
        "id": "wrKxFLqxpPcI",
        "colab_type": "code",
        "colab": {}
      },
      "source": [
        "from sklearn.cluster import KMeans\n",
        "%matplotlib inline\n",
        "import matplotlib\n",
        "import matplotlib.pyplot as plt"
      ],
      "execution_count": 0,
      "outputs": []
    },
    {
      "cell_type": "markdown",
      "metadata": {
        "id": "zMVMmtxH5X8h",
        "colab_type": "text"
      },
      "source": [
        "[0: 'date', 1: 'aqi', 2: 'main pollutant', 3: 'location', 4: 'location id',\n",
        "5: 'aqi source', 6: 'co', 7: 'ozone', 8: 'pm10', 9: 'pm25', 10: 'no2', 11: 'temperature', 12: 'temperature_min', 13: 'temperature_max', 14: 'precipitation', 15: 'windspeed', 16: 'pressure']"
      ]
    },
    {
      "cell_type": "markdown",
      "metadata": {
        "id": "TAoqpqpuuvLm",
        "colab_type": "text"
      },
      "source": [
        "### Elbow method"
      ]
    },
    {
      "cell_type": "code",
      "metadata": {
        "id": "lEQnYCFaoh0p",
        "colab_type": "code",
        "colab": {}
      },
      "source": [
        "def elbow_method():\n",
        "    Error =[]\n",
        "    x = df.iloc[:, [1,6,7,8,9,10,11,12,13,14,15,16]].values\n",
        "    for i in range(1, 11):\n",
        "        kmeans = KMeans(n_clusters = i).fit(x)\n",
        "        kmeans.fit(x)\n",
        "        Error.append(kmeans.inertia_)\n",
        "    plt.figure(figsize=(5,5))\n",
        "    plt.plot(range(1, 11), Error)\n",
        "    plt.title('Elbow method')\n",
        "    plt.xlabel('No of clusters')\n",
        "    plt.ylabel('Error')\n",
        "    plt.show()\n",
        "    "
      ],
      "execution_count": 0,
      "outputs": []
    },
    {
      "cell_type": "code",
      "metadata": {
        "id": "5KBmMNMfo_6n",
        "colab_type": "code",
        "outputId": "19809fd4-a559-479e-c55f-84a359a09d76",
        "colab": {
          "base_uri": "https://localhost:8080/",
          "height": 355
        }
      },
      "source": [
        "elbow_method()"
      ],
      "execution_count": 28,
      "outputs": [
        {
          "output_type": "display_data",
          "data": {
            "image/png": "[encoded data removed]",
            "text/plain": [
              "<Figure size 360x360 with 1 Axes>"
            ]
          },
          "metadata": {
            "tags": [],
            "needs_background": "light"
          }
        }
      ]
    },
    {
      "cell_type": "markdown",
      "metadata": {
        "id": "hBhuKtcbuyAC",
        "colab_type": "text"
      },
      "source": [
        "### K-Means Clustering"
      ]
    },
    {
      "cell_type": "code",
      "metadata": {
        "id": "97au7w3mAhcw",
        "colab_type": "code",
        "outputId": "0d26383c-adbd-4b85-db42-aafd4bba4fdd",
        "colab": {
          "base_uri": "https://localhost:8080/",
          "height": 34
        }
      },
      "source": [
        "x = df.iloc[:, [1,6,7,8,9,10,11,12,13,14,15,16]].values\n",
        "y = df.iloc[:, [1,6,7,8,9,10,11,12,13,14,15,16]]\n",
        "col = y.columns\n",
        "\n",
        "kmeans = KMeans(n_clusters=2)\n",
        "y_kmeans = kmeans.fit_predict(x)\n",
        "plt.figure(figsize=(5,5))\n",
        "df['cluster'] = y_kmeans\n",
        "\n",
        "# for i in range(0, 11):\n",
        "#    for j in range(1, 12):\n",
        "#      plt.scatter(x[:, i], x[:, j], y_kmeans, c=y_kmeans)\n",
        "#      plt.scatter(x[y_kmeans == 0, i], x[y_kmeans == 0, j], s = 50, c = 'red')\n",
        "#      plt.scatter(x[y_kmeans == 1, i], x[y_kmeans == 1, j], s = 50, c = 'blue')\n",
        "#      plt.xlabel(col[i])\n",
        "#      plt.ylabel(col[j])\n",
        "#      plt.show()\n"
      ],
      "execution_count": 29,
      "outputs": [
        {
          "output_type": "display_data",
          "data": {
            "text/plain": [
              "<Figure size 360x360 with 0 Axes>"
            ]
          },
          "metadata": {
            "tags": []
          }
        }
      ]
    },
    {
      "cell_type": "code",
      "metadata": {
        "id": "mI7idOB--Oa0",
        "colab_type": "code",
        "outputId": "5a68070b-cc7d-4345-e6ca-8acd37910438",
        "colab": {
          "base_uri": "https://localhost:8080/",
          "height": 340
        }
      },
      "source": [
        "# df['date'] = pd.to_datetime(df['date'])\n",
        "df.dtypes"
      ],
      "execution_count": 30,
      "outputs": [
        {
          "output_type": "execute_result",
          "data": {
            "text/plain": [
              "date                object\n",
              "aqi                float64\n",
              "main pollutant      object\n",
              "location            object\n",
              "location id         object\n",
              "aqi source          object\n",
              "co                 float64\n",
              "ozone                int64\n",
              "pm10               float64\n",
              "pm25                 int64\n",
              "no2                float64\n",
              "temperature        float64\n",
              "temperature_min    float64\n",
              "temperature_max    float64\n",
              "precipitation      float64\n",
              "windspeed          float64\n",
              "pressure           float64\n",
              "cluster              int32\n",
              "dtype: object"
            ]
          },
          "metadata": {
            "tags": []
          },
          "execution_count": 30
        }
      ]
    },
    {
      "cell_type": "code",
      "metadata": {
        "id": "F7IPIAn7EMoq",
        "colab_type": "code",
        "outputId": "9e4ed42d-4a13-4ac5-cbfc-cb64ab3391ed",
        "colab": {
          "base_uri": "https://localhost:8080/",
          "height": 204
        }
      },
      "source": [
        "df.sample(5, random_state=5)"
      ],
      "execution_count": 31,
      "outputs": [
        {
          "output_type": "execute_result",
          "data": {
            "text/html": [
              "<div>\n",
              "<style scoped>\n",
              "    .dataframe tbody tr th:only-of-type {\n",
              "        vertical-align: middle;\n",
              "    }\n",
              "\n",
              "    .dataframe tbody tr th {\n",
              "        vertical-align: top;\n",
              "    }\n",
              "\n",
              "    .dataframe thead th {\n",
              "        text-align: right;\n",
              "    }\n",
              "</style>\n",
              "<table border=\"1\" class=\"dataframe\">\n",
              "  <thead>\n",
              "    <tr style=\"text-align: right;\">\n",
              "      <th></th>\n",
              "      <th>date</th>\n",
              "      <th>aqi</th>\n",
              "      <th>main pollutant</th>\n",
              "      <th>location</th>\n",
              "      <th>location id</th>\n",
              "      <th>aqi source</th>\n",
              "      <th>co</th>\n",
              "      <th>ozone</th>\n",
              "      <th>pm10</th>\n",
              "      <th>pm25</th>\n",
              "      <th>no2</th>\n",
              "      <th>temperature</th>\n",
              "      <th>temperature_min</th>\n",
              "      <th>temperature_max</th>\n",
              "      <th>precipitation</th>\n",
              "      <th>windspeed</th>\n",
              "      <th>pressure</th>\n",
              "      <th>cluster</th>\n",
              "    </tr>\n",
              "  </thead>\n",
              "  <tbody>\n",
              "    <tr>\n",
              "      <th>531</th>\n",
              "      <td>06/15/2017</td>\n",
              "      <td>115.0</td>\n",
              "      <td>Ozone</td>\n",
              "      <td>Mojave</td>\n",
              "      <td>06-029-0011</td>\n",
              "      <td>AQS</td>\n",
              "      <td>3.0</td>\n",
              "      <td>115</td>\n",
              "      <td>44.0</td>\n",
              "      <td>54</td>\n",
              "      <td>33.0</td>\n",
              "      <td>27.3</td>\n",
              "      <td>20.0</td>\n",
              "      <td>35.6</td>\n",
              "      <td>0.0</td>\n",
              "      <td>9.4</td>\n",
              "      <td>1013.2</td>\n",
              "      <td>0</td>\n",
              "    </tr>\n",
              "    <tr>\n",
              "      <th>461</th>\n",
              "      <td>04/06/2017</td>\n",
              "      <td>87.0</td>\n",
              "      <td>Ozone</td>\n",
              "      <td>Mojave</td>\n",
              "      <td>06-029-0011</td>\n",
              "      <td>AQS</td>\n",
              "      <td>3.0</td>\n",
              "      <td>87</td>\n",
              "      <td>19.0</td>\n",
              "      <td>52</td>\n",
              "      <td>37.0</td>\n",
              "      <td>22.1</td>\n",
              "      <td>14.4</td>\n",
              "      <td>27.8</td>\n",
              "      <td>0.0</td>\n",
              "      <td>9.7</td>\n",
              "      <td>1012.5</td>\n",
              "      <td>0</td>\n",
              "    </tr>\n",
              "    <tr>\n",
              "      <th>793</th>\n",
              "      <td>03/04/2018</td>\n",
              "      <td>43.0</td>\n",
              "      <td>Ozone</td>\n",
              "      <td>Maricopa</td>\n",
              "      <td>06-029-0008</td>\n",
              "      <td>AQS</td>\n",
              "      <td>5.0</td>\n",
              "      <td>43</td>\n",
              "      <td>3.0</td>\n",
              "      <td>25</td>\n",
              "      <td>30.0</td>\n",
              "      <td>8.3</td>\n",
              "      <td>3.3</td>\n",
              "      <td>14.4</td>\n",
              "      <td>0.0</td>\n",
              "      <td>6.8</td>\n",
              "      <td>1024.2</td>\n",
              "      <td>0</td>\n",
              "    </tr>\n",
              "    <tr>\n",
              "      <th>663</th>\n",
              "      <td>10/25/2017</td>\n",
              "      <td>150.0</td>\n",
              "      <td>Ozone</td>\n",
              "      <td>Edison</td>\n",
              "      <td>06-029-0007</td>\n",
              "      <td>AQS</td>\n",
              "      <td>6.0</td>\n",
              "      <td>150</td>\n",
              "      <td>83.0</td>\n",
              "      <td>82</td>\n",
              "      <td>50.0</td>\n",
              "      <td>22.6</td>\n",
              "      <td>14.4</td>\n",
              "      <td>32.8</td>\n",
              "      <td>0.0</td>\n",
              "      <td>7.6</td>\n",
              "      <td>1014.0</td>\n",
              "      <td>0</td>\n",
              "    </tr>\n",
              "    <tr>\n",
              "      <th>654</th>\n",
              "      <td>10/16/2017</td>\n",
              "      <td>133.0</td>\n",
              "      <td>Ozone</td>\n",
              "      <td>Edison</td>\n",
              "      <td>06-029-0007</td>\n",
              "      <td>AQS</td>\n",
              "      <td>7.0</td>\n",
              "      <td>133</td>\n",
              "      <td>75.0</td>\n",
              "      <td>92</td>\n",
              "      <td>60.0</td>\n",
              "      <td>19.8</td>\n",
              "      <td>11.1</td>\n",
              "      <td>28.9</td>\n",
              "      <td>0.0</td>\n",
              "      <td>5.8</td>\n",
              "      <td>1019.4</td>\n",
              "      <td>0</td>\n",
              "    </tr>\n",
              "  </tbody>\n",
              "</table>\n",
              "</div>"
            ],
            "text/plain": [
              "           date    aqi main pollutant  ... windspeed pressure cluster\n",
              "531  06/15/2017  115.0          Ozone  ...       9.4   1013.2       0\n",
              "461  04/06/2017   87.0          Ozone  ...       9.7   1012.5       0\n",
              "793  03/04/2018   43.0          Ozone  ...       6.8   1024.2       0\n",
              "663  10/25/2017  150.0          Ozone  ...       7.6   1014.0       0\n",
              "654  10/16/2017  133.0          Ozone  ...       5.8   1019.4       0\n",
              "\n",
              "[5 rows x 18 columns]"
            ]
          },
          "metadata": {
            "tags": []
          },
          "execution_count": 31
        }
      ]
    },
    {
      "cell_type": "markdown",
      "metadata": {
        "id": "iLz3S2aCYK-8",
        "colab_type": "text"
      },
      "source": [
        "##Standardizing the data values to avoid model to have any bias on features that have very less or very large values "
      ]
    },
    {
      "cell_type": "code",
      "metadata": {
        "id": "Nm_8o0VyaNPD",
        "colab_type": "code",
        "colab": {}
      },
      "source": [
        "from sklearn.preprocessing import StandardScaler\n",
        "scaler = StandardScaler()"
      ],
      "execution_count": 0,
      "outputs": []
    },
    {
      "cell_type": "code",
      "metadata": {
        "id": "KEcAKjPHaTHM",
        "colab_type": "code",
        "outputId": "2d520132-dc1a-4818-edfe-20955b56d1aa",
        "colab": {
          "base_uri": "https://localhost:8080/",
          "height": 34
        }
      },
      "source": [
        "#scaledDF = df[['ozone', 'co', 'temperature', 'windspeed', 'precipitation', 'pressure', 'pm10', 'pm25', 'no2']]\n",
        "scaledDF = df[['ozone', 'co', 'temperature', 'windspeed', 'pressure', 'pm10', 'pm25', 'no2', 'aqi']]\n",
        "scaler.fit(scaledDF.values)"
      ],
      "execution_count": 33,
      "outputs": [
        {
          "output_type": "execute_result",
          "data": {
            "text/plain": [
              "StandardScaler(copy=True, with_mean=True, with_std=True)"
            ]
          },
          "metadata": {
            "tags": []
          },
          "execution_count": 33
        }
      ]
    },
    {
      "cell_type": "code",
      "metadata": {
        "id": "D23nPezxavAt",
        "colab_type": "code",
        "outputId": "ff41998c-c94a-499d-e605-507d0d0ff89b",
        "colab": {
          "base_uri": "https://localhost:8080/",
          "height": 111
        }
      },
      "source": [
        "scaledDF.head(2)"
      ],
      "execution_count": 34,
      "outputs": [
        {
          "output_type": "execute_result",
          "data": {
            "text/html": [
              "<div>\n",
              "<style scoped>\n",
              "    .dataframe tbody tr th:only-of-type {\n",
              "        vertical-align: middle;\n",
              "    }\n",
              "\n",
              "    .dataframe tbody tr th {\n",
              "        vertical-align: top;\n",
              "    }\n",
              "\n",
              "    .dataframe thead th {\n",
              "        text-align: right;\n",
              "    }\n",
              "</style>\n",
              "<table border=\"1\" class=\"dataframe\">\n",
              "  <thead>\n",
              "    <tr style=\"text-align: right;\">\n",
              "      <th></th>\n",
              "      <th>ozone</th>\n",
              "      <th>co</th>\n",
              "      <th>temperature</th>\n",
              "      <th>windspeed</th>\n",
              "      <th>pressure</th>\n",
              "      <th>pm10</th>\n",
              "      <th>pm25</th>\n",
              "      <th>no2</th>\n",
              "      <th>aqi</th>\n",
              "    </tr>\n",
              "  </thead>\n",
              "  <tbody>\n",
              "    <tr>\n",
              "      <th>0</th>\n",
              "      <td>37</td>\n",
              "      <td>8.0</td>\n",
              "      <td>4.4</td>\n",
              "      <td>6.5</td>\n",
              "      <td>1020.3</td>\n",
              "      <td>52.0</td>\n",
              "      <td>148</td>\n",
              "      <td>23.0</td>\n",
              "      <td>148.0</td>\n",
              "    </tr>\n",
              "    <tr>\n",
              "      <th>1</th>\n",
              "      <td>37</td>\n",
              "      <td>7.0</td>\n",
              "      <td>7.1</td>\n",
              "      <td>3.6</td>\n",
              "      <td>1017.9</td>\n",
              "      <td>14.0</td>\n",
              "      <td>113</td>\n",
              "      <td>25.0</td>\n",
              "      <td>113.0</td>\n",
              "    </tr>\n",
              "  </tbody>\n",
              "</table>\n",
              "</div>"
            ],
            "text/plain": [
              "   ozone   co  temperature  windspeed  pressure  pm10  pm25   no2    aqi\n",
              "0     37  8.0          4.4        6.5    1020.3  52.0   148  23.0  148.0\n",
              "1     37  7.0          7.1        3.6    1017.9  14.0   113  25.0  113.0"
            ]
          },
          "metadata": {
            "tags": []
          },
          "execution_count": 34
        }
      ]
    },
    {
      "cell_type": "markdown",
      "metadata": {
        "id": "-sekfTHWYewT",
        "colab_type": "text"
      },
      "source": [
        "## Mean values of the respective features above"
      ]
    },
    {
      "cell_type": "code",
      "metadata": {
        "id": "4bRi0eWPa2Tx",
        "colab_type": "code",
        "outputId": "ed87d5a1-4a5d-4a26-8371-32b643745afb",
        "colab": {
          "base_uri": "https://localhost:8080/",
          "height": 68
        }
      },
      "source": [
        "scaler.mean_"
      ],
      "execution_count": 35,
      "outputs": [
        {
          "output_type": "execute_result",
          "data": {
            "text/plain": [
              "array([ 72.77891855,   3.33675565,  19.91177276,   9.12984257,\n",
              "       973.22600958,  34.38603696,  56.66666667,  25.39561944,\n",
              "        84.79603012])"
            ]
          },
          "metadata": {
            "tags": []
          },
          "execution_count": 35
        }
      ]
    },
    {
      "cell_type": "markdown",
      "metadata": {
        "id": "mxnyQMsiYlNi",
        "colab_type": "text"
      },
      "source": [
        "## Custom function to define class labels for multiclass classification problem"
      ]
    },
    {
      "cell_type": "code",
      "metadata": {
        "id": "obarwl_1cExA",
        "colab_type": "code",
        "colab": {}
      },
      "source": [
        "def label_gen(x):\n",
        "  if (x < 51):\n",
        "    return 'Good'\n",
        "  elif (x < 101):\n",
        "    return 'Moderate'\n",
        "  elif(x<151):\n",
        "    return 'Unhealthy for sensitive groups'\n",
        "  elif (x<201):\n",
        "    return 'Unhealthy'\n",
        "  elif (x<301):\n",
        "    return 'Very Unhealthy'\n",
        "  else:\n",
        "    return 'Hazardous'"
      ],
      "execution_count": 0,
      "outputs": []
    },
    {
      "cell_type": "markdown",
      "metadata": {
        "id": "v6OslOM0ZG5F",
        "colab_type": "text"
      },
      "source": [
        "## Custom function to define class labels for binary class classification problem"
      ]
    },
    {
      "cell_type": "code",
      "metadata": {
        "id": "OFFaZAui--kp",
        "colab_type": "code",
        "colab": {}
      },
      "source": [
        "def label_category(x):\n",
        "  if (x < 151):\n",
        "    return 0\n",
        "  else:\n",
        "    return 1"
      ],
      "execution_count": 0,
      "outputs": []
    },
    {
      "cell_type": "code",
      "metadata": {
        "id": "bOef9-v-GDHg",
        "colab_type": "code",
        "outputId": "d4883073-7954-4fba-98b2-a7ee8c30f7a4",
        "colab": {
          "base_uri": "https://localhost:8080/",
          "height": 221
        }
      },
      "source": [
        "scaledDF['AQLabel'] = scaledDF['aqi'].apply(func=label_gen)\n",
        "scaledDF['AQICategory'] = scaledDF['aqi'].apply(func=label_category)"
      ],
      "execution_count": 38,
      "outputs": [
        {
          "output_type": "stream",
          "text": [
            "/usr/local/lib/python3.6/dist-packages/ipykernel_launcher.py:1: SettingWithCopyWarning: \n",
            "A value is trying to be set on a copy of a slice from a DataFrame.\n",
            "Try using .loc[row_indexer,col_indexer] = value instead\n",
            "\n",
            "See the caveats in the documentation: https://pandas.pydata.org/pandas-docs/stable/user_guide/indexing.html#returning-a-view-versus-a-copy\n",
            "  \"\"\"Entry point for launching an IPython kernel.\n",
            "/usr/local/lib/python3.6/dist-packages/ipykernel_launcher.py:2: SettingWithCopyWarning: \n",
            "A value is trying to be set on a copy of a slice from a DataFrame.\n",
            "Try using .loc[row_indexer,col_indexer] = value instead\n",
            "\n",
            "See the caveats in the documentation: https://pandas.pydata.org/pandas-docs/stable/user_guide/indexing.html#returning-a-view-versus-a-copy\n",
            "  \n"
          ],
          "name": "stderr"
        }
      ]
    },
    {
      "cell_type": "markdown",
      "metadata": {
        "id": "9jPHoOcTZSGJ",
        "colab_type": "text"
      },
      "source": [
        "## PAQI is a new column that captures the previous day's AQI value. This is the main feature in Time series forecasting where we use past data to predict a future outcome. "
      ]
    },
    {
      "cell_type": "code",
      "metadata": {
        "id": "Mpbnn8c9GH9K",
        "colab_type": "code",
        "outputId": "e60900eb-85bb-40ae-a45c-9f0fdcbdd721",
        "colab": {
          "base_uri": "https://localhost:8080/",
          "height": 119
        }
      },
      "source": [
        "scaledDF['PAQI'] = scaledDF.aqi.shift(1)"
      ],
      "execution_count": 39,
      "outputs": [
        {
          "output_type": "stream",
          "text": [
            "/usr/local/lib/python3.6/dist-packages/ipykernel_launcher.py:1: SettingWithCopyWarning: \n",
            "A value is trying to be set on a copy of a slice from a DataFrame.\n",
            "Try using .loc[row_indexer,col_indexer] = value instead\n",
            "\n",
            "See the caveats in the documentation: https://pandas.pydata.org/pandas-docs/stable/user_guide/indexing.html#returning-a-view-versus-a-copy\n",
            "  \"\"\"Entry point for launching an IPython kernel.\n"
          ],
          "name": "stderr"
        }
      ]
    },
    {
      "cell_type": "code",
      "metadata": {
        "id": "e39vz0MmGKBB",
        "colab_type": "code",
        "outputId": "4be11bac-127a-44e2-9c6b-5e49ed0aec47",
        "colab": {
          "base_uri": "https://localhost:8080/",
          "height": 221
        }
      },
      "source": [
        "scaledDF['AQLabel'] = pd.Categorical(scaledDF['AQLabel'])\n",
        "scaledDF['AQLabel'] = scaledDF.AQLabel.cat.codes"
      ],
      "execution_count": 40,
      "outputs": [
        {
          "output_type": "stream",
          "text": [
            "/usr/local/lib/python3.6/dist-packages/ipykernel_launcher.py:1: SettingWithCopyWarning: \n",
            "A value is trying to be set on a copy of a slice from a DataFrame.\n",
            "Try using .loc[row_indexer,col_indexer] = value instead\n",
            "\n",
            "See the caveats in the documentation: https://pandas.pydata.org/pandas-docs/stable/user_guide/indexing.html#returning-a-view-versus-a-copy\n",
            "  \"\"\"Entry point for launching an IPython kernel.\n",
            "/usr/local/lib/python3.6/dist-packages/ipykernel_launcher.py:2: SettingWithCopyWarning: \n",
            "A value is trying to be set on a copy of a slice from a DataFrame.\n",
            "Try using .loc[row_indexer,col_indexer] = value instead\n",
            "\n",
            "See the caveats in the documentation: https://pandas.pydata.org/pandas-docs/stable/user_guide/indexing.html#returning-a-view-versus-a-copy\n",
            "  \n"
          ],
          "name": "stderr"
        }
      ]
    },
    {
      "cell_type": "code",
      "metadata": {
        "id": "NQg_mD645zcd",
        "colab_type": "code",
        "outputId": "b57e4527-f634-40a9-d866-a81e8bcb8772",
        "colab": {
          "base_uri": "https://localhost:8080/",
          "height": 111
        }
      },
      "source": [
        "scaledDF.head(2)"
      ],
      "execution_count": 41,
      "outputs": [
        {
          "output_type": "execute_result",
          "data": {
            "text/html": [
              "<div>\n",
              "<style scoped>\n",
              "    .dataframe tbody tr th:only-of-type {\n",
              "        vertical-align: middle;\n",
              "    }\n",
              "\n",
              "    .dataframe tbody tr th {\n",
              "        vertical-align: top;\n",
              "    }\n",
              "\n",
              "    .dataframe thead th {\n",
              "        text-align: right;\n",
              "    }\n",
              "</style>\n",
              "<table border=\"1\" class=\"dataframe\">\n",
              "  <thead>\n",
              "    <tr style=\"text-align: right;\">\n",
              "      <th></th>\n",
              "      <th>ozone</th>\n",
              "      <th>co</th>\n",
              "      <th>temperature</th>\n",
              "      <th>windspeed</th>\n",
              "      <th>pressure</th>\n",
              "      <th>pm10</th>\n",
              "      <th>pm25</th>\n",
              "      <th>no2</th>\n",
              "      <th>aqi</th>\n",
              "      <th>AQLabel</th>\n",
              "      <th>AQICategory</th>\n",
              "      <th>PAQI</th>\n",
              "    </tr>\n",
              "  </thead>\n",
              "  <tbody>\n",
              "    <tr>\n",
              "      <th>0</th>\n",
              "      <td>37</td>\n",
              "      <td>8.0</td>\n",
              "      <td>4.4</td>\n",
              "      <td>6.5</td>\n",
              "      <td>1020.3</td>\n",
              "      <td>52.0</td>\n",
              "      <td>148</td>\n",
              "      <td>23.0</td>\n",
              "      <td>148.0</td>\n",
              "      <td>4</td>\n",
              "      <td>0</td>\n",
              "      <td>NaN</td>\n",
              "    </tr>\n",
              "    <tr>\n",
              "      <th>1</th>\n",
              "      <td>37</td>\n",
              "      <td>7.0</td>\n",
              "      <td>7.1</td>\n",
              "      <td>3.6</td>\n",
              "      <td>1017.9</td>\n",
              "      <td>14.0</td>\n",
              "      <td>113</td>\n",
              "      <td>25.0</td>\n",
              "      <td>113.0</td>\n",
              "      <td>4</td>\n",
              "      <td>0</td>\n",
              "      <td>148.0</td>\n",
              "    </tr>\n",
              "  </tbody>\n",
              "</table>\n",
              "</div>"
            ],
            "text/plain": [
              "   ozone   co  temperature  windspeed  ...    aqi  AQLabel  AQICategory   PAQI\n",
              "0     37  8.0          4.4        6.5  ...  148.0        4            0    NaN\n",
              "1     37  7.0          7.1        3.6  ...  113.0        4            0  148.0\n",
              "\n",
              "[2 rows x 12 columns]"
            ]
          },
          "metadata": {
            "tags": []
          },
          "execution_count": 41
        }
      ]
    },
    {
      "cell_type": "code",
      "metadata": {
        "id": "QV8mQIzF6SSr",
        "colab_type": "code",
        "outputId": "971c50a5-e646-475a-9457-67b501039584",
        "colab": {
          "base_uri": "https://localhost:8080/",
          "height": 119
        }
      },
      "source": [
        "scaledDF['date'] = df['date']"
      ],
      "execution_count": 42,
      "outputs": [
        {
          "output_type": "stream",
          "text": [
            "/usr/local/lib/python3.6/dist-packages/ipykernel_launcher.py:1: SettingWithCopyWarning: \n",
            "A value is trying to be set on a copy of a slice from a DataFrame.\n",
            "Try using .loc[row_indexer,col_indexer] = value instead\n",
            "\n",
            "See the caveats in the documentation: https://pandas.pydata.org/pandas-docs/stable/user_guide/indexing.html#returning-a-view-versus-a-copy\n",
            "  \"\"\"Entry point for launching an IPython kernel.\n"
          ],
          "name": "stderr"
        }
      ]
    },
    {
      "cell_type": "code",
      "metadata": {
        "id": "OyskeHxL66ZI",
        "colab_type": "code",
        "outputId": "593839b2-f661-45a3-8251-5d2b9fe0d23c",
        "colab": {
          "base_uri": "https://localhost:8080/",
          "height": 111
        }
      },
      "source": [
        "scaledDF.head(2)"
      ],
      "execution_count": 43,
      "outputs": [
        {
          "output_type": "execute_result",
          "data": {
            "text/html": [
              "<div>\n",
              "<style scoped>\n",
              "    .dataframe tbody tr th:only-of-type {\n",
              "        vertical-align: middle;\n",
              "    }\n",
              "\n",
              "    .dataframe tbody tr th {\n",
              "        vertical-align: top;\n",
              "    }\n",
              "\n",
              "    .dataframe thead th {\n",
              "        text-align: right;\n",
              "    }\n",
              "</style>\n",
              "<table border=\"1\" class=\"dataframe\">\n",
              "  <thead>\n",
              "    <tr style=\"text-align: right;\">\n",
              "      <th></th>\n",
              "      <th>ozone</th>\n",
              "      <th>co</th>\n",
              "      <th>temperature</th>\n",
              "      <th>windspeed</th>\n",
              "      <th>pressure</th>\n",
              "      <th>pm10</th>\n",
              "      <th>pm25</th>\n",
              "      <th>no2</th>\n",
              "      <th>aqi</th>\n",
              "      <th>AQLabel</th>\n",
              "      <th>AQICategory</th>\n",
              "      <th>PAQI</th>\n",
              "      <th>date</th>\n",
              "    </tr>\n",
              "  </thead>\n",
              "  <tbody>\n",
              "    <tr>\n",
              "      <th>0</th>\n",
              "      <td>37</td>\n",
              "      <td>8.0</td>\n",
              "      <td>4.4</td>\n",
              "      <td>6.5</td>\n",
              "      <td>1020.3</td>\n",
              "      <td>52.0</td>\n",
              "      <td>148</td>\n",
              "      <td>23.0</td>\n",
              "      <td>148.0</td>\n",
              "      <td>4</td>\n",
              "      <td>0</td>\n",
              "      <td>NaN</td>\n",
              "      <td>01/01/2016</td>\n",
              "    </tr>\n",
              "    <tr>\n",
              "      <th>1</th>\n",
              "      <td>37</td>\n",
              "      <td>7.0</td>\n",
              "      <td>7.1</td>\n",
              "      <td>3.6</td>\n",
              "      <td>1017.9</td>\n",
              "      <td>14.0</td>\n",
              "      <td>113</td>\n",
              "      <td>25.0</td>\n",
              "      <td>113.0</td>\n",
              "      <td>4</td>\n",
              "      <td>0</td>\n",
              "      <td>148.0</td>\n",
              "      <td>01/02/2016</td>\n",
              "    </tr>\n",
              "  </tbody>\n",
              "</table>\n",
              "</div>"
            ],
            "text/plain": [
              "   ozone   co  temperature  windspeed  ...  AQLabel  AQICategory   PAQI        date\n",
              "0     37  8.0          4.4        6.5  ...        4            0    NaN  01/01/2016\n",
              "1     37  7.0          7.1        3.6  ...        4            0  148.0  01/02/2016\n",
              "\n",
              "[2 rows x 13 columns]"
            ]
          },
          "metadata": {
            "tags": []
          },
          "execution_count": 43
        }
      ]
    },
    {
      "cell_type": "code",
      "metadata": {
        "id": "bpgQSYar7w6H",
        "colab_type": "code",
        "outputId": "d7c9af8e-3925-4edf-e627-c3a1c0410901",
        "colab": {
          "base_uri": "https://localhost:8080/",
          "height": 51
        }
      },
      "source": [
        "print('Min date from train set: ',scaledDF['date'].min())\n",
        "print('Max date from train set:',scaledDF['date'].max())"
      ],
      "execution_count": 44,
      "outputs": [
        {
          "output_type": "stream",
          "text": [
            "Min date from train set:  01/01/2016\n",
            "Max date from train set: 12/31/2019\n"
          ],
          "name": "stdout"
        }
      ]
    },
    {
      "cell_type": "code",
      "metadata": {
        "id": "LNVHR-1y694Q",
        "colab_type": "code",
        "outputId": "5bb1a6d3-dd0a-4a70-f4f1-6ef06e86c2fb",
        "colab": {
          "base_uri": "https://localhost:8080/",
          "height": 450
        }
      },
      "source": [
        "scaledDF.set_index('date')"
      ],
      "execution_count": 45,
      "outputs": [
        {
          "output_type": "execute_result",
          "data": {
            "text/html": [
              "<div>\n",
              "<style scoped>\n",
              "    .dataframe tbody tr th:only-of-type {\n",
              "        vertical-align: middle;\n",
              "    }\n",
              "\n",
              "    .dataframe tbody tr th {\n",
              "        vertical-align: top;\n",
              "    }\n",
              "\n",
              "    .dataframe thead th {\n",
              "        text-align: right;\n",
              "    }\n",
              "</style>\n",
              "<table border=\"1\" class=\"dataframe\">\n",
              "  <thead>\n",
              "    <tr style=\"text-align: right;\">\n",
              "      <th></th>\n",
              "      <th>ozone</th>\n",
              "      <th>co</th>\n",
              "      <th>temperature</th>\n",
              "      <th>windspeed</th>\n",
              "      <th>pressure</th>\n",
              "      <th>pm10</th>\n",
              "      <th>pm25</th>\n",
              "      <th>no2</th>\n",
              "      <th>aqi</th>\n",
              "      <th>AQLabel</th>\n",
              "      <th>AQICategory</th>\n",
              "      <th>PAQI</th>\n",
              "    </tr>\n",
              "    <tr>\n",
              "      <th>date</th>\n",
              "      <th></th>\n",
              "      <th></th>\n",
              "      <th></th>\n",
              "      <th></th>\n",
              "      <th></th>\n",
              "      <th></th>\n",
              "      <th></th>\n",
              "      <th></th>\n",
              "      <th></th>\n",
              "      <th></th>\n",
              "      <th></th>\n",
              "      <th></th>\n",
              "    </tr>\n",
              "  </thead>\n",
              "  <tbody>\n",
              "    <tr>\n",
              "      <th>01/01/2016</th>\n",
              "      <td>37</td>\n",
              "      <td>8.0</td>\n",
              "      <td>4.4</td>\n",
              "      <td>6.5</td>\n",
              "      <td>1020.3</td>\n",
              "      <td>52.0</td>\n",
              "      <td>148</td>\n",
              "      <td>23.0</td>\n",
              "      <td>148.0</td>\n",
              "      <td>4</td>\n",
              "      <td>0</td>\n",
              "      <td>NaN</td>\n",
              "    </tr>\n",
              "    <tr>\n",
              "      <th>01/02/2016</th>\n",
              "      <td>37</td>\n",
              "      <td>7.0</td>\n",
              "      <td>7.1</td>\n",
              "      <td>3.6</td>\n",
              "      <td>1017.9</td>\n",
              "      <td>14.0</td>\n",
              "      <td>113</td>\n",
              "      <td>25.0</td>\n",
              "      <td>113.0</td>\n",
              "      <td>4</td>\n",
              "      <td>0</td>\n",
              "      <td>148.0</td>\n",
              "    </tr>\n",
              "    <tr>\n",
              "      <th>01/03/2016</th>\n",
              "      <td>36</td>\n",
              "      <td>7.0</td>\n",
              "      <td>9.6</td>\n",
              "      <td>11.5</td>\n",
              "      <td>1011.5</td>\n",
              "      <td>9.0</td>\n",
              "      <td>80</td>\n",
              "      <td>28.0</td>\n",
              "      <td>80.0</td>\n",
              "      <td>2</td>\n",
              "      <td>0</td>\n",
              "      <td>113.0</td>\n",
              "    </tr>\n",
              "    <tr>\n",
              "      <th>01/04/2016</th>\n",
              "      <td>37</td>\n",
              "      <td>5.0</td>\n",
              "      <td>10.6</td>\n",
              "      <td>7.2</td>\n",
              "      <td>1008.8</td>\n",
              "      <td>8.0</td>\n",
              "      <td>87</td>\n",
              "      <td>28.0</td>\n",
              "      <td>87.0</td>\n",
              "      <td>2</td>\n",
              "      <td>0</td>\n",
              "      <td>80.0</td>\n",
              "    </tr>\n",
              "    <tr>\n",
              "      <th>01/05/2016</th>\n",
              "      <td>41</td>\n",
              "      <td>5.0</td>\n",
              "      <td>12.5</td>\n",
              "      <td>7.6</td>\n",
              "      <td>1008.2</td>\n",
              "      <td>6.0</td>\n",
              "      <td>54</td>\n",
              "      <td>30.0</td>\n",
              "      <td>54.0</td>\n",
              "      <td>2</td>\n",
              "      <td>0</td>\n",
              "      <td>87.0</td>\n",
              "    </tr>\n",
              "    <tr>\n",
              "      <th>...</th>\n",
              "      <td>...</td>\n",
              "      <td>...</td>\n",
              "      <td>...</td>\n",
              "      <td>...</td>\n",
              "      <td>...</td>\n",
              "      <td>...</td>\n",
              "      <td>...</td>\n",
              "      <td>...</td>\n",
              "      <td>...</td>\n",
              "      <td>...</td>\n",
              "      <td>...</td>\n",
              "      <td>...</td>\n",
              "    </tr>\n",
              "    <tr>\n",
              "      <th>12/27/2019</th>\n",
              "      <td>33</td>\n",
              "      <td>0.0</td>\n",
              "      <td>7.9</td>\n",
              "      <td>4.0</td>\n",
              "      <td>1017.3</td>\n",
              "      <td>0.0</td>\n",
              "      <td>36</td>\n",
              "      <td>0.0</td>\n",
              "      <td>36.0</td>\n",
              "      <td>0</td>\n",
              "      <td>0</td>\n",
              "      <td>34.0</td>\n",
              "    </tr>\n",
              "    <tr>\n",
              "      <th>12/28/2019</th>\n",
              "      <td>32</td>\n",
              "      <td>0.0</td>\n",
              "      <td>7.1</td>\n",
              "      <td>3.2</td>\n",
              "      <td>1020.8</td>\n",
              "      <td>2.0</td>\n",
              "      <td>58</td>\n",
              "      <td>0.0</td>\n",
              "      <td>58.0</td>\n",
              "      <td>2</td>\n",
              "      <td>0</td>\n",
              "      <td>36.0</td>\n",
              "    </tr>\n",
              "    <tr>\n",
              "      <th>12/29/2019</th>\n",
              "      <td>31</td>\n",
              "      <td>0.0</td>\n",
              "      <td>7.6</td>\n",
              "      <td>2.9</td>\n",
              "      <td>1019.5</td>\n",
              "      <td>3.0</td>\n",
              "      <td>60</td>\n",
              "      <td>0.0</td>\n",
              "      <td>60.0</td>\n",
              "      <td>2</td>\n",
              "      <td>0</td>\n",
              "      <td>58.0</td>\n",
              "    </tr>\n",
              "    <tr>\n",
              "      <th>12/30/2019</th>\n",
              "      <td>34</td>\n",
              "      <td>0.0</td>\n",
              "      <td>10.4</td>\n",
              "      <td>7.9</td>\n",
              "      <td>1018.4</td>\n",
              "      <td>4.0</td>\n",
              "      <td>62</td>\n",
              "      <td>0.0</td>\n",
              "      <td>62.0</td>\n",
              "      <td>2</td>\n",
              "      <td>0</td>\n",
              "      <td>60.0</td>\n",
              "    </tr>\n",
              "    <tr>\n",
              "      <th>12/31/2019</th>\n",
              "      <td>35</td>\n",
              "      <td>0.0</td>\n",
              "      <td>8.3</td>\n",
              "      <td>6.8</td>\n",
              "      <td>0.0</td>\n",
              "      <td>3.0</td>\n",
              "      <td>85</td>\n",
              "      <td>0.0</td>\n",
              "      <td>85.0</td>\n",
              "      <td>2</td>\n",
              "      <td>0</td>\n",
              "      <td>62.0</td>\n",
              "    </tr>\n",
              "  </tbody>\n",
              "</table>\n",
              "<p>1461 rows × 12 columns</p>\n",
              "</div>"
            ],
            "text/plain": [
              "            ozone   co  temperature  ...  AQLabel  AQICategory   PAQI\n",
              "date                                 ...                             \n",
              "01/01/2016     37  8.0          4.4  ...        4            0    NaN\n",
              "01/02/2016     37  7.0          7.1  ...        4            0  148.0\n",
              "01/03/2016     36  7.0          9.6  ...        2            0  113.0\n",
              "01/04/2016     37  5.0         10.6  ...        2            0   80.0\n",
              "01/05/2016     41  5.0         12.5  ...        2            0   87.0\n",
              "...           ...  ...          ...  ...      ...          ...    ...\n",
              "12/27/2019     33  0.0          7.9  ...        0            0   34.0\n",
              "12/28/2019     32  0.0          7.1  ...        2            0   36.0\n",
              "12/29/2019     31  0.0          7.6  ...        2            0   58.0\n",
              "12/30/2019     34  0.0         10.4  ...        2            0   60.0\n",
              "12/31/2019     35  0.0          8.3  ...        2            0   62.0\n",
              "\n",
              "[1461 rows x 12 columns]"
            ]
          },
          "metadata": {
            "tags": []
          },
          "execution_count": 45
        }
      ]
    },
    {
      "cell_type": "code",
      "metadata": {
        "id": "IB8XFzF-i8vQ",
        "colab_type": "code",
        "colab": {}
      },
      "source": [
        "#scaledDF = scaledDF.drop(['AQICategory'], axis=1)\n",
        "#scaledDF = scaledDF.drop(['PAQI'], axis=1)\n",
        "scaledDF_data = scaledDF[['aqi', 'temperature','windspeed', 'pressure']]"
      ],
      "execution_count": 0,
      "outputs": []
    },
    {
      "cell_type": "code",
      "metadata": {
        "id": "m-B65k3YlqTt",
        "colab_type": "code",
        "outputId": "cad7490b-bb83-4155-e319-313b4049b841",
        "colab": {
          "base_uri": "https://localhost:8080/",
          "height": 111
        }
      },
      "source": [
        "scaledDF_data.head(2)"
      ],
      "execution_count": 47,
      "outputs": [
        {
          "output_type": "execute_result",
          "data": {
            "text/html": [
              "<div>\n",
              "<style scoped>\n",
              "    .dataframe tbody tr th:only-of-type {\n",
              "        vertical-align: middle;\n",
              "    }\n",
              "\n",
              "    .dataframe tbody tr th {\n",
              "        vertical-align: top;\n",
              "    }\n",
              "\n",
              "    .dataframe thead th {\n",
              "        text-align: right;\n",
              "    }\n",
              "</style>\n",
              "<table border=\"1\" class=\"dataframe\">\n",
              "  <thead>\n",
              "    <tr style=\"text-align: right;\">\n",
              "      <th></th>\n",
              "      <th>aqi</th>\n",
              "      <th>temperature</th>\n",
              "      <th>windspeed</th>\n",
              "      <th>pressure</th>\n",
              "    </tr>\n",
              "  </thead>\n",
              "  <tbody>\n",
              "    <tr>\n",
              "      <th>0</th>\n",
              "      <td>148.0</td>\n",
              "      <td>4.4</td>\n",
              "      <td>6.5</td>\n",
              "      <td>1020.3</td>\n",
              "    </tr>\n",
              "    <tr>\n",
              "      <th>1</th>\n",
              "      <td>113.0</td>\n",
              "      <td>7.1</td>\n",
              "      <td>3.6</td>\n",
              "      <td>1017.9</td>\n",
              "    </tr>\n",
              "  </tbody>\n",
              "</table>\n",
              "</div>"
            ],
            "text/plain": [
              "     aqi  temperature  windspeed  pressure\n",
              "0  148.0          4.4        6.5    1020.3\n",
              "1  113.0          7.1        3.6    1017.9"
            ]
          },
          "metadata": {
            "tags": []
          },
          "execution_count": 47
        }
      ]
    },
    {
      "cell_type": "code",
      "metadata": {
        "id": "-uEZgSQLmdDq",
        "colab_type": "code",
        "outputId": "6080830f-2d9f-4d27-bc72-a278430ff550",
        "colab": {
          "base_uri": "https://localhost:8080/",
          "height": 272
        }
      },
      "source": [
        "from sklearn.model_selection import train_test_split\n",
        "X_train, X_valid, Y_train, Y_valid = train_test_split(scaledDF_data, scaledDF.AQLabel, test_size=0.4, random_state=0) #Using weather data and aqi values to predict the AQLabel\n",
        "print('X Train set shape', X_train.shape)\n",
        "print('x validation set shape', X_valid.shape)\n",
        "print('Y Train set shape', Y_train.shape)\n",
        "print('Y validation set shape', Y_valid.shape)\n",
        "X_train.head()"
      ],
      "execution_count": 48,
      "outputs": [
        {
          "output_type": "stream",
          "text": [
            "X Train set shape (876, 4)\n",
            "x validation set shape (585, 4)\n",
            "Y Train set shape (876,)\n",
            "Y validation set shape (585,)\n"
          ],
          "name": "stdout"
        },
        {
          "output_type": "execute_result",
          "data": {
            "text/html": [
              "<div>\n",
              "<style scoped>\n",
              "    .dataframe tbody tr th:only-of-type {\n",
              "        vertical-align: middle;\n",
              "    }\n",
              "\n",
              "    .dataframe tbody tr th {\n",
              "        vertical-align: top;\n",
              "    }\n",
              "\n",
              "    .dataframe thead th {\n",
              "        text-align: right;\n",
              "    }\n",
              "</style>\n",
              "<table border=\"1\" class=\"dataframe\">\n",
              "  <thead>\n",
              "    <tr style=\"text-align: right;\">\n",
              "      <th></th>\n",
              "      <th>aqi</th>\n",
              "      <th>temperature</th>\n",
              "      <th>windspeed</th>\n",
              "      <th>pressure</th>\n",
              "    </tr>\n",
              "  </thead>\n",
              "  <tbody>\n",
              "    <tr>\n",
              "      <th>1098</th>\n",
              "      <td>103.0</td>\n",
              "      <td>6.0</td>\n",
              "      <td>6.1</td>\n",
              "      <td>1022.8</td>\n",
              "    </tr>\n",
              "    <tr>\n",
              "      <th>1147</th>\n",
              "      <td>39.0</td>\n",
              "      <td>6.6</td>\n",
              "      <td>10.8</td>\n",
              "      <td>1006.2</td>\n",
              "    </tr>\n",
              "    <tr>\n",
              "      <th>503</th>\n",
              "      <td>64.0</td>\n",
              "      <td>19.4</td>\n",
              "      <td>9.0</td>\n",
              "      <td>1013.1</td>\n",
              "    </tr>\n",
              "    <tr>\n",
              "      <th>601</th>\n",
              "      <td>119.0</td>\n",
              "      <td>30.4</td>\n",
              "      <td>9.7</td>\n",
              "      <td>1008.6</td>\n",
              "    </tr>\n",
              "    <tr>\n",
              "      <th>1064</th>\n",
              "      <td>37.0</td>\n",
              "      <td>12.8</td>\n",
              "      <td>10.4</td>\n",
              "      <td>1014.9</td>\n",
              "    </tr>\n",
              "  </tbody>\n",
              "</table>\n",
              "</div>"
            ],
            "text/plain": [
              "        aqi  temperature  windspeed  pressure\n",
              "1098  103.0          6.0        6.1    1022.8\n",
              "1147   39.0          6.6       10.8    1006.2\n",
              "503    64.0         19.4        9.0    1013.1\n",
              "601   119.0         30.4        9.7    1008.6\n",
              "1064   37.0         12.8       10.4    1014.9"
            ]
          },
          "metadata": {
            "tags": []
          },
          "execution_count": 48
        }
      ]
    },
    {
      "cell_type": "markdown",
      "metadata": {
        "id": "6YOL1VHB3WZQ",
        "colab_type": "text"
      },
      "source": [
        "#Deep Learning Models for Time Series Forecasting"
      ]
    },
    {
      "cell_type": "code",
      "metadata": {
        "id": "x4tlWwO30Nrn",
        "colab_type": "code",
        "outputId": "4006862f-b53c-47b6-d699-f1811bba2ec6",
        "colab": {
          "base_uri": "https://localhost:8080/",
          "height": 34
        }
      },
      "source": [
        "from keras import optimizers\n",
        "from keras.utils import plot_model\n",
        "from keras.models import Sequential, Model\n",
        "from keras.layers.convolutional import Conv1D, MaxPooling1D\n",
        "from keras.layers import Dense, LSTM, RepeatVector, TimeDistributed, Flatten\n",
        "from sklearn.metrics import mean_squared_error\n",
        "from sklearn.model_selection import train_test_split\n",
        "#import chart_studio.plotly as py\n",
        "import plotly.graph_objs as go\n",
        "from plotly.offline import init_notebook_mode, iplot\n",
        "%matplotlib inline\n",
        "import warnings\n",
        "warnings.filterwarnings(\"ignore\")\n",
        "init_notebook_mode(connected=True)\n",
        "\n",
        "# Set seeds to make the experiment more reproducible.\n",
        "#from tensorflow import set_random_seed\n",
        "from numpy.random import seed\n",
        "import tensorflow as tf\n",
        "tf.random.set_seed(1)\n",
        "seed(1)"
      ],
      "execution_count": 49,
      "outputs": [
        {
          "output_type": "stream",
          "text": [
            "Using TensorFlow backend.\n"
          ],
          "name": "stderr"
        },
        {
          "output_type": "display_data",
          "data": {
            "text/html": [
              "        <script type=\"text/javascript\">\n",
              "        window.PlotlyConfig = {MathJaxConfig: 'local'};\n",
              "        if (window.MathJax) {MathJax.Hub.Config({SVG: {font: \"STIX-Web\"}});}\n",
              "        if (typeof require !== 'undefined') {\n",
              "        require.undef(\"plotly\");\n",
              "        requirejs.config({\n",
              "            paths: {\n",
              "                'plotly': ['https://cdn.plot.ly/plotly-latest.min']\n",
              "            }\n",
              "        });\n",
              "        require(['plotly'], function(Plotly) {\n",
              "            window._Plotly = Plotly;\n",
              "        });\n",
              "        }\n",
              "        </script>\n",
              "        "
            ]
          },
          "metadata": {
            "tags": []
          }
        }
      ]
    },
    {
      "cell_type": "markdown",
      "metadata": {
        "id": "YumBQb5WrA5z",
        "colab_type": "text"
      },
      "source": [
        "#Multi-Layer perceptron"
      ]
    },
    {
      "cell_type": "code",
      "metadata": {
        "id": "Pxpmo8t70Nzw",
        "colab_type": "code",
        "colab": {}
      },
      "source": [
        "epochs = 100\n",
        "batch = 256\n",
        "lr = 0.0003\n",
        "adam = optimizers.Adam(lr)"
      ],
      "execution_count": 0,
      "outputs": []
    },
    {
      "cell_type": "code",
      "metadata": {
        "id": "5nTjRoVT0N83",
        "colab_type": "code",
        "outputId": "06fb0075-879f-4656-8b27-91303e6610a0",
        "colab": {
          "base_uri": "https://localhost:8080/",
          "height": 221
        }
      },
      "source": [
        "model_mlp = tf.keras.Sequential()\n",
        "model_mlp.add(tf.keras.layers.Dense(100, activation='relu', input_dim=X_train.shape[1]))\n",
        "model_mlp.add(tf.keras.layers.Dense(1))\n",
        "model_mlp.compile(loss='mse', optimizer='adam')\n",
        "model_mlp.summary()"
      ],
      "execution_count": 51,
      "outputs": [
        {
          "output_type": "stream",
          "text": [
            "Model: \"sequential\"\n",
            "_________________________________________________________________\n",
            "Layer (type)                 Output Shape              Param #   \n",
            "=================================================================\n",
            "dense (Dense)                (None, 100)               500       \n",
            "_________________________________________________________________\n",
            "dense_1 (Dense)              (None, 1)                 101       \n",
            "=================================================================\n",
            "Total params: 601\n",
            "Trainable params: 601\n",
            "Non-trainable params: 0\n",
            "_________________________________________________________________\n"
          ],
          "name": "stdout"
        }
      ]
    },
    {
      "cell_type": "code",
      "metadata": {
        "id": "BeLj_9BOqsyd",
        "colab_type": "code",
        "outputId": "abbf03a5-7caf-4746-844b-cb9ef1e9c890",
        "colab": {
          "base_uri": "https://localhost:8080/",
          "height": 1000
        }
      },
      "source": [
        "mlp_history = model_mlp.fit(X_train.values, Y_train, validation_data=(X_valid.values, Y_valid), epochs=epochs, verbose=2)"
      ],
      "execution_count": 52,
      "outputs": [
        {
          "output_type": "stream",
          "text": [
            "Epoch 1/100\n",
            "28/28 - 0s - loss: 2201.5549 - val_loss: 211.5539\n",
            "Epoch 2/100\n",
            "28/28 - 0s - loss: 67.5566 - val_loss: 28.5687\n",
            "Epoch 3/100\n",
            "28/28 - 0s - loss: 17.1951 - val_loss: 9.4426\n",
            "Epoch 4/100\n",
            "28/28 - 0s - loss: 9.6684 - val_loss: 8.1361\n",
            "Epoch 5/100\n",
            "28/28 - 0s - loss: 7.5796 - val_loss: 6.5905\n",
            "Epoch 6/100\n",
            "28/28 - 0s - loss: 6.0797 - val_loss: 5.5622\n",
            "Epoch 7/100\n",
            "28/28 - 0s - loss: 4.7386 - val_loss: 4.7728\n",
            "Epoch 8/100\n",
            "28/28 - 0s - loss: 3.7426 - val_loss: 4.0939\n",
            "Epoch 9/100\n",
            "28/28 - 0s - loss: 2.9762 - val_loss: 3.7187\n",
            "Epoch 10/100\n",
            "28/28 - 0s - loss: 2.4099 - val_loss: 3.4242\n",
            "Epoch 11/100\n",
            "28/28 - 0s - loss: 1.9893 - val_loss: 3.2527\n",
            "Epoch 12/100\n",
            "28/28 - 0s - loss: 1.6885 - val_loss: 3.2204\n",
            "Epoch 13/100\n",
            "28/28 - 0s - loss: 1.4605 - val_loss: 3.1884\n",
            "Epoch 14/100\n",
            "28/28 - 0s - loss: 1.3018 - val_loss: 3.0883\n",
            "Epoch 15/100\n",
            "28/28 - 0s - loss: 1.1854 - val_loss: 3.1173\n",
            "Epoch 16/100\n",
            "28/28 - 0s - loss: 1.0890 - val_loss: 3.0954\n",
            "Epoch 17/100\n",
            "28/28 - 0s - loss: 1.0128 - val_loss: 3.0915\n",
            "Epoch 18/100\n",
            "28/28 - 0s - loss: 0.9714 - val_loss: 3.1853\n",
            "Epoch 19/100\n",
            "28/28 - 0s - loss: 0.9374 - val_loss: 3.0881\n",
            "Epoch 20/100\n",
            "28/28 - 0s - loss: 0.9053 - val_loss: 3.1165\n",
            "Epoch 21/100\n",
            "28/28 - 0s - loss: 0.8859 - val_loss: 3.0508\n",
            "Epoch 22/100\n",
            "28/28 - 0s - loss: 0.8503 - val_loss: 3.0236\n",
            "Epoch 23/100\n",
            "28/28 - 0s - loss: 0.8287 - val_loss: 3.0341\n",
            "Epoch 24/100\n",
            "28/28 - 0s - loss: 0.8109 - val_loss: 2.9830\n",
            "Epoch 25/100\n",
            "28/28 - 0s - loss: 0.7895 - val_loss: 2.9511\n",
            "Epoch 26/100\n",
            "28/28 - 0s - loss: 0.7796 - val_loss: 2.9208\n",
            "Epoch 27/100\n",
            "28/28 - 0s - loss: 0.7338 - val_loss: 2.9242\n",
            "Epoch 28/100\n",
            "28/28 - 0s - loss: 0.7562 - val_loss: 2.8617\n",
            "Epoch 29/100\n",
            "28/28 - 0s - loss: 0.7051 - val_loss: 2.8298\n",
            "Epoch 30/100\n",
            "28/28 - 0s - loss: 0.7122 - val_loss: 2.7899\n",
            "Epoch 31/100\n",
            "28/28 - 0s - loss: 0.6948 - val_loss: 2.7810\n",
            "Epoch 32/100\n",
            "28/28 - 0s - loss: 0.6953 - val_loss: 2.7403\n",
            "Epoch 33/100\n",
            "28/28 - 0s - loss: 0.6816 - val_loss: 2.7351\n",
            "Epoch 34/100\n",
            "28/28 - 0s - loss: 0.6959 - val_loss: 2.6664\n",
            "Epoch 35/100\n",
            "28/28 - 0s - loss: 0.6715 - val_loss: 2.6403\n",
            "Epoch 36/100\n",
            "28/28 - 0s - loss: 0.6470 - val_loss: 2.6422\n",
            "Epoch 37/100\n",
            "28/28 - 0s - loss: 0.6458 - val_loss: 2.6439\n",
            "Epoch 38/100\n",
            "28/28 - 0s - loss: 0.6473 - val_loss: 2.6180\n",
            "Epoch 39/100\n",
            "28/28 - 0s - loss: 0.6331 - val_loss: 2.5759\n",
            "Epoch 40/100\n",
            "28/28 - 0s - loss: 0.6137 - val_loss: 2.5615\n",
            "Epoch 41/100\n",
            "28/28 - 0s - loss: 0.6134 - val_loss: 2.5471\n",
            "Epoch 42/100\n",
            "28/28 - 0s - loss: 0.6231 - val_loss: 2.5158\n",
            "Epoch 43/100\n",
            "28/28 - 0s - loss: 0.6049 - val_loss: 2.5240\n",
            "Epoch 44/100\n",
            "28/28 - 0s - loss: 0.6051 - val_loss: 2.5325\n",
            "Epoch 45/100\n",
            "28/28 - 0s - loss: 0.5957 - val_loss: 2.5554\n",
            "Epoch 46/100\n",
            "28/28 - 0s - loss: 0.6031 - val_loss: 2.4474\n",
            "Epoch 47/100\n",
            "28/28 - 0s - loss: 0.6045 - val_loss: 2.5168\n",
            "Epoch 48/100\n",
            "28/28 - 0s - loss: 0.6014 - val_loss: 2.4548\n",
            "Epoch 49/100\n",
            "28/28 - 0s - loss: 0.6874 - val_loss: 2.4241\n",
            "Epoch 50/100\n",
            "28/28 - 0s - loss: 0.6264 - val_loss: 2.3935\n",
            "Epoch 51/100\n",
            "28/28 - 0s - loss: 0.6085 - val_loss: 2.4735\n",
            "Epoch 52/100\n",
            "28/28 - 0s - loss: 0.5873 - val_loss: 2.4443\n",
            "Epoch 53/100\n",
            "28/28 - 0s - loss: 0.5896 - val_loss: 2.4426\n",
            "Epoch 54/100\n",
            "28/28 - 0s - loss: 0.5759 - val_loss: 2.3647\n",
            "Epoch 55/100\n",
            "28/28 - 0s - loss: 0.5775 - val_loss: 2.3782\n",
            "Epoch 56/100\n",
            "28/28 - 0s - loss: 0.5813 - val_loss: 2.3312\n",
            "Epoch 57/100\n",
            "28/28 - 0s - loss: 0.5842 - val_loss: 2.3419\n",
            "Epoch 58/100\n",
            "28/28 - 0s - loss: 0.5795 - val_loss: 2.3656\n",
            "Epoch 59/100\n",
            "28/28 - 0s - loss: 0.5802 - val_loss: 2.3456\n",
            "Epoch 60/100\n",
            "28/28 - 0s - loss: 0.5669 - val_loss: 2.2723\n",
            "Epoch 61/100\n",
            "28/28 - 0s - loss: 0.5910 - val_loss: 2.2696\n",
            "Epoch 62/100\n",
            "28/28 - 0s - loss: 0.5741 - val_loss: 2.3008\n",
            "Epoch 63/100\n",
            "28/28 - 0s - loss: 0.5623 - val_loss: 2.2574\n",
            "Epoch 64/100\n",
            "28/28 - 0s - loss: 0.5640 - val_loss: 2.2471\n",
            "Epoch 65/100\n",
            "28/28 - 0s - loss: 0.5921 - val_loss: 2.2986\n",
            "Epoch 66/100\n",
            "28/28 - 0s - loss: 0.5777 - val_loss: 2.2571\n",
            "Epoch 67/100\n",
            "28/28 - 0s - loss: 0.5853 - val_loss: 2.2301\n",
            "Epoch 68/100\n",
            "28/28 - 0s - loss: 0.6013 - val_loss: 2.2305\n",
            "Epoch 69/100\n",
            "28/28 - 0s - loss: 0.5652 - val_loss: 2.2145\n",
            "Epoch 70/100\n",
            "28/28 - 0s - loss: 0.5691 - val_loss: 2.2554\n",
            "Epoch 71/100\n",
            "28/28 - 0s - loss: 0.5853 - val_loss: 2.4298\n",
            "Epoch 72/100\n",
            "28/28 - 0s - loss: 0.6529 - val_loss: 2.2957\n",
            "Epoch 73/100\n",
            "28/28 - 0s - loss: 0.5776 - val_loss: 2.2210\n",
            "Epoch 74/100\n",
            "28/28 - 0s - loss: 0.5836 - val_loss: 2.1448\n",
            "Epoch 75/100\n",
            "28/28 - 0s - loss: 0.5812 - val_loss: 2.1512\n",
            "Epoch 76/100\n",
            "28/28 - 0s - loss: 0.6514 - val_loss: 2.1332\n",
            "Epoch 77/100\n",
            "28/28 - 0s - loss: 0.5610 - val_loss: 2.1341\n",
            "Epoch 78/100\n",
            "28/28 - 0s - loss: 0.5730 - val_loss: 2.1880\n",
            "Epoch 79/100\n",
            "28/28 - 0s - loss: 0.5531 - val_loss: 2.1231\n",
            "Epoch 80/100\n",
            "28/28 - 0s - loss: 0.5469 - val_loss: 2.2764\n",
            "Epoch 81/100\n",
            "28/28 - 0s - loss: 0.5848 - val_loss: 2.2993\n",
            "Epoch 82/100\n",
            "28/28 - 0s - loss: 0.5746 - val_loss: 2.1798\n",
            "Epoch 83/100\n",
            "28/28 - 0s - loss: 0.5568 - val_loss: 2.3424\n",
            "Epoch 84/100\n",
            "28/28 - 0s - loss: 0.5654 - val_loss: 2.0939\n",
            "Epoch 85/100\n",
            "28/28 - 0s - loss: 0.5875 - val_loss: 2.1518\n",
            "Epoch 86/100\n",
            "28/28 - 0s - loss: 0.5862 - val_loss: 2.1078\n",
            "Epoch 87/100\n",
            "28/28 - 0s - loss: 0.5610 - val_loss: 2.1439\n",
            "Epoch 88/100\n",
            "28/28 - 0s - loss: 0.5365 - val_loss: 2.1315\n",
            "Epoch 89/100\n",
            "28/28 - 0s - loss: 0.5506 - val_loss: 2.1228\n",
            "Epoch 90/100\n",
            "28/28 - 0s - loss: 0.6140 - val_loss: 2.0851\n",
            "Epoch 91/100\n",
            "28/28 - 0s - loss: 0.5741 - val_loss: 2.0378\n",
            "Epoch 92/100\n",
            "28/28 - 0s - loss: 0.5670 - val_loss: 2.2202\n",
            "Epoch 93/100\n",
            "28/28 - 0s - loss: 0.6558 - val_loss: 2.2038\n",
            "Epoch 94/100\n",
            "28/28 - 0s - loss: 0.5780 - val_loss: 2.0856\n",
            "Epoch 95/100\n",
            "28/28 - 0s - loss: 0.5397 - val_loss: 2.1590\n",
            "Epoch 96/100\n",
            "28/28 - 0s - loss: 0.5729 - val_loss: 2.0825\n",
            "Epoch 97/100\n",
            "28/28 - 0s - loss: 0.5263 - val_loss: 2.0598\n",
            "Epoch 98/100\n",
            "28/28 - 0s - loss: 0.5414 - val_loss: 2.0245\n",
            "Epoch 99/100\n",
            "28/28 - 0s - loss: 0.5491 - val_loss: 2.2504\n",
            "Epoch 100/100\n",
            "28/28 - 0s - loss: 0.6299 - val_loss: 2.0247\n"
          ],
          "name": "stdout"
        }
      ]
    },
    {
      "cell_type": "code",
      "metadata": {
        "id": "iAwAaTJOz9Dd",
        "colab_type": "code",
        "outputId": "d281431f-6507-491f-b8fb-f62f9f05aaf3",
        "colab": {
          "base_uri": "https://localhost:8080/",
          "height": 268
        }
      },
      "source": [
        "plt.plot(mlp_history.history['loss'], label='train')\n",
        "plt.plot(mlp_history.history['val_loss'], label='test')\n",
        "plt.legend()\n",
        "plt.show()"
      ],
      "execution_count": 53,
      "outputs": [
        {
          "output_type": "display_data",
          "data": {
            "image/png": "[encoded data removed]",
            "text/plain": [
              "<Figure size 432x288 with 1 Axes>"
            ]
          },
          "metadata": {
            "tags": [],
            "needs_background": "light"
          }
        }
      ]
    },
    {
      "cell_type": "markdown",
      "metadata": {
        "id": "dcFLeuegtZ6x",
        "colab_type": "text"
      },
      "source": [
        "###MLP on train and validation "
      ]
    },
    {
      "cell_type": "code",
      "metadata": {
        "id": "uTmZ4exstYYR",
        "colab_type": "code",
        "outputId": "25a52b4d-a46f-41a9-ffdd-b1305b38f47d",
        "colab": {
          "base_uri": "https://localhost:8080/",
          "height": 51
        }
      },
      "source": [
        "mlp_train_pred = model_mlp.predict(X_train.values)\n",
        "mlp_valid_pred = model_mlp.predict(X_valid.values)\n",
        "print('Train rmse:', np.sqrt(mean_squared_error(Y_train, mlp_train_pred)))\n",
        "print('Validation rmse:', np.sqrt(mean_squared_error(Y_valid, mlp_valid_pred)))"
      ],
      "execution_count": 54,
      "outputs": [
        {
          "output_type": "stream",
          "text": [
            "Train rmse: 0.7105232\n",
            "Validation rmse: 1.4434751\n"
          ],
          "name": "stdout"
        }
      ]
    },
    {
      "cell_type": "code",
      "metadata": {
        "id": "_IeNuD7LvZTk",
        "colab_type": "code",
        "outputId": "18ad6de8-49f6-4e86-a931-bc3a8638ea78",
        "colab": {
          "base_uri": "https://localhost:8080/",
          "height": 268
        }
      },
      "source": [
        "plt.plot(Y_train, label = 'Actual')\n",
        "plt.plot(mlp_train_pred, label = 'Predicted')\n",
        "plt.legend()\n",
        "plt.show()"
      ],
      "execution_count": 55,
      "outputs": [
        {
          "output_type": "display_data",
          "data": {
            "image/png": "[encoded data removed]",
            "text/plain": [
              "<Figure size 432x288 with 1 Axes>"
            ]
          },
          "metadata": {
            "tags": [],
            "needs_background": "light"
          }
        }
      ]
    },
    {
      "cell_type": "code",
      "metadata": {
        "id": "zZ7_HNYmu_nJ",
        "colab_type": "code",
        "outputId": "c25f1f26-aec3-4eb5-a082-ea54901d5a78",
        "colab": {
          "base_uri": "https://localhost:8080/",
          "height": 268
        }
      },
      "source": [
        "plt.plot(Y_valid, label = 'Actual')\n",
        "plt.plot(mlp_valid_pred, label = 'Predicted')\n",
        "plt.legend()\n",
        "plt.show()"
      ],
      "execution_count": 56,
      "outputs": [
        {
          "output_type": "display_data",
          "data": {
            "image/png": "[encoded data removed]",
            "text/plain": [
              "<Figure size 432x288 with 1 Axes>"
            ]
          },
          "metadata": {
            "tags": [],
            "needs_background": "light"
          }
        }
      ]
    },
    {
      "cell_type": "code",
      "metadata": {
        "id": "HvXsXm28YCJ7",
        "colab_type": "code",
        "outputId": "15f4a153-06ea-4944-e8ed-aa50d02b1ab7",
        "colab": {
          "base_uri": "https://localhost:8080/",
          "height": 285
        }
      },
      "source": [
        "plt.plot(np.arange(0, len(Y_train)), Y_train, 'g', label=\"history\")\n",
        "plt.plot(np.arange(len(Y_train), len(Y_train) + len(Y_valid)), Y_valid, marker='.', label=\"true\")\n",
        "plt.plot(np.arange(len(Y_train), len(Y_train) + len(Y_valid)), mlp_valid_pred, 'r', label=\"prediction\")\n",
        "plt.ylabel('Value')\n",
        "plt.xlabel('Time Step')\n",
        "plt.legend()\n",
        "plt.show();"
      ],
      "execution_count": 57,
      "outputs": [
        {
          "output_type": "display_data",
          "data": {
            "image/png": "[encoded data removed]",
            "text/plain": [
              "<Figure size 432x288 with 1 Axes>"
            ]
          },
          "metadata": {
            "tags": [],
            "needs_background": "light"
          }
        }
      ]
    },
    {
      "cell_type": "markdown",
      "metadata": {
        "id": "xyuy9DjkrGPr",
        "colab_type": "text"
      },
      "source": [
        "#Convolutional Neural Network model [CNN]"
      ]
    },
    {
      "cell_type": "code",
      "metadata": {
        "id": "6AEJdk9Eq8ly",
        "colab_type": "code",
        "outputId": "f604066c-44cf-45b1-a7c3-413cd3c4d635",
        "colab": {
          "base_uri": "https://localhost:8080/",
          "height": 51
        }
      },
      "source": [
        "X_train_series = X_train.values.reshape((X_train.shape[0], X_train.shape[1], 1))\n",
        "X_valid_series = X_valid.values.reshape((X_valid.shape[0], X_valid.shape[1], 1))\n",
        "print('Train set shape', X_train_series.shape)\n",
        "print('Validation set shape', X_valid_series.shape)"
      ],
      "execution_count": 58,
      "outputs": [
        {
          "output_type": "stream",
          "text": [
            "Train set shape (876, 4, 1)\n",
            "Validation set shape (585, 4, 1)\n"
          ],
          "name": "stdout"
        }
      ]
    },
    {
      "cell_type": "code",
      "metadata": {
        "id": "vPfXtEB3rQ9C",
        "colab_type": "code",
        "outputId": "431a1d73-c38d-4ea2-d7eb-9f218f2ef789",
        "colab": {
          "base_uri": "https://localhost:8080/",
          "height": 323
        }
      },
      "source": [
        "model_cnn = tf.keras.Sequential()\n",
        "model_cnn.add(tf.keras.layers.Conv1D(filters=64, kernel_size=2, activation='relu', input_shape=(X_train_series.shape[1], X_train_series.shape[2])))\n",
        "model_cnn.add(tf.keras.layers.MaxPooling1D(pool_size=2))\n",
        "model_cnn.add(tf.keras.layers.Flatten())\n",
        "model_cnn.add(tf.keras.layers.Dense(50, activation='relu'))\n",
        "model_cnn.add(tf.keras.layers.Dense(1))\n",
        "model_cnn.compile(loss='mse', optimizer='adam')\n",
        "model_cnn.summary()"
      ],
      "execution_count": 59,
      "outputs": [
        {
          "output_type": "stream",
          "text": [
            "Model: \"sequential_1\"\n",
            "_________________________________________________________________\n",
            "Layer (type)                 Output Shape              Param #   \n",
            "=================================================================\n",
            "conv1d (Conv1D)              (None, 3, 64)             192       \n",
            "_________________________________________________________________\n",
            "max_pooling1d (MaxPooling1D) (None, 1, 64)             0         \n",
            "_________________________________________________________________\n",
            "flatten (Flatten)            (None, 64)                0         \n",
            "_________________________________________________________________\n",
            "dense_2 (Dense)              (None, 50)                3250      \n",
            "_________________________________________________________________\n",
            "dense_3 (Dense)              (None, 1)                 51        \n",
            "=================================================================\n",
            "Total params: 3,493\n",
            "Trainable params: 3,493\n",
            "Non-trainable params: 0\n",
            "_________________________________________________________________\n"
          ],
          "name": "stdout"
        }
      ]
    },
    {
      "cell_type": "code",
      "metadata": {
        "id": "uBw2oST6rRKY",
        "colab_type": "code",
        "outputId": "1e2c3896-9b3b-4979-c437-5bcc07ec15dd",
        "colab": {
          "base_uri": "https://localhost:8080/",
          "height": 1000
        }
      },
      "source": [
        "cnn_history = model_cnn.fit(X_train_series, Y_train, validation_data=(X_valid_series, Y_valid), epochs=epochs, verbose=2)"
      ],
      "execution_count": 60,
      "outputs": [
        {
          "output_type": "stream",
          "text": [
            "Epoch 1/100\n",
            "28/28 - 0s - loss: 1.5607 - val_loss: 0.8404\n",
            "Epoch 2/100\n",
            "28/28 - 0s - loss: 0.6057 - val_loss: 0.7681\n",
            "Epoch 3/100\n",
            "28/28 - 0s - loss: 0.5991 - val_loss: 0.7644\n",
            "Epoch 4/100\n",
            "28/28 - 0s - loss: 0.5860 - val_loss: 0.7192\n",
            "Epoch 5/100\n",
            "28/28 - 0s - loss: 0.6006 - val_loss: 0.7290\n",
            "Epoch 6/100\n",
            "28/28 - 0s - loss: 0.5892 - val_loss: 0.7882\n",
            "Epoch 7/100\n",
            "28/28 - 0s - loss: 0.5944 - val_loss: 0.7348\n",
            "Epoch 8/100\n",
            "28/28 - 0s - loss: 0.6026 - val_loss: 0.7052\n",
            "Epoch 9/100\n",
            "28/28 - 0s - loss: 0.5821 - val_loss: 0.8147\n",
            "Epoch 10/100\n",
            "28/28 - 0s - loss: 0.6403 - val_loss: 0.7360\n",
            "Epoch 11/100\n",
            "28/28 - 0s - loss: 0.6018 - val_loss: 0.9732\n",
            "Epoch 12/100\n",
            "28/28 - 0s - loss: 0.5681 - val_loss: 0.7109\n",
            "Epoch 13/100\n",
            "28/28 - 0s - loss: 0.5722 - val_loss: 0.7377\n",
            "Epoch 14/100\n",
            "28/28 - 0s - loss: 0.5741 - val_loss: 0.7038\n",
            "Epoch 15/100\n",
            "28/28 - 0s - loss: 0.5573 - val_loss: 0.7334\n",
            "Epoch 16/100\n",
            "28/28 - 0s - loss: 0.5579 - val_loss: 0.7915\n",
            "Epoch 17/100\n",
            "28/28 - 0s - loss: 0.6827 - val_loss: 1.0515\n",
            "Epoch 18/100\n",
            "28/28 - 0s - loss: 0.6731 - val_loss: 1.1968\n",
            "Epoch 19/100\n",
            "28/28 - 0s - loss: 0.7137 - val_loss: 0.7540\n",
            "Epoch 20/100\n",
            "28/28 - 0s - loss: 0.5339 - val_loss: 0.7413\n",
            "Epoch 21/100\n",
            "28/28 - 0s - loss: 0.5415 - val_loss: 0.7936\n",
            "Epoch 22/100\n",
            "28/28 - 0s - loss: 0.6281 - val_loss: 0.8987\n",
            "Epoch 23/100\n",
            "28/28 - 0s - loss: 0.6179 - val_loss: 0.8760\n",
            "Epoch 24/100\n",
            "28/28 - 0s - loss: 0.5624 - val_loss: 0.7297\n",
            "Epoch 25/100\n",
            "28/28 - 0s - loss: 0.5281 - val_loss: 0.7190\n",
            "Epoch 26/100\n",
            "28/28 - 0s - loss: 0.5406 - val_loss: 0.7762\n",
            "Epoch 27/100\n",
            "28/28 - 0s - loss: 0.5386 - val_loss: 0.8572\n",
            "Epoch 28/100\n",
            "28/28 - 0s - loss: 0.5954 - val_loss: 0.7826\n",
            "Epoch 29/100\n",
            "28/28 - 0s - loss: 0.5692 - val_loss: 0.7644\n",
            "Epoch 30/100\n",
            "28/28 - 0s - loss: 0.5238 - val_loss: 0.7451\n",
            "Epoch 31/100\n",
            "28/28 - 0s - loss: 0.5148 - val_loss: 0.7352\n",
            "Epoch 32/100\n",
            "28/28 - 0s - loss: 0.5051 - val_loss: 0.7571\n",
            "Epoch 33/100\n",
            "28/28 - 0s - loss: 0.5139 - val_loss: 0.8403\n",
            "Epoch 34/100\n",
            "28/28 - 0s - loss: 0.5587 - val_loss: 0.7509\n",
            "Epoch 35/100\n",
            "28/28 - 0s - loss: 0.5248 - val_loss: 0.8839\n",
            "Epoch 36/100\n",
            "28/28 - 0s - loss: 0.5340 - val_loss: 0.7612\n",
            "Epoch 37/100\n",
            "28/28 - 0s - loss: 0.5779 - val_loss: 1.1411\n",
            "Epoch 38/100\n",
            "28/28 - 0s - loss: 0.5207 - val_loss: 0.8927\n",
            "Epoch 39/100\n",
            "28/28 - 0s - loss: 0.5014 - val_loss: 0.7943\n",
            "Epoch 40/100\n",
            "28/28 - 0s - loss: 0.5387 - val_loss: 0.7615\n",
            "Epoch 41/100\n",
            "28/28 - 0s - loss: 0.5110 - val_loss: 0.7569\n",
            "Epoch 42/100\n",
            "28/28 - 0s - loss: 0.5450 - val_loss: 0.7373\n",
            "Epoch 43/100\n",
            "28/28 - 0s - loss: 0.5297 - val_loss: 0.8077\n",
            "Epoch 44/100\n",
            "28/28 - 0s - loss: 0.6027 - val_loss: 0.7465\n",
            "Epoch 45/100\n",
            "28/28 - 0s - loss: 0.4802 - val_loss: 0.7377\n",
            "Epoch 46/100\n",
            "28/28 - 0s - loss: 0.4687 - val_loss: 0.7667\n",
            "Epoch 47/100\n",
            "28/28 - 0s - loss: 0.4922 - val_loss: 0.7849\n",
            "Epoch 48/100\n",
            "28/28 - 0s - loss: 0.5385 - val_loss: 0.7992\n",
            "Epoch 49/100\n",
            "28/28 - 0s - loss: 0.5147 - val_loss: 0.7704\n",
            "Epoch 50/100\n",
            "28/28 - 0s - loss: 0.5018 - val_loss: 0.8089\n",
            "Epoch 51/100\n",
            "28/28 - 0s - loss: 0.4907 - val_loss: 0.8288\n",
            "Epoch 52/100\n",
            "28/28 - 0s - loss: 0.4866 - val_loss: 0.7536\n",
            "Epoch 53/100\n",
            "28/28 - 0s - loss: 0.5102 - val_loss: 0.8056\n",
            "Epoch 54/100\n",
            "28/28 - 0s - loss: 0.5041 - val_loss: 0.8635\n",
            "Epoch 55/100\n",
            "28/28 - 0s - loss: 0.5033 - val_loss: 0.8073\n",
            "Epoch 56/100\n",
            "28/28 - 0s - loss: 0.4863 - val_loss: 0.9752\n",
            "Epoch 57/100\n",
            "28/28 - 0s - loss: 0.4980 - val_loss: 0.7464\n",
            "Epoch 58/100\n",
            "28/28 - 0s - loss: 0.4621 - val_loss: 0.9118\n",
            "Epoch 59/100\n",
            "28/28 - 0s - loss: 0.4597 - val_loss: 0.8257\n",
            "Epoch 60/100\n",
            "28/28 - 0s - loss: 0.4838 - val_loss: 1.0379\n",
            "Epoch 61/100\n",
            "28/28 - 0s - loss: 0.4989 - val_loss: 0.8015\n",
            "Epoch 62/100\n",
            "28/28 - 0s - loss: 0.4749 - val_loss: 0.8443\n",
            "Epoch 63/100\n",
            "28/28 - 0s - loss: 0.4590 - val_loss: 0.8497\n",
            "Epoch 64/100\n",
            "28/28 - 0s - loss: 0.4883 - val_loss: 0.8455\n",
            "Epoch 65/100\n",
            "28/28 - 0s - loss: 0.4871 - val_loss: 0.8504\n",
            "Epoch 66/100\n",
            "28/28 - 0s - loss: 0.4680 - val_loss: 0.7480\n",
            "Epoch 67/100\n",
            "28/28 - 0s - loss: 0.4699 - val_loss: 0.8106\n",
            "Epoch 68/100\n",
            "28/28 - 0s - loss: 0.4518 - val_loss: 0.8119\n",
            "Epoch 69/100\n",
            "28/28 - 0s - loss: 0.4872 - val_loss: 0.7573\n",
            "Epoch 70/100\n",
            "28/28 - 0s - loss: 0.4869 - val_loss: 0.8617\n",
            "Epoch 71/100\n",
            "28/28 - 0s - loss: 0.4717 - val_loss: 0.9753\n",
            "Epoch 72/100\n",
            "28/28 - 0s - loss: 0.4731 - val_loss: 0.7575\n",
            "Epoch 73/100\n",
            "28/28 - 0s - loss: 0.4731 - val_loss: 0.7426\n",
            "Epoch 74/100\n",
            "28/28 - 0s - loss: 0.4748 - val_loss: 0.7654\n",
            "Epoch 75/100\n",
            "28/28 - 0s - loss: 0.4738 - val_loss: 1.0526\n",
            "Epoch 76/100\n",
            "28/28 - 0s - loss: 0.5868 - val_loss: 1.0915\n",
            "Epoch 77/100\n",
            "28/28 - 0s - loss: 0.5361 - val_loss: 0.8261\n",
            "Epoch 78/100\n",
            "28/28 - 0s - loss: 0.4320 - val_loss: 0.7897\n",
            "Epoch 79/100\n",
            "28/28 - 0s - loss: 0.4542 - val_loss: 0.7564\n",
            "Epoch 80/100\n",
            "28/28 - 0s - loss: 0.4411 - val_loss: 0.8251\n",
            "Epoch 81/100\n",
            "28/28 - 0s - loss: 0.4392 - val_loss: 0.7936\n",
            "Epoch 82/100\n",
            "28/28 - 0s - loss: 0.4375 - val_loss: 0.7510\n",
            "Epoch 83/100\n",
            "28/28 - 0s - loss: 0.4643 - val_loss: 0.9096\n",
            "Epoch 84/100\n",
            "28/28 - 0s - loss: 0.4588 - val_loss: 0.8144\n",
            "Epoch 85/100\n",
            "28/28 - 0s - loss: 0.4625 - val_loss: 1.0383\n",
            "Epoch 86/100\n",
            "28/28 - 0s - loss: 0.4451 - val_loss: 0.7767\n",
            "Epoch 87/100\n",
            "28/28 - 0s - loss: 0.4598 - val_loss: 0.9654\n",
            "Epoch 88/100\n",
            "28/28 - 0s - loss: 0.4637 - val_loss: 0.8401\n",
            "Epoch 89/100\n",
            "28/28 - 0s - loss: 0.4458 - val_loss: 0.7615\n",
            "Epoch 90/100\n",
            "28/28 - 0s - loss: 0.4463 - val_loss: 0.7341\n",
            "Epoch 91/100\n",
            "28/28 - 0s - loss: 0.4326 - val_loss: 0.8529\n",
            "Epoch 92/100\n",
            "28/28 - 0s - loss: 0.4585 - val_loss: 0.9224\n",
            "Epoch 93/100\n",
            "28/28 - 0s - loss: 0.4930 - val_loss: 0.8528\n",
            "Epoch 94/100\n",
            "28/28 - 0s - loss: 0.4470 - val_loss: 0.7904\n",
            "Epoch 95/100\n",
            "28/28 - 0s - loss: 0.4236 - val_loss: 0.8597\n",
            "Epoch 96/100\n",
            "28/28 - 0s - loss: 0.4588 - val_loss: 0.7337\n",
            "Epoch 97/100\n",
            "28/28 - 0s - loss: 0.4231 - val_loss: 0.8391\n",
            "Epoch 98/100\n",
            "28/28 - 0s - loss: 0.4437 - val_loss: 0.7941\n",
            "Epoch 99/100\n",
            "28/28 - 0s - loss: 0.4289 - val_loss: 1.1895\n",
            "Epoch 100/100\n",
            "28/28 - 0s - loss: 0.4851 - val_loss: 0.7604\n"
          ],
          "name": "stdout"
        }
      ]
    },
    {
      "cell_type": "code",
      "metadata": {
        "id": "LhErQj200S4G",
        "colab_type": "code",
        "outputId": "c18003dc-0396-4a16-f742-9ba0fe81f986",
        "colab": {
          "base_uri": "https://localhost:8080/",
          "height": 269
        }
      },
      "source": [
        "plt.plot(cnn_history.history['loss'], label='train')\n",
        "plt.plot(cnn_history.history['val_loss'], label='test')\n",
        "plt.legend()\n",
        "plt.show()"
      ],
      "execution_count": 61,
      "outputs": [
        {
          "output_type": "display_data",
          "data": {
            "image/png": "[encoded data removed]",
            "text/plain": [
              "<Figure size 432x288 with 1 Axes>"
            ]
          },
          "metadata": {
            "tags": [],
            "needs_background": "light"
          }
        }
      ]
    },
    {
      "cell_type": "markdown",
      "metadata": {
        "id": "qC0gAWbqtiGc",
        "colab_type": "text"
      },
      "source": [
        "###CNN on train and validation"
      ]
    },
    {
      "cell_type": "code",
      "metadata": {
        "id": "PSYSC0wStiWG",
        "colab_type": "code",
        "outputId": "a1fc4568-312b-49f4-a7d4-72ce8e322f7e",
        "colab": {
          "base_uri": "https://localhost:8080/",
          "height": 51
        }
      },
      "source": [
        "cnn_train_pred = model_cnn.predict(X_train_series)\n",
        "cnn_valid_pred = model_cnn.predict(X_valid_series)\n",
        "print('Train rmse:', np.sqrt(mean_squared_error(Y_train, cnn_train_pred)))\n",
        "print('Validation rmse:', np.sqrt(mean_squared_error(Y_valid, cnn_valid_pred)))"
      ],
      "execution_count": 62,
      "outputs": [
        {
          "output_type": "stream",
          "text": [
            "Train rmse: 0.63190216\n",
            "Validation rmse: 0.87647724\n"
          ],
          "name": "stdout"
        }
      ]
    },
    {
      "cell_type": "markdown",
      "metadata": {
        "id": "4ilFC3CXsJg8",
        "colab_type": "text"
      },
      "source": [
        "#LSTM for Time Series Forecasting"
      ]
    },
    {
      "cell_type": "code",
      "metadata": {
        "id": "oHPoQOAmsNSj",
        "colab_type": "code",
        "outputId": "fcadf4e0-4905-4655-9fc8-92f75f8453a9",
        "colab": {
          "base_uri": "https://localhost:8080/",
          "height": 238
        }
      },
      "source": [
        "model_lstm = tf.keras.Sequential()\n",
        "model_lstm.add(tf.keras.layers.LSTM(50, activation='relu', input_shape=(X_train_series.shape[1], X_train_series.shape[2])))\n",
        "model_lstm.add(tf.keras.layers.Dense(1))\n",
        "model_lstm.compile(loss='mse', optimizer='adam')\n",
        "model_lstm.summary()"
      ],
      "execution_count": 63,
      "outputs": [
        {
          "output_type": "stream",
          "text": [
            "WARNING:tensorflow:Layer lstm will not use cuDNN kernel since it doesn't meet the cuDNN kernel criteria. It will use generic GPU kernel as fallback when running on GPU\n",
            "Model: \"sequential_2\"\n",
            "_________________________________________________________________\n",
            "Layer (type)                 Output Shape              Param #   \n",
            "=================================================================\n",
            "lstm (LSTM)                  (None, 50)                10400     \n",
            "_________________________________________________________________\n",
            "dense_4 (Dense)              (None, 1)                 51        \n",
            "=================================================================\n",
            "Total params: 10,451\n",
            "Trainable params: 10,451\n",
            "Non-trainable params: 0\n",
            "_________________________________________________________________\n"
          ],
          "name": "stdout"
        }
      ]
    },
    {
      "cell_type": "code",
      "metadata": {
        "id": "BkyC2neKsNpW",
        "colab_type": "code",
        "outputId": "fb219c8d-ab09-4281-cc70-d7979bcbc54f",
        "colab": {
          "base_uri": "https://localhost:8080/",
          "height": 1000
        }
      },
      "source": [
        "lstm_history = model_lstm.fit(X_train_series, Y_train, validation_data=(X_valid_series, Y_valid), epochs=epochs, verbose=2)"
      ],
      "execution_count": 64,
      "outputs": [
        {
          "output_type": "stream",
          "text": [
            "Epoch 1/100\n",
            "28/28 - 0s - loss: 73.2939 - val_loss: 15.4345\n",
            "Epoch 2/100\n",
            "28/28 - 0s - loss: 4.0758 - val_loss: 2.9394\n",
            "Epoch 3/100\n",
            "28/28 - 0s - loss: 1.1308 - val_loss: 1.1249\n",
            "Epoch 4/100\n",
            "28/28 - 0s - loss: 0.7503 - val_loss: 1.0674\n",
            "Epoch 5/100\n",
            "28/28 - 0s - loss: 0.6746 - val_loss: 0.9782\n",
            "Epoch 6/100\n",
            "28/28 - 0s - loss: 0.6380 - val_loss: 0.9250\n",
            "Epoch 7/100\n",
            "28/28 - 0s - loss: 0.5862 - val_loss: 0.9208\n",
            "Epoch 8/100\n",
            "28/28 - 0s - loss: 0.5492 - val_loss: 0.8056\n",
            "Epoch 9/100\n",
            "28/28 - 0s - loss: 0.5247 - val_loss: 0.6870\n",
            "Epoch 10/100\n",
            "28/28 - 0s - loss: 0.4961 - val_loss: 0.6009\n",
            "Epoch 11/100\n",
            "28/28 - 0s - loss: 0.4415 - val_loss: 0.5008\n",
            "Epoch 12/100\n",
            "28/28 - 0s - loss: 0.4179 - val_loss: 0.4303\n",
            "Epoch 13/100\n",
            "28/28 - 0s - loss: 0.3988 - val_loss: 0.4080\n",
            "Epoch 14/100\n",
            "28/28 - 0s - loss: 0.3815 - val_loss: 0.4165\n",
            "Epoch 15/100\n",
            "28/28 - 0s - loss: 0.3702 - val_loss: 0.3724\n",
            "Epoch 16/100\n",
            "28/28 - 0s - loss: 0.3655 - val_loss: 0.4036\n",
            "Epoch 17/100\n",
            "28/28 - 0s - loss: 0.3548 - val_loss: 0.3567\n",
            "Epoch 18/100\n",
            "28/28 - 0s - loss: 0.3775 - val_loss: 0.3596\n",
            "Epoch 19/100\n",
            "28/28 - 0s - loss: 0.3630 - val_loss: 0.3853\n",
            "Epoch 20/100\n",
            "28/28 - 0s - loss: 0.3694 - val_loss: 0.3617\n",
            "Epoch 21/100\n",
            "28/28 - 0s - loss: 0.3630 - val_loss: 0.3806\n",
            "Epoch 22/100\n",
            "28/28 - 0s - loss: 0.3929 - val_loss: 0.3458\n",
            "Epoch 23/100\n",
            "28/28 - 0s - loss: 0.3646 - val_loss: 0.3542\n",
            "Epoch 24/100\n",
            "28/28 - 0s - loss: 0.3524 - val_loss: 0.4003\n",
            "Epoch 25/100\n",
            "28/28 - 0s - loss: 0.3634 - val_loss: 0.3887\n",
            "Epoch 26/100\n",
            "28/28 - 0s - loss: 0.3609 - val_loss: 0.4824\n",
            "Epoch 27/100\n",
            "28/28 - 0s - loss: 0.4180 - val_loss: 0.3337\n",
            "Epoch 28/100\n",
            "28/28 - 0s - loss: 0.3898 - val_loss: 0.3393\n",
            "Epoch 29/100\n",
            "28/28 - 0s - loss: 0.3827 - val_loss: 0.3682\n",
            "Epoch 30/100\n",
            "28/28 - 0s - loss: 0.3574 - val_loss: 0.3702\n",
            "Epoch 31/100\n",
            "28/28 - 0s - loss: 0.3543 - val_loss: 0.4138\n",
            "Epoch 32/100\n",
            "28/28 - 0s - loss: 0.3579 - val_loss: 0.3360\n",
            "Epoch 33/100\n",
            "28/28 - 0s - loss: 0.3553 - val_loss: 0.3353\n",
            "Epoch 34/100\n",
            "28/28 - 0s - loss: 0.3761 - val_loss: 0.4082\n",
            "Epoch 35/100\n",
            "28/28 - 0s - loss: 0.3882 - val_loss: 0.3775\n",
            "Epoch 36/100\n",
            "28/28 - 0s - loss: 0.3798 - val_loss: 0.3678\n",
            "Epoch 37/100\n",
            "28/28 - 0s - loss: 0.3873 - val_loss: 0.4221\n",
            "Epoch 38/100\n",
            "28/28 - 0s - loss: 0.3668 - val_loss: 0.3783\n",
            "Epoch 39/100\n",
            "28/28 - 0s - loss: 0.3668 - val_loss: 0.3279\n",
            "Epoch 40/100\n",
            "28/28 - 0s - loss: 0.3551 - val_loss: 0.3728\n",
            "Epoch 41/100\n",
            "28/28 - 0s - loss: 0.3749 - val_loss: 0.4540\n",
            "Epoch 42/100\n",
            "28/28 - 0s - loss: 0.3641 - val_loss: 0.5092\n",
            "Epoch 43/100\n",
            "28/28 - 0s - loss: 0.3550 - val_loss: 0.5088\n",
            "Epoch 44/100\n",
            "28/28 - 0s - loss: 0.3784 - val_loss: 0.4508\n",
            "Epoch 45/100\n",
            "28/28 - 0s - loss: 0.3477 - val_loss: 0.4555\n",
            "Epoch 46/100\n",
            "28/28 - 0s - loss: 0.3330 - val_loss: 0.4544\n",
            "Epoch 47/100\n",
            "28/28 - 0s - loss: 0.3450 - val_loss: 0.4631\n",
            "Epoch 48/100\n",
            "28/28 - 0s - loss: 0.3561 - val_loss: 0.4466\n",
            "Epoch 49/100\n",
            "28/28 - 0s - loss: 0.3483 - val_loss: 0.3492\n",
            "Epoch 50/100\n",
            "28/28 - 0s - loss: 0.3466 - val_loss: 0.3546\n",
            "Epoch 51/100\n",
            "28/28 - 0s - loss: 0.4024 - val_loss: 0.3536\n",
            "Epoch 52/100\n",
            "28/28 - 0s - loss: 0.3333 - val_loss: 0.3575\n",
            "Epoch 53/100\n",
            "28/28 - 0s - loss: 0.3539 - val_loss: 0.3164\n",
            "Epoch 54/100\n",
            "28/28 - 0s - loss: 0.3425 - val_loss: 0.3561\n",
            "Epoch 55/100\n",
            "28/28 - 0s - loss: 0.3824 - val_loss: 0.3162\n",
            "Epoch 56/100\n",
            "28/28 - 0s - loss: 0.3407 - val_loss: 0.3516\n",
            "Epoch 57/100\n",
            "28/28 - 0s - loss: 0.3674 - val_loss: 0.3689\n",
            "Epoch 58/100\n",
            "28/28 - 0s - loss: 0.3382 - val_loss: 0.3310\n",
            "Epoch 59/100\n",
            "28/28 - 0s - loss: 0.3251 - val_loss: 0.3190\n",
            "Epoch 60/100\n",
            "28/28 - 0s - loss: 0.3342 - val_loss: 0.3675\n",
            "Epoch 61/100\n",
            "28/28 - 0s - loss: 0.3516 - val_loss: 0.4707\n",
            "Epoch 62/100\n",
            "28/28 - 0s - loss: 0.3463 - val_loss: 0.3854\n",
            "Epoch 63/100\n",
            "28/28 - 0s - loss: 0.3422 - val_loss: 0.3321\n",
            "Epoch 64/100\n",
            "28/28 - 0s - loss: 0.3115 - val_loss: 0.4467\n",
            "Epoch 65/100\n",
            "28/28 - 0s - loss: 0.4401 - val_loss: 0.3941\n",
            "Epoch 66/100\n",
            "28/28 - 0s - loss: 0.3219 - val_loss: 0.3514\n",
            "Epoch 67/100\n",
            "28/28 - 0s - loss: 0.3514 - val_loss: 0.3375\n",
            "Epoch 68/100\n",
            "28/28 - 0s - loss: 0.3309 - val_loss: 0.3450\n",
            "Epoch 69/100\n",
            "28/28 - 0s - loss: 0.2988 - val_loss: 0.3898\n",
            "Epoch 70/100\n",
            "28/28 - 0s - loss: 0.2897 - val_loss: 0.4145\n",
            "Epoch 71/100\n",
            "28/28 - 0s - loss: 0.2896 - val_loss: 0.5027\n",
            "Epoch 72/100\n",
            "28/28 - 0s - loss: 0.3718 - val_loss: 0.5243\n",
            "Epoch 73/100\n",
            "28/28 - 0s - loss: 0.2753 - val_loss: 0.4976\n",
            "Epoch 74/100\n",
            "28/28 - 0s - loss: 0.2713 - val_loss: 0.4782\n",
            "Epoch 75/100\n",
            "28/28 - 0s - loss: 0.2643 - val_loss: 0.6784\n",
            "Epoch 76/100\n",
            "28/28 - 0s - loss: 0.2686 - val_loss: 0.6106\n",
            "Epoch 77/100\n",
            "28/28 - 0s - loss: 0.2617 - val_loss: 0.5031\n",
            "Epoch 78/100\n",
            "28/28 - 0s - loss: 0.2834 - val_loss: 0.4912\n",
            "Epoch 79/100\n",
            "28/28 - 0s - loss: 0.2526 - val_loss: 0.4779\n",
            "Epoch 80/100\n",
            "28/28 - 0s - loss: 0.2571 - val_loss: 0.4441\n",
            "Epoch 81/100\n",
            "28/28 - 0s - loss: 0.2166 - val_loss: 0.4350\n",
            "Epoch 82/100\n",
            "28/28 - 0s - loss: 0.2826 - val_loss: 0.4082\n",
            "Epoch 83/100\n",
            "28/28 - 0s - loss: 0.2465 - val_loss: 0.4065\n",
            "Epoch 84/100\n",
            "28/28 - 0s - loss: 0.2217 - val_loss: 0.4091\n",
            "Epoch 85/100\n",
            "28/28 - 0s - loss: 0.2210 - val_loss: 0.3805\n",
            "Epoch 86/100\n",
            "28/28 - 0s - loss: 0.1996 - val_loss: 0.3603\n",
            "Epoch 87/100\n",
            "28/28 - 0s - loss: 0.2015 - val_loss: 0.4343\n",
            "Epoch 88/100\n",
            "28/28 - 0s - loss: 0.1947 - val_loss: 0.3782\n",
            "Epoch 89/100\n",
            "28/28 - 0s - loss: 0.1786 - val_loss: 0.3309\n",
            "Epoch 90/100\n",
            "28/28 - 0s - loss: 0.1617 - val_loss: 0.3573\n",
            "Epoch 91/100\n",
            "28/28 - 0s - loss: 0.1684 - val_loss: 0.3134\n",
            "Epoch 92/100\n",
            "28/28 - 0s - loss: 0.1747 - val_loss: 0.3579\n",
            "Epoch 93/100\n",
            "28/28 - 0s - loss: 0.1728 - val_loss: 0.3010\n",
            "Epoch 94/100\n",
            "28/28 - 0s - loss: 0.1717 - val_loss: 0.3694\n",
            "Epoch 95/100\n",
            "28/28 - 0s - loss: 0.1410 - val_loss: 0.2694\n",
            "Epoch 96/100\n",
            "28/28 - 0s - loss: 0.1650 - val_loss: 0.2708\n",
            "Epoch 97/100\n",
            "28/28 - 0s - loss: 0.1720 - val_loss: 0.3091\n",
            "Epoch 98/100\n",
            "28/28 - 0s - loss: 0.1710 - val_loss: 0.2855\n",
            "Epoch 99/100\n",
            "28/28 - 0s - loss: 0.1468 - val_loss: 0.2714\n",
            "Epoch 100/100\n",
            "28/28 - 0s - loss: 0.1728 - val_loss: 0.3138\n"
          ],
          "name": "stdout"
        }
      ]
    },
    {
      "cell_type": "code",
      "metadata": {
        "id": "RsyWpWHk0XUb",
        "colab_type": "code",
        "outputId": "26037c2f-5552-4533-8f09-8a95c87c5873",
        "colab": {
          "base_uri": "https://localhost:8080/",
          "height": 268
        }
      },
      "source": [
        "plt.plot(lstm_history.history['loss'], label='train')\n",
        "plt.plot(lstm_history.history['val_loss'], label='test')\n",
        "plt.legend()\n",
        "plt.show()"
      ],
      "execution_count": 65,
      "outputs": [
        {
          "output_type": "display_data",
          "data": {
            "image/png": "[encoded data removed]",
            "text/plain": [
              "<Figure size 432x288 with 1 Axes>"
            ]
          },
          "metadata": {
            "tags": [],
            "needs_background": "light"
          }
        }
      ]
    },
    {
      "cell_type": "markdown",
      "metadata": {
        "id": "6fFzvC_ctpoj",
        "colab_type": "text"
      },
      "source": [
        "###LSTM on train and validation"
      ]
    },
    {
      "cell_type": "code",
      "metadata": {
        "id": "62BBdQHltpzw",
        "colab_type": "code",
        "outputId": "58e84e9f-ba04-4cc5-a76e-818df3356368",
        "colab": {
          "base_uri": "https://localhost:8080/",
          "height": 51
        }
      },
      "source": [
        "lstm_train_pred = model_lstm.predict(X_train_series)\n",
        "lstm_valid_pred = model_cnn.predict(X_valid_series)\n",
        "print('Train rmse:', np.sqrt(mean_squared_error(Y_train, lstm_train_pred)))\n",
        "print('Validation rmse:', np.sqrt(mean_squared_error(Y_valid, lstm_valid_pred)))"
      ],
      "execution_count": 66,
      "outputs": [
        {
          "output_type": "stream",
          "text": [
            "Train rmse: 0.44317493\n",
            "Validation rmse: 0.87647724\n"
          ],
          "name": "stdout"
        }
      ]
    },
    {
      "cell_type": "markdown",
      "metadata": {
        "id": "QTPT33BGsgMb",
        "colab_type": "text"
      },
      "source": [
        "#CNN - LSTM for Time Series Forecasting"
      ]
    },
    {
      "cell_type": "code",
      "metadata": {
        "id": "SJvLkorBsNry",
        "colab_type": "code",
        "outputId": "d0ea600c-1bdb-4b2b-d148-3270f656b790",
        "colab": {
          "base_uri": "https://localhost:8080/",
          "height": 51
        }
      },
      "source": [
        "subsequences = 2\n",
        "timesteps = X_train_series.shape[1]//subsequences\n",
        "X_train_series_sub = X_train_series.reshape((X_train_series.shape[0], subsequences, timesteps, 1))\n",
        "X_valid_series_sub = X_valid_series.reshape((X_valid_series.shape[0], subsequences, timesteps, 1))\n",
        "print('Train set shape', X_train_series_sub.shape)\n",
        "print('Validation set shape', X_valid_series_sub.shape)"
      ],
      "execution_count": 67,
      "outputs": [
        {
          "output_type": "stream",
          "text": [
            "Train set shape (876, 2, 2, 1)\n",
            "Validation set shape (585, 2, 2, 1)\n"
          ],
          "name": "stdout"
        }
      ]
    },
    {
      "cell_type": "code",
      "metadata": {
        "id": "9_KePpA2sra1",
        "colab_type": "code",
        "outputId": "2b81d621-5409-4ae7-983c-6d9ae6b40343",
        "colab": {
          "base_uri": "https://localhost:8080/",
          "height": 34
        }
      },
      "source": [
        "model_cnn_lstm = tf.keras.Sequential()\n",
        "model_cnn_lstm.add(tf.keras.layers.TimeDistributed(tf.keras.layers.Conv1D(filters=64, kernel_size=1, activation='relu'), input_shape=(None, X_train_series_sub.shape[2], X_train_series_sub.shape[3])))\n",
        "model_cnn_lstm.add(tf.keras.layers.TimeDistributed(tf.keras.layers.MaxPooling1D(pool_size=2)))\n",
        "model_cnn_lstm.add(tf.keras.layers.TimeDistributed(tf.keras.layers.Flatten()))\n",
        "model_cnn_lstm.add(tf.keras.layers.LSTM(50, activation='relu'))\n",
        "model_cnn_lstm.add(tf.keras.layers.Dense(1))\n",
        "model_cnn_lstm.compile(loss='mse', optimizer='adam')"
      ],
      "execution_count": 68,
      "outputs": [
        {
          "output_type": "stream",
          "text": [
            "WARNING:tensorflow:Layer lstm_1 will not use cuDNN kernel since it doesn't meet the cuDNN kernel criteria. It will use generic GPU kernel as fallback when running on GPU\n"
          ],
          "name": "stdout"
        }
      ]
    },
    {
      "cell_type": "code",
      "metadata": {
        "id": "zQWUxuussrj7",
        "colab_type": "code",
        "outputId": "7bb1c7f9-43f8-4a2e-b1f7-ac782b6caf6f",
        "colab": {
          "base_uri": "https://localhost:8080/",
          "height": 1000
        }
      },
      "source": [
        "cnn_lstm_history = model_cnn_lstm.fit(X_train_series_sub, Y_train, validation_data=(X_valid_series_sub, Y_valid), epochs=epochs, verbose=2)"
      ],
      "execution_count": 69,
      "outputs": [
        {
          "output_type": "stream",
          "text": [
            "Epoch 1/100\n",
            "28/28 - 0s - loss: 50.1140 - val_loss: 1.4576\n",
            "Epoch 2/100\n",
            "28/28 - 0s - loss: 2.6024 - val_loss: 1.4008\n",
            "Epoch 3/100\n",
            "28/28 - 0s - loss: 1.3884 - val_loss: 1.1236\n",
            "Epoch 4/100\n",
            "28/28 - 0s - loss: 1.1028 - val_loss: 0.8878\n",
            "Epoch 5/100\n",
            "28/28 - 0s - loss: 0.8380 - val_loss: 0.6844\n",
            "Epoch 6/100\n",
            "28/28 - 0s - loss: 0.6477 - val_loss: 0.7283\n",
            "Epoch 7/100\n",
            "28/28 - 0s - loss: 0.5343 - val_loss: 0.5135\n",
            "Epoch 8/100\n",
            "28/28 - 0s - loss: 0.4724 - val_loss: 0.4917\n",
            "Epoch 9/100\n",
            "28/28 - 0s - loss: 0.4553 - val_loss: 0.4945\n",
            "Epoch 10/100\n",
            "28/28 - 0s - loss: 0.4492 - val_loss: 0.4787\n",
            "Epoch 11/100\n",
            "28/28 - 0s - loss: 0.4296 - val_loss: 0.4755\n",
            "Epoch 12/100\n",
            "28/28 - 0s - loss: 0.4273 - val_loss: 0.4968\n",
            "Epoch 13/100\n",
            "28/28 - 0s - loss: 0.4364 - val_loss: 0.5134\n",
            "Epoch 14/100\n",
            "28/28 - 0s - loss: 0.4309 - val_loss: 0.4888\n",
            "Epoch 15/100\n",
            "28/28 - 0s - loss: 0.4203 - val_loss: 0.4574\n",
            "Epoch 16/100\n",
            "28/28 - 0s - loss: 0.4087 - val_loss: 0.4696\n",
            "Epoch 17/100\n",
            "28/28 - 0s - loss: 0.4194 - val_loss: 0.4708\n",
            "Epoch 18/100\n",
            "28/28 - 0s - loss: 0.4254 - val_loss: 0.4640\n",
            "Epoch 19/100\n",
            "28/28 - 0s - loss: 0.4179 - val_loss: 0.4803\n",
            "Epoch 20/100\n",
            "28/28 - 0s - loss: 0.4232 - val_loss: 0.4756\n",
            "Epoch 21/100\n",
            "28/28 - 0s - loss: 0.4141 - val_loss: 0.4931\n",
            "Epoch 22/100\n",
            "28/28 - 0s - loss: 0.4523 - val_loss: 0.4656\n",
            "Epoch 23/100\n",
            "28/28 - 0s - loss: 0.4410 - val_loss: 0.4708\n",
            "Epoch 24/100\n",
            "28/28 - 0s - loss: 0.4027 - val_loss: 0.5050\n",
            "Epoch 25/100\n",
            "28/28 - 0s - loss: 0.4308 - val_loss: 0.4829\n",
            "Epoch 26/100\n",
            "28/28 - 0s - loss: 0.4294 - val_loss: 0.6680\n",
            "Epoch 27/100\n",
            "28/28 - 0s - loss: 0.4779 - val_loss: 0.4711\n",
            "Epoch 28/100\n",
            "28/28 - 0s - loss: 0.4477 - val_loss: 0.4860\n",
            "Epoch 29/100\n",
            "28/28 - 0s - loss: 0.4238 - val_loss: 0.4612\n",
            "Epoch 30/100\n",
            "28/28 - 0s - loss: 0.4436 - val_loss: 0.5306\n",
            "Epoch 31/100\n",
            "28/28 - 0s - loss: 0.4244 - val_loss: 0.4851\n",
            "Epoch 32/100\n",
            "28/28 - 0s - loss: 0.4090 - val_loss: 0.4652\n",
            "Epoch 33/100\n",
            "28/28 - 0s - loss: 0.4205 - val_loss: 0.4601\n",
            "Epoch 34/100\n",
            "28/28 - 0s - loss: 0.4258 - val_loss: 0.4729\n",
            "Epoch 35/100\n",
            "28/28 - 0s - loss: 0.4614 - val_loss: 0.4856\n",
            "Epoch 36/100\n",
            "28/28 - 0s - loss: 0.4462 - val_loss: 0.4675\n",
            "Epoch 37/100\n",
            "28/28 - 0s - loss: 0.4643 - val_loss: 0.6179\n",
            "Epoch 38/100\n",
            "28/28 - 0s - loss: 0.4341 - val_loss: 0.5356\n",
            "Epoch 39/100\n",
            "28/28 - 0s - loss: 0.4465 - val_loss: 0.4690\n",
            "Epoch 40/100\n",
            "28/28 - 0s - loss: 0.4237 - val_loss: 0.4827\n",
            "Epoch 41/100\n",
            "28/28 - 0s - loss: 0.4315 - val_loss: 0.4862\n",
            "Epoch 42/100\n",
            "28/28 - 0s - loss: 0.4229 - val_loss: 0.4765\n",
            "Epoch 43/100\n",
            "28/28 - 0s - loss: 0.4217 - val_loss: 0.4728\n",
            "Epoch 44/100\n",
            "28/28 - 0s - loss: 0.4465 - val_loss: 0.4728\n",
            "Epoch 45/100\n",
            "28/28 - 0s - loss: 0.4206 - val_loss: 0.4631\n",
            "Epoch 46/100\n",
            "28/28 - 0s - loss: 0.4111 - val_loss: 0.4666\n",
            "Epoch 47/100\n",
            "28/28 - 0s - loss: 0.4258 - val_loss: 0.4901\n",
            "Epoch 48/100\n",
            "28/28 - 0s - loss: 0.4324 - val_loss: 0.4581\n",
            "Epoch 49/100\n",
            "28/28 - 0s - loss: 0.4428 - val_loss: 0.4730\n",
            "Epoch 50/100\n",
            "28/28 - 0s - loss: 0.4289 - val_loss: 0.4576\n",
            "Epoch 51/100\n",
            "28/28 - 0s - loss: 0.4718 - val_loss: 0.4803\n",
            "Epoch 52/100\n",
            "28/28 - 0s - loss: 0.4132 - val_loss: 0.4565\n",
            "Epoch 53/100\n",
            "28/28 - 0s - loss: 0.4321 - val_loss: 0.4823\n",
            "Epoch 54/100\n",
            "28/28 - 0s - loss: 0.4308 - val_loss: 0.4666\n",
            "Epoch 55/100\n",
            "28/28 - 0s - loss: 0.4573 - val_loss: 0.4695\n",
            "Epoch 56/100\n",
            "28/28 - 0s - loss: 0.4242 - val_loss: 0.4734\n",
            "Epoch 57/100\n",
            "28/28 - 0s - loss: 0.4821 - val_loss: 0.4626\n",
            "Epoch 58/100\n",
            "28/28 - 0s - loss: 0.4487 - val_loss: 0.4615\n",
            "Epoch 59/100\n",
            "28/28 - 0s - loss: 0.4047 - val_loss: 0.4621\n",
            "Epoch 60/100\n",
            "28/28 - 0s - loss: 0.4200 - val_loss: 0.4723\n",
            "Epoch 61/100\n",
            "28/28 - 0s - loss: 0.4468 - val_loss: 0.5264\n",
            "Epoch 62/100\n",
            "28/28 - 0s - loss: 0.4234 - val_loss: 0.4832\n",
            "Epoch 63/100\n",
            "28/28 - 0s - loss: 0.4480 - val_loss: 0.4742\n",
            "Epoch 64/100\n",
            "28/28 - 0s - loss: 0.4169 - val_loss: 0.6535\n",
            "Epoch 65/100\n",
            "28/28 - 0s - loss: 0.5170 - val_loss: 0.6496\n",
            "Epoch 66/100\n",
            "28/28 - 0s - loss: 0.4195 - val_loss: 0.5226\n",
            "Epoch 67/100\n",
            "28/28 - 0s - loss: 0.5357 - val_loss: 0.4754\n",
            "Epoch 68/100\n",
            "28/28 - 0s - loss: 0.4483 - val_loss: 0.4783\n",
            "Epoch 69/100\n",
            "28/28 - 0s - loss: 0.4676 - val_loss: 0.4858\n",
            "Epoch 70/100\n",
            "28/28 - 0s - loss: 0.4258 - val_loss: 0.4621\n",
            "Epoch 71/100\n",
            "28/28 - 0s - loss: 0.4169 - val_loss: 0.6689\n",
            "Epoch 72/100\n",
            "28/28 - 0s - loss: 0.5098 - val_loss: 0.4650\n",
            "Epoch 73/100\n",
            "28/28 - 0s - loss: 0.4269 - val_loss: 0.4722\n",
            "Epoch 74/100\n",
            "28/28 - 0s - loss: 0.4391 - val_loss: 0.4925\n",
            "Epoch 75/100\n",
            "28/28 - 0s - loss: 0.4447 - val_loss: 0.9224\n",
            "Epoch 76/100\n",
            "28/28 - 0s - loss: 0.5129 - val_loss: 0.4612\n",
            "Epoch 77/100\n",
            "28/28 - 0s - loss: 0.4288 - val_loss: 0.4633\n",
            "Epoch 78/100\n",
            "28/28 - 0s - loss: 0.4338 - val_loss: 0.4615\n",
            "Epoch 79/100\n",
            "28/28 - 0s - loss: 0.4205 - val_loss: 0.4577\n",
            "Epoch 80/100\n",
            "28/28 - 0s - loss: 0.4430 - val_loss: 0.4675\n",
            "Epoch 81/100\n",
            "28/28 - 0s - loss: 0.4119 - val_loss: 0.4722\n",
            "Epoch 82/100\n",
            "28/28 - 0s - loss: 0.4194 - val_loss: 0.4908\n",
            "Epoch 83/100\n",
            "28/28 - 0s - loss: 0.4609 - val_loss: 0.4894\n",
            "Epoch 84/100\n",
            "28/28 - 0s - loss: 0.4247 - val_loss: 0.4850\n",
            "Epoch 85/100\n",
            "28/28 - 0s - loss: 0.4310 - val_loss: 0.6235\n",
            "Epoch 86/100\n",
            "28/28 - 0s - loss: 0.4336 - val_loss: 0.4802\n",
            "Epoch 87/100\n",
            "28/28 - 0s - loss: 0.4627 - val_loss: 0.5348\n",
            "Epoch 88/100\n",
            "28/28 - 0s - loss: 0.4444 - val_loss: 0.4907\n",
            "Epoch 89/100\n",
            "28/28 - 0s - loss: 0.4215 - val_loss: 0.4900\n",
            "Epoch 90/100\n",
            "28/28 - 0s - loss: 0.4256 - val_loss: 0.4720\n",
            "Epoch 91/100\n",
            "28/28 - 0s - loss: 0.4185 - val_loss: 0.4553\n",
            "Epoch 92/100\n",
            "28/28 - 0s - loss: 0.4675 - val_loss: 0.5054\n",
            "Epoch 93/100\n",
            "28/28 - 0s - loss: 0.4778 - val_loss: 0.4622\n",
            "Epoch 94/100\n",
            "28/28 - 0s - loss: 0.4366 - val_loss: 0.4615\n",
            "Epoch 95/100\n",
            "28/28 - 0s - loss: 0.4517 - val_loss: 0.4817\n",
            "Epoch 96/100\n",
            "28/28 - 0s - loss: 0.4432 - val_loss: 0.5470\n",
            "Epoch 97/100\n",
            "28/28 - 0s - loss: 0.4548 - val_loss: 0.4745\n",
            "Epoch 98/100\n",
            "28/28 - 0s - loss: 0.4244 - val_loss: 0.4578\n",
            "Epoch 99/100\n",
            "28/28 - 0s - loss: 0.4244 - val_loss: 0.7568\n",
            "Epoch 100/100\n",
            "28/28 - 0s - loss: 0.4498 - val_loss: 0.4643\n"
          ],
          "name": "stdout"
        }
      ]
    },
    {
      "cell_type": "code",
      "metadata": {
        "id": "VB4sQVou0cpX",
        "colab_type": "code",
        "outputId": "4e53dee4-4b28-4ece-f7af-36dcc5c50275",
        "colab": {
          "base_uri": "https://localhost:8080/",
          "height": 268
        }
      },
      "source": [
        "plt.plot(cnn_lstm_history.history['loss'], label='train')\n",
        "plt.plot(cnn_lstm_history.history['val_loss'], label='test')\n",
        "plt.legend()\n",
        "plt.show()"
      ],
      "execution_count": 70,
      "outputs": [
        {
          "output_type": "display_data",
          "data": {
            "image/png": "[encoded data removed]",
            "text/plain": [
              "<Figure size 432x288 with 1 Axes>"
            ]
          },
          "metadata": {
            "tags": [],
            "needs_background": "light"
          }
        }
      ]
    },
    {
      "cell_type": "markdown",
      "metadata": {
        "id": "j4MJ4IIktz9b",
        "colab_type": "text"
      },
      "source": [
        "###CNN-LSTM on train and validation"
      ]
    },
    {
      "cell_type": "code",
      "metadata": {
        "id": "0U3iABzEt0E-",
        "colab_type": "code",
        "outputId": "03ce3495-4949-4371-a51c-c845ae408c34",
        "colab": {
          "base_uri": "https://localhost:8080/",
          "height": 51
        }
      },
      "source": [
        "cnn_lstm_train_pred = model_cnn_lstm.predict(X_train_series_sub)\n",
        "cnn_lstm_valid_pred = model_cnn_lstm.predict(X_valid_series_sub)\n",
        "print('Train rmse:', np.sqrt(mean_squared_error(Y_train, cnn_lstm_train_pred)))\n",
        "print('Validation rmse:', np.sqrt(mean_squared_error(Y_valid, cnn_lstm_valid_pred)))"
      ],
      "execution_count": 71,
      "outputs": [
        {
          "output_type": "stream",
          "text": [
            "Train rmse: 0.63916224\n",
            "Validation rmse: 0.6834458\n"
          ],
          "name": "stdout"
        }
      ]
    },
    {
      "cell_type": "markdown",
      "metadata": {
        "id": "-Qf5msZZtIAJ",
        "colab_type": "text"
      },
      "source": [
        "#Comparing models"
      ]
    },
    {
      "cell_type": "code",
      "metadata": {
        "id": "DNsxUUhytJqj",
        "colab_type": "code",
        "outputId": "a0b66179-28d8-4c78-96ae-135c7b3fe927",
        "colab": {
          "base_uri": "https://localhost:8080/",
          "height": 736
        }
      },
      "source": [
        "fig, axes = plt.subplots(2, 2, sharex=True, sharey=True,figsize=(22,12))\n",
        "ax1, ax2 = axes[0]\n",
        "ax3, ax4 = axes[1]\n",
        "\n",
        "ax1.plot(mlp_history.history['loss'], label='Train loss')\n",
        "ax1.plot(mlp_history.history['val_loss'], label='Validation loss')\n",
        "ax1.legend(loc='best')\n",
        "ax1.set_title('MLP')\n",
        "ax1.set_xlabel('Epochs')\n",
        "ax1.set_ylabel('MSE')\n",
        "\n",
        "ax2.plot(cnn_history.history['loss'], label='Train loss')\n",
        "ax2.plot(cnn_history.history['val_loss'], label='Validation loss')\n",
        "ax2.legend(loc='best')\n",
        "ax2.set_title('CNN')\n",
        "ax2.set_xlabel('Epochs')\n",
        "ax2.set_ylabel('MSE')\n",
        "\n",
        "ax3.plot(lstm_history.history['loss'], label='Train loss')\n",
        "ax3.plot(lstm_history.history['val_loss'], label='Validation loss')\n",
        "ax3.legend(loc='best')\n",
        "ax3.set_title('LSTM')\n",
        "ax3.set_xlabel('Epochs')\n",
        "ax3.set_ylabel('MSE')\n",
        "\n",
        "ax4.plot(cnn_lstm_history.history['loss'], label='Train loss')\n",
        "ax4.plot(cnn_lstm_history.history['val_loss'], label='Validation loss')\n",
        "ax4.legend(loc='best')\n",
        "ax4.set_title('CNN-LSTM')\n",
        "ax4.set_xlabel('Epochs')\n",
        "ax4.set_ylabel('MSE')\n",
        "\n",
        "plt.show()"
      ],
      "execution_count": 72,
      "outputs": [
        {
          "output_type": "display_data",
          "data": {
            "image/png": "[encoded data removed]",
            "text/plain": [
              "<Figure size 1584x864 with 4 Axes>"
            ]
          },
          "metadata": {
            "tags": [],
            "needs_background": "light"
          }
        }
      ]
    }
  ]
}