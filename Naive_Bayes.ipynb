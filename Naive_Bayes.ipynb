{
  "nbformat": 4,
  "nbformat_minor": 0,
  "metadata": {
    "colab": {
      "name": "Naive_Bayes.ipynb",
      "provenance": [],
      "collapsed_sections": [],
      "include_colab_link": true
    },
    "kernelspec": {
      "name": "python3",
      "display_name": "Python 3"
    },
    "accelerator": "GPU"
  },
  "cells": [
    {
      "cell_type": "markdown",
      "metadata": {
        "id": "view-in-github",
        "colab_type": "text"
      },
      "source": [
        "<a href=\"https://colab.research.google.com/github/Ranjani94/Machine_Learning/blob/master/Naive_Bayes.ipynb\" target=\"_parent\"><img src=\"https://colab.research.google.com/assets/colab-badge.svg\" alt=\"Open In Colab\"/></a>"
      ]
    },
    {
      "cell_type": "markdown",
      "metadata": {
        "id": "DoBspyhd1YTA",
        "colab_type": "text"
      },
      "source": [
        "# Data collection, Cleaning, Amalgamation"
      ]
    },
    {
      "cell_type": "markdown",
      "metadata": {
        "id": "bQBH9nsrmnoA",
        "colab_type": "text"
      },
      "source": [
        "### Mounting drive"
      ]
    },
    {
      "cell_type": "code",
      "metadata": {
        "id": "LmhQCgyy3y4a",
        "colab_type": "code",
        "outputId": "0493ba76-9cee-4949-d54c-577e638ec5b2",
        "colab": {
          "base_uri": "https://localhost:8080/",
          "height": 124
        }
      },
      "source": [
        "from google.colab import drive\n",
        "drive.mount('/content/gdrive', force_remount=True)\n",
        "root_dir = \"/content/gdrive/My Drive/MLSpring2020/\"\n",
        "base_dir = root_dir + 'the_expendables_AirQuality_Traffic'"
      ],
      "execution_count": 0,
      "outputs": [
        {
          "output_type": "stream",
          "text": [
            "Go to this URL in a browser: https://accounts.google.com/o/oauth2/auth?client_id=947318989803-6bn6qk8qdgf4n4g3pfee6491hc0brc4i.apps.googleusercontent.com&redirect_uri=urn%3aietf%3awg%3aoauth%3a2.0%3aoob&response_type=code&scope=email%20https%3a%2f%2fwww.googleapis.com%2fauth%2fdocs.test%20https%3a%2f%2fwww.googleapis.com%2fauth%2fdrive%20https%3a%2f%2fwww.googleapis.com%2fauth%2fdrive.photos.readonly%20https%3a%2f%2fwww.googleapis.com%2fauth%2fpeopleapi.readonly\n",
            "\n",
            "Enter your authorization code:\n",
            "··········\n",
            "Mounted at /content/gdrive\n"
          ],
          "name": "stdout"
        }
      ]
    },
    {
      "cell_type": "markdown",
      "metadata": {
        "id": "k2BeaZyfmtGe",
        "colab_type": "text"
      },
      "source": [
        "### File path and data frames\n"
      ]
    },
    {
      "cell_type": "code",
      "metadata": {
        "id": "9EM4rDhW39dd",
        "colab_type": "code",
        "colab": {}
      },
      "source": [
        "aqiFilePath = base_dir + '/aqidaily_2016_to_2019.csv'\n",
        "weatherFilePath = base_dir + '/bakersfield_weather_2016_to_2019.csv'"
      ],
      "execution_count": 0,
      "outputs": []
    },
    {
      "cell_type": "code",
      "metadata": {
        "id": "u_blyOBW473u",
        "colab_type": "code",
        "colab": {}
      },
      "source": [
        "import pandas as pd\n",
        "import numpy as np"
      ],
      "execution_count": 0,
      "outputs": []
    },
    {
      "cell_type": "code",
      "metadata": {
        "id": "xmcGlwql4-1g",
        "colab_type": "code",
        "colab": {}
      },
      "source": [
        "aqiDataFrame = pd.read_csv(aqiFilePath)\n",
        "weatherDataFrame = pd.read_csv(weatherFilePath)"
      ],
      "execution_count": 0,
      "outputs": []
    },
    {
      "cell_type": "code",
      "metadata": {
        "id": "ll5TFwfO5IXh",
        "colab_type": "code",
        "outputId": "d248bdff-22d5-4ef6-c0be-de0fe6217db4",
        "colab": {
          "base_uri": "https://localhost:8080/",
          "height": 112
        }
      },
      "source": [
        "aqiDataFrame.head(2)"
      ],
      "execution_count": 0,
      "outputs": [
        {
          "output_type": "execute_result",
          "data": {
            "text/html": [
              "<div>\n",
              "<style scoped>\n",
              "    .dataframe tbody tr th:only-of-type {\n",
              "        vertical-align: middle;\n",
              "    }\n",
              "\n",
              "    .dataframe tbody tr th {\n",
              "        vertical-align: top;\n",
              "    }\n",
              "\n",
              "    .dataframe thead th {\n",
              "        text-align: right;\n",
              "    }\n",
              "</style>\n",
              "<table border=\"1\" class=\"dataframe\">\n",
              "  <thead>\n",
              "    <tr style=\"text-align: right;\">\n",
              "      <th></th>\n",
              "      <th>Date</th>\n",
              "      <th>Overall AQI Value</th>\n",
              "      <th>Main Pollutant</th>\n",
              "      <th>Site Name (of Overall AQI)</th>\n",
              "      <th>Site ID (of Overall AQI)</th>\n",
              "      <th>Source (of Overall AQI)</th>\n",
              "      <th>CO</th>\n",
              "      <th>Ozone</th>\n",
              "      <th>PM10</th>\n",
              "      <th>PM25</th>\n",
              "      <th>NO2</th>\n",
              "    </tr>\n",
              "  </thead>\n",
              "  <tbody>\n",
              "    <tr>\n",
              "      <th>0</th>\n",
              "      <td>1/1/16</td>\n",
              "      <td>148</td>\n",
              "      <td>PM2.5</td>\n",
              "      <td>Bakersfield-California</td>\n",
              "      <td>06-029-0014</td>\n",
              "      <td>AQS</td>\n",
              "      <td>8</td>\n",
              "      <td>37</td>\n",
              "      <td>52</td>\n",
              "      <td>148</td>\n",
              "      <td>23</td>\n",
              "    </tr>\n",
              "    <tr>\n",
              "      <th>1</th>\n",
              "      <td>1/2/16</td>\n",
              "      <td>113</td>\n",
              "      <td>PM2.5</td>\n",
              "      <td>Bakersfield-California</td>\n",
              "      <td>06-029-0014</td>\n",
              "      <td>AQS</td>\n",
              "      <td>7</td>\n",
              "      <td>37</td>\n",
              "      <td>14</td>\n",
              "      <td>113</td>\n",
              "      <td>25</td>\n",
              "    </tr>\n",
              "  </tbody>\n",
              "</table>\n",
              "</div>"
            ],
            "text/plain": [
              "     Date  Overall AQI Value Main Pollutant  ... PM10 PM25 NO2\n",
              "0  1/1/16                148          PM2.5  ...   52  148  23\n",
              "1  1/2/16                113          PM2.5  ...   14  113  25\n",
              "\n",
              "[2 rows x 11 columns]"
            ]
          },
          "metadata": {
            "tags": []
          },
          "execution_count": 5
        }
      ]
    },
    {
      "cell_type": "code",
      "metadata": {
        "id": "6gtNr8VK5p8x",
        "colab_type": "code",
        "outputId": "38983ebc-767a-472e-faee-34b4d32452be",
        "colab": {
          "base_uri": "https://localhost:8080/",
          "height": 112
        }
      },
      "source": [
        "weatherDataFrame.head(2)"
      ],
      "execution_count": 0,
      "outputs": [
        {
          "output_type": "execute_result",
          "data": {
            "text/html": [
              "<div>\n",
              "<style scoped>\n",
              "    .dataframe tbody tr th:only-of-type {\n",
              "        vertical-align: middle;\n",
              "    }\n",
              "\n",
              "    .dataframe tbody tr th {\n",
              "        vertical-align: top;\n",
              "    }\n",
              "\n",
              "    .dataframe thead th {\n",
              "        text-align: right;\n",
              "    }\n",
              "</style>\n",
              "<table border=\"1\" class=\"dataframe\">\n",
              "  <thead>\n",
              "    <tr style=\"text-align: right;\">\n",
              "      <th></th>\n",
              "      <th>date</th>\n",
              "      <th>temperature</th>\n",
              "      <th>temperature_min</th>\n",
              "      <th>temperature_max</th>\n",
              "      <th>precipitation</th>\n",
              "      <th>snowfall</th>\n",
              "      <th>snowdepth</th>\n",
              "      <th>winddirection</th>\n",
              "      <th>windspeed</th>\n",
              "      <th>peakgust</th>\n",
              "      <th>sunshine</th>\n",
              "      <th>pressure</th>\n",
              "    </tr>\n",
              "  </thead>\n",
              "  <tbody>\n",
              "    <tr>\n",
              "      <th>0</th>\n",
              "      <td>2016-01-01</td>\n",
              "      <td>4.4</td>\n",
              "      <td>-2.7</td>\n",
              "      <td>12.8</td>\n",
              "      <td>0.0</td>\n",
              "      <td>NaN</td>\n",
              "      <td>NaN</td>\n",
              "      <td>NaN</td>\n",
              "      <td>6.5</td>\n",
              "      <td>NaN</td>\n",
              "      <td>NaN</td>\n",
              "      <td>1020.3</td>\n",
              "    </tr>\n",
              "    <tr>\n",
              "      <th>1</th>\n",
              "      <td>2016-01-02</td>\n",
              "      <td>7.1</td>\n",
              "      <td>1.1</td>\n",
              "      <td>13.9</td>\n",
              "      <td>0.0</td>\n",
              "      <td>NaN</td>\n",
              "      <td>NaN</td>\n",
              "      <td>NaN</td>\n",
              "      <td>3.6</td>\n",
              "      <td>NaN</td>\n",
              "      <td>NaN</td>\n",
              "      <td>1017.9</td>\n",
              "    </tr>\n",
              "  </tbody>\n",
              "</table>\n",
              "</div>"
            ],
            "text/plain": [
              "         date  temperature  temperature_min  ...  peakgust  sunshine  pressure\n",
              "0  2016-01-01          4.4             -2.7  ...       NaN       NaN    1020.3\n",
              "1  2016-01-02          7.1              1.1  ...       NaN       NaN    1017.9\n",
              "\n",
              "[2 rows x 12 columns]"
            ]
          },
          "metadata": {
            "tags": []
          },
          "execution_count": 6
        }
      ]
    },
    {
      "cell_type": "markdown",
      "metadata": {
        "id": "PNCmej8sm3e3",
        "colab_type": "text"
      },
      "source": [
        "### Column names to lower case"
      ]
    },
    {
      "cell_type": "code",
      "metadata": {
        "id": "I2Jf20hX53-F",
        "colab_type": "code",
        "outputId": "016fea37-bd40-45a4-8ad5-7a0f56c0f2b6",
        "colab": {
          "base_uri": "https://localhost:8080/",
          "height": 86
        }
      },
      "source": [
        "aqiDataFrame.columns = map(str.lower, aqiDataFrame.columns)\n",
        "aqiDataFrame.columns"
      ],
      "execution_count": 0,
      "outputs": [
        {
          "output_type": "execute_result",
          "data": {
            "text/plain": [
              "Index(['date', 'overall aqi value', 'main pollutant',\n",
              "       'site name (of overall aqi)', 'site id (of overall aqi)',\n",
              "       'source (of overall aqi)', 'co', 'ozone', 'pm10', 'pm25', 'no2'],\n",
              "      dtype='object')"
            ]
          },
          "metadata": {
            "tags": []
          },
          "execution_count": 7
        }
      ]
    },
    {
      "cell_type": "markdown",
      "metadata": {
        "id": "2oDXk75Qm8Sj",
        "colab_type": "text"
      },
      "source": [
        "### Common date format"
      ]
    },
    {
      "cell_type": "code",
      "metadata": {
        "id": "WWjR1ThQ7yRl",
        "colab_type": "code",
        "colab": {}
      },
      "source": [
        "aqiDataFrame['date'] = pd.to_datetime(aqiDataFrame['date']).dt.strftime('%m/%d/%Y')\n",
        "weatherDataFrame['date'] = pd.to_datetime(weatherDataFrame['date']).dt.strftime('%m/%d/%Y')"
      ],
      "execution_count": 0,
      "outputs": []
    },
    {
      "cell_type": "code",
      "metadata": {
        "id": "5c2KbHPK8HVU",
        "colab_type": "code",
        "outputId": "a945179f-2c4c-4af2-9d83-7c72fbc33c0b",
        "colab": {
          "base_uri": "https://localhost:8080/",
          "height": 112
        }
      },
      "source": [
        "aqiDataFrame.head(2)"
      ],
      "execution_count": 0,
      "outputs": [
        {
          "output_type": "execute_result",
          "data": {
            "text/html": [
              "<div>\n",
              "<style scoped>\n",
              "    .dataframe tbody tr th:only-of-type {\n",
              "        vertical-align: middle;\n",
              "    }\n",
              "\n",
              "    .dataframe tbody tr th {\n",
              "        vertical-align: top;\n",
              "    }\n",
              "\n",
              "    .dataframe thead th {\n",
              "        text-align: right;\n",
              "    }\n",
              "</style>\n",
              "<table border=\"1\" class=\"dataframe\">\n",
              "  <thead>\n",
              "    <tr style=\"text-align: right;\">\n",
              "      <th></th>\n",
              "      <th>date</th>\n",
              "      <th>overall aqi value</th>\n",
              "      <th>main pollutant</th>\n",
              "      <th>site name (of overall aqi)</th>\n",
              "      <th>site id (of overall aqi)</th>\n",
              "      <th>source (of overall aqi)</th>\n",
              "      <th>co</th>\n",
              "      <th>ozone</th>\n",
              "      <th>pm10</th>\n",
              "      <th>pm25</th>\n",
              "      <th>no2</th>\n",
              "    </tr>\n",
              "  </thead>\n",
              "  <tbody>\n",
              "    <tr>\n",
              "      <th>0</th>\n",
              "      <td>01/01/2016</td>\n",
              "      <td>148</td>\n",
              "      <td>PM2.5</td>\n",
              "      <td>Bakersfield-California</td>\n",
              "      <td>06-029-0014</td>\n",
              "      <td>AQS</td>\n",
              "      <td>8</td>\n",
              "      <td>37</td>\n",
              "      <td>52</td>\n",
              "      <td>148</td>\n",
              "      <td>23</td>\n",
              "    </tr>\n",
              "    <tr>\n",
              "      <th>1</th>\n",
              "      <td>01/02/2016</td>\n",
              "      <td>113</td>\n",
              "      <td>PM2.5</td>\n",
              "      <td>Bakersfield-California</td>\n",
              "      <td>06-029-0014</td>\n",
              "      <td>AQS</td>\n",
              "      <td>7</td>\n",
              "      <td>37</td>\n",
              "      <td>14</td>\n",
              "      <td>113</td>\n",
              "      <td>25</td>\n",
              "    </tr>\n",
              "  </tbody>\n",
              "</table>\n",
              "</div>"
            ],
            "text/plain": [
              "         date  overall aqi value main pollutant  ... pm10 pm25 no2\n",
              "0  01/01/2016                148          PM2.5  ...   52  148  23\n",
              "1  01/02/2016                113          PM2.5  ...   14  113  25\n",
              "\n",
              "[2 rows x 11 columns]"
            ]
          },
          "metadata": {
            "tags": []
          },
          "execution_count": 9
        }
      ]
    },
    {
      "cell_type": "code",
      "metadata": {
        "id": "Z6J0fC7F8Ppd",
        "colab_type": "code",
        "outputId": "8d7f2058-1028-46a7-a381-8fd9042d3c5e",
        "colab": {
          "base_uri": "https://localhost:8080/",
          "height": 112
        }
      },
      "source": [
        "weatherDataFrame.head(2)"
      ],
      "execution_count": 0,
      "outputs": [
        {
          "output_type": "execute_result",
          "data": {
            "text/html": [
              "<div>\n",
              "<style scoped>\n",
              "    .dataframe tbody tr th:only-of-type {\n",
              "        vertical-align: middle;\n",
              "    }\n",
              "\n",
              "    .dataframe tbody tr th {\n",
              "        vertical-align: top;\n",
              "    }\n",
              "\n",
              "    .dataframe thead th {\n",
              "        text-align: right;\n",
              "    }\n",
              "</style>\n",
              "<table border=\"1\" class=\"dataframe\">\n",
              "  <thead>\n",
              "    <tr style=\"text-align: right;\">\n",
              "      <th></th>\n",
              "      <th>date</th>\n",
              "      <th>temperature</th>\n",
              "      <th>temperature_min</th>\n",
              "      <th>temperature_max</th>\n",
              "      <th>precipitation</th>\n",
              "      <th>snowfall</th>\n",
              "      <th>snowdepth</th>\n",
              "      <th>winddirection</th>\n",
              "      <th>windspeed</th>\n",
              "      <th>peakgust</th>\n",
              "      <th>sunshine</th>\n",
              "      <th>pressure</th>\n",
              "    </tr>\n",
              "  </thead>\n",
              "  <tbody>\n",
              "    <tr>\n",
              "      <th>0</th>\n",
              "      <td>01/01/2016</td>\n",
              "      <td>4.4</td>\n",
              "      <td>-2.7</td>\n",
              "      <td>12.8</td>\n",
              "      <td>0.0</td>\n",
              "      <td>NaN</td>\n",
              "      <td>NaN</td>\n",
              "      <td>NaN</td>\n",
              "      <td>6.5</td>\n",
              "      <td>NaN</td>\n",
              "      <td>NaN</td>\n",
              "      <td>1020.3</td>\n",
              "    </tr>\n",
              "    <tr>\n",
              "      <th>1</th>\n",
              "      <td>01/02/2016</td>\n",
              "      <td>7.1</td>\n",
              "      <td>1.1</td>\n",
              "      <td>13.9</td>\n",
              "      <td>0.0</td>\n",
              "      <td>NaN</td>\n",
              "      <td>NaN</td>\n",
              "      <td>NaN</td>\n",
              "      <td>3.6</td>\n",
              "      <td>NaN</td>\n",
              "      <td>NaN</td>\n",
              "      <td>1017.9</td>\n",
              "    </tr>\n",
              "  </tbody>\n",
              "</table>\n",
              "</div>"
            ],
            "text/plain": [
              "         date  temperature  temperature_min  ...  peakgust  sunshine  pressure\n",
              "0  01/01/2016          4.4             -2.7  ...       NaN       NaN    1020.3\n",
              "1  01/02/2016          7.1              1.1  ...       NaN       NaN    1017.9\n",
              "\n",
              "[2 rows x 12 columns]"
            ]
          },
          "metadata": {
            "tags": []
          },
          "execution_count": 10
        }
      ]
    },
    {
      "cell_type": "markdown",
      "metadata": {
        "id": "YjQLkPNVm_Uk",
        "colab_type": "text"
      },
      "source": [
        "### Merging the datasets"
      ]
    },
    {
      "cell_type": "code",
      "metadata": {
        "id": "aGPk72o15MjA",
        "colab_type": "code",
        "colab": {}
      },
      "source": [
        "df = pd.merge(aqiDataFrame, weatherDataFrame, on='date', how='inner')"
      ],
      "execution_count": 0,
      "outputs": []
    },
    {
      "cell_type": "code",
      "metadata": {
        "id": "SJfJ6tCI6Aax",
        "colab_type": "code",
        "outputId": "ad227582-15ba-47c4-a8e0-eb051249cf01",
        "colab": {
          "base_uri": "https://localhost:8080/",
          "height": 219
        }
      },
      "source": [
        "df.head(2)"
      ],
      "execution_count": 0,
      "outputs": [
        {
          "output_type": "execute_result",
          "data": {
            "text/html": [
              "<div>\n",
              "<style scoped>\n",
              "    .dataframe tbody tr th:only-of-type {\n",
              "        vertical-align: middle;\n",
              "    }\n",
              "\n",
              "    .dataframe tbody tr th {\n",
              "        vertical-align: top;\n",
              "    }\n",
              "\n",
              "    .dataframe thead th {\n",
              "        text-align: right;\n",
              "    }\n",
              "</style>\n",
              "<table border=\"1\" class=\"dataframe\">\n",
              "  <thead>\n",
              "    <tr style=\"text-align: right;\">\n",
              "      <th></th>\n",
              "      <th>date</th>\n",
              "      <th>overall aqi value</th>\n",
              "      <th>main pollutant</th>\n",
              "      <th>site name (of overall aqi)</th>\n",
              "      <th>site id (of overall aqi)</th>\n",
              "      <th>source (of overall aqi)</th>\n",
              "      <th>co</th>\n",
              "      <th>ozone</th>\n",
              "      <th>pm10</th>\n",
              "      <th>pm25</th>\n",
              "      <th>no2</th>\n",
              "      <th>temperature</th>\n",
              "      <th>temperature_min</th>\n",
              "      <th>temperature_max</th>\n",
              "      <th>precipitation</th>\n",
              "      <th>snowfall</th>\n",
              "      <th>snowdepth</th>\n",
              "      <th>winddirection</th>\n",
              "      <th>windspeed</th>\n",
              "      <th>peakgust</th>\n",
              "      <th>sunshine</th>\n",
              "      <th>pressure</th>\n",
              "    </tr>\n",
              "  </thead>\n",
              "  <tbody>\n",
              "    <tr>\n",
              "      <th>0</th>\n",
              "      <td>01/01/2016</td>\n",
              "      <td>148</td>\n",
              "      <td>PM2.5</td>\n",
              "      <td>Bakersfield-California</td>\n",
              "      <td>06-029-0014</td>\n",
              "      <td>AQS</td>\n",
              "      <td>8</td>\n",
              "      <td>37</td>\n",
              "      <td>52</td>\n",
              "      <td>148</td>\n",
              "      <td>23</td>\n",
              "      <td>4.4</td>\n",
              "      <td>-2.7</td>\n",
              "      <td>12.8</td>\n",
              "      <td>0.0</td>\n",
              "      <td>NaN</td>\n",
              "      <td>NaN</td>\n",
              "      <td>NaN</td>\n",
              "      <td>6.5</td>\n",
              "      <td>NaN</td>\n",
              "      <td>NaN</td>\n",
              "      <td>1020.3</td>\n",
              "    </tr>\n",
              "    <tr>\n",
              "      <th>1</th>\n",
              "      <td>01/02/2016</td>\n",
              "      <td>113</td>\n",
              "      <td>PM2.5</td>\n",
              "      <td>Bakersfield-California</td>\n",
              "      <td>06-029-0014</td>\n",
              "      <td>AQS</td>\n",
              "      <td>7</td>\n",
              "      <td>37</td>\n",
              "      <td>14</td>\n",
              "      <td>113</td>\n",
              "      <td>25</td>\n",
              "      <td>7.1</td>\n",
              "      <td>1.1</td>\n",
              "      <td>13.9</td>\n",
              "      <td>0.0</td>\n",
              "      <td>NaN</td>\n",
              "      <td>NaN</td>\n",
              "      <td>NaN</td>\n",
              "      <td>3.6</td>\n",
              "      <td>NaN</td>\n",
              "      <td>NaN</td>\n",
              "      <td>1017.9</td>\n",
              "    </tr>\n",
              "  </tbody>\n",
              "</table>\n",
              "</div>"
            ],
            "text/plain": [
              "         date  overall aqi value main pollutant  ... peakgust sunshine pressure\n",
              "0  01/01/2016                148          PM2.5  ...      NaN      NaN   1020.3\n",
              "1  01/02/2016                113          PM2.5  ...      NaN      NaN   1017.9\n",
              "\n",
              "[2 rows x 22 columns]"
            ]
          },
          "metadata": {
            "tags": []
          },
          "execution_count": 12
        }
      ]
    },
    {
      "cell_type": "markdown",
      "metadata": {
        "id": "RpIhReNUnEHI",
        "colab_type": "text"
      },
      "source": [
        "### Renaming column names"
      ]
    },
    {
      "cell_type": "code",
      "metadata": {
        "id": "oT7ly1A96FW9",
        "colab_type": "code",
        "colab": {}
      },
      "source": [
        "df.rename(columns = {'overall aqi value':'aqi', 'site name (of overall aqi)':'location', 'site id (of overall aqi)':'location id',\n",
        "                     'source (of overall aqi)' : 'aqi source'}, inplace = True) "
      ],
      "execution_count": 0,
      "outputs": []
    },
    {
      "cell_type": "code",
      "metadata": {
        "id": "5bUg9TWD9bZ7",
        "colab_type": "code",
        "outputId": "b3a9f46b-5c5b-405b-f8b6-660c98c0a0b3",
        "colab": {
          "base_uri": "https://localhost:8080/",
          "height": 184
        }
      },
      "source": [
        "df.head(2)"
      ],
      "execution_count": 0,
      "outputs": [
        {
          "output_type": "execute_result",
          "data": {
            "text/html": [
              "<div>\n",
              "<style scoped>\n",
              "    .dataframe tbody tr th:only-of-type {\n",
              "        vertical-align: middle;\n",
              "    }\n",
              "\n",
              "    .dataframe tbody tr th {\n",
              "        vertical-align: top;\n",
              "    }\n",
              "\n",
              "    .dataframe thead th {\n",
              "        text-align: right;\n",
              "    }\n",
              "</style>\n",
              "<table border=\"1\" class=\"dataframe\">\n",
              "  <thead>\n",
              "    <tr style=\"text-align: right;\">\n",
              "      <th></th>\n",
              "      <th>date</th>\n",
              "      <th>aqi</th>\n",
              "      <th>main pollutant</th>\n",
              "      <th>location</th>\n",
              "      <th>location id</th>\n",
              "      <th>aqi source</th>\n",
              "      <th>co</th>\n",
              "      <th>ozone</th>\n",
              "      <th>pm10</th>\n",
              "      <th>pm25</th>\n",
              "      <th>no2</th>\n",
              "      <th>temperature</th>\n",
              "      <th>temperature_min</th>\n",
              "      <th>temperature_max</th>\n",
              "      <th>precipitation</th>\n",
              "      <th>snowfall</th>\n",
              "      <th>snowdepth</th>\n",
              "      <th>winddirection</th>\n",
              "      <th>windspeed</th>\n",
              "      <th>peakgust</th>\n",
              "      <th>sunshine</th>\n",
              "      <th>pressure</th>\n",
              "    </tr>\n",
              "  </thead>\n",
              "  <tbody>\n",
              "    <tr>\n",
              "      <th>0</th>\n",
              "      <td>01/01/2016</td>\n",
              "      <td>148</td>\n",
              "      <td>PM2.5</td>\n",
              "      <td>Bakersfield-California</td>\n",
              "      <td>06-029-0014</td>\n",
              "      <td>AQS</td>\n",
              "      <td>8</td>\n",
              "      <td>37</td>\n",
              "      <td>52</td>\n",
              "      <td>148</td>\n",
              "      <td>23</td>\n",
              "      <td>4.4</td>\n",
              "      <td>-2.7</td>\n",
              "      <td>12.8</td>\n",
              "      <td>0.0</td>\n",
              "      <td>NaN</td>\n",
              "      <td>NaN</td>\n",
              "      <td>NaN</td>\n",
              "      <td>6.5</td>\n",
              "      <td>NaN</td>\n",
              "      <td>NaN</td>\n",
              "      <td>1020.3</td>\n",
              "    </tr>\n",
              "    <tr>\n",
              "      <th>1</th>\n",
              "      <td>01/02/2016</td>\n",
              "      <td>113</td>\n",
              "      <td>PM2.5</td>\n",
              "      <td>Bakersfield-California</td>\n",
              "      <td>06-029-0014</td>\n",
              "      <td>AQS</td>\n",
              "      <td>7</td>\n",
              "      <td>37</td>\n",
              "      <td>14</td>\n",
              "      <td>113</td>\n",
              "      <td>25</td>\n",
              "      <td>7.1</td>\n",
              "      <td>1.1</td>\n",
              "      <td>13.9</td>\n",
              "      <td>0.0</td>\n",
              "      <td>NaN</td>\n",
              "      <td>NaN</td>\n",
              "      <td>NaN</td>\n",
              "      <td>3.6</td>\n",
              "      <td>NaN</td>\n",
              "      <td>NaN</td>\n",
              "      <td>1017.9</td>\n",
              "    </tr>\n",
              "  </tbody>\n",
              "</table>\n",
              "</div>"
            ],
            "text/plain": [
              "         date  aqi main pollutant  ... peakgust sunshine pressure\n",
              "0  01/01/2016  148          PM2.5  ...      NaN      NaN   1020.3\n",
              "1  01/02/2016  113          PM2.5  ...      NaN      NaN   1017.9\n",
              "\n",
              "[2 rows x 22 columns]"
            ]
          },
          "metadata": {
            "tags": []
          },
          "execution_count": 14
        }
      ]
    },
    {
      "cell_type": "code",
      "metadata": {
        "id": "rGcE2veM2y_9",
        "colab_type": "code",
        "colab": {}
      },
      "source": [
        "df.drop(df.columns[[15,16,17,19,20]], axis=1, inplace=True)"
      ],
      "execution_count": 0,
      "outputs": []
    },
    {
      "cell_type": "markdown",
      "metadata": {
        "id": "M8Wv-dnqnH0B",
        "colab_type": "text"
      },
      "source": [
        "### Shape of DF"
      ]
    },
    {
      "cell_type": "code",
      "metadata": {
        "id": "jpbxwks69dN9",
        "colab_type": "code",
        "outputId": "54e1b07f-92b9-48b2-ece9-f81b5c9d99e8",
        "colab": {
          "base_uri": "https://localhost:8080/",
          "height": 34
        }
      },
      "source": [
        "df.shape"
      ],
      "execution_count": 0,
      "outputs": [
        {
          "output_type": "execute_result",
          "data": {
            "text/plain": [
              "(1461, 17)"
            ]
          },
          "metadata": {
            "tags": []
          },
          "execution_count": 16
        }
      ]
    },
    {
      "cell_type": "markdown",
      "metadata": {
        "id": "14flQ1bVnKzm",
        "colab_type": "text"
      },
      "source": [
        "### Columns with NaN "
      ]
    },
    {
      "cell_type": "code",
      "metadata": {
        "id": "S3ALhcQL-frL",
        "colab_type": "code",
        "outputId": "37e1cb74-f7a3-480b-d43e-e7b2e56e3c27",
        "colab": {
          "base_uri": "https://localhost:8080/",
          "height": 34
        }
      },
      "source": [
        "df.columns[df.isna().any()].tolist()"
      ],
      "execution_count": 0,
      "outputs": [
        {
          "output_type": "execute_result",
          "data": {
            "text/plain": [
              "['precipitation', 'pressure']"
            ]
          },
          "metadata": {
            "tags": []
          },
          "execution_count": 17
        }
      ]
    },
    {
      "cell_type": "markdown",
      "metadata": {
        "id": "q8Ai9SySnPgx",
        "colab_type": "text"
      },
      "source": [
        "### Replacing invalid data with 0"
      ]
    },
    {
      "cell_type": "code",
      "metadata": {
        "id": "8gWpl6X49qni",
        "colab_type": "code",
        "outputId": "6bc11fe3-618a-4c18-f330-89c69deec386",
        "colab": {
          "base_uri": "https://localhost:8080/",
          "height": 424
        }
      },
      "source": [
        "df = df.fillna(0)\n",
        "df['co'].replace('.','0',inplace=True)\n",
        "df['no2'].replace('.','0',inplace=True)\n",
        "df['pm10'].replace('.','0',inplace=True)\n",
        "df"
      ],
      "execution_count": 0,
      "outputs": [
        {
          "output_type": "execute_result",
          "data": {
            "text/html": [
              "<div>\n",
              "<style scoped>\n",
              "    .dataframe tbody tr th:only-of-type {\n",
              "        vertical-align: middle;\n",
              "    }\n",
              "\n",
              "    .dataframe tbody tr th {\n",
              "        vertical-align: top;\n",
              "    }\n",
              "\n",
              "    .dataframe thead th {\n",
              "        text-align: right;\n",
              "    }\n",
              "</style>\n",
              "<table border=\"1\" class=\"dataframe\">\n",
              "  <thead>\n",
              "    <tr style=\"text-align: right;\">\n",
              "      <th></th>\n",
              "      <th>date</th>\n",
              "      <th>aqi</th>\n",
              "      <th>main pollutant</th>\n",
              "      <th>location</th>\n",
              "      <th>location id</th>\n",
              "      <th>aqi source</th>\n",
              "      <th>co</th>\n",
              "      <th>ozone</th>\n",
              "      <th>pm10</th>\n",
              "      <th>pm25</th>\n",
              "      <th>no2</th>\n",
              "      <th>temperature</th>\n",
              "      <th>temperature_min</th>\n",
              "      <th>temperature_max</th>\n",
              "      <th>precipitation</th>\n",
              "      <th>windspeed</th>\n",
              "      <th>pressure</th>\n",
              "    </tr>\n",
              "  </thead>\n",
              "  <tbody>\n",
              "    <tr>\n",
              "      <th>0</th>\n",
              "      <td>01/01/2016</td>\n",
              "      <td>148</td>\n",
              "      <td>PM2.5</td>\n",
              "      <td>Bakersfield-California</td>\n",
              "      <td>06-029-0014</td>\n",
              "      <td>AQS</td>\n",
              "      <td>8</td>\n",
              "      <td>37</td>\n",
              "      <td>52</td>\n",
              "      <td>148</td>\n",
              "      <td>23</td>\n",
              "      <td>4.4</td>\n",
              "      <td>-2.7</td>\n",
              "      <td>12.8</td>\n",
              "      <td>0.0</td>\n",
              "      <td>6.5</td>\n",
              "      <td>1020.3</td>\n",
              "    </tr>\n",
              "    <tr>\n",
              "      <th>1</th>\n",
              "      <td>01/02/2016</td>\n",
              "      <td>113</td>\n",
              "      <td>PM2.5</td>\n",
              "      <td>Bakersfield-California</td>\n",
              "      <td>06-029-0014</td>\n",
              "      <td>AQS</td>\n",
              "      <td>7</td>\n",
              "      <td>37</td>\n",
              "      <td>14</td>\n",
              "      <td>113</td>\n",
              "      <td>25</td>\n",
              "      <td>7.1</td>\n",
              "      <td>1.1</td>\n",
              "      <td>13.9</td>\n",
              "      <td>0.0</td>\n",
              "      <td>3.6</td>\n",
              "      <td>1017.9</td>\n",
              "    </tr>\n",
              "    <tr>\n",
              "      <th>2</th>\n",
              "      <td>01/03/2016</td>\n",
              "      <td>80</td>\n",
              "      <td>PM2.5</td>\n",
              "      <td>Bakersfield-California</td>\n",
              "      <td>06-029-0014</td>\n",
              "      <td>AQS</td>\n",
              "      <td>7</td>\n",
              "      <td>36</td>\n",
              "      <td>9</td>\n",
              "      <td>80</td>\n",
              "      <td>28</td>\n",
              "      <td>9.6</td>\n",
              "      <td>3.9</td>\n",
              "      <td>20.0</td>\n",
              "      <td>0.0</td>\n",
              "      <td>11.5</td>\n",
              "      <td>1011.5</td>\n",
              "    </tr>\n",
              "    <tr>\n",
              "      <th>3</th>\n",
              "      <td>01/04/2016</td>\n",
              "      <td>87</td>\n",
              "      <td>PM2.5</td>\n",
              "      <td>Bakersfield-Airport (Planz)</td>\n",
              "      <td>06-029-0016</td>\n",
              "      <td>AQS</td>\n",
              "      <td>5</td>\n",
              "      <td>37</td>\n",
              "      <td>8</td>\n",
              "      <td>87</td>\n",
              "      <td>28</td>\n",
              "      <td>10.6</td>\n",
              "      <td>5.6</td>\n",
              "      <td>18.3</td>\n",
              "      <td>0.0</td>\n",
              "      <td>7.2</td>\n",
              "      <td>1008.8</td>\n",
              "    </tr>\n",
              "    <tr>\n",
              "      <th>4</th>\n",
              "      <td>01/05/2016</td>\n",
              "      <td>54</td>\n",
              "      <td>PM2.5</td>\n",
              "      <td>Bakersfield-California</td>\n",
              "      <td>06-029-0014</td>\n",
              "      <td>AQS</td>\n",
              "      <td>5</td>\n",
              "      <td>41</td>\n",
              "      <td>6</td>\n",
              "      <td>54</td>\n",
              "      <td>30</td>\n",
              "      <td>12.5</td>\n",
              "      <td>8.3</td>\n",
              "      <td>14.4</td>\n",
              "      <td>12.2</td>\n",
              "      <td>7.6</td>\n",
              "      <td>1008.2</td>\n",
              "    </tr>\n",
              "    <tr>\n",
              "      <th>...</th>\n",
              "      <td>...</td>\n",
              "      <td>...</td>\n",
              "      <td>...</td>\n",
              "      <td>...</td>\n",
              "      <td>...</td>\n",
              "      <td>...</td>\n",
              "      <td>...</td>\n",
              "      <td>...</td>\n",
              "      <td>...</td>\n",
              "      <td>...</td>\n",
              "      <td>...</td>\n",
              "      <td>...</td>\n",
              "      <td>...</td>\n",
              "      <td>...</td>\n",
              "      <td>...</td>\n",
              "      <td>...</td>\n",
              "      <td>...</td>\n",
              "    </tr>\n",
              "    <tr>\n",
              "      <th>1456</th>\n",
              "      <td>12/27/2019</td>\n",
              "      <td>36</td>\n",
              "      <td>PM2.5</td>\n",
              "      <td>Bakersfield-California</td>\n",
              "      <td>06-029-0014</td>\n",
              "      <td>AirNow</td>\n",
              "      <td>0</td>\n",
              "      <td>33</td>\n",
              "      <td>0</td>\n",
              "      <td>36</td>\n",
              "      <td>0</td>\n",
              "      <td>7.9</td>\n",
              "      <td>3.9</td>\n",
              "      <td>11.7</td>\n",
              "      <td>0.0</td>\n",
              "      <td>4.0</td>\n",
              "      <td>1017.3</td>\n",
              "    </tr>\n",
              "    <tr>\n",
              "      <th>1457</th>\n",
              "      <td>12/28/2019</td>\n",
              "      <td>58</td>\n",
              "      <td>PM2.5</td>\n",
              "      <td>Bakersfield-California</td>\n",
              "      <td>06-029-0014</td>\n",
              "      <td>AQS</td>\n",
              "      <td>0</td>\n",
              "      <td>32</td>\n",
              "      <td>2</td>\n",
              "      <td>58</td>\n",
              "      <td>0</td>\n",
              "      <td>7.1</td>\n",
              "      <td>1.7</td>\n",
              "      <td>13.3</td>\n",
              "      <td>0.0</td>\n",
              "      <td>3.2</td>\n",
              "      <td>1020.8</td>\n",
              "    </tr>\n",
              "    <tr>\n",
              "      <th>1458</th>\n",
              "      <td>12/29/2019</td>\n",
              "      <td>60</td>\n",
              "      <td>PM2.5</td>\n",
              "      <td>Bakersfield-Golden/M St</td>\n",
              "      <td>06-029-0010</td>\n",
              "      <td>AQS</td>\n",
              "      <td>0</td>\n",
              "      <td>31</td>\n",
              "      <td>3</td>\n",
              "      <td>60</td>\n",
              "      <td>0</td>\n",
              "      <td>7.6</td>\n",
              "      <td>2.8</td>\n",
              "      <td>15.6</td>\n",
              "      <td>0.0</td>\n",
              "      <td>2.9</td>\n",
              "      <td>1019.5</td>\n",
              "    </tr>\n",
              "    <tr>\n",
              "      <th>1459</th>\n",
              "      <td>12/30/2019</td>\n",
              "      <td>62</td>\n",
              "      <td>PM2.5</td>\n",
              "      <td>Bakersfield-California</td>\n",
              "      <td>06-029-0014</td>\n",
              "      <td>AQS</td>\n",
              "      <td>0</td>\n",
              "      <td>34</td>\n",
              "      <td>4</td>\n",
              "      <td>62</td>\n",
              "      <td>0</td>\n",
              "      <td>10.4</td>\n",
              "      <td>5.6</td>\n",
              "      <td>13.9</td>\n",
              "      <td>0.0</td>\n",
              "      <td>7.9</td>\n",
              "      <td>1018.4</td>\n",
              "    </tr>\n",
              "    <tr>\n",
              "      <th>1460</th>\n",
              "      <td>12/31/2019</td>\n",
              "      <td>85</td>\n",
              "      <td>PM2.5</td>\n",
              "      <td>Bakersfield-California</td>\n",
              "      <td>06-029-0014</td>\n",
              "      <td>AQS</td>\n",
              "      <td>0</td>\n",
              "      <td>35</td>\n",
              "      <td>3</td>\n",
              "      <td>85</td>\n",
              "      <td>0</td>\n",
              "      <td>8.3</td>\n",
              "      <td>2.8</td>\n",
              "      <td>14.4</td>\n",
              "      <td>0.0</td>\n",
              "      <td>6.8</td>\n",
              "      <td>0.0</td>\n",
              "    </tr>\n",
              "  </tbody>\n",
              "</table>\n",
              "<p>1461 rows × 17 columns</p>\n",
              "</div>"
            ],
            "text/plain": [
              "            date  aqi main pollutant  ... precipitation windspeed pressure\n",
              "0     01/01/2016  148          PM2.5  ...           0.0       6.5   1020.3\n",
              "1     01/02/2016  113          PM2.5  ...           0.0       3.6   1017.9\n",
              "2     01/03/2016   80          PM2.5  ...           0.0      11.5   1011.5\n",
              "3     01/04/2016   87          PM2.5  ...           0.0       7.2   1008.8\n",
              "4     01/05/2016   54          PM2.5  ...          12.2       7.6   1008.2\n",
              "...          ...  ...            ...  ...           ...       ...      ...\n",
              "1456  12/27/2019   36          PM2.5  ...           0.0       4.0   1017.3\n",
              "1457  12/28/2019   58          PM2.5  ...           0.0       3.2   1020.8\n",
              "1458  12/29/2019   60          PM2.5  ...           0.0       2.9   1019.5\n",
              "1459  12/30/2019   62          PM2.5  ...           0.0       7.9   1018.4\n",
              "1460  12/31/2019   85          PM2.5  ...           0.0       6.8      0.0\n",
              "\n",
              "[1461 rows x 17 columns]"
            ]
          },
          "metadata": {
            "tags": []
          },
          "execution_count": 18
        }
      ]
    },
    {
      "cell_type": "code",
      "metadata": {
        "id": "fEqkPNQfXAIX",
        "colab_type": "code",
        "colab": {}
      },
      "source": [
        "# c = df['temperature_min'] < 0\n",
        "# df['temperature_min'] =  df['temperature_min'].astype(float)\n",
        "# newdf = df[c]\n",
        "# newdf"
      ],
      "execution_count": 0,
      "outputs": []
    },
    {
      "cell_type": "code",
      "metadata": {
        "id": "6_ypaORzCTep",
        "colab_type": "code",
        "outputId": "9fc087f6-5db6-4cf6-bb17-d4b270636a83",
        "colab": {
          "base_uri": "https://localhost:8080/",
          "height": 330
        }
      },
      "source": [
        "df.dtypes"
      ],
      "execution_count": 0,
      "outputs": [
        {
          "output_type": "execute_result",
          "data": {
            "text/plain": [
              "date                object\n",
              "aqi                  int64\n",
              "main pollutant      object\n",
              "location            object\n",
              "location id         object\n",
              "aqi source          object\n",
              "co                  object\n",
              "ozone                int64\n",
              "pm10                object\n",
              "pm25                 int64\n",
              "no2                 object\n",
              "temperature        float64\n",
              "temperature_min    float64\n",
              "temperature_max    float64\n",
              "precipitation      float64\n",
              "windspeed          float64\n",
              "pressure           float64\n",
              "dtype: object"
            ]
          },
          "metadata": {
            "tags": []
          },
          "execution_count": 20
        }
      ]
    },
    {
      "cell_type": "markdown",
      "metadata": {
        "id": "HbkYpwqJnWzo",
        "colab_type": "text"
      },
      "source": [
        "### Object to Float"
      ]
    },
    {
      "cell_type": "code",
      "metadata": {
        "id": "l9pCOkV8Cfo4",
        "colab_type": "code",
        "colab": {}
      },
      "source": [
        "def covert_to_float(param):\n",
        "    df[param] =  df[param].astype(float)\n",
        "\n",
        "arr = ['aqi','co','no2','pm10']\n",
        "for i in arr:\n",
        "    covert_to_float(i)"
      ],
      "execution_count": 0,
      "outputs": []
    },
    {
      "cell_type": "code",
      "metadata": {
        "id": "O07vThByls0O",
        "colab_type": "code",
        "outputId": "837283b2-b49c-4898-cf84-fb4a20c5b25d",
        "colab": {
          "base_uri": "https://localhost:8080/",
          "height": 330
        }
      },
      "source": [
        "df.dtypes"
      ],
      "execution_count": 0,
      "outputs": [
        {
          "output_type": "execute_result",
          "data": {
            "text/plain": [
              "date                object\n",
              "aqi                float64\n",
              "main pollutant      object\n",
              "location            object\n",
              "location id         object\n",
              "aqi source          object\n",
              "co                 float64\n",
              "ozone                int64\n",
              "pm10               float64\n",
              "pm25                 int64\n",
              "no2                float64\n",
              "temperature        float64\n",
              "temperature_min    float64\n",
              "temperature_max    float64\n",
              "precipitation      float64\n",
              "windspeed          float64\n",
              "pressure           float64\n",
              "dtype: object"
            ]
          },
          "metadata": {
            "tags": []
          },
          "execution_count": 22
        }
      ]
    },
    {
      "cell_type": "code",
      "metadata": {
        "id": "mKqfqjy1EK0c",
        "colab_type": "code",
        "outputId": "beb7a34d-0681-4e24-ec7a-9773d10d112e",
        "colab": {
          "base_uri": "https://localhost:8080/",
          "height": 34
        }
      },
      "source": [
        "df.columns[df.isna().any()].tolist()"
      ],
      "execution_count": 0,
      "outputs": [
        {
          "output_type": "execute_result",
          "data": {
            "text/plain": [
              "[]"
            ]
          },
          "metadata": {
            "tags": []
          },
          "execution_count": 23
        }
      ]
    },
    {
      "cell_type": "code",
      "metadata": {
        "id": "NVYZ9AMaFtv2",
        "colab_type": "code",
        "outputId": "d9f3a2ed-b53b-42d1-a60f-ad4f0023ff74",
        "colab": {
          "base_uri": "https://localhost:8080/",
          "height": 104
        }
      },
      "source": [
        "df.columns"
      ],
      "execution_count": 0,
      "outputs": [
        {
          "output_type": "execute_result",
          "data": {
            "text/plain": [
              "Index(['date', 'aqi', 'main pollutant', 'location', 'location id',\n",
              "       'aqi source', 'co', 'ozone', 'pm10', 'pm25', 'no2', 'temperature',\n",
              "       'temperature_min', 'temperature_max', 'precipitation', 'windspeed',\n",
              "       'pressure'],\n",
              "      dtype='object')"
            ]
          },
          "metadata": {
            "tags": []
          },
          "execution_count": 24
        }
      ]
    },
    {
      "cell_type": "markdown",
      "metadata": {
        "id": "awXzqTar13sB",
        "colab_type": "text"
      },
      "source": [
        "# Heatmap: Correlation"
      ]
    },
    {
      "cell_type": "code",
      "metadata": {
        "id": "LqaWm-Hv1rGa",
        "colab_type": "code",
        "outputId": "66d408d3-aff8-46b2-c853-f323daf73c6b",
        "colab": {
          "base_uri": "https://localhost:8080/",
          "height": 610
        }
      },
      "source": [
        "import seaborn as sns\n",
        "corrMatrix = df.corr()\n",
        "sns.set(rc={'figure.figsize':(11.7,8.27)})\n",
        "sns.heatmap(corrMatrix, annot=True)"
      ],
      "execution_count": 0,
      "outputs": [
        {
          "output_type": "execute_result",
          "data": {
            "text/plain": [
              "<matplotlib.axes._subplots.AxesSubplot at 0x7f384842c2b0>"
            ]
          },
          "metadata": {
            "tags": []
          },
          "execution_count": 25
        },
        {
          "output_type": "display_data",
          "data": {
            "image/png": "[encoded data removed]",
            "text/plain": [
              "<Figure size 842.4x595.44 with 2 Axes>"
            ]
          },
          "metadata": {
            "tags": []
          }
        }
      ]
    },
    {
      "cell_type": "markdown",
      "metadata": {
        "id": "OlD-Vd9k1EJa",
        "colab_type": "text"
      },
      "source": [
        "# K-Means Clustering on amalgamated data"
      ]
    },
    {
      "cell_type": "code",
      "metadata": {
        "id": "wrKxFLqxpPcI",
        "colab_type": "code",
        "colab": {}
      },
      "source": [
        "from sklearn.cluster import KMeans\n",
        "%matplotlib inline\n",
        "import matplotlib\n",
        "import matplotlib.pyplot as plt"
      ],
      "execution_count": 0,
      "outputs": []
    },
    {
      "cell_type": "markdown",
      "metadata": {
        "id": "zMVMmtxH5X8h",
        "colab_type": "text"
      },
      "source": [
        "[0: 'date', 1: 'aqi', 2: 'main pollutant', 3: 'location', 4: 'location id',\n",
        "5: 'aqi source', 6: 'co', 7: 'ozone', 8: 'pm10', 9: 'pm25', 10: 'no2', 11: 'temperature', 12: 'temperature_min', 13: 'temperature_max', 14: 'precipitation', 15: 'windspeed', 16: 'pressure']"
      ]
    },
    {
      "cell_type": "markdown",
      "metadata": {
        "id": "TAoqpqpuuvLm",
        "colab_type": "text"
      },
      "source": [
        "### Elbow method"
      ]
    },
    {
      "cell_type": "code",
      "metadata": {
        "id": "lEQnYCFaoh0p",
        "colab_type": "code",
        "colab": {}
      },
      "source": [
        "def elbow_method():\n",
        "    Error =[]\n",
        "    x = df.iloc[:, [1,6,7,8,9,10,11,12,13,14,15,16]].values\n",
        "    for i in range(1, 11):\n",
        "        kmeans = KMeans(n_clusters = i).fit(x)\n",
        "        kmeans.fit(x)\n",
        "        Error.append(kmeans.inertia_)\n",
        "    plt.figure(figsize=(5,5))\n",
        "    plt.plot(range(1, 11), Error)\n",
        "    plt.title('Elbow method')\n",
        "    plt.xlabel('No of clusters')\n",
        "    plt.ylabel('Error')\n",
        "    plt.show()\n",
        "    "
      ],
      "execution_count": 0,
      "outputs": []
    },
    {
      "cell_type": "code",
      "metadata": {
        "id": "5KBmMNMfo_6n",
        "colab_type": "code",
        "outputId": "d23933d5-dfa9-41f1-a7bd-ca944224c3df",
        "colab": {
          "base_uri": "https://localhost:8080/",
          "height": 355
        }
      },
      "source": [
        "elbow_method()"
      ],
      "execution_count": 0,
      "outputs": [
        {
          "output_type": "display_data",
          "data": {
            "image/png": "[encoded data removed]",
            "text/plain": [
              "<Figure size 360x360 with 1 Axes>"
            ]
          },
          "metadata": {
            "tags": []
          }
        }
      ]
    },
    {
      "cell_type": "markdown",
      "metadata": {
        "id": "hBhuKtcbuyAC",
        "colab_type": "text"
      },
      "source": [
        "### K-Means Clustering"
      ]
    },
    {
      "cell_type": "code",
      "metadata": {
        "id": "97au7w3mAhcw",
        "colab_type": "code",
        "outputId": "432137e8-7128-43a0-fd2d-fb0a90d29650",
        "colab": {
          "base_uri": "https://localhost:8080/",
          "height": 34
        }
      },
      "source": [
        "x = df.iloc[:, [1,6,7,8,9,10,11,12,13,14,15,16]].values\n",
        "y = df.iloc[:, [1,6,7,8,9,10,11,12,13,14,15,16]]\n",
        "col = y.columns\n",
        "\n",
        "kmeans = KMeans(n_clusters=2)\n",
        "y_kmeans = kmeans.fit_predict(x)\n",
        "plt.figure(figsize=(5,5))\n",
        "df['cluster'] = y_kmeans\n",
        "\n",
        "# for i in range(0, 11):\n",
        "#    for j in range(1, 12):\n",
        "#      plt.scatter(x[:, i], x[:, j], y_kmeans, c=y_kmeans)\n",
        "#      plt.scatter(x[y_kmeans == 0, i], x[y_kmeans == 0, j], s = 50, c = 'red')\n",
        "#      plt.scatter(x[y_kmeans == 1, i], x[y_kmeans == 1, j], s = 50, c = 'blue')\n",
        "#      plt.xlabel(col[i])\n",
        "#      plt.ylabel(col[j])\n",
        "#      plt.show()\n"
      ],
      "execution_count": 0,
      "outputs": [
        {
          "output_type": "display_data",
          "data": {
            "text/plain": [
              "<Figure size 360x360 with 0 Axes>"
            ]
          },
          "metadata": {
            "tags": []
          }
        }
      ]
    },
    {
      "cell_type": "code",
      "metadata": {
        "id": "mI7idOB--Oa0",
        "colab_type": "code",
        "outputId": "cb0c2fa3-fa53-404b-9e2d-2a1f8a22e71a",
        "colab": {
          "base_uri": "https://localhost:8080/",
          "height": 347
        }
      },
      "source": [
        "# df['date'] = pd.to_datetime(df['date'])\n",
        "df.dtypes"
      ],
      "execution_count": 0,
      "outputs": [
        {
          "output_type": "execute_result",
          "data": {
            "text/plain": [
              "date                object\n",
              "aqi                float64\n",
              "main pollutant      object\n",
              "location            object\n",
              "location id         object\n",
              "aqi source          object\n",
              "co                 float64\n",
              "ozone                int64\n",
              "pm10               float64\n",
              "pm25                 int64\n",
              "no2                float64\n",
              "temperature        float64\n",
              "temperature_min    float64\n",
              "temperature_max    float64\n",
              "precipitation      float64\n",
              "windspeed          float64\n",
              "pressure           float64\n",
              "cluster              int32\n",
              "dtype: object"
            ]
          },
          "metadata": {
            "tags": []
          },
          "execution_count": 30
        }
      ]
    },
    {
      "cell_type": "code",
      "metadata": {
        "id": "F7IPIAn7EMoq",
        "colab_type": "code",
        "outputId": "80e6f8e0-bf48-45ca-ef37-2eedaa223b03",
        "colab": {
          "base_uri": "https://localhost:8080/",
          "height": 206
        }
      },
      "source": [
        "# Add columns with year, month, and weekday name\n",
        "# df = df.set_index('date')\n",
        "# df['year'] = df.index.year\n",
        "# df['month'] = df.index.month\n",
        "# df['day'] = df.index.weekday_name\n",
        "# # Display a random sampling of 5 rows\n",
        "df.sample(5, random_state=5)\n",
        "# select = df[df['cluster'] == 1]\n",
        "# select.head()"
      ],
      "execution_count": 0,
      "outputs": [
        {
          "output_type": "execute_result",
          "data": {
            "text/html": [
              "<div>\n",
              "<style scoped>\n",
              "    .dataframe tbody tr th:only-of-type {\n",
              "        vertical-align: middle;\n",
              "    }\n",
              "\n",
              "    .dataframe tbody tr th {\n",
              "        vertical-align: top;\n",
              "    }\n",
              "\n",
              "    .dataframe thead th {\n",
              "        text-align: right;\n",
              "    }\n",
              "</style>\n",
              "<table border=\"1\" class=\"dataframe\">\n",
              "  <thead>\n",
              "    <tr style=\"text-align: right;\">\n",
              "      <th></th>\n",
              "      <th>date</th>\n",
              "      <th>aqi</th>\n",
              "      <th>main pollutant</th>\n",
              "      <th>location</th>\n",
              "      <th>location id</th>\n",
              "      <th>aqi source</th>\n",
              "      <th>co</th>\n",
              "      <th>ozone</th>\n",
              "      <th>pm10</th>\n",
              "      <th>pm25</th>\n",
              "      <th>no2</th>\n",
              "      <th>temperature</th>\n",
              "      <th>temperature_min</th>\n",
              "      <th>temperature_max</th>\n",
              "      <th>precipitation</th>\n",
              "      <th>windspeed</th>\n",
              "      <th>pressure</th>\n",
              "      <th>cluster</th>\n",
              "    </tr>\n",
              "  </thead>\n",
              "  <tbody>\n",
              "    <tr>\n",
              "      <th>531</th>\n",
              "      <td>06/15/2017</td>\n",
              "      <td>115.0</td>\n",
              "      <td>Ozone</td>\n",
              "      <td>Mojave</td>\n",
              "      <td>06-029-0011</td>\n",
              "      <td>AQS</td>\n",
              "      <td>3.0</td>\n",
              "      <td>115</td>\n",
              "      <td>44.0</td>\n",
              "      <td>54</td>\n",
              "      <td>33.0</td>\n",
              "      <td>27.3</td>\n",
              "      <td>20.0</td>\n",
              "      <td>35.6</td>\n",
              "      <td>0.0</td>\n",
              "      <td>9.4</td>\n",
              "      <td>1013.2</td>\n",
              "      <td>0</td>\n",
              "    </tr>\n",
              "    <tr>\n",
              "      <th>461</th>\n",
              "      <td>04/06/2017</td>\n",
              "      <td>87.0</td>\n",
              "      <td>Ozone</td>\n",
              "      <td>Mojave</td>\n",
              "      <td>06-029-0011</td>\n",
              "      <td>AQS</td>\n",
              "      <td>3.0</td>\n",
              "      <td>87</td>\n",
              "      <td>19.0</td>\n",
              "      <td>52</td>\n",
              "      <td>37.0</td>\n",
              "      <td>22.1</td>\n",
              "      <td>14.4</td>\n",
              "      <td>27.8</td>\n",
              "      <td>0.0</td>\n",
              "      <td>9.7</td>\n",
              "      <td>1012.5</td>\n",
              "      <td>0</td>\n",
              "    </tr>\n",
              "    <tr>\n",
              "      <th>793</th>\n",
              "      <td>03/04/2018</td>\n",
              "      <td>43.0</td>\n",
              "      <td>Ozone</td>\n",
              "      <td>Maricopa</td>\n",
              "      <td>06-029-0008</td>\n",
              "      <td>AQS</td>\n",
              "      <td>5.0</td>\n",
              "      <td>43</td>\n",
              "      <td>3.0</td>\n",
              "      <td>25</td>\n",
              "      <td>30.0</td>\n",
              "      <td>8.3</td>\n",
              "      <td>3.3</td>\n",
              "      <td>14.4</td>\n",
              "      <td>0.0</td>\n",
              "      <td>6.8</td>\n",
              "      <td>1024.2</td>\n",
              "      <td>0</td>\n",
              "    </tr>\n",
              "    <tr>\n",
              "      <th>663</th>\n",
              "      <td>10/25/2017</td>\n",
              "      <td>150.0</td>\n",
              "      <td>Ozone</td>\n",
              "      <td>Edison</td>\n",
              "      <td>06-029-0007</td>\n",
              "      <td>AQS</td>\n",
              "      <td>6.0</td>\n",
              "      <td>150</td>\n",
              "      <td>83.0</td>\n",
              "      <td>82</td>\n",
              "      <td>50.0</td>\n",
              "      <td>22.6</td>\n",
              "      <td>14.4</td>\n",
              "      <td>32.8</td>\n",
              "      <td>0.0</td>\n",
              "      <td>7.6</td>\n",
              "      <td>1014.0</td>\n",
              "      <td>0</td>\n",
              "    </tr>\n",
              "    <tr>\n",
              "      <th>654</th>\n",
              "      <td>10/16/2017</td>\n",
              "      <td>133.0</td>\n",
              "      <td>Ozone</td>\n",
              "      <td>Edison</td>\n",
              "      <td>06-029-0007</td>\n",
              "      <td>AQS</td>\n",
              "      <td>7.0</td>\n",
              "      <td>133</td>\n",
              "      <td>75.0</td>\n",
              "      <td>92</td>\n",
              "      <td>60.0</td>\n",
              "      <td>19.8</td>\n",
              "      <td>11.1</td>\n",
              "      <td>28.9</td>\n",
              "      <td>0.0</td>\n",
              "      <td>5.8</td>\n",
              "      <td>1019.4</td>\n",
              "      <td>0</td>\n",
              "    </tr>\n",
              "  </tbody>\n",
              "</table>\n",
              "</div>"
            ],
            "text/plain": [
              "           date    aqi main pollutant  ... windspeed pressure cluster\n",
              "531  06/15/2017  115.0          Ozone  ...       9.4   1013.2       0\n",
              "461  04/06/2017   87.0          Ozone  ...       9.7   1012.5       0\n",
              "793  03/04/2018   43.0          Ozone  ...       6.8   1024.2       0\n",
              "663  10/25/2017  150.0          Ozone  ...       7.6   1014.0       0\n",
              "654  10/16/2017  133.0          Ozone  ...       5.8   1019.4       0\n",
              "\n",
              "[5 rows x 18 columns]"
            ]
          },
          "metadata": {
            "tags": []
          },
          "execution_count": 31
        }
      ]
    },
    {
      "cell_type": "markdown",
      "metadata": {
        "id": "iLz3S2aCYK-8",
        "colab_type": "text"
      },
      "source": [
        "##Standardizing the data values to avoid model to have any bias on features that have very less or very large values "
      ]
    },
    {
      "cell_type": "code",
      "metadata": {
        "id": "Nm_8o0VyaNPD",
        "colab_type": "code",
        "colab": {}
      },
      "source": [
        "from sklearn.preprocessing import StandardScaler\n",
        "scaler = StandardScaler()"
      ],
      "execution_count": 0,
      "outputs": []
    },
    {
      "cell_type": "code",
      "metadata": {
        "id": "KEcAKjPHaTHM",
        "colab_type": "code",
        "outputId": "65efc350-efac-43fe-fbcb-fc90a33a9b2a",
        "colab": {
          "base_uri": "https://localhost:8080/",
          "height": 34
        }
      },
      "source": [
        "#scaledDF = df[['ozone', 'co', 'temperature', 'windspeed', 'precipitation', 'pressure', 'pm10', 'pm25', 'no2']]\n",
        "scaledDF = df[['ozone', 'co', 'temperature', 'windspeed', 'pressure', 'pm10', 'pm25', 'no2', 'aqi']]\n",
        "scaler.fit(scaledDF.values)"
      ],
      "execution_count": 0,
      "outputs": [
        {
          "output_type": "execute_result",
          "data": {
            "text/plain": [
              "StandardScaler(copy=True, with_mean=True, with_std=True)"
            ]
          },
          "metadata": {
            "tags": []
          },
          "execution_count": 33
        }
      ]
    },
    {
      "cell_type": "code",
      "metadata": {
        "id": "D23nPezxavAt",
        "colab_type": "code",
        "outputId": "eb7f01c4-2c49-4bc1-e161-2b81f87af9b7",
        "colab": {
          "base_uri": "https://localhost:8080/",
          "height": 112
        }
      },
      "source": [
        "scaledDF.head(2)"
      ],
      "execution_count": 0,
      "outputs": [
        {
          "output_type": "execute_result",
          "data": {
            "text/html": [
              "<div>\n",
              "<style scoped>\n",
              "    .dataframe tbody tr th:only-of-type {\n",
              "        vertical-align: middle;\n",
              "    }\n",
              "\n",
              "    .dataframe tbody tr th {\n",
              "        vertical-align: top;\n",
              "    }\n",
              "\n",
              "    .dataframe thead th {\n",
              "        text-align: right;\n",
              "    }\n",
              "</style>\n",
              "<table border=\"1\" class=\"dataframe\">\n",
              "  <thead>\n",
              "    <tr style=\"text-align: right;\">\n",
              "      <th></th>\n",
              "      <th>ozone</th>\n",
              "      <th>co</th>\n",
              "      <th>temperature</th>\n",
              "      <th>windspeed</th>\n",
              "      <th>pressure</th>\n",
              "      <th>pm10</th>\n",
              "      <th>pm25</th>\n",
              "      <th>no2</th>\n",
              "      <th>aqi</th>\n",
              "    </tr>\n",
              "  </thead>\n",
              "  <tbody>\n",
              "    <tr>\n",
              "      <th>0</th>\n",
              "      <td>37</td>\n",
              "      <td>8.0</td>\n",
              "      <td>4.4</td>\n",
              "      <td>6.5</td>\n",
              "      <td>1020.3</td>\n",
              "      <td>52.0</td>\n",
              "      <td>148</td>\n",
              "      <td>23.0</td>\n",
              "      <td>148.0</td>\n",
              "    </tr>\n",
              "    <tr>\n",
              "      <th>1</th>\n",
              "      <td>37</td>\n",
              "      <td>7.0</td>\n",
              "      <td>7.1</td>\n",
              "      <td>3.6</td>\n",
              "      <td>1017.9</td>\n",
              "      <td>14.0</td>\n",
              "      <td>113</td>\n",
              "      <td>25.0</td>\n",
              "      <td>113.0</td>\n",
              "    </tr>\n",
              "  </tbody>\n",
              "</table>\n",
              "</div>"
            ],
            "text/plain": [
              "   ozone   co  temperature  windspeed  pressure  pm10  pm25   no2    aqi\n",
              "0     37  8.0          4.4        6.5    1020.3  52.0   148  23.0  148.0\n",
              "1     37  7.0          7.1        3.6    1017.9  14.0   113  25.0  113.0"
            ]
          },
          "metadata": {
            "tags": []
          },
          "execution_count": 34
        }
      ]
    },
    {
      "cell_type": "markdown",
      "metadata": {
        "id": "-sekfTHWYewT",
        "colab_type": "text"
      },
      "source": [
        "## Mean values of the respective features above"
      ]
    },
    {
      "cell_type": "code",
      "metadata": {
        "id": "4bRi0eWPa2Tx",
        "colab_type": "code",
        "outputId": "a92bb44a-6455-4c83-96df-18a1278e67ed",
        "colab": {
          "base_uri": "https://localhost:8080/",
          "height": 69
        }
      },
      "source": [
        "scaler.mean_"
      ],
      "execution_count": 0,
      "outputs": [
        {
          "output_type": "execute_result",
          "data": {
            "text/plain": [
              "array([ 72.77891855,   3.33675565,  19.91177276,   9.12984257,\n",
              "       973.22600958,  34.38603696,  56.66666667,  25.39561944,\n",
              "        84.79603012])"
            ]
          },
          "metadata": {
            "tags": []
          },
          "execution_count": 35
        }
      ]
    },
    {
      "cell_type": "markdown",
      "metadata": {
        "id": "mxnyQMsiYlNi",
        "colab_type": "text"
      },
      "source": [
        "## Custom function to define class labels for multiclass classification problem"
      ]
    },
    {
      "cell_type": "code",
      "metadata": {
        "id": "obarwl_1cExA",
        "colab_type": "code",
        "colab": {}
      },
      "source": [
        "def label_gen(x):\n",
        "  if (x < 51):\n",
        "    return 'Good'\n",
        "  elif (x < 101):\n",
        "    return 'Moderate'\n",
        "  elif(x<151):\n",
        "    return 'Unhealthy for sensitive groups'\n",
        "  elif (x<201):\n",
        "    return 'Unhealthy'\n",
        "  elif (x<301):\n",
        "    return 'Very Unhealthy'\n",
        "  else:\n",
        "    return 'Hazardous'"
      ],
      "execution_count": 0,
      "outputs": []
    },
    {
      "cell_type": "markdown",
      "metadata": {
        "id": "v6OslOM0ZG5F",
        "colab_type": "text"
      },
      "source": [
        "## Custom function to define class labels for binary class classification problem"
      ]
    },
    {
      "cell_type": "code",
      "metadata": {
        "id": "OFFaZAui--kp",
        "colab_type": "code",
        "colab": {}
      },
      "source": [
        "def label_category(x):\n",
        "  if (x < 151):\n",
        "    return 0\n",
        "  else:\n",
        "    return 1"
      ],
      "execution_count": 0,
      "outputs": []
    },
    {
      "cell_type": "code",
      "metadata": {
        "id": "bOef9-v-GDHg",
        "colab_type": "code",
        "outputId": "3ec1261b-9963-4560-d117-723da2ee56e6",
        "colab": {
          "base_uri": "https://localhost:8080/",
          "height": 225
        }
      },
      "source": [
        "scaledDF['AQLabel'] = scaledDF['aqi'].apply(func=label_gen)\n",
        "scaledDF['AQICategory'] = scaledDF['aqi'].apply(func=label_category)"
      ],
      "execution_count": 0,
      "outputs": [
        {
          "output_type": "stream",
          "text": [
            "/usr/local/lib/python3.6/dist-packages/ipykernel_launcher.py:1: SettingWithCopyWarning: \n",
            "A value is trying to be set on a copy of a slice from a DataFrame.\n",
            "Try using .loc[row_indexer,col_indexer] = value instead\n",
            "\n",
            "See the caveats in the documentation: http://pandas.pydata.org/pandas-docs/stable/user_guide/indexing.html#returning-a-view-versus-a-copy\n",
            "  \"\"\"Entry point for launching an IPython kernel.\n",
            "/usr/local/lib/python3.6/dist-packages/ipykernel_launcher.py:2: SettingWithCopyWarning: \n",
            "A value is trying to be set on a copy of a slice from a DataFrame.\n",
            "Try using .loc[row_indexer,col_indexer] = value instead\n",
            "\n",
            "See the caveats in the documentation: http://pandas.pydata.org/pandas-docs/stable/user_guide/indexing.html#returning-a-view-versus-a-copy\n",
            "  \n"
          ],
          "name": "stderr"
        }
      ]
    },
    {
      "cell_type": "markdown",
      "metadata": {
        "id": "9jPHoOcTZSGJ",
        "colab_type": "text"
      },
      "source": [
        "## PAQI is a new column that captures the previous day's AQI value. This is the main feature in Time series forecasting where we use past data to predict a future outcome. "
      ]
    },
    {
      "cell_type": "code",
      "metadata": {
        "id": "Mpbnn8c9GH9K",
        "colab_type": "code",
        "outputId": "f3c065cd-386a-4ade-c333-b4d8a49b81e1",
        "colab": {
          "base_uri": "https://localhost:8080/",
          "height": 121
        }
      },
      "source": [
        "scaledDF['PAQI'] = scaledDF.aqi.shift(1)"
      ],
      "execution_count": 0,
      "outputs": [
        {
          "output_type": "stream",
          "text": [
            "/usr/local/lib/python3.6/dist-packages/ipykernel_launcher.py:1: SettingWithCopyWarning: \n",
            "A value is trying to be set on a copy of a slice from a DataFrame.\n",
            "Try using .loc[row_indexer,col_indexer] = value instead\n",
            "\n",
            "See the caveats in the documentation: http://pandas.pydata.org/pandas-docs/stable/user_guide/indexing.html#returning-a-view-versus-a-copy\n",
            "  \"\"\"Entry point for launching an IPython kernel.\n"
          ],
          "name": "stderr"
        }
      ]
    },
    {
      "cell_type": "code",
      "metadata": {
        "id": "e39vz0MmGKBB",
        "colab_type": "code",
        "outputId": "f00e9af1-3603-4601-e77d-73b33f69bc3b",
        "colab": {
          "base_uri": "https://localhost:8080/",
          "height": 225
        }
      },
      "source": [
        "scaledDF['AQLabel'] = pd.Categorical(scaledDF['AQLabel'])\n",
        "scaledDF['AQLabel'] = scaledDF.AQLabel.cat.codes"
      ],
      "execution_count": 0,
      "outputs": [
        {
          "output_type": "stream",
          "text": [
            "/usr/local/lib/python3.6/dist-packages/ipykernel_launcher.py:1: SettingWithCopyWarning: \n",
            "A value is trying to be set on a copy of a slice from a DataFrame.\n",
            "Try using .loc[row_indexer,col_indexer] = value instead\n",
            "\n",
            "See the caveats in the documentation: http://pandas.pydata.org/pandas-docs/stable/user_guide/indexing.html#returning-a-view-versus-a-copy\n",
            "  \"\"\"Entry point for launching an IPython kernel.\n",
            "/usr/local/lib/python3.6/dist-packages/ipykernel_launcher.py:2: SettingWithCopyWarning: \n",
            "A value is trying to be set on a copy of a slice from a DataFrame.\n",
            "Try using .loc[row_indexer,col_indexer] = value instead\n",
            "\n",
            "See the caveats in the documentation: http://pandas.pydata.org/pandas-docs/stable/user_guide/indexing.html#returning-a-view-versus-a-copy\n",
            "  \n"
          ],
          "name": "stderr"
        }
      ]
    },
    {
      "cell_type": "code",
      "metadata": {
        "id": "-bZ3aiQ5GeHI",
        "colab_type": "code",
        "colab": {}
      },
      "source": [
        "df1 = scaledDF[['ozone', 'co', 'temperature', 'windspeed', 'pressure', 'pm10', 'pm25', 'no2', 'aqi']]"
      ],
      "execution_count": 0,
      "outputs": []
    },
    {
      "cell_type": "code",
      "metadata": {
        "id": "k5t5FMHra5a1",
        "colab_type": "code",
        "colab": {}
      },
      "source": [
        "df1 = scaler.transform(df1)"
      ],
      "execution_count": 0,
      "outputs": []
    },
    {
      "cell_type": "code",
      "metadata": {
        "id": "Qdtl2UVga_J-",
        "colab_type": "code",
        "outputId": "b2f33aed-f9fb-4576-f126-1f6fc615a634",
        "colab": {
          "base_uri": "https://localhost:8080/",
          "height": 112
        }
      },
      "source": [
        "df1 = pd.DataFrame(data=df1, columns=['ozone', 'co', 'temperature', 'windspeed', 'pressure', 'pm10', 'pm25', 'no2', 'aqi'])\n",
        "df1.head(2)"
      ],
      "execution_count": 0,
      "outputs": [
        {
          "output_type": "execute_result",
          "data": {
            "text/html": [
              "<div>\n",
              "<style scoped>\n",
              "    .dataframe tbody tr th:only-of-type {\n",
              "        vertical-align: middle;\n",
              "    }\n",
              "\n",
              "    .dataframe tbody tr th {\n",
              "        vertical-align: top;\n",
              "    }\n",
              "\n",
              "    .dataframe thead th {\n",
              "        text-align: right;\n",
              "    }\n",
              "</style>\n",
              "<table border=\"1\" class=\"dataframe\">\n",
              "  <thead>\n",
              "    <tr style=\"text-align: right;\">\n",
              "      <th></th>\n",
              "      <th>ozone</th>\n",
              "      <th>co</th>\n",
              "      <th>temperature</th>\n",
              "      <th>windspeed</th>\n",
              "      <th>pressure</th>\n",
              "      <th>pm10</th>\n",
              "      <th>pm25</th>\n",
              "      <th>no2</th>\n",
              "      <th>aqi</th>\n",
              "    </tr>\n",
              "  </thead>\n",
              "  <tbody>\n",
              "    <tr>\n",
              "      <th>0</th>\n",
              "      <td>-0.982177</td>\n",
              "      <td>1.895100</td>\n",
              "      <td>-1.987936</td>\n",
              "      <td>-0.756273</td>\n",
              "      <td>0.233657</td>\n",
              "      <td>0.673889</td>\n",
              "      <td>3.137893</td>\n",
              "      <td>-0.200856</td>\n",
              "      <td>1.684097</td>\n",
              "    </tr>\n",
              "    <tr>\n",
              "      <th>1</th>\n",
              "      <td>-0.982177</td>\n",
              "      <td>1.488709</td>\n",
              "      <td>-1.641914</td>\n",
              "      <td>-1.590235</td>\n",
              "      <td>0.221745</td>\n",
              "      <td>-0.779945</td>\n",
              "      <td>1.935416</td>\n",
              "      <td>-0.033170</td>\n",
              "      <td>0.751507</td>\n",
              "    </tr>\n",
              "  </tbody>\n",
              "</table>\n",
              "</div>"
            ],
            "text/plain": [
              "      ozone        co  temperature  ...      pm25       no2       aqi\n",
              "0 -0.982177  1.895100    -1.987936  ...  3.137893 -0.200856  1.684097\n",
              "1 -0.982177  1.488709    -1.641914  ...  1.935416 -0.033170  0.751507\n",
              "\n",
              "[2 rows x 9 columns]"
            ]
          },
          "metadata": {
            "tags": []
          },
          "execution_count": 43
        }
      ]
    },
    {
      "cell_type": "code",
      "metadata": {
        "id": "qib1hfwBb9uo",
        "colab_type": "code",
        "outputId": "7e86a51a-8b10-4efd-fdbc-b88584eee734",
        "colab": {
          "base_uri": "https://localhost:8080/",
          "height": 112
        }
      },
      "source": [
        "df1.head(2)"
      ],
      "execution_count": 0,
      "outputs": [
        {
          "output_type": "execute_result",
          "data": {
            "text/html": [
              "<div>\n",
              "<style scoped>\n",
              "    .dataframe tbody tr th:only-of-type {\n",
              "        vertical-align: middle;\n",
              "    }\n",
              "\n",
              "    .dataframe tbody tr th {\n",
              "        vertical-align: top;\n",
              "    }\n",
              "\n",
              "    .dataframe thead th {\n",
              "        text-align: right;\n",
              "    }\n",
              "</style>\n",
              "<table border=\"1\" class=\"dataframe\">\n",
              "  <thead>\n",
              "    <tr style=\"text-align: right;\">\n",
              "      <th></th>\n",
              "      <th>ozone</th>\n",
              "      <th>co</th>\n",
              "      <th>temperature</th>\n",
              "      <th>windspeed</th>\n",
              "      <th>pressure</th>\n",
              "      <th>pm10</th>\n",
              "      <th>pm25</th>\n",
              "      <th>no2</th>\n",
              "      <th>aqi</th>\n",
              "    </tr>\n",
              "  </thead>\n",
              "  <tbody>\n",
              "    <tr>\n",
              "      <th>0</th>\n",
              "      <td>-0.982177</td>\n",
              "      <td>1.895100</td>\n",
              "      <td>-1.987936</td>\n",
              "      <td>-0.756273</td>\n",
              "      <td>0.233657</td>\n",
              "      <td>0.673889</td>\n",
              "      <td>3.137893</td>\n",
              "      <td>-0.200856</td>\n",
              "      <td>1.684097</td>\n",
              "    </tr>\n",
              "    <tr>\n",
              "      <th>1</th>\n",
              "      <td>-0.982177</td>\n",
              "      <td>1.488709</td>\n",
              "      <td>-1.641914</td>\n",
              "      <td>-1.590235</td>\n",
              "      <td>0.221745</td>\n",
              "      <td>-0.779945</td>\n",
              "      <td>1.935416</td>\n",
              "      <td>-0.033170</td>\n",
              "      <td>0.751507</td>\n",
              "    </tr>\n",
              "  </tbody>\n",
              "</table>\n",
              "</div>"
            ],
            "text/plain": [
              "      ozone        co  temperature  ...      pm25       no2       aqi\n",
              "0 -0.982177  1.895100    -1.987936  ...  3.137893 -0.200856  1.684097\n",
              "1 -0.982177  1.488709    -1.641914  ...  1.935416 -0.033170  0.751507\n",
              "\n",
              "[2 rows x 9 columns]"
            ]
          },
          "metadata": {
            "tags": []
          },
          "execution_count": 44
        }
      ]
    },
    {
      "cell_type": "code",
      "metadata": {
        "id": "Ej5M_8gZ8lMV",
        "colab_type": "code",
        "colab": {}
      },
      "source": [
        "df1['PAQI'] = df1.aqi.shift(1)"
      ],
      "execution_count": 0,
      "outputs": []
    },
    {
      "cell_type": "code",
      "metadata": {
        "id": "jJW9oic68PSJ",
        "colab_type": "code",
        "outputId": "4f36122e-3339-4504-ebce-06f260911626",
        "colab": {
          "base_uri": "https://localhost:8080/",
          "height": 34
        }
      },
      "source": [
        "'''\n",
        "scaledDF['AQLabel'] = pd.Categorical(scaledDF['AQLabel'])\n",
        "scaledDF['AQLabel'] = scaledDF.AQLabel.cat.codes\n",
        "'''"
      ],
      "execution_count": 0,
      "outputs": [
        {
          "output_type": "execute_result",
          "data": {
            "text/plain": [
              "\"\\nscaledDF['AQLabel'] = pd.Categorical(scaledDF['AQLabel'])\\nscaledDF['AQLabel'] = scaledDF.AQLabel.cat.codes\\n\""
            ]
          },
          "metadata": {
            "tags": []
          },
          "execution_count": 46
        }
      ]
    },
    {
      "cell_type": "code",
      "metadata": {
        "id": "vUEKS8jqcNIQ",
        "colab_type": "code",
        "outputId": "c688b11b-9ec7-4a20-bf43-7d38c4ac10c0",
        "colab": {
          "base_uri": "https://localhost:8080/",
          "height": 206
        }
      },
      "source": [
        "df1.head(5)"
      ],
      "execution_count": 0,
      "outputs": [
        {
          "output_type": "execute_result",
          "data": {
            "text/html": [
              "<div>\n",
              "<style scoped>\n",
              "    .dataframe tbody tr th:only-of-type {\n",
              "        vertical-align: middle;\n",
              "    }\n",
              "\n",
              "    .dataframe tbody tr th {\n",
              "        vertical-align: top;\n",
              "    }\n",
              "\n",
              "    .dataframe thead th {\n",
              "        text-align: right;\n",
              "    }\n",
              "</style>\n",
              "<table border=\"1\" class=\"dataframe\">\n",
              "  <thead>\n",
              "    <tr style=\"text-align: right;\">\n",
              "      <th></th>\n",
              "      <th>ozone</th>\n",
              "      <th>co</th>\n",
              "      <th>temperature</th>\n",
              "      <th>windspeed</th>\n",
              "      <th>pressure</th>\n",
              "      <th>pm10</th>\n",
              "      <th>pm25</th>\n",
              "      <th>no2</th>\n",
              "      <th>aqi</th>\n",
              "      <th>PAQI</th>\n",
              "    </tr>\n",
              "  </thead>\n",
              "  <tbody>\n",
              "    <tr>\n",
              "      <th>0</th>\n",
              "      <td>-0.982177</td>\n",
              "      <td>1.895100</td>\n",
              "      <td>-1.987936</td>\n",
              "      <td>-0.756273</td>\n",
              "      <td>0.233657</td>\n",
              "      <td>0.673889</td>\n",
              "      <td>3.137893</td>\n",
              "      <td>-0.200856</td>\n",
              "      <td>1.684097</td>\n",
              "      <td>NaN</td>\n",
              "    </tr>\n",
              "    <tr>\n",
              "      <th>1</th>\n",
              "      <td>-0.982177</td>\n",
              "      <td>1.488709</td>\n",
              "      <td>-1.641914</td>\n",
              "      <td>-1.590235</td>\n",
              "      <td>0.221745</td>\n",
              "      <td>-0.779945</td>\n",
              "      <td>1.935416</td>\n",
              "      <td>-0.033170</td>\n",
              "      <td>0.751507</td>\n",
              "      <td>1.684097</td>\n",
              "    </tr>\n",
              "    <tr>\n",
              "      <th>2</th>\n",
              "      <td>-1.009629</td>\n",
              "      <td>1.488709</td>\n",
              "      <td>-1.321522</td>\n",
              "      <td>0.681594</td>\n",
              "      <td>0.189977</td>\n",
              "      <td>-0.971239</td>\n",
              "      <td>0.801652</td>\n",
              "      <td>0.218359</td>\n",
              "      <td>-0.127792</td>\n",
              "      <td>0.751507</td>\n",
              "    </tr>\n",
              "    <tr>\n",
              "      <th>3</th>\n",
              "      <td>-0.982177</td>\n",
              "      <td>0.675927</td>\n",
              "      <td>-1.193365</td>\n",
              "      <td>-0.554971</td>\n",
              "      <td>0.176576</td>\n",
              "      <td>-1.009497</td>\n",
              "      <td>1.042147</td>\n",
              "      <td>0.218359</td>\n",
              "      <td>0.058726</td>\n",
              "      <td>-0.127792</td>\n",
              "    </tr>\n",
              "    <tr>\n",
              "      <th>4</th>\n",
              "      <td>-0.872372</td>\n",
              "      <td>0.675927</td>\n",
              "      <td>-0.949868</td>\n",
              "      <td>-0.439942</td>\n",
              "      <td>0.173598</td>\n",
              "      <td>-1.086015</td>\n",
              "      <td>-0.091617</td>\n",
              "      <td>0.386046</td>\n",
              "      <td>-0.820574</td>\n",
              "      <td>0.058726</td>\n",
              "    </tr>\n",
              "  </tbody>\n",
              "</table>\n",
              "</div>"
            ],
            "text/plain": [
              "      ozone        co  temperature  ...       no2       aqi      PAQI\n",
              "0 -0.982177  1.895100    -1.987936  ... -0.200856  1.684097       NaN\n",
              "1 -0.982177  1.488709    -1.641914  ... -0.033170  0.751507  1.684097\n",
              "2 -1.009629  1.488709    -1.321522  ...  0.218359 -0.127792  0.751507\n",
              "3 -0.982177  0.675927    -1.193365  ...  0.218359  0.058726 -0.127792\n",
              "4 -0.872372  0.675927    -0.949868  ...  0.386046 -0.820574  0.058726\n",
              "\n",
              "[5 rows x 10 columns]"
            ]
          },
          "metadata": {
            "tags": []
          },
          "execution_count": 47
        }
      ]
    },
    {
      "cell_type": "code",
      "metadata": {
        "id": "_4iT2WXe-F9P",
        "colab_type": "code",
        "outputId": "3d6197af-8b4f-4931-91d4-b08b45dac79a",
        "colab": {
          "base_uri": "https://localhost:8080/",
          "height": 206
        }
      },
      "source": [
        "df1.head(5)"
      ],
      "execution_count": 0,
      "outputs": [
        {
          "output_type": "execute_result",
          "data": {
            "text/html": [
              "<div>\n",
              "<style scoped>\n",
              "    .dataframe tbody tr th:only-of-type {\n",
              "        vertical-align: middle;\n",
              "    }\n",
              "\n",
              "    .dataframe tbody tr th {\n",
              "        vertical-align: top;\n",
              "    }\n",
              "\n",
              "    .dataframe thead th {\n",
              "        text-align: right;\n",
              "    }\n",
              "</style>\n",
              "<table border=\"1\" class=\"dataframe\">\n",
              "  <thead>\n",
              "    <tr style=\"text-align: right;\">\n",
              "      <th></th>\n",
              "      <th>ozone</th>\n",
              "      <th>co</th>\n",
              "      <th>temperature</th>\n",
              "      <th>windspeed</th>\n",
              "      <th>pressure</th>\n",
              "      <th>pm10</th>\n",
              "      <th>pm25</th>\n",
              "      <th>no2</th>\n",
              "      <th>aqi</th>\n",
              "      <th>PAQI</th>\n",
              "    </tr>\n",
              "  </thead>\n",
              "  <tbody>\n",
              "    <tr>\n",
              "      <th>0</th>\n",
              "      <td>-0.982177</td>\n",
              "      <td>1.895100</td>\n",
              "      <td>-1.987936</td>\n",
              "      <td>-0.756273</td>\n",
              "      <td>0.233657</td>\n",
              "      <td>0.673889</td>\n",
              "      <td>3.137893</td>\n",
              "      <td>-0.200856</td>\n",
              "      <td>1.684097</td>\n",
              "      <td>NaN</td>\n",
              "    </tr>\n",
              "    <tr>\n",
              "      <th>1</th>\n",
              "      <td>-0.982177</td>\n",
              "      <td>1.488709</td>\n",
              "      <td>-1.641914</td>\n",
              "      <td>-1.590235</td>\n",
              "      <td>0.221745</td>\n",
              "      <td>-0.779945</td>\n",
              "      <td>1.935416</td>\n",
              "      <td>-0.033170</td>\n",
              "      <td>0.751507</td>\n",
              "      <td>1.684097</td>\n",
              "    </tr>\n",
              "    <tr>\n",
              "      <th>2</th>\n",
              "      <td>-1.009629</td>\n",
              "      <td>1.488709</td>\n",
              "      <td>-1.321522</td>\n",
              "      <td>0.681594</td>\n",
              "      <td>0.189977</td>\n",
              "      <td>-0.971239</td>\n",
              "      <td>0.801652</td>\n",
              "      <td>0.218359</td>\n",
              "      <td>-0.127792</td>\n",
              "      <td>0.751507</td>\n",
              "    </tr>\n",
              "    <tr>\n",
              "      <th>3</th>\n",
              "      <td>-0.982177</td>\n",
              "      <td>0.675927</td>\n",
              "      <td>-1.193365</td>\n",
              "      <td>-0.554971</td>\n",
              "      <td>0.176576</td>\n",
              "      <td>-1.009497</td>\n",
              "      <td>1.042147</td>\n",
              "      <td>0.218359</td>\n",
              "      <td>0.058726</td>\n",
              "      <td>-0.127792</td>\n",
              "    </tr>\n",
              "    <tr>\n",
              "      <th>4</th>\n",
              "      <td>-0.872372</td>\n",
              "      <td>0.675927</td>\n",
              "      <td>-0.949868</td>\n",
              "      <td>-0.439942</td>\n",
              "      <td>0.173598</td>\n",
              "      <td>-1.086015</td>\n",
              "      <td>-0.091617</td>\n",
              "      <td>0.386046</td>\n",
              "      <td>-0.820574</td>\n",
              "      <td>0.058726</td>\n",
              "    </tr>\n",
              "  </tbody>\n",
              "</table>\n",
              "</div>"
            ],
            "text/plain": [
              "      ozone        co  temperature  ...       no2       aqi      PAQI\n",
              "0 -0.982177  1.895100    -1.987936  ... -0.200856  1.684097       NaN\n",
              "1 -0.982177  1.488709    -1.641914  ... -0.033170  0.751507  1.684097\n",
              "2 -1.009629  1.488709    -1.321522  ...  0.218359 -0.127792  0.751507\n",
              "3 -0.982177  0.675927    -1.193365  ...  0.218359  0.058726 -0.127792\n",
              "4 -0.872372  0.675927    -0.949868  ...  0.386046 -0.820574  0.058726\n",
              "\n",
              "[5 rows x 10 columns]"
            ]
          },
          "metadata": {
            "tags": []
          },
          "execution_count": 48
        }
      ]
    },
    {
      "cell_type": "code",
      "metadata": {
        "id": "ZofZYEo_Ob-g",
        "colab_type": "code",
        "outputId": "bc44ff1c-a6a7-4795-c7f7-bf058c263e24",
        "colab": {
          "base_uri": "https://localhost:8080/",
          "height": 206
        }
      },
      "source": [
        "decTreeDF = pd.concat([df1, scaledDF[['AQICategory', 'AQLabel']]], axis=1, sort=False)\n",
        "decTreeDF.head(5)"
      ],
      "execution_count": 0,
      "outputs": [
        {
          "output_type": "execute_result",
          "data": {
            "text/html": [
              "<div>\n",
              "<style scoped>\n",
              "    .dataframe tbody tr th:only-of-type {\n",
              "        vertical-align: middle;\n",
              "    }\n",
              "\n",
              "    .dataframe tbody tr th {\n",
              "        vertical-align: top;\n",
              "    }\n",
              "\n",
              "    .dataframe thead th {\n",
              "        text-align: right;\n",
              "    }\n",
              "</style>\n",
              "<table border=\"1\" class=\"dataframe\">\n",
              "  <thead>\n",
              "    <tr style=\"text-align: right;\">\n",
              "      <th></th>\n",
              "      <th>ozone</th>\n",
              "      <th>co</th>\n",
              "      <th>temperature</th>\n",
              "      <th>windspeed</th>\n",
              "      <th>pressure</th>\n",
              "      <th>pm10</th>\n",
              "      <th>pm25</th>\n",
              "      <th>no2</th>\n",
              "      <th>aqi</th>\n",
              "      <th>PAQI</th>\n",
              "      <th>AQICategory</th>\n",
              "      <th>AQLabel</th>\n",
              "    </tr>\n",
              "  </thead>\n",
              "  <tbody>\n",
              "    <tr>\n",
              "      <th>0</th>\n",
              "      <td>-0.982177</td>\n",
              "      <td>1.895100</td>\n",
              "      <td>-1.987936</td>\n",
              "      <td>-0.756273</td>\n",
              "      <td>0.233657</td>\n",
              "      <td>0.673889</td>\n",
              "      <td>3.137893</td>\n",
              "      <td>-0.200856</td>\n",
              "      <td>1.684097</td>\n",
              "      <td>NaN</td>\n",
              "      <td>0</td>\n",
              "      <td>4</td>\n",
              "    </tr>\n",
              "    <tr>\n",
              "      <th>1</th>\n",
              "      <td>-0.982177</td>\n",
              "      <td>1.488709</td>\n",
              "      <td>-1.641914</td>\n",
              "      <td>-1.590235</td>\n",
              "      <td>0.221745</td>\n",
              "      <td>-0.779945</td>\n",
              "      <td>1.935416</td>\n",
              "      <td>-0.033170</td>\n",
              "      <td>0.751507</td>\n",
              "      <td>1.684097</td>\n",
              "      <td>0</td>\n",
              "      <td>4</td>\n",
              "    </tr>\n",
              "    <tr>\n",
              "      <th>2</th>\n",
              "      <td>-1.009629</td>\n",
              "      <td>1.488709</td>\n",
              "      <td>-1.321522</td>\n",
              "      <td>0.681594</td>\n",
              "      <td>0.189977</td>\n",
              "      <td>-0.971239</td>\n",
              "      <td>0.801652</td>\n",
              "      <td>0.218359</td>\n",
              "      <td>-0.127792</td>\n",
              "      <td>0.751507</td>\n",
              "      <td>0</td>\n",
              "      <td>2</td>\n",
              "    </tr>\n",
              "    <tr>\n",
              "      <th>3</th>\n",
              "      <td>-0.982177</td>\n",
              "      <td>0.675927</td>\n",
              "      <td>-1.193365</td>\n",
              "      <td>-0.554971</td>\n",
              "      <td>0.176576</td>\n",
              "      <td>-1.009497</td>\n",
              "      <td>1.042147</td>\n",
              "      <td>0.218359</td>\n",
              "      <td>0.058726</td>\n",
              "      <td>-0.127792</td>\n",
              "      <td>0</td>\n",
              "      <td>2</td>\n",
              "    </tr>\n",
              "    <tr>\n",
              "      <th>4</th>\n",
              "      <td>-0.872372</td>\n",
              "      <td>0.675927</td>\n",
              "      <td>-0.949868</td>\n",
              "      <td>-0.439942</td>\n",
              "      <td>0.173598</td>\n",
              "      <td>-1.086015</td>\n",
              "      <td>-0.091617</td>\n",
              "      <td>0.386046</td>\n",
              "      <td>-0.820574</td>\n",
              "      <td>0.058726</td>\n",
              "      <td>0</td>\n",
              "      <td>2</td>\n",
              "    </tr>\n",
              "  </tbody>\n",
              "</table>\n",
              "</div>"
            ],
            "text/plain": [
              "      ozone        co  temperature  ...      PAQI  AQICategory  AQLabel\n",
              "0 -0.982177  1.895100    -1.987936  ...       NaN            0        4\n",
              "1 -0.982177  1.488709    -1.641914  ...  1.684097            0        4\n",
              "2 -1.009629  1.488709    -1.321522  ...  0.751507            0        2\n",
              "3 -0.982177  0.675927    -1.193365  ... -0.127792            0        2\n",
              "4 -0.872372  0.675927    -0.949868  ...  0.058726            0        2\n",
              "\n",
              "[5 rows x 12 columns]"
            ]
          },
          "metadata": {
            "tags": []
          },
          "execution_count": 49
        }
      ]
    },
    {
      "cell_type": "code",
      "metadata": {
        "id": "JvsbBuyB99xc",
        "colab_type": "code",
        "colab": {}
      },
      "source": [
        "decTreeDF = decTreeDF.drop([df1.index[0]])"
      ],
      "execution_count": 0,
      "outputs": []
    },
    {
      "cell_type": "code",
      "metadata": {
        "id": "LgJ0Acd4PUa1",
        "colab_type": "code",
        "colab": {}
      },
      "source": [
        "decTreeDFX = decTreeDF[['PAQI', 'temperature','windspeed', 'pressure']]"
      ],
      "execution_count": 0,
      "outputs": []
    },
    {
      "cell_type": "code",
      "metadata": {
        "id": "ABC9As2eFmUY",
        "colab_type": "code",
        "outputId": "1631ecad-8be2-41e9-fdc7-9616247be06d",
        "colab": {
          "base_uri": "https://localhost:8080/",
          "height": 112
        }
      },
      "source": [
        "decTreeDF.head(2)"
      ],
      "execution_count": 0,
      "outputs": [
        {
          "output_type": "execute_result",
          "data": {
            "text/html": [
              "<div>\n",
              "<style scoped>\n",
              "    .dataframe tbody tr th:only-of-type {\n",
              "        vertical-align: middle;\n",
              "    }\n",
              "\n",
              "    .dataframe tbody tr th {\n",
              "        vertical-align: top;\n",
              "    }\n",
              "\n",
              "    .dataframe thead th {\n",
              "        text-align: right;\n",
              "    }\n",
              "</style>\n",
              "<table border=\"1\" class=\"dataframe\">\n",
              "  <thead>\n",
              "    <tr style=\"text-align: right;\">\n",
              "      <th></th>\n",
              "      <th>ozone</th>\n",
              "      <th>co</th>\n",
              "      <th>temperature</th>\n",
              "      <th>windspeed</th>\n",
              "      <th>pressure</th>\n",
              "      <th>pm10</th>\n",
              "      <th>pm25</th>\n",
              "      <th>no2</th>\n",
              "      <th>aqi</th>\n",
              "      <th>PAQI</th>\n",
              "      <th>AQICategory</th>\n",
              "      <th>AQLabel</th>\n",
              "    </tr>\n",
              "  </thead>\n",
              "  <tbody>\n",
              "    <tr>\n",
              "      <th>1</th>\n",
              "      <td>-0.982177</td>\n",
              "      <td>1.488709</td>\n",
              "      <td>-1.641914</td>\n",
              "      <td>-1.590235</td>\n",
              "      <td>0.221745</td>\n",
              "      <td>-0.779945</td>\n",
              "      <td>1.935416</td>\n",
              "      <td>-0.033170</td>\n",
              "      <td>0.751507</td>\n",
              "      <td>1.684097</td>\n",
              "      <td>0</td>\n",
              "      <td>4</td>\n",
              "    </tr>\n",
              "    <tr>\n",
              "      <th>2</th>\n",
              "      <td>-1.009629</td>\n",
              "      <td>1.488709</td>\n",
              "      <td>-1.321522</td>\n",
              "      <td>0.681594</td>\n",
              "      <td>0.189977</td>\n",
              "      <td>-0.971239</td>\n",
              "      <td>0.801652</td>\n",
              "      <td>0.218359</td>\n",
              "      <td>-0.127792</td>\n",
              "      <td>0.751507</td>\n",
              "      <td>0</td>\n",
              "      <td>2</td>\n",
              "    </tr>\n",
              "  </tbody>\n",
              "</table>\n",
              "</div>"
            ],
            "text/plain": [
              "      ozone        co  temperature  ...      PAQI  AQICategory  AQLabel\n",
              "1 -0.982177  1.488709    -1.641914  ...  1.684097            0        4\n",
              "2 -1.009629  1.488709    -1.321522  ...  0.751507            0        2\n",
              "\n",
              "[2 rows x 12 columns]"
            ]
          },
          "metadata": {
            "tags": []
          },
          "execution_count": 52
        }
      ]
    },
    {
      "cell_type": "code",
      "metadata": {
        "id": "1ieAeLVRD5sr",
        "colab_type": "code",
        "colab": {}
      },
      "source": [
        "from sklearn.model_selection import train_test_split\n",
        "X_train, X_test, y_train, y_test = train_test_split(decTreeDFX, decTreeDF.AQLabel, test_size=0.3)"
      ],
      "execution_count": 0,
      "outputs": []
    },
    {
      "cell_type": "code",
      "metadata": {
        "id": "JUvofPPrEVY6",
        "colab_type": "code",
        "outputId": "18329d04-e7fc-4022-86f9-b49f96e12989",
        "colab": {
          "base_uri": "https://localhost:8080/",
          "height": 34
        }
      },
      "source": [
        "X_train.shape"
      ],
      "execution_count": 0,
      "outputs": [
        {
          "output_type": "execute_result",
          "data": {
            "text/plain": [
              "(1022, 4)"
            ]
          },
          "metadata": {
            "tags": []
          },
          "execution_count": 54
        }
      ]
    },
    {
      "cell_type": "code",
      "metadata": {
        "id": "ha0wEKRKEeVH",
        "colab_type": "code",
        "outputId": "b755897c-953d-4400-bd9f-94d86d496d52",
        "colab": {
          "base_uri": "https://localhost:8080/",
          "height": 34
        }
      },
      "source": [
        "X_test.shape"
      ],
      "execution_count": 0,
      "outputs": [
        {
          "output_type": "execute_result",
          "data": {
            "text/plain": [
              "(438, 4)"
            ]
          },
          "metadata": {
            "tags": []
          },
          "execution_count": 55
        }
      ]
    },
    {
      "cell_type": "code",
      "metadata": {
        "id": "emX2JVrF-pNr",
        "colab_type": "code",
        "outputId": "4ab9d293-1971-42d2-992e-9aebc65c52cc",
        "colab": {
          "base_uri": "https://localhost:8080/",
          "height": 34
        }
      },
      "source": [
        "y_train.shape"
      ],
      "execution_count": 0,
      "outputs": [
        {
          "output_type": "execute_result",
          "data": {
            "text/plain": [
              "(1022,)"
            ]
          },
          "metadata": {
            "tags": []
          },
          "execution_count": 56
        }
      ]
    },
    {
      "cell_type": "markdown",
      "metadata": {
        "id": "srR_MaHbWNes",
        "colab_type": "text"
      },
      "source": [
        "##Naive Bayes Classification"
      ]
    },
    {
      "cell_type": "code",
      "metadata": {
        "id": "serWz9cIb9eK",
        "colab_type": "code",
        "colab": {}
      },
      "source": [
        "from sklearn import metrics\n",
        "from sklearn.naive_bayes import GaussianNB \n",
        "naive_bayes = GaussianNB()\n",
        "naive_bayes.fit(X_train, y_train)\n",
        "expected = y_test\n",
        "predictions = naive_bayes.predict(X_test)"
      ],
      "execution_count": 0,
      "outputs": []
    },
    {
      "cell_type": "code",
      "metadata": {
        "id": "PaXW6lVAb9cl",
        "colab_type": "code",
        "outputId": "ae8e8440-a747-481d-9ef1-3c14847bf94c",
        "colab": {
          "base_uri": "https://localhost:8080/",
          "height": 34
        }
      },
      "source": [
        "from sklearn.metrics import accuracy_score, precision_score, recall_score\n",
        "print('Accuracy score:', accuracy_score(y_test, predictions))"
      ],
      "execution_count": 0,
      "outputs": [
        {
          "output_type": "stream",
          "text": [
            "Accuracy score: 0.5502283105022832\n"
          ],
          "name": "stdout"
        }
      ]
    },
    {
      "cell_type": "code",
      "metadata": {
        "id": "D7tzBf-rb9af",
        "colab_type": "code",
        "outputId": "cbd22513-0b9b-447a-cc36-93ddb59bea16",
        "colab": {
          "base_uri": "https://localhost:8080/",
          "height": 462
        }
      },
      "source": [
        "from sklearn.metrics import confusion_matrix\n",
        "import matplotlib.pyplot as plt\n",
        "import seaborn as sns\n",
        "cm = confusion_matrix(y_test, predictions)\n",
        "sns.heatmap(cm, square=True, annot=True, cmap='RdBu', cbar=False,\n",
        "xticklabels=['Good', 'Moderate','Unhealthy for sensitive groups', 'Unhealthy', 'Very Unhealthy'], yticklabels=['Good', 'Moderate','Unhealthy for sensitive groups', 'Unhealthy', 'Very Unhealthy'])\n",
        "plt.xlabel('true label')\n",
        "plt.ylabel('predicted label')"
      ],
      "execution_count": 0,
      "outputs": [
        {
          "output_type": "execute_result",
          "data": {
            "text/plain": [
              "Text(89.17999999999999, 0.5, 'predicted label')"
            ]
          },
          "metadata": {
            "tags": []
          },
          "execution_count": 73
        },
        {
          "output_type": "display_data",
          "data": {
            "image/png": "[encoded data removed]",
            "text/plain": [
              "<Figure size 432x288 with 1 Axes>"
            ]
          },
          "metadata": {
            "tags": []
          }
        }
      ]
    },
    {
      "cell_type": "code",
      "metadata": {
        "id": "w4KctErsfyxr",
        "colab_type": "code",
        "outputId": "e2c9373f-d24a-408b-ac5e-4cf02229f960",
        "colab": {
          "base_uri": "https://localhost:8080/",
          "height": 367
        }
      },
      "source": [
        "print(metrics.classification_report(expected, predictions))\n",
        "print(metrics.confusion_matrix(expected, predictions))"
      ],
      "execution_count": 0,
      "outputs": [
        {
          "output_type": "stream",
          "text": [
            "              precision    recall  f1-score   support\n",
            "\n",
            "           0       0.53      0.69      0.60        89\n",
            "           1       0.00      0.00      0.00         1\n",
            "           2       0.63      0.55      0.59       198\n",
            "           3       0.32      0.80      0.46        30\n",
            "           4       0.62      0.39      0.48       120\n",
            "\n",
            "    accuracy                           0.55       438\n",
            "   macro avg       0.42      0.49      0.42       438\n",
            "weighted avg       0.59      0.55      0.55       438\n",
            "\n",
            "[[ 61   0  24   2   2]\n",
            " [  1   0   0   0   0]\n",
            " [ 53   0 109  12  24]\n",
            " [  0   0   3  24   3]\n",
            " [  0   0  36  37  47]]\n"
          ],
          "name": "stdout"
        },
        {
          "output_type": "stream",
          "text": [
            "/usr/local/lib/python3.6/dist-packages/sklearn/metrics/_classification.py:1272: UndefinedMetricWarning: Precision and F-score are ill-defined and being set to 0.0 in labels with no predicted samples. Use `zero_division` parameter to control this behavior.\n",
            "  _warn_prf(average, modifier, msg_start, len(result))\n"
          ],
          "name": "stderr"
        }
      ]
    }
  ]
}