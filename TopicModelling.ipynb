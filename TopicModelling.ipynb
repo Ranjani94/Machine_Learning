{
  "nbformat": 4,
  "nbformat_minor": 0,
  "metadata": {
    "colab": {
      "name": "TopicModelling.ipynb",
      "provenance": [],
      "include_colab_link": true
    },
    "kernelspec": {
      "name": "python3",
      "display_name": "Python 3"
    }
  },
  "cells": [
    {
      "cell_type": "markdown",
      "metadata": {
        "id": "view-in-github",
        "colab_type": "text"
      },
      "source": [
        "<a href=\"https://colab.research.google.com/github/Ranjani94/Machine_Learning/blob/master/TopicModelling.ipynb\" target=\"_parent\"><img src=\"https://colab.research.google.com/assets/colab-badge.svg\" alt=\"Open In Colab\"/></a>"
      ]
    },
    {
      "cell_type": "markdown",
      "metadata": {
        "id": "eM5FHBM-Pkvu",
        "colab_type": "text"
      },
      "source": [
        "#Topic Naming using TF-IDF"
      ]
    },
    {
      "cell_type": "markdown",
      "metadata": {
        "id": "CugueW-qPpSm",
        "colab_type": "text"
      },
      "source": [
        "###Importing all necessary libraries"
      ]
    },
    {
      "cell_type": "code",
      "metadata": {
        "id": "ZI2eZwOE3K3-",
        "colab_type": "code",
        "colab": {}
      },
      "source": [
        "import nltk\n",
        "from nltk.corpus import stopwords\n",
        "from nltk.tokenize import word_tokenize "
      ],
      "execution_count": 0,
      "outputs": []
    },
    {
      "cell_type": "code",
      "metadata": {
        "id": "YyT08VUmAKHG",
        "colab_type": "code",
        "outputId": "52b2abec-5f33-42cb-8493-a03056a51ef7",
        "colab": {
          "base_uri": "https://localhost:8080/",
          "height": 68
        }
      },
      "source": [
        "nltk.download('stopwords')"
      ],
      "execution_count": 138,
      "outputs": [
        {
          "output_type": "stream",
          "text": [
            "[nltk_data] Downloading package stopwords to /root/nltk_data...\n",
            "[nltk_data]   Package stopwords is already up-to-date!\n"
          ],
          "name": "stdout"
        },
        {
          "output_type": "execute_result",
          "data": {
            "text/plain": [
              "True"
            ]
          },
          "metadata": {
            "tags": []
          },
          "execution_count": 138
        }
      ]
    },
    {
      "cell_type": "code",
      "metadata": {
        "id": "eouWximh_ynk",
        "colab_type": "code",
        "colab": {}
      },
      "source": [
        "StopWordsSet = set(stopwords.words('english'))"
      ],
      "execution_count": 0,
      "outputs": []
    },
    {
      "cell_type": "code",
      "metadata": {
        "id": "VSpAz2NWANDg",
        "colab_type": "code",
        "outputId": "c474e3b5-5705-49cc-e82c-9a9d4529e2ab",
        "colab": {
          "base_uri": "https://localhost:8080/",
          "height": 1000
        }
      },
      "source": [
        "StopWordsSet"
      ],
      "execution_count": 140,
      "outputs": [
        {
          "output_type": "execute_result",
          "data": {
            "text/plain": [
              "{'a',\n",
              " 'about',\n",
              " 'above',\n",
              " 'after',\n",
              " 'again',\n",
              " 'against',\n",
              " 'ain',\n",
              " 'all',\n",
              " 'am',\n",
              " 'an',\n",
              " 'and',\n",
              " 'any',\n",
              " 'are',\n",
              " 'aren',\n",
              " \"aren't\",\n",
              " 'as',\n",
              " 'at',\n",
              " 'be',\n",
              " 'because',\n",
              " 'been',\n",
              " 'before',\n",
              " 'being',\n",
              " 'below',\n",
              " 'between',\n",
              " 'both',\n",
              " 'but',\n",
              " 'by',\n",
              " 'can',\n",
              " 'couldn',\n",
              " \"couldn't\",\n",
              " 'd',\n",
              " 'did',\n",
              " 'didn',\n",
              " \"didn't\",\n",
              " 'do',\n",
              " 'does',\n",
              " 'doesn',\n",
              " \"doesn't\",\n",
              " 'doing',\n",
              " 'don',\n",
              " \"don't\",\n",
              " 'down',\n",
              " 'during',\n",
              " 'each',\n",
              " 'few',\n",
              " 'for',\n",
              " 'from',\n",
              " 'further',\n",
              " 'had',\n",
              " 'hadn',\n",
              " \"hadn't\",\n",
              " 'has',\n",
              " 'hasn',\n",
              " \"hasn't\",\n",
              " 'have',\n",
              " 'haven',\n",
              " \"haven't\",\n",
              " 'having',\n",
              " 'he',\n",
              " 'her',\n",
              " 'here',\n",
              " 'hers',\n",
              " 'herself',\n",
              " 'him',\n",
              " 'himself',\n",
              " 'his',\n",
              " 'how',\n",
              " 'i',\n",
              " 'if',\n",
              " 'in',\n",
              " 'into',\n",
              " 'is',\n",
              " 'isn',\n",
              " \"isn't\",\n",
              " 'it',\n",
              " \"it's\",\n",
              " 'its',\n",
              " 'itself',\n",
              " 'just',\n",
              " 'll',\n",
              " 'm',\n",
              " 'ma',\n",
              " 'me',\n",
              " 'mightn',\n",
              " \"mightn't\",\n",
              " 'more',\n",
              " 'most',\n",
              " 'mustn',\n",
              " \"mustn't\",\n",
              " 'my',\n",
              " 'myself',\n",
              " 'needn',\n",
              " \"needn't\",\n",
              " 'no',\n",
              " 'nor',\n",
              " 'not',\n",
              " 'now',\n",
              " 'o',\n",
              " 'of',\n",
              " 'off',\n",
              " 'on',\n",
              " 'once',\n",
              " 'only',\n",
              " 'or',\n",
              " 'other',\n",
              " 'our',\n",
              " 'ours',\n",
              " 'ourselves',\n",
              " 'out',\n",
              " 'over',\n",
              " 'own',\n",
              " 're',\n",
              " 's',\n",
              " 'same',\n",
              " 'shan',\n",
              " \"shan't\",\n",
              " 'she',\n",
              " \"she's\",\n",
              " 'should',\n",
              " \"should've\",\n",
              " 'shouldn',\n",
              " \"shouldn't\",\n",
              " 'so',\n",
              " 'some',\n",
              " 'such',\n",
              " 't',\n",
              " 'than',\n",
              " 'that',\n",
              " \"that'll\",\n",
              " 'the',\n",
              " 'their',\n",
              " 'theirs',\n",
              " 'them',\n",
              " 'themselves',\n",
              " 'then',\n",
              " 'there',\n",
              " 'these',\n",
              " 'they',\n",
              " 'this',\n",
              " 'those',\n",
              " 'through',\n",
              " 'to',\n",
              " 'too',\n",
              " 'under',\n",
              " 'until',\n",
              " 'up',\n",
              " 've',\n",
              " 'very',\n",
              " 'was',\n",
              " 'wasn',\n",
              " \"wasn't\",\n",
              " 'we',\n",
              " 'were',\n",
              " 'weren',\n",
              " \"weren't\",\n",
              " 'what',\n",
              " 'when',\n",
              " 'where',\n",
              " 'which',\n",
              " 'while',\n",
              " 'who',\n",
              " 'whom',\n",
              " 'why',\n",
              " 'will',\n",
              " 'with',\n",
              " 'won',\n",
              " \"won't\",\n",
              " 'wouldn',\n",
              " \"wouldn't\",\n",
              " 'y',\n",
              " 'you',\n",
              " \"you'd\",\n",
              " \"you'll\",\n",
              " \"you're\",\n",
              " \"you've\",\n",
              " 'your',\n",
              " 'yours',\n",
              " 'yourself',\n",
              " 'yourselves'}"
            ]
          },
          "metadata": {
            "tags": []
          },
          "execution_count": 140
        }
      ]
    },
    {
      "cell_type": "code",
      "metadata": {
        "id": "OSFKpsF6AXRx",
        "colab_type": "code",
        "outputId": "1e059b90-77f7-4519-a0a1-d68361ceb3d1",
        "colab": {
          "base_uri": "https://localhost:8080/",
          "height": 34
        }
      },
      "source": [
        "from google.colab import drive\n",
        "drive.mount('/content/gdrive', force_remount=True)\n",
        "root_dir = \"/content/gdrive/My Drive/MLSpring2020/the_expendables_AirQuality_Traffic/\"\n",
        "base_dir = root_dir + 'LDAData'"
      ],
      "execution_count": 141,
      "outputs": [
        {
          "output_type": "stream",
          "text": [
            "Mounted at /content/gdrive\n"
          ],
          "name": "stdout"
        }
      ]
    },
    {
      "cell_type": "code",
      "metadata": {
        "id": "VYsyjwW4YpJM",
        "colab_type": "code",
        "colab": {}
      },
      "source": [
        "filename = base_dir + '/Merge.txt'"
      ],
      "execution_count": 0,
      "outputs": []
    },
    {
      "cell_type": "code",
      "metadata": {
        "id": "OI1Xh9OkX1jy",
        "colab_type": "code",
        "colab": {
          "base_uri": "https://localhost:8080/",
          "height": 119
        },
        "outputId": "03ad0c89-9125-4d3f-f1e7-1dbc5e76fc05"
      },
      "source": [
        "file = open(filename, 'rt')\n",
        "text = file.read()\n",
        "file.close()\n",
        "# split into sentences\n",
        "from nltk import sent_tokenize\n",
        "sentences = sent_tokenize(text)\n",
        "print(sentences[0])"
      ],
      "execution_count": 143,
      "outputs": [
        {
          "output_type": "stream",
          "text": [
            "Mr. Speaker, Mr. Vice President, Members of Congress, my fellow\n",
            "Americans:\n",
            "\n",
            "Today in America, a teacher spent extra time with a student who needed\n",
            "it, and did her part to lift America's graduation rate to its highest\n",
            "level in more than three decades.\n"
          ],
          "name": "stdout"
        }
      ]
    },
    {
      "cell_type": "code",
      "metadata": {
        "id": "JN-AsN_HY8Cp",
        "colab_type": "code",
        "colab": {
          "base_uri": "https://localhost:8080/",
          "height": 54
        },
        "outputId": "10a0f4bf-3be8-44ae-f26c-704c890ad34e"
      },
      "source": [
        "# split into words\n",
        "from nltk.tokenize import word_tokenize\n",
        "tokens = word_tokenize(text)\n",
        "print(tokens[:100])"
      ],
      "execution_count": 144,
      "outputs": [
        {
          "output_type": "stream",
          "text": [
            "['Mr.', 'Speaker', ',', 'Mr.', 'Vice', 'President', ',', 'Members', 'of', 'Congress', ',', 'my', 'fellow', 'Americans', ':', 'Today', 'in', 'America', ',', 'a', 'teacher', 'spent', 'extra', 'time', 'with', 'a', 'student', 'who', 'needed', 'it', ',', 'and', 'did', 'her', 'part', 'to', 'lift', 'America', \"'s\", 'graduation', 'rate', 'to', 'its', 'highest', 'level', 'in', 'more', 'than', 'three', 'decades', '.', 'An', 'entrepreneur', 'flipped', 'on', 'the', 'lights', 'in', 'her', 'tech', 'startup', ',', 'and', 'did', 'her', 'part', 'to', 'add', 'to', 'the', 'more', 'than', 'eight', 'million', 'new', 'jobs', 'our', 'businesses', 'have', 'created', 'over', 'the', 'past', 'four', 'years', '.', 'An', 'autoworker', 'fine-tuned', 'some', 'of', 'the', 'best', ',', 'most', 'fuel-efficient', 'cars', 'in', 'the', 'world']\n"
          ],
          "name": "stdout"
        }
      ]
    },
    {
      "cell_type": "code",
      "metadata": {
        "id": "jlVr2ISxejRb",
        "colab_type": "code",
        "colab": {
          "base_uri": "https://localhost:8080/",
          "height": 54
        },
        "outputId": "9cab4af3-61ee-49fb-f22b-e09ad2287cda"
      },
      "source": [
        "# convert to lower case\n",
        "tokens = [w.lower() for w in tokens]\n",
        "print(tokens[:100])"
      ],
      "execution_count": 145,
      "outputs": [
        {
          "output_type": "stream",
          "text": [
            "['mr.', 'speaker', ',', 'mr.', 'vice', 'president', ',', 'members', 'of', 'congress', ',', 'my', 'fellow', 'americans', ':', 'today', 'in', 'america', ',', 'a', 'teacher', 'spent', 'extra', 'time', 'with', 'a', 'student', 'who', 'needed', 'it', ',', 'and', 'did', 'her', 'part', 'to', 'lift', 'america', \"'s\", 'graduation', 'rate', 'to', 'its', 'highest', 'level', 'in', 'more', 'than', 'three', 'decades', '.', 'an', 'entrepreneur', 'flipped', 'on', 'the', 'lights', 'in', 'her', 'tech', 'startup', ',', 'and', 'did', 'her', 'part', 'to', 'add', 'to', 'the', 'more', 'than', 'eight', 'million', 'new', 'jobs', 'our', 'businesses', 'have', 'created', 'over', 'the', 'past', 'four', 'years', '.', 'an', 'autoworker', 'fine-tuned', 'some', 'of', 'the', 'best', ',', 'most', 'fuel-efficient', 'cars', 'in', 'the', 'world']\n"
          ],
          "name": "stdout"
        }
      ]
    },
    {
      "cell_type": "code",
      "metadata": {
        "id": "9j91vw74ZBTw",
        "colab_type": "code",
        "colab": {
          "base_uri": "https://localhost:8080/",
          "height": 54
        },
        "outputId": "9aa1aacf-df0e-404c-99dc-c942d3235bf0"
      },
      "source": [
        "# remove all Punctuation\n",
        "words = [word for word in tokens if word.isalpha()]\n",
        "print(words[:100])"
      ],
      "execution_count": 146,
      "outputs": [
        {
          "output_type": "stream",
          "text": [
            "['speaker', 'vice', 'president', 'members', 'of', 'congress', 'my', 'fellow', 'americans', 'today', 'in', 'america', 'a', 'teacher', 'spent', 'extra', 'time', 'with', 'a', 'student', 'who', 'needed', 'it', 'and', 'did', 'her', 'part', 'to', 'lift', 'america', 'graduation', 'rate', 'to', 'its', 'highest', 'level', 'in', 'more', 'than', 'three', 'decades', 'an', 'entrepreneur', 'flipped', 'on', 'the', 'lights', 'in', 'her', 'tech', 'startup', 'and', 'did', 'her', 'part', 'to', 'add', 'to', 'the', 'more', 'than', 'eight', 'million', 'new', 'jobs', 'our', 'businesses', 'have', 'created', 'over', 'the', 'past', 'four', 'years', 'an', 'autoworker', 'some', 'of', 'the', 'best', 'most', 'cars', 'in', 'the', 'world', 'and', 'did', 'his', 'part', 'to', 'help', 'america', 'wean', 'itself', 'off', 'foreign', 'oil', 'a', 'farmer', 'prepared']\n"
          ],
          "name": "stdout"
        }
      ]
    },
    {
      "cell_type": "code",
      "metadata": {
        "id": "9eVfmqZZZTlU",
        "colab_type": "code",
        "colab": {
          "base_uri": "https://localhost:8080/",
          "height": 54
        },
        "outputId": "cf8ae5ee-5bed-47f6-c0f6-a3ae9232cf4e"
      },
      "source": [
        "# filter out stop words\n",
        "words = [w for w in words if not w in StopWordsSet]\n",
        "print(words[:100])"
      ],
      "execution_count": 147,
      "outputs": [
        {
          "output_type": "stream",
          "text": [
            "['speaker', 'vice', 'president', 'members', 'congress', 'fellow', 'americans', 'today', 'america', 'teacher', 'spent', 'extra', 'time', 'student', 'needed', 'part', 'lift', 'america', 'graduation', 'rate', 'highest', 'level', 'three', 'decades', 'entrepreneur', 'flipped', 'lights', 'tech', 'startup', 'part', 'add', 'eight', 'million', 'new', 'jobs', 'businesses', 'created', 'past', 'four', 'years', 'autoworker', 'best', 'cars', 'world', 'part', 'help', 'america', 'wean', 'foreign', 'oil', 'farmer', 'prepared', 'spring', 'strongest', 'stretch', 'farm', 'exports', 'history', 'rural', 'doctor', 'gave', 'young', 'child', 'first', 'prescription', 'treat', 'asthma', 'mother', 'could', 'afford', 'man', 'took', 'bus', 'home', 'graveyard', 'shift', 'dreaming', 'big', 'dreams', 'son', 'communities', 'across', 'america', 'fathers', 'mothers', 'tuck', 'kids', 'put', 'arm', 'around', 'spouse', 'remember', 'fallen', 'comrades', 'give', 'thanks', 'home', 'war', 'twelve', 'long']\n"
          ],
          "name": "stdout"
        }
      ]
    },
    {
      "cell_type": "code",
      "metadata": {
        "id": "fOCu-HKJZ4cZ",
        "colab_type": "code",
        "colab": {
          "base_uri": "https://localhost:8080/",
          "height": 54
        },
        "outputId": "f3cf9811-6f7c-4869-eeca-9af658f92571"
      },
      "source": [
        "# stemming of words\n",
        "from nltk.stem.porter import PorterStemmer\n",
        "porter = PorterStemmer()\n",
        "stemmed = [porter.stem(word) for word in words]\n",
        "print(stemmed[:100])"
      ],
      "execution_count": 148,
      "outputs": [
        {
          "output_type": "stream",
          "text": [
            "['speaker', 'vice', 'presid', 'member', 'congress', 'fellow', 'american', 'today', 'america', 'teacher', 'spent', 'extra', 'time', 'student', 'need', 'part', 'lift', 'america', 'graduat', 'rate', 'highest', 'level', 'three', 'decad', 'entrepreneur', 'flip', 'light', 'tech', 'startup', 'part', 'add', 'eight', 'million', 'new', 'job', 'busi', 'creat', 'past', 'four', 'year', 'autowork', 'best', 'car', 'world', 'part', 'help', 'america', 'wean', 'foreign', 'oil', 'farmer', 'prepar', 'spring', 'strongest', 'stretch', 'farm', 'export', 'histori', 'rural', 'doctor', 'gave', 'young', 'child', 'first', 'prescript', 'treat', 'asthma', 'mother', 'could', 'afford', 'man', 'took', 'bu', 'home', 'graveyard', 'shift', 'dream', 'big', 'dream', 'son', 'commun', 'across', 'america', 'father', 'mother', 'tuck', 'kid', 'put', 'arm', 'around', 'spous', 'rememb', 'fallen', 'comrad', 'give', 'thank', 'home', 'war', 'twelv', 'long']\n"
          ],
          "name": "stdout"
        }
      ]
    },
    {
      "cell_type": "code",
      "metadata": {
        "id": "hfHTUKOmbFpn",
        "colab_type": "code",
        "colab": {}
      },
      "source": [
        "import gensim"
      ],
      "execution_count": 0,
      "outputs": []
    },
    {
      "cell_type": "code",
      "metadata": {
        "id": "IHs1HJCHbGMG",
        "colab_type": "code",
        "colab": {}
      },
      "source": [
        "%matplotlib inline\n",
        "from matplotlib import pyplot as plt\n",
        "from wordcloud import WordCloud\n",
        "\n",
        "def display_topic(words_probabilities):\n",
        "  bows = []\n",
        "  [bows.extend([word] * (int(probability*100) + 1)) for word,probability in words_probabilities]\n",
        "  wordcloud = WordCloud(width = 800, height = 800, background_color ='white', min_font_size = 10).generate(' '.join(bows))\n",
        "  plt.figure(figsize=[3,3])\n",
        "  plt.imshow(wordcloud, interpolation='bilinear')\n",
        "  plt.axis(\"off\")"
      ],
      "execution_count": 0,
      "outputs": []
    },
    {
      "cell_type": "code",
      "metadata": {
        "id": "NutfxUX-bYkD",
        "colab_type": "code",
        "colab": {}
      },
      "source": [
        "vocab = gensim.corpora.Dictionary([stemmed])"
      ],
      "execution_count": 0,
      "outputs": []
    },
    {
      "cell_type": "code",
      "metadata": {
        "id": "AiXYzGZobYmo",
        "colab_type": "code",
        "colab": {}
      },
      "source": [
        "bow_corpus = [vocab.doc2bow(doc) for doc in [stemmed]]\n",
        "n_topics = 7"
      ],
      "execution_count": 0,
      "outputs": []
    },
    {
      "cell_type": "code",
      "metadata": {
        "id": "39MGRfv6bYot",
        "colab_type": "code",
        "colab": {}
      },
      "source": [
        "#Building the LDA model\n",
        "lda_model = gensim.models.LdaMulticore(corpus= bow_corpus, num_topics = n_topics, id2word = vocab, passes = 10, workers = 2)"
      ],
      "execution_count": 0,
      "outputs": []
    },
    {
      "cell_type": "code",
      "metadata": {
        "id": "ijbj1Hl_bm8C",
        "colab_type": "code",
        "colab": {
          "base_uri": "https://localhost:8080/",
          "height": 1000
        },
        "outputId": "366fee5f-6d46-4414-ffc1-80fc8f630acc"
      },
      "source": [
        "for topic_no in range(n_topics):\n",
        "  display_topic(lda_model.show_topic(topic_no))"
      ],
      "execution_count": 154,
      "outputs": [
        {
          "output_type": "display_data",
          "data": {
            "image/png": "[encoded data removed]",
            "text/plain": [
              "<Figure size 216x216 with 1 Axes>"
            ]
          },
          "metadata": {
            "tags": [],
            "needs_background": "light"
          }
        },
        {
          "output_type": "display_data",
          "data": {
            "image/png": "[encoded data removed]",
            "text/plain": [
              "<Figure size 216x216 with 1 Axes>"
            ]
          },
          "metadata": {
            "tags": [],
            "needs_background": "light"
          }
        },
        {
          "output_type": "display_data",
          "data": {
            "image/png": "[encoded data removed]",
            "text/plain": [
              "<Figure size 216x216 with 1 Axes>"
            ]
          },
          "metadata": {
            "tags": [],
            "needs_background": "light"
          }
        },
        {
          "output_type": "display_data",
          "data": {
            "image/png": "[encoded data removed]",
            "text/plain": [
              "<Figure size 216x216 with 1 Axes>"
            ]
          },
          "metadata": {
            "tags": [],
            "needs_background": "light"
          }
        },
        {
          "output_type": "display_data",
          "data": {
            "image/png": "[encoded data removed]",
            "text/plain": [
              "<Figure size 216x216 with 1 Axes>"
            ]
          },
          "metadata": {
            "tags": [],
            "needs_background": "light"
          }
        },
        {
          "output_type": "display_data",
          "data": {
            "image/png": "[encoded data removed]",
            "text/plain": [
              "<Figure size 216x216 with 1 Axes>"
            ]
          },
          "metadata": {
            "tags": [],
            "needs_background": "light"
          }
        },
        {
          "output_type": "display_data",
          "data": {
            "image/png": "[encoded data removed]",
            "text/plain": [
              "<Figure size 216x216 with 1 Axes>"
            ]
          },
          "metadata": {
            "tags": [],
            "needs_background": "light"
          }
        }
      ]
    },
    {
      "cell_type": "code",
      "metadata": {
        "id": "XXJFSAfCc7Cp",
        "colab_type": "code",
        "colab": {}
      },
      "source": [
        "mat = []\n",
        "for topic_no in range(n_topics):\n",
        "  words_probabilities= lda_model.show_topic(topic_no)\n",
        "  ls = []\n",
        "  for word , probability in words_probabilities:\n",
        "    ls.append(word)\n",
        "  mat.append(ls)"
      ],
      "execution_count": 0,
      "outputs": []
    },
    {
      "cell_type": "code",
      "metadata": {
        "id": "oqgXbBOCc-QU",
        "colab_type": "code",
        "colab": {}
      },
      "source": [
        "ls = mat[0]"
      ],
      "execution_count": 0,
      "outputs": []
    },
    {
      "cell_type": "code",
      "metadata": {
        "id": "CeRTH-BQc-fE",
        "colab_type": "code",
        "colab": {
          "base_uri": "https://localhost:8080/",
          "height": 1000
        },
        "outputId": "ff4b5e2a-e7dc-4160-c3f4-972f4a7c7c69"
      },
      "source": [
        "mat"
      ],
      "execution_count": 157,
      "outputs": [
        {
          "output_type": "execute_result",
          "data": {
            "text/plain": [
              "[['american',\n",
              "  'america',\n",
              "  'work',\n",
              "  'new',\n",
              "  'year',\n",
              "  'world',\n",
              "  'us',\n",
              "  'peopl',\n",
              "  'job',\n",
              "  'countri'],\n",
              " ['american',\n",
              "  'us',\n",
              "  'america',\n",
              "  'new',\n",
              "  'countri',\n",
              "  'job',\n",
              "  'year',\n",
              "  'world',\n",
              "  'make',\n",
              "  'nation'],\n",
              " ['american',\n",
              "  'work',\n",
              "  'america',\n",
              "  'year',\n",
              "  'countri',\n",
              "  'us',\n",
              "  'world',\n",
              "  'job',\n",
              "  'new',\n",
              "  'help'],\n",
              " ['american',\n",
              "  'work',\n",
              "  'america',\n",
              "  'year',\n",
              "  'job',\n",
              "  'us',\n",
              "  'one',\n",
              "  'help',\n",
              "  'nation',\n",
              "  'peopl'],\n",
              " ['american',\n",
              "  'america',\n",
              "  'year',\n",
              "  'work',\n",
              "  'us',\n",
              "  'job',\n",
              "  'new',\n",
              "  'countri',\n",
              "  'peopl',\n",
              "  'help'],\n",
              " ['american',\n",
              "  'year',\n",
              "  'us',\n",
              "  'job',\n",
              "  'america',\n",
              "  'countri',\n",
              "  'work',\n",
              "  'new',\n",
              "  'everi',\n",
              "  'help'],\n",
              " ['year',\n",
              "  'work',\n",
              "  'america',\n",
              "  'american',\n",
              "  'job',\n",
              "  'us',\n",
              "  'new',\n",
              "  'nation',\n",
              "  'make',\n",
              "  'peopl']]"
            ]
          },
          "metadata": {
            "tags": []
          },
          "execution_count": 157
        }
      ]
    },
    {
      "cell_type": "code",
      "metadata": {
        "id": "CnqYm7UX0CLt",
        "colab_type": "code",
        "colab": {
          "base_uri": "https://localhost:8080/",
          "height": 861
        },
        "outputId": "9c06411d-d432-4572-a1c2-323ae4cecfb6"
      },
      "source": [
        "# Visualize the topics\n",
        "import pyLDAvis\n",
        "import pyLDAvis.gensim as gensimvis\n",
        "pyLDAvis.enable_notebook()\n",
        "vis = pyLDAvis.gensim.prepare(lda_model, bow_corpus, vocab)\n",
        "pyLDAvis.display(vis)"
      ],
      "execution_count": 158,
      "outputs": [
        {
          "output_type": "execute_result",
          "data": {
            "text/html": [
              "\n",
              "<link rel=\"stylesheet\" type=\"text/css\" href=\"https://cdn.rawgit.com/bmabey/pyLDAvis/files/ldavis.v1.0.0.css\">\n",
              "\n",
              "\n",
              "<div id=\"ldavis_el24601400434219829121574968532\"></div>\n",
              "<script type=\"text/javascript\">\n",
              "\n",
              "var ldavis_el24601400434219829121574968532_data = {\"mdsDat\": {\"x\": [-0.10570765372013374, 0.009384412578386793, 0.016548813300562615, 0.018322464887364793, 0.01957105921750731, 0.020531466222050043, 0.02134943751426222], \"y\": [0.0, -0.0, 0.0, -0.0, -0.0, -0.0, 0.0], \"topics\": [1, 2, 3, 4, 5, 6, 7], \"cluster\": [1, 1, 1, 1, 1, 1, 1], \"Freq\": [99.99028778076172, 0.0016197902150452137, 0.0016197704244405031, 0.0016197672812268138, 0.001619765185751021, 0.0016197636723518372, 0.001619762391783297]}, \"tinfo\": {\"Term\": [\"american\", \"year\", \"america\", \"work\", \"us\", \"job\", \"new\", \"countri\", \"peopl\", \"world\", \"help\", \"make\", \"one\", \"nation\", \"state\", \"everi\", \"need\", \"want\", \"get\", \"busi\", \"like\", \"time\", \"tonight\", \"congress\", \"right\", \"know\", \"keep\", \"secur\", \"futur\", \"famili\", \"american\", \"america\", \"year\", \"work\", \"us\", \"job\", \"peopl\", \"new\", \"countri\", \"help\", \"world\", \"make\", \"one\", \"nation\", \"everi\", \"state\", \"need\", \"get\", \"want\", \"busi\", \"time\", \"like\", \"famili\", \"tonight\", \"congress\", \"know\", \"right\", \"futur\", \"secur\", \"chang\", \"keep\", \"succe\", \"surpris\", \"pentagon\", \"broaden\", \"wise\", \"deepli\", \"withdrawn\", \"squeez\", \"frontier\", \"occur\", \"marathon\", \"paycheck\", \"tom\", \"gravit\", \"complain\", \"autowork\", \"movement\", \"wish\", \"dwight\", \"broke\", \"district\", \"agenc\", \"ought\", \"nationwid\", \"tenth\", \"humanitarian\", \"urgent\", \"brochur\", \"gold\", \"impress\", \"endur\", \"loud\", \"pickup\", \"year\", \"work\", \"america\", \"job\", \"nation\", \"american\", \"make\", \"new\", \"us\", \"peopl\", \"help\", \"one\", \"state\", \"like\", \"world\", \"countri\", \"need\", \"busi\", \"keep\", \"get\", \"secur\", \"want\", \"time\", \"economi\", \"even\", \"today\", \"better\", \"right\", \"tonight\", \"everi\", \"congress\", \"mistreat\", \"surpris\", \"tom\", \"violat\", \"joke\", \"retool\", \"succe\", \"releas\", \"haven\", \"reignit\", \"pentagon\", \"util\", \"salli\", \"turnov\", \"hedg\", \"survey\", \"impress\", \"peril\", \"suffer\", \"sexual\", \"chute\", \"wash\", \"dough\", \"dwight\", \"apart\", \"ration\", \"preexist\", \"wise\", \"bankruptci\", \"autowork\", \"decid\", \"killer\", \"overrid\", \"embargo\", \"mileston\", \"unansw\", \"notion\", \"iii\", \"american\", \"overcam\", \"year\", \"job\", \"us\", \"countri\", \"america\", \"everi\", \"new\", \"work\", \"one\", \"help\", \"world\", \"need\", \"peopl\", \"must\", \"make\", \"keep\", \"state\", \"busi\", \"time\", \"nation\", \"unit\", \"get\", \"economi\", \"let\", \"creat\", \"chang\", \"tonight\", \"mani\", \"congress\", \"want\", \"right\", \"chute\", \"grade\", \"merriweath\", \"orient\", \"relief\", \"paycheck\", \"lockhe\", \"brand\", \"broaden\", \"hurt\", \"regard\", \"choos\", \"convict\", \"dirti\", \"restraint\", \"fascism\", \"motiv\", \"rescu\", \"adopt\", \"gruel\", \"echo\", \"hospit\", \"deepen\", \"surpris\", \"util\", \"blue\", \"wise\", \"minneapoli\", \"cheaper\", \"carver\", \"cuba\", \"symbol\", \"manner\", \"nonprofit\", \"cross\", \"creativ\", \"plea\", \"coordin\", \"recip\", \"decenc\", \"dish\", \"american\", \"work\", \"america\", \"year\", \"one\", \"job\", \"help\", \"nation\", \"us\", \"want\", \"peopl\", \"make\", \"state\", \"everi\", \"come\", \"new\", \"tonight\", \"countri\", \"world\", \"worker\", \"congress\", \"get\", \"keep\", \"like\", \"first\", \"need\", \"time\", \"believ\", \"also\", \"busi\", \"commun\", \"straight\", \"osama\", \"brochur\", \"raid\", \"drew\", \"cook\", \"edg\", \"princip\", \"deepli\", \"directli\", \"beneath\", \"surpris\", \"cop\", \"nice\", \"nationwid\", \"lender\", \"disciplin\", \"legislatur\", \"cuban\", \"flag\", \"mire\", \"exercis\", \"turnov\", \"prove\", \"verizon\", \"sell\", \"influx\", \"platform\", \"mosqu\", \"relationship\", \"livelihood\", \"tackl\", \"fallen\", \"mat\", \"sequest\", \"disput\", \"beachhead\", \"condemn\", \"american\", \"america\", \"new\", \"work\", \"year\", \"world\", \"peopl\", \"us\", \"countri\", \"job\", \"state\", \"help\", \"one\", \"want\", \"make\", \"nation\", \"better\", \"everi\", \"get\", \"futur\", \"tonight\", \"busi\", \"take\", \"like\", \"way\", \"right\", \"time\", \"go\", \"health\", \"forc\", \"commun\", \"give\", \"know\", \"congress\", \"lone\", \"deepli\", \"franc\", \"villag\", \"deport\", \"went\", \"russian\", \"marketplac\", \"retool\", \"attract\", \"weaker\", \"sophomor\", \"cheaper\", \"dough\", \"impress\", \"test\", \"although\", \"frontier\", \"dwight\", \"edg\", \"surpris\", \"remington\", \"privaci\", \"address\", \"foe\", \"chute\", \"updat\", \"drop\", \"remak\", \"marvel\", \"devot\", \"imper\", \"unlimit\", \"taught\", \"reconfirm\", \"grandkid\", \"inventor\", \"latin\", \"millennia\", \"respond\", \"recov\", \"former\", \"riddl\", \"american\", \"work\", \"countri\", \"america\", \"year\", \"world\", \"us\", \"job\", \"help\", \"new\", \"make\", \"want\", \"peopl\", \"state\", \"need\", \"come\", \"chang\", \"know\", \"one\", \"nation\", \"right\", \"busi\", \"secur\", \"congress\", \"today\", \"everi\", \"get\", \"opportun\", \"commun\", \"health\", \"like\", \"tonight\", \"surpris\", \"util\", \"brochur\", \"missil\", \"miner\", \"slain\", \"cheaper\", \"withdrawn\", \"honestli\", \"chines\", \"selv\", \"drought\", \"known\", \"needless\", \"warn\", \"stumbl\", \"loyalti\", \"nationwid\", \"tom\", \"paycheck\", \"suspicion\", \"nativ\", \"hedg\", \"cemeteri\", \"gravit\", \"bay\", \"overcom\", \"movement\", \"garag\", \"group\", \"nonmilitari\", \"panel\", \"bell\", \"sale\", \"softbank\", \"heroic\", \"colombia\", \"eager\", \"spill\", \"misfortun\", \"american\", \"us\", \"countri\", \"new\", \"america\", \"job\", \"make\", \"world\", \"nation\", \"everi\", \"year\", \"one\", \"work\", \"state\", \"congress\", \"help\", \"get\", \"know\", \"right\", \"peopl\", \"want\", \"chang\", \"first\", \"need\", \"like\", \"great\", \"secur\", \"mani\", \"time\", \"tonight\"], \"Freq\": [121.0, 85.0, 85.0, 81.0, 70.0, 66.0, 61.0, 60.0, 58.0, 55.0, 55.0, 52.0, 50.0, 49.0, 45.0, 46.0, 42.0, 38.0, 38.0, 35.0, 33.0, 33.0, 32.0, 32.0, 31.0, 31.0, 29.0, 29.0, 29.0, 30.0, 121.87091064453125, 85.14686584472656, 85.136474609375, 81.27635955810547, 70.67068481445312, 66.76861572265625, 58.130104064941406, 61.94315719604492, 60.01246643066406, 55.189910888671875, 55.1856803894043, 52.283042907714844, 50.34950256347656, 49.377986907958984, 46.52355194091797, 45.51593017578125, 42.662010192871094, 38.77528762817383, 38.7529411315918, 35.87571716308594, 33.951576232910156, 33.92283630371094, 30.13231086730957, 32.00096130371094, 32.007381439208984, 31.069549560546875, 31.05167579650879, 29.12709617614746, 29.110605239868164, 28.163509368896484, 29.093637466430664, 6.442996527766809e-05, 6.408373883459717e-05, 6.401568680303171e-05, 6.395063974196091e-05, 6.394857336999848e-05, 6.390346243279055e-05, 6.386268069036305e-05, 6.386998575180769e-05, 6.385261804098263e-05, 6.380826380336657e-05, 6.379406113410369e-05, 6.37852936051786e-05, 6.37151679256931e-05, 6.373515498125926e-05, 6.374366785166785e-05, 6.370915798470378e-05, 6.368261529132724e-05, 6.369443144649267e-05, 6.361280247801915e-05, 6.367065361700952e-05, 6.36524855508469e-05, 6.365890294546261e-05, 6.364115688484162e-05, 6.359567487379536e-05, 6.364674482028931e-05, 6.360076804412529e-05, 6.358935934258625e-05, 6.352149648591876e-05, 6.357232632581145e-05, 6.353540811687708e-05, 6.354137440212071e-05, 6.356272206176072e-05, 6.356848462019116e-05, 0.00019457549205981195, 0.00016804922779556364, 0.00016206764848902822, 0.00015026530309114605, 0.00013534017489291728, 0.00015799154061824083, 0.00013434932043310255, 0.00013689549814444035, 0.00013967622362542897, 0.00013380330346990377, 0.00013255841622594744, 0.00012603231880348176, 0.00012377345410641283, 0.00011584905587369576, 0.0001245068560820073, 0.0001262249134015292, 0.00011548676411621273, 0.00010991951421601698, 0.0001058915295288898, 0.00011038985394407064, 0.00010314591054338962, 0.00010657797974999994, 0.0001029008490149863, 9.932386456057429e-05, 9.771557961357757e-05, 9.637566836318001e-05, 9.626893006497994e-05, 9.884143219096586e-05, 9.905789192998782e-05, 0.00010314476821804419, 9.670160216046497e-05, 6.470955850090832e-05, 6.4530671807006e-05, 6.457480048993602e-05, 6.464756006607786e-05, 6.460534496000037e-05, 6.456100527429953e-05, 6.444030441343784e-05, 6.459710857598111e-05, 6.459357973653823e-05, 6.458167626988143e-05, 6.444205791922286e-05, 6.446181214414537e-05, 6.455863331211731e-05, 6.449869397329167e-05, 6.454173853853717e-05, 6.451408262364566e-05, 6.446201587095857e-05, 6.451998342527077e-05, 6.45077379886061e-05, 6.449908687500283e-05, 6.444307655328885e-05, 6.452346860896796e-05, 6.44558749627322e-05, 6.4426327298861e-05, 6.447055056924e-05, 6.452968955272809e-05, 6.446421321015805e-05, 6.440282595576718e-05, 6.44944011582993e-05, 6.441041477955878e-05, 6.451301305787638e-05, 6.452181696658954e-05, 6.451798981288448e-05, 6.449691136367619e-05, 6.448515341617167e-05, 6.44905521767214e-05, 6.448238127632067e-05, 6.448305066442117e-05, 0.0001618253591004759, 6.447527266573161e-05, 0.000122520825243555, 0.00011769689444918185, 0.00011771670688176528, 0.00011504194117151201, 0.00011716164590325207, 0.00010554405889706686, 0.00010877726890612394, 0.00011081972479587421, 0.00010388975351816043, 0.00010499313793843612, 0.0001049730708473362, 9.876165131572634e-05, 0.00010070990538224578, 9.147682430921122e-05, 9.882427548291162e-05, 9.09682348719798e-05, 9.445803152630106e-05, 9.189825505018234e-05, 9.10603630472906e-05, 9.339048847323284e-05, 8.718160097487271e-05, 9.072322427527979e-05, 8.707322558620945e-05, 8.728109241928905e-05, 8.669547241879627e-05, 8.731987327337265e-05, 8.82787790033035e-05, 8.565322059439495e-05, 8.794782479526475e-05, 8.938851533457637e-05, 8.742714999243617e-05, 6.472530367318541e-05, 6.479262810898945e-05, 6.485109042841941e-05, 6.476759881479666e-05, 6.480758747784421e-05, 6.470498919952661e-05, 6.477585702668875e-05, 6.475640839198604e-05, 6.463019963121042e-05, 6.475612462963909e-05, 6.472778477473184e-05, 6.470074731623754e-05, 6.46966218482703e-05, 6.466980994446203e-05, 6.470437801908702e-05, 6.471045344369486e-05, 6.47360211587511e-05, 6.470528751378879e-05, 6.468797801062465e-05, 6.465889600804076e-05, 6.467955972766504e-05, 6.469384970841929e-05, 6.472173845395446e-05, 6.451365334214643e-05, 6.459648284362629e-05, 6.46740008960478e-05, 6.458537973230705e-05, 6.471055530710146e-05, 6.462727469624951e-05, 6.468038191087544e-05, 6.470111111411825e-05, 6.471776578109711e-05, 6.470220250776038e-05, 6.470567313954234e-05, 6.475666305050254e-05, 6.472420500358567e-05, 6.470222433563322e-05, 6.471054803114384e-05, 6.472023960668594e-05, 6.471742381108925e-05, 6.47072956780903e-05, 0.00015291033196263015, 0.00013264080916997045, 0.00012546699144877493, 0.00011654962145257741, 0.00010381939500803128, 0.00010708062472986057, 0.00010366846254328266, 0.00010108137939823791, 0.00010488610860193148, 9.629791020415723e-05, 9.979630704037845e-05, 9.817826503422111e-05, 9.563237108523026e-05, 9.48417218751274e-05, 8.947812602855265e-05, 9.74933645920828e-05, 9.006883192341775e-05, 9.517365106148645e-05, 9.408131882082671e-05, 8.711145346751437e-05, 8.763965161051601e-05, 8.878141670720652e-05, 8.620515291113406e-05, 8.658265142003074e-05, 8.422822429565713e-05, 8.754334703553468e-05, 8.555142994737253e-05, 8.263564814114943e-05, 8.20672357804142e-05, 8.460023673251271e-05, 8.280968177132308e-05, 6.50094443699345e-05, 6.497946742456406e-05, 6.48601635475643e-05, 6.497550202766433e-05, 6.494466651929542e-05, 6.486043275799602e-05, 6.490293890237808e-05, 6.487794598797336e-05, 6.479249714175239e-05, 6.49581488687545e-05, 6.488749932032079e-05, 6.472745008068159e-05, 6.483654578914866e-05, 6.494232366094366e-05, 6.48149725748226e-05, 6.493974797194824e-05, 6.493683758890256e-05, 6.489309453172609e-05, 6.492834654636681e-05, 6.48326677037403e-05, 6.493354885606095e-05, 6.48555505904369e-05, 6.482416938524693e-05, 6.485309131676331e-05, 6.486428901553154e-05, 6.48804780212231e-05, 6.489521183539182e-05, 6.488898361567408e-05, 6.486749043688178e-05, 6.483274046331644e-05, 6.49001231067814e-05, 6.49019712000154e-05, 6.486356869572774e-05, 6.48613422526978e-05, 6.485727499239147e-05, 6.487087375717238e-05, 6.487532664323226e-05, 6.4866166212596e-05, 0.00014294590801000595, 0.00012148721725679934, 0.00011085940786870196, 0.00011332731082802638, 0.00010958489292534068, 0.00010288932389812544, 0.00010078557534143329, 0.0001025332894641906, 9.921407036017627e-05, 9.953277913155034e-05, 9.568095993017778e-05, 9.703904652269557e-05, 9.363344724988565e-05, 9.113092528423294e-05, 9.309317101724446e-05, 9.242692613042891e-05, 8.641977183287963e-05, 9.154464351013303e-05, 8.916632214095443e-05, 8.542959403712302e-05, 8.566225005779415e-05, 8.549333870178089e-05, 8.2308346463833e-05, 8.462267578579485e-05, 8.179441647371277e-05, 8.28906413516961e-05, 8.311225974466652e-05, 8.086529123829678e-05, 7.97892062109895e-05, 7.850419206079096e-05, 8.084808359853923e-05, 8.066090231295675e-05, 8.099371916614473e-05, 8.093146607279778e-05, 6.512185791507363e-05, 6.497073627542704e-05, 6.502954056486487e-05, 6.512301479233429e-05, 6.500440213130787e-05, 6.505040801130235e-05, 6.507345824502409e-05, 6.502675387309864e-05, 6.500462768599391e-05, 6.50216534268111e-05, 6.500587915070355e-05, 6.510415551019832e-05, 6.49832290946506e-05, 6.497306458186358e-05, 6.496447895187885e-05, 6.500035669887438e-05, 6.505943019874394e-05, 6.496323476312682e-05, 6.49452704237774e-05, 6.501616735477e-05, 6.485779158538207e-05, 6.503790791612118e-05, 6.500892050098628e-05, 6.502072210423648e-05, 6.503552867798135e-05, 6.493660475825891e-05, 6.501367897726595e-05, 6.504743214463815e-05, 6.501564348582178e-05, 6.498136644950137e-05, 6.505424971692264e-05, 6.507335638161749e-05, 6.506030331365764e-05, 6.502016185550019e-05, 6.505550118163228e-05, 6.504519114969298e-05, 6.502359610749409e-05, 6.502912583528087e-05, 6.504661723738536e-05, 6.503547774627805e-05, 6.501789903268218e-05, 6.502722681034356e-05, 6.501875759568065e-05, 0.0001371347752865404, 0.00011039853416150436, 0.00010467774700373411, 0.00010833000851562247, 0.00010747010674094781, 0.00010113254393218085, 0.00010174925409955904, 0.00010069229028886184, 9.37747026910074e-05, 9.465910261496902e-05, 9.289426816394553e-05, 9.022527956403792e-05, 9.090024104807526e-05, 8.829184662317857e-05, 8.705816435394809e-05, 8.360032370546833e-05, 8.396182238357142e-05, 8.439615339739248e-05, 8.703248022357002e-05, 8.681238250574097e-05, 8.380974031751975e-05, 8.464157144771889e-05, 8.328329568030313e-05, 8.334577432833612e-05, 8.1706813944038e-05, 8.536173118045554e-05, 8.343560330104083e-05, 7.976635970408097e-05, 8.101152343442664e-05, 7.963373354868963e-05, 8.170395449269563e-05, 8.10128403827548e-05, 6.511025276267901e-05, 6.517553993035108e-05, 6.51362570351921e-05, 6.528385711135343e-05, 6.522508192574605e-05, 6.523583579109982e-05, 6.515008135465905e-05, 6.510811363114044e-05, 6.517164001706988e-05, 6.515737914014608e-05, 6.52424932923168e-05, 6.5180218371097e-05, 6.51497466606088e-05, 6.51436421321705e-05, 6.519641465274617e-05, 6.522703915834427e-05, 6.51752416160889e-05, 6.508503429358825e-05, 6.505291094072163e-05, 6.508833030238748e-05, 6.512959953397512e-05, 6.51897062198259e-05, 6.515085988212377e-05, 6.515619315905496e-05, 6.507084617624059e-05, 6.514753476949409e-05, 6.511584797408432e-05, 6.50932706776075e-05, 6.51882728561759e-05, 6.515582208521664e-05, 6.517612200696021e-05, 6.51254813419655e-05, 6.513283005915582e-05, 6.514275446534157e-05, 6.518419104395434e-05, 6.516007124446332e-05, 6.514640699606389e-05, 6.517926522064954e-05, 6.514073174912483e-05, 6.514971028082073e-05, 0.0001386754447594285, 0.00010797208233270794, 0.00010410945833427832, 0.00010427198139950633, 0.00010750003275461495, 9.983264317270368e-05, 9.448241326026618e-05, 9.482250607106835e-05, 9.360737749375403e-05, 9.079542360268533e-05, 9.485858026891947e-05, 9.004164894577116e-05, 9.299944213125855e-05, 8.779460767982528e-05, 8.513528882758692e-05, 8.804299432085827e-05, 8.488616003887728e-05, 8.342385990545154e-05, 8.33682861411944e-05, 8.705065556569025e-05, 8.418293873546645e-05, 8.182117744581774e-05, 8.096229430520907e-05, 8.421421807724983e-05, 8.279892063001171e-05, 8.000988600542769e-05, 8.08248805697076e-05, 7.94283696450293e-05, 8.077545498963445e-05, 8.044579590205103e-05], \"Total\": [121.0, 85.0, 85.0, 81.0, 70.0, 66.0, 61.0, 60.0, 58.0, 55.0, 55.0, 52.0, 50.0, 49.0, 45.0, 46.0, 42.0, 38.0, 38.0, 35.0, 33.0, 33.0, 32.0, 32.0, 31.0, 31.0, 29.0, 29.0, 29.0, 30.0, 121.8718032836914, 85.14759826660156, 85.13721466064453, 81.27708435058594, 70.67134857177734, 66.769287109375, 58.130714416503906, 61.94381332397461, 60.01310729980469, 55.19053268432617, 55.186309814453125, 52.283653259277344, 50.3501091003418, 49.37858581542969, 46.52412414550781, 45.51651382446289, 42.66256332397461, 38.77583312988281, 38.75349807739258, 35.876251220703125, 33.95209884643555, 33.923370361328125, 30.13279914855957, 32.00148391723633, 32.00790023803711, 31.07005500793457, 31.052188873291016, 29.12759780883789, 29.111114501953125, 28.164005279541016, 29.09415626525879, 1.1023211479187012, 1.1022394895553589, 1.1032215356826782, 1.1034154891967773, 1.103493094444275, 1.1032589673995972, 1.1036455631256104, 1.1039149761199951, 1.1039843559265137, 1.1040672063827515, 1.1040623188018799, 1.1039704084396362, 1.1033368110656738, 1.103859305381775, 1.1043232679367065, 1.1037373542785645, 1.1042850017547607, 1.1046912670135498, 1.103689432144165, 1.1047483682632446, 1.104547142982483, 1.1047500371932983, 1.1044511795043945, 1.1038726568222046, 1.1049151420593262, 1.1046353578567505, 1.1045985221862793, 1.103424072265625, 1.1044377088546753, 1.1039867401123047, 1.1040958166122437, 1.104609727859497, 1.1049158573150635, 85.13721466064453, 81.27708435058594, 85.14759826660156, 66.769287109375, 49.37858581542969, 121.8718032836914, 52.283653259277344, 61.94381332397461, 70.67134857177734, 58.130714416503906, 55.19053268432617, 50.3501091003418, 45.51651382446289, 33.923370361328125, 55.186309814453125, 60.01310729980469, 42.66256332397461, 35.876251220703125, 29.09415626525879, 38.77583312988281, 29.111114501953125, 38.75349807739258, 33.95209884643555, 26.211599349975586, 26.23367691040039, 24.264617919921875, 24.268043518066406, 31.052188873291016, 32.00148391723633, 46.52412414550781, 32.00790023803711, 1.1051536798477173, 1.1022394895553589, 1.1033368110656738, 1.1046332120895386, 1.104958176612854, 1.1043221950531006, 1.1023211479187012, 1.1050548553466797, 1.1050044298171997, 1.1054521799087524, 1.1032215356826782, 1.1036574840545654, 1.1053730249404907, 1.1043919324874878, 1.1051486730575562, 1.1047948598861694, 1.1039867401123047, 1.1049883365631104, 1.1049169301986694, 1.1047868728637695, 1.1038410663604736, 1.105257272720337, 1.1041053533554077, 1.103689432144165, 1.1045103073120117, 1.105588674545288, 1.1045225858688354, 1.103493094444275, 1.1051592826843262, 1.1037373542785645, 1.105574131011963, 1.1058920621871948, 1.1059637069702148, 1.105534553527832, 1.1054182052612305, 1.1058142185211182, 1.1054153442382812, 1.105627417564392, 121.8718032836914, 1.1051572561264038, 85.13721466064453, 66.769287109375, 70.67134857177734, 60.01310729980469, 85.14759826660156, 46.52412414550781, 61.94381332397461, 81.27708435058594, 50.3501091003418, 55.19053268432617, 55.186309814453125, 42.66256332397461, 58.130714416503906, 25.247037887573242, 52.283653259277344, 29.09415626525879, 45.51651382446289, 35.876251220703125, 33.95209884643555, 49.37858581542969, 24.280292510986328, 38.77583312988281, 26.211599349975586, 27.193754196166992, 25.248573303222656, 28.164005279541016, 32.00148391723633, 23.318769454956055, 32.00790023803711, 38.75349807739258, 31.052188873291016, 1.1038410663604736, 1.1050680875778198, 1.106411099433899, 1.1050199270248413, 1.105708360671997, 1.1039704084396362, 1.1052714586257935, 1.1050211191177368, 1.1034154891967773, 1.1057968139648438, 1.1053521633148193, 1.1049585342407227, 1.104945421218872, 1.104597806930542, 1.1052500009536743, 1.105375051498413, 1.1058180332183838, 1.1053441762924194, 1.1050792932510376, 1.1046655178070068, 1.1050381660461426, 1.105290412902832, 1.1057767868041992, 1.1022394895553589, 1.1036574840545654, 1.1049996614456177, 1.103493094444275, 1.105637550354004, 1.1042182445526123, 1.1051342487335205, 1.1055139303207397, 1.1058200597763062, 1.1055667400360107, 1.1056441068649292, 1.1066073179244995, 1.1061238050460815, 1.105711817741394, 1.1060327291488647, 1.106419563293457, 1.106505036354065, 1.1061122417449951, 121.8718032836914, 81.27708435058594, 85.14759826660156, 85.13721466064453, 50.3501091003418, 66.769287109375, 55.19053268432617, 49.37858581542969, 70.67134857177734, 38.75349807739258, 58.130714416503906, 52.283653259277344, 45.51651382446289, 46.52412414550781, 26.20953941345215, 61.94381332397461, 32.00148391723633, 60.01310729980469, 55.186309814453125, 26.212108612060547, 32.00790023803711, 38.77583312988281, 29.09415626525879, 33.923370361328125, 24.290973663330078, 42.66256332397461, 33.95209884643555, 23.308128356933594, 21.390230178833008, 35.876251220703125, 27.17527198791504, 1.1046375036239624, 1.1046202182769775, 1.103424072265625, 1.105653166770935, 1.1055725812911987, 1.1041721105575562, 1.1049306392669678, 1.104526162147522, 1.1032589673995972, 1.1060906648635864, 1.1049256324768066, 1.1022394895553589, 1.1042135953903198, 1.1060171127319336, 1.1038726568222046, 1.1060621738433838, 1.1060431003570557, 1.1053122282028198, 1.105979561805725, 1.1044126749038696, 1.1061593294143677, 1.104906439781189, 1.1043919324874878, 1.104909896850586, 1.1052203178405762, 1.1055102348327637, 1.1057748794555664, 1.1056784391403198, 1.105391263961792, 1.1048266887664795, 1.105979084968567, 1.1061643362045288, 1.1053948402404785, 1.1053462028503418, 1.1052978038787842, 1.105776309967041, 1.1061949729919434, 1.1060806512832642, 121.8718032836914, 85.14759826660156, 61.94381332397461, 81.27708435058594, 85.13721466064453, 55.186309814453125, 58.130714416503906, 70.67134857177734, 60.01310729980469, 66.769287109375, 45.51651382446289, 55.19053268432617, 50.3501091003418, 38.75349807739258, 52.283653259277344, 49.37858581542969, 24.268043518066406, 46.52412414550781, 38.77583312988281, 29.12759780883789, 32.00148391723633, 35.876251220703125, 22.347375869750977, 33.923370361328125, 24.292322158813477, 31.052188873291016, 33.95209884643555, 26.219545364379883, 21.382320404052734, 16.55840301513672, 27.17527198791504, 26.227575302124023, 31.07005500793457, 32.00790023803711, 1.1052898168563843, 1.1032589673995972, 1.1043871641159058, 1.1060988903045654, 1.104240894317627, 1.1050543785095215, 1.1054571866989136, 1.1046741008758545, 1.1043221950531006, 1.104681372642517, 1.1044193506240845, 1.106174349784851, 1.1042182445526123, 1.1041053533554077, 1.1039867401123047, 1.1045995950698853, 1.1056065559387207, 1.1039843559265137, 1.103689432144165, 1.1049306392669678, 1.1022394895553589, 1.1053391695022583, 1.1049574613571167, 1.10517418384552, 1.1054761409759521, 1.1038410663604736, 1.1051628589630127, 1.1057502031326294, 1.1052179336547852, 1.1046912670135498, 1.1059355735778809, 1.1062984466552734, 1.106073021888733, 1.105389952659607, 1.1062359809875488, 1.1059908866882324, 1.1054788827896118, 1.1056782007217407, 1.1062959432601929, 1.1059848070144653, 1.1055309772491455, 1.1061979532241821, 1.105705738067627, 121.8718032836914, 81.27708435058594, 60.01310729980469, 85.14759826660156, 85.13721466064453, 55.186309814453125, 70.67134857177734, 66.769287109375, 55.19053268432617, 61.94381332397461, 52.283653259277344, 38.75349807739258, 58.130714416503906, 45.51651382446289, 42.66256332397461, 26.20953941345215, 28.164005279541016, 31.07005500793457, 50.3501091003418, 49.37858581542969, 31.052188873291016, 35.876251220703125, 29.111114501953125, 32.00790023803711, 24.264617919921875, 46.52412414550781, 38.77583312988281, 20.4332332611084, 27.17527198791504, 21.382320404052734, 33.923370361328125, 32.00148391723633, 1.1022394895553589, 1.1036574840545654, 1.103424072265625, 1.1062856912612915, 1.1053787469863892, 1.1055866479873657, 1.1042182445526123, 1.1036455631256104, 1.104737639427185, 1.1045466661453247, 1.1061928272247314, 1.1051980257034302, 1.104722499847412, 1.1046507358551025, 1.1056172847747803, 1.1062630414962769, 1.1054013967514038, 1.1038726568222046, 1.1033368110656738, 1.1039704084396362, 1.1047172546386719, 1.1057394742965698, 1.1051486730575562, 1.1052653789520264, 1.103859305381775, 1.1051656007766724, 1.1046580076217651, 1.1042850017547607, 1.1059002876281738, 1.1053740978240967, 1.1057521104812622, 1.104937195777893, 1.105164647102356, 1.1054128408432007, 1.1066272258758545, 1.1060402393341064, 1.105613112449646, 1.1067266464233398, 1.1055197715759277, 1.1062785387039185, 121.8718032836914, 70.67134857177734, 60.01310729980469, 61.94381332397461, 85.14759826660156, 66.769287109375, 52.283653259277344, 55.186309814453125, 49.37858581542969, 46.52412414550781, 85.13721466064453, 50.3501091003418, 81.27708435058594, 45.51651382446289, 32.00790023803711, 55.19053268432617, 38.77583312988281, 31.07005500793457, 31.052188873291016, 58.130714416503906, 38.75349807739258, 28.164005279541016, 24.290973663330078, 42.66256332397461, 33.923370361328125, 23.33416175842285, 29.111114501953125, 23.318769454956055, 33.95209884643555, 32.00148391723633], \"Category\": [\"Default\", \"Default\", \"Default\", \"Default\", \"Default\", \"Default\", \"Default\", \"Default\", \"Default\", \"Default\", \"Default\", \"Default\", \"Default\", \"Default\", \"Default\", \"Default\", \"Default\", \"Default\", \"Default\", \"Default\", \"Default\", \"Default\", \"Default\", \"Default\", \"Default\", \"Default\", \"Default\", \"Default\", \"Default\", \"Default\", \"Topic1\", \"Topic1\", \"Topic1\", \"Topic1\", \"Topic1\", \"Topic1\", \"Topic1\", \"Topic1\", \"Topic1\", \"Topic1\", \"Topic1\", \"Topic1\", \"Topic1\", \"Topic1\", \"Topic1\", \"Topic1\", \"Topic1\", \"Topic1\", \"Topic1\", \"Topic1\", \"Topic1\", \"Topic1\", \"Topic1\", \"Topic1\", \"Topic1\", \"Topic1\", \"Topic1\", \"Topic1\", \"Topic1\", \"Topic1\", \"Topic1\", \"Topic2\", \"Topic2\", \"Topic2\", \"Topic2\", \"Topic2\", \"Topic2\", \"Topic2\", \"Topic2\", \"Topic2\", \"Topic2\", \"Topic2\", \"Topic2\", \"Topic2\", \"Topic2\", \"Topic2\", \"Topic2\", \"Topic2\", \"Topic2\", \"Topic2\", \"Topic2\", \"Topic2\", \"Topic2\", \"Topic2\", \"Topic2\", \"Topic2\", \"Topic2\", \"Topic2\", \"Topic2\", \"Topic2\", \"Topic2\", \"Topic2\", \"Topic2\", \"Topic2\", \"Topic2\", \"Topic2\", \"Topic2\", \"Topic2\", \"Topic2\", \"Topic2\", \"Topic2\", \"Topic2\", \"Topic2\", \"Topic2\", \"Topic2\", \"Topic2\", \"Topic2\", \"Topic2\", \"Topic2\", \"Topic2\", \"Topic2\", \"Topic2\", \"Topic2\", \"Topic2\", \"Topic2\", \"Topic2\", \"Topic2\", \"Topic2\", \"Topic2\", \"Topic2\", \"Topic2\", \"Topic2\", \"Topic2\", \"Topic2\", \"Topic2\", \"Topic3\", \"Topic3\", \"Topic3\", \"Topic3\", \"Topic3\", \"Topic3\", \"Topic3\", \"Topic3\", \"Topic3\", \"Topic3\", \"Topic3\", \"Topic3\", \"Topic3\", \"Topic3\", \"Topic3\", \"Topic3\", \"Topic3\", \"Topic3\", \"Topic3\", \"Topic3\", \"Topic3\", \"Topic3\", \"Topic3\", \"Topic3\", \"Topic3\", \"Topic3\", \"Topic3\", \"Topic3\", \"Topic3\", \"Topic3\", \"Topic3\", \"Topic3\", \"Topic3\", \"Topic3\", \"Topic3\", \"Topic3\", \"Topic3\", \"Topic3\", \"Topic3\", \"Topic3\", \"Topic3\", \"Topic3\", \"Topic3\", \"Topic3\", \"Topic3\", \"Topic3\", \"Topic3\", \"Topic3\", \"Topic3\", \"Topic3\", \"Topic3\", \"Topic3\", \"Topic3\", \"Topic3\", \"Topic3\", \"Topic3\", \"Topic3\", \"Topic3\", \"Topic3\", \"Topic3\", \"Topic3\", \"Topic3\", \"Topic3\", \"Topic3\", \"Topic3\", \"Topic3\", \"Topic3\", \"Topic3\", \"Topic3\", \"Topic3\", \"Topic3\", \"Topic4\", \"Topic4\", \"Topic4\", \"Topic4\", \"Topic4\", \"Topic4\", \"Topic4\", \"Topic4\", \"Topic4\", \"Topic4\", \"Topic4\", \"Topic4\", \"Topic4\", \"Topic4\", \"Topic4\", \"Topic4\", \"Topic4\", \"Topic4\", \"Topic4\", \"Topic4\", \"Topic4\", \"Topic4\", \"Topic4\", \"Topic4\", \"Topic4\", \"Topic4\", \"Topic4\", \"Topic4\", \"Topic4\", \"Topic4\", \"Topic4\", \"Topic4\", \"Topic4\", \"Topic4\", \"Topic4\", \"Topic4\", \"Topic4\", \"Topic4\", \"Topic4\", \"Topic4\", \"Topic4\", \"Topic4\", \"Topic4\", \"Topic4\", \"Topic4\", \"Topic4\", \"Topic4\", \"Topic4\", \"Topic4\", \"Topic4\", \"Topic4\", \"Topic4\", \"Topic4\", \"Topic4\", \"Topic4\", \"Topic4\", \"Topic4\", \"Topic4\", \"Topic4\", \"Topic4\", \"Topic4\", \"Topic4\", \"Topic4\", \"Topic4\", \"Topic4\", \"Topic4\", \"Topic4\", \"Topic4\", \"Topic4\", \"Topic4\", \"Topic4\", \"Topic4\", \"Topic5\", \"Topic5\", \"Topic5\", \"Topic5\", \"Topic5\", \"Topic5\", \"Topic5\", \"Topic5\", \"Topic5\", \"Topic5\", \"Topic5\", \"Topic5\", \"Topic5\", \"Topic5\", \"Topic5\", \"Topic5\", \"Topic5\", \"Topic5\", \"Topic5\", \"Topic5\", \"Topic5\", \"Topic5\", \"Topic5\", \"Topic5\", \"Topic5\", \"Topic5\", \"Topic5\", \"Topic5\", \"Topic5\", \"Topic5\", \"Topic5\", \"Topic5\", \"Topic5\", \"Topic5\", \"Topic5\", \"Topic5\", \"Topic5\", \"Topic5\", \"Topic5\", \"Topic5\", \"Topic5\", \"Topic5\", \"Topic5\", \"Topic5\", \"Topic5\", \"Topic5\", \"Topic5\", \"Topic5\", \"Topic5\", \"Topic5\", \"Topic5\", \"Topic5\", \"Topic5\", \"Topic5\", \"Topic5\", \"Topic5\", \"Topic5\", \"Topic5\", \"Topic5\", \"Topic5\", \"Topic5\", \"Topic5\", \"Topic5\", \"Topic5\", \"Topic5\", \"Topic5\", \"Topic5\", \"Topic5\", \"Topic5\", \"Topic5\", \"Topic5\", \"Topic5\", \"Topic6\", \"Topic6\", \"Topic6\", \"Topic6\", \"Topic6\", \"Topic6\", \"Topic6\", \"Topic6\", \"Topic6\", \"Topic6\", \"Topic6\", \"Topic6\", \"Topic6\", \"Topic6\", \"Topic6\", \"Topic6\", \"Topic6\", \"Topic6\", \"Topic6\", \"Topic6\", \"Topic6\", \"Topic6\", \"Topic6\", \"Topic6\", \"Topic6\", \"Topic6\", \"Topic6\", \"Topic6\", \"Topic6\", \"Topic6\", \"Topic6\", \"Topic6\", \"Topic6\", \"Topic6\", \"Topic6\", \"Topic6\", \"Topic6\", \"Topic6\", \"Topic6\", \"Topic6\", \"Topic6\", \"Topic6\", \"Topic6\", \"Topic6\", \"Topic6\", \"Topic6\", \"Topic6\", \"Topic6\", \"Topic6\", \"Topic6\", \"Topic6\", \"Topic6\", \"Topic6\", \"Topic6\", \"Topic6\", \"Topic6\", \"Topic6\", \"Topic6\", \"Topic6\", \"Topic6\", \"Topic6\", \"Topic6\", \"Topic6\", \"Topic6\", \"Topic6\", \"Topic6\", \"Topic6\", \"Topic6\", \"Topic6\", \"Topic6\", \"Topic6\", \"Topic6\", \"Topic6\", \"Topic6\", \"Topic6\", \"Topic7\", \"Topic7\", \"Topic7\", \"Topic7\", \"Topic7\", \"Topic7\", \"Topic7\", \"Topic7\", \"Topic7\", \"Topic7\", \"Topic7\", \"Topic7\", \"Topic7\", \"Topic7\", \"Topic7\", \"Topic7\", \"Topic7\", \"Topic7\", \"Topic7\", \"Topic7\", \"Topic7\", \"Topic7\", \"Topic7\", \"Topic7\", \"Topic7\", \"Topic7\", \"Topic7\", \"Topic7\", \"Topic7\", \"Topic7\", \"Topic7\", \"Topic7\", \"Topic7\", \"Topic7\", \"Topic7\", \"Topic7\", \"Topic7\", \"Topic7\", \"Topic7\", \"Topic7\", \"Topic7\", \"Topic7\", \"Topic7\", \"Topic7\", \"Topic7\", \"Topic7\", \"Topic7\", \"Topic7\", \"Topic7\", \"Topic7\", \"Topic7\", \"Topic7\", \"Topic7\", \"Topic7\", \"Topic7\", \"Topic7\", \"Topic7\", \"Topic7\", \"Topic7\", \"Topic7\", \"Topic7\", \"Topic7\", \"Topic7\", \"Topic7\", \"Topic7\", \"Topic7\", \"Topic7\", \"Topic7\", \"Topic7\", \"Topic7\"], \"logprob\": [30.0, 29.0, 28.0, 27.0, 26.0, 25.0, 24.0, 23.0, 22.0, 21.0, 20.0, 19.0, 18.0, 17.0, 16.0, 15.0, 14.0, 13.0, 12.0, 11.0, 10.0, 9.0, 8.0, 7.0, 6.0, 5.0, 4.0, 3.0, 2.0, 1.0, -4.281599998474121, -4.640200138092041, -4.6402997970581055, -4.686699867248535, -4.826499938964844, -4.883299827575684, -5.021900177001953, -4.9583001136779785, -4.989999771118164, -5.073800086975098, -5.07390022277832, -5.127900123596191, -5.165599822998047, -5.185100078582764, -5.24459981918335, -5.266499996185303, -5.331299781799316, -5.426799774169922, -5.4274001121521, -5.504499912261963, -5.559599876403809, -5.560500144958496, -5.678999900817871, -5.618800163269043, -5.618599891662598, -5.6483001708984375, -5.648900032043457, -5.712900161743164, -5.713500022888184, -5.746500015258789, -5.714000225067139, -7.703999996185303, -7.709400177001953, -7.710400104522705, -7.711400032043457, -7.71150016784668, -7.712200164794922, -7.712800025939941, -7.712699890136719, -7.7129998207092285, -7.713699817657471, -7.713900089263916, -7.714000225067139, -7.715099811553955, -7.714799880981445, -7.714700222015381, -7.715199947357178, -7.71560001373291, -7.715400218963623, -7.716700077056885, -7.715799808502197, -7.716100215911865, -7.716000080108643, -7.716300010681152, -7.7170000076293945, -7.71619987487793, -7.716899871826172, -7.717100143432617, -7.718200206756592, -7.717400074005127, -7.717899799346924, -7.717899799346924, -7.71750020980835, -7.717400074005127, -6.598700046539307, -6.745299816131592, -6.781499862670898, -6.857100009918213, -6.9618000984191895, -6.807000160217285, -6.969099998474121, -6.950300216674805, -6.930200099945068, -6.973199844360352, -6.982500076293945, -7.0329999923706055, -7.05109977722168, -7.117300033569336, -7.045199871063232, -7.031499862670898, -7.1203999519348145, -7.1697998046875, -7.207099914550781, -7.165500164031982, -7.233399868011475, -7.200699806213379, -7.235799789428711, -7.271200180053711, -7.287499904632568, -7.301300048828125, -7.3024001121521, -7.276000022888184, -7.273799896240234, -7.233399868011475, -7.297900199890137, -7.6996002197265625, -7.702400207519531, -7.701700210571289, -7.7006001472473145, -7.701200008392334, -7.701900005340576, -7.703800201416016, -7.701399803161621, -7.701399803161621, -7.701600074768066, -7.703800201416016, -7.703499794006348, -7.702000141143799, -7.702899932861328, -7.702199935913086, -7.702600002288818, -7.703499794006348, -7.702600002288818, -7.702700138092041, -7.702899932861328, -7.703800201416016, -7.702499866485596, -7.70359992980957, -7.703999996185303, -7.7032999992370605, -7.702400207519531, -7.703400135040283, -7.704400062561035, -7.703000068664551, -7.7042999267578125, -7.702700138092041, -7.702499866485596, -7.702600002288818, -7.702899932861328, -7.703100204467773, -7.703000068664551, -7.703100204467773, -7.703100204467773, -6.7829999923706055, -7.7032999992370605, -7.061299800872803, -7.101399898529053, -7.10129976272583, -7.124199867248535, -7.105999946594238, -7.210400104522705, -7.180200099945068, -7.161600112915039, -7.226200103759766, -7.21560001373291, -7.215799808502197, -7.276800155639648, -7.257299900054932, -7.353400230407715, -7.276199817657471, -7.359000205993652, -7.321400165557861, -7.348899841308594, -7.357999801635742, -7.332699775695801, -7.401500225067139, -7.361700057983398, -7.4028000831604, -7.400400161743164, -7.407100200653076, -7.400000095367432, -7.388999938964844, -7.4191999435424805, -7.3927998542785645, -7.376500129699707, -7.39870023727417, -7.699399948120117, -7.698299884796143, -7.697400093078613, -7.698699951171875, -7.6981000900268555, -7.699699878692627, -7.698599815368652, -7.69890022277832, -7.700799942016602, -7.69890022277832, -7.6992998123168945, -7.69980001449585, -7.69980001449585, -7.700200080871582, -7.699699878692627, -7.6996002197265625, -7.69920015335083, -7.699699878692627, -7.699999809265137, -7.700399875640869, -7.700099945068359, -7.699900150299072, -7.699399948120117, -7.702700138092041, -7.701399803161621, -7.700200080871582, -7.701499938964844, -7.6996002197265625, -7.700900077819824, -7.700099945068359, -7.69980001449585, -7.69950008392334, -7.699699878692627, -7.699699878692627, -7.69890022277832, -7.699399948120117, -7.699699878692627, -7.6996002197265625, -7.69950008392334, -7.69950008392334, -7.699699878692627, -6.839700222015381, -6.981900215148926, -7.037499904632568, -7.111199855804443, -7.226900100708008, -7.195899963378906, -7.228300094604492, -7.253600120544434, -7.216700077056885, -7.30210018157959, -7.26639986038208, -7.282700061798096, -7.309000015258789, -7.317299842834473, -7.375500202178955, -7.289700031280518, -7.36899995803833, -7.313799858093262, -7.325399875640869, -7.402299880981445, -7.396299839019775, -7.383399963378906, -7.412799835205078, -7.408400058746338, -7.435999870300293, -7.39739990234375, -7.420400142669678, -7.455100059509277, -7.461999893188477, -7.431600093841553, -7.453000068664551, -7.695000171661377, -7.695499897003174, -7.697299957275391, -7.695499897003174, -7.696000099182129, -7.697299957275391, -7.696599960327148, -7.697000026702881, -7.698299884796143, -7.695799827575684, -7.696899890899658, -7.6992998123168945, -7.697700023651123, -7.696000099182129, -7.697999954223633, -7.696100234985352, -7.696100234985352, -7.696800231933594, -7.696199893951416, -7.697700023651123, -7.696199893951416, -7.697400093078613, -7.69789981842041, -7.697400093078613, -7.697199821472168, -7.697000026702881, -7.696800231933594, -7.696899890899658, -7.697199821472168, -7.697700023651123, -7.696700096130371, -7.696700096130371, -7.697199821472168, -7.697299957275391, -7.697299957275391, -7.6971001625061035, -7.6971001625061035, -7.697199821472168, -6.907100200653076, -7.069699764251709, -7.161300182342529, -7.139200210571289, -7.172800064086914, -7.235899925231934, -7.256499767303467, -7.239299774169922, -7.272200107574463, -7.269000053405762, -7.308499813079834, -7.294400215148926, -7.330100059509277, -7.3572001457214355, -7.335899829864502, -7.343100070953369, -7.410299777984619, -7.352700233459473, -7.379000186920166, -7.421800136566162, -7.419099807739258, -7.42110013961792, -7.459099769592285, -7.431300163269043, -7.4653000831604, -7.452000141143799, -7.4492998123168945, -7.4766998291015625, -7.490099906921387, -7.506400108337402, -7.4770002365112305, -7.479300022125244, -7.475200176239014, -7.475900173187256, -7.693299770355225, -7.6956000328063965, -7.694699764251709, -7.693299770355225, -7.695099830627441, -7.694399833679199, -7.693999767303467, -7.694699764251709, -7.695099830627441, -7.694799900054932, -7.695099830627441, -7.69350004196167, -7.695400238037109, -7.6956000328063965, -7.695700168609619, -7.695099830627441, -7.694200038909912, -7.695700168609619, -7.696000099182129, -7.694900035858154, -7.697299957275391, -7.6946001052856445, -7.695000171661377, -7.694799900054932, -7.6946001052856445, -7.696100234985352, -7.694900035858154, -7.694399833679199, -7.694900035858154, -7.695400238037109, -7.694300174713135, -7.693999767303467, -7.694200038909912, -7.694799900054932, -7.694300174713135, -7.694399833679199, -7.694799900054932, -7.694699764251709, -7.694399833679199, -7.6946001052856445, -7.694900035858154, -7.694699764251709, -7.694900035858154, -6.948599815368652, -7.16540002822876, -7.218599796295166, -7.184299945831299, -7.192299842834473, -7.2530999183654785, -7.247000217437744, -7.257500171661377, -7.32859992980957, -7.319200038909912, -7.338099956512451, -7.367199897766113, -7.359799861907959, -7.388899803161621, -7.4029998779296875, -7.44350004196167, -7.439199924468994, -7.434000015258789, -7.403200149536133, -7.405799865722656, -7.440999984741211, -7.431099891662598, -7.447299957275391, -7.446499824523926, -7.466400146484375, -7.422599792480469, -7.445499897003174, -7.4903998374938965, -7.474899768829346, -7.492099761962891, -7.466400146484375, -7.474899768829346, -7.693399906158447, -7.692399978637695, -7.692999839782715, -7.690800189971924, -7.691699981689453, -7.691500186920166, -7.692800045013428, -7.69350004196167, -7.692500114440918, -7.692699909210205, -7.691400051116943, -7.692399978637695, -7.692800045013428, -7.69290018081665, -7.6921000480651855, -7.691699981689453, -7.692399978637695, -7.69379997253418, -7.694300174713135, -7.69379997253418, -7.6930999755859375, -7.692200183868408, -7.692800045013428, -7.692699909210205, -7.6940999031066895, -7.69290018081665, -7.693399906158447, -7.693699836730957, -7.692200183868408, -7.692699909210205, -7.692399978637695, -7.69320011138916, -7.6930999755859375, -7.69290018081665, -7.692299842834473, -7.692699909210205, -7.69290018081665, -7.692399978637695, -7.692999839782715, -7.692800045013428, -6.937399864196777, -7.187699794769287, -7.224100112915039, -7.222499847412109, -7.191999912261963, -7.265999794006348, -7.321100234985352, -7.317500114440918, -7.330399990081787, -7.360899925231934, -7.3171000480651855, -7.36929988861084, -7.336900234222412, -7.394499778747559, -7.425300121307373, -7.39169979095459, -7.428199768066406, -7.4456000328063965, -7.446300029754639, -7.4029998779296875, -7.436500072479248, -7.465000152587891, -7.475500106811523, -7.436200141906738, -7.453100204467773, -7.487400054931641, -7.477200031280518, -7.494699954986572, -7.47790002822876, -7.481900215148926], \"loglift\": [30.0, 29.0, 28.0, 27.0, 26.0, 25.0, 24.0, 23.0, 22.0, 21.0, 20.0, 19.0, 18.0, 17.0, 16.0, 15.0, 14.0, 13.0, 12.0, 11.0, 10.0, 9.0, 8.0, 7.0, 6.0, 5.0, 4.0, 3.0, 2.0, 1.0, 9.999999747378752e-05, 9.999999747378752e-05, 9.999999747378752e-05, 9.999999747378752e-05, 9.999999747378752e-05, 9.999999747378752e-05, 9.999999747378752e-05, 9.999999747378752e-05, 9.999999747378752e-05, 9.999999747378752e-05, 9.999999747378752e-05, 9.999999747378752e-05, 9.999999747378752e-05, 9.999999747378752e-05, 9.999999747378752e-05, 9.999999747378752e-05, 9.999999747378752e-05, 9.999999747378752e-05, 9.999999747378752e-05, 9.999999747378752e-05, 9.999999747378752e-05, 9.999999747378752e-05, 9.999999747378752e-05, 9.999999747378752e-05, 9.999999747378752e-05, 9.999999747378752e-05, 9.999999747378752e-05, 9.999999747378752e-05, 9.999999747378752e-05, 9.999999747378752e-05, 9.999999747378752e-05, 1.2833000421524048, 1.277999997138977, 1.2760000228881836, 1.2747999429702759, 1.2747000455856323, 1.2741999626159668, 1.2732000350952148, 1.2731000185012817, 1.2727999687194824, 1.2719999551773071, 1.2718000411987305, 1.2717000246047974, 1.2711999416351318, 1.2710000276565552, 1.270799994468689, 1.2706999778747559, 1.2697999477386475, 1.2696000337600708, 1.2692999839782715, 1.2691999673843384, 1.2690999507904053, 1.2690000534057617, 1.2690000534057617, 1.2688000202178955, 1.2687000036239624, 1.2682000398635864, 1.2681000232696533, 1.2681000232696533, 1.2680000066757202, 1.267799973487854, 1.267799973487854, 1.267699956893921, 1.2675000429153442, -1.958299994468689, -2.058500051498413, -2.1412999629974365, -1.9737000465393066, -1.7766000032424927, -2.5253000259399414, -1.8410999774932861, -1.9918999671936035, -2.103600025177002, -1.951200008392334, -1.9085999727249146, -1.867300033569336, -1.784500002861023, -1.5566999912261963, -1.9711999893188477, -2.0413999557495117, -1.7890000343322754, -1.6651999950408936, -1.4930000305175781, -1.738700032234192, -1.5198999643325806, -1.7732000350952148, -1.6761000156402588, -1.4527000188827515, -1.4699000120162964, -1.4055999517440796, -1.4069000482559204, -1.6269999742507935, -1.6549999713897705, -1.988700032234192, -1.6792000532150269, 1.285099983215332, 1.2848999500274658, 1.284600019454956, 1.284600019454956, 1.2835999727249146, 1.2834999561309814, 1.2834999561309814, 1.283400058746338, 1.283400058746338, 1.2827999591827393, 1.2826999425888062, 1.2826000452041626, 1.2825000286102295, 1.2825000286102295, 1.2825000286102295, 1.2824000120162964, 1.2822999954223633, 1.2822999954223633, 1.282099962234497, 1.282099962234497, 1.282099962234497, 1.282099962234497, 1.282099962234497, 1.281999945640564, 1.2819000482559204, 1.2819000482559204, 1.2818000316619873, 1.2818000316619873, 1.2817000150680542, 1.2817000150680542, 1.281599998474121, 1.281499981880188, 1.2813999652862549, 1.2813999652862549, 1.2812999486923218, 1.2811000347137451, 1.2812999486923218, 1.2811000347137451, -2.501300096511841, 1.2813999652862549, -2.4209001064300537, -2.2179999351501465, -2.274600028991699, -2.1340999603271484, -2.4656999111175537, -1.9657000303268433, -2.2218000888824463, -2.4748001098632812, -2.060499906539917, -2.1417999267578125, -2.141900062561035, -1.9455000162124634, -2.235300064086914, -1.497499942779541, -2.148200035095215, -1.6448999643325806, -2.054800033569336, -1.8443000316619873, -1.79830002784729, -2.147599935531616, -1.506500005722046, -1.9349000453948975, -1.5843000411987305, -1.6187000274658203, -1.551200032234192, -1.6533000469207764, -1.7702000141143799, -1.4838000535964966, -1.7740999460220337, -1.9491000175476074, -1.7496999502182007, 1.2864999771118164, 1.2863999605178833, 1.2861000299453735, 1.2861000299453735, 1.2861000299453735, 1.2861000299453735, 1.2860000133514404, 1.2858999967575073, 1.2854000329971313, 1.2851999998092651, 1.2851999998092651, 1.285099983215332, 1.284999966621399, 1.2848999500274658, 1.2848999500274658, 1.2848999500274658, 1.2848999500274658, 1.2848000526428223, 1.2848000526428223, 1.2847000360488892, 1.2847000360488892, 1.2847000360488892, 1.2847000360488892, 1.2847000360488892, 1.2847000360488892, 1.284600019454956, 1.284600019454956, 1.284600019454956, 1.284600019454956, 1.284600019454956, 1.284600019454956, 1.284600019454956, 1.284600019454956, 1.284600019454956, 1.284500002861023, 1.2843999862670898, 1.2843999862670898, 1.2842999696731567, 1.28410005569458, 1.284000039100647, 1.2841999530792236, -2.558000087738037, -2.295099973678589, -2.397200107574463, -2.4707999229431152, -2.061199903488159, -2.3125, -2.1545000076293945, -2.06850004196167, -2.390000104904175, -1.8746000528335571, -2.2444000244140625, -2.1547999382019043, -2.0423998832702637, -2.0725998878479004, -1.5570000410079956, -2.3313000202178955, -1.750100016593933, -2.323699951171875, -2.2513999938964844, -1.583899974822998, -1.7776000499725342, -1.9565000534057617, -1.698699951171875, -1.8479000329971313, -1.5413999557495117, -2.0660998821258545, -1.860700011253357, -1.5191999673843384, -1.4402999877929688, -1.9270000457763672, -1.6706000566482544, 1.2900999784469604, 1.2897000312805176, 1.2889000177383423, 1.288699984550476, 1.2883000373840332, 1.2883000373840332, 1.2882000207901, 1.2882000207901, 1.288100004196167, 1.2879999876022339, 1.2879999876022339, 1.2879999876022339, 1.2878999710083008, 1.2878999710083008, 1.2877999544143677, 1.2877999544143677, 1.2877999544143677, 1.2877000570297241, 1.2877000570297241, 1.287600040435791, 1.287600040435791, 1.287500023841858, 1.287500023841858, 1.287500023841858, 1.2874000072479248, 1.2874000072479248, 1.2874000072479248, 1.2874000072479248, 1.2872999906539917, 1.2872999906539917, 1.2872999906539917, 1.2870999574661255, 1.2871999740600586, 1.2871999740600586, 1.2871999740600586, 1.2869999408721924, 1.2867000102996826, 1.2865999937057495, -2.6254000663757324, -2.4293999671936035, -2.2028000354766846, -2.452399969100952, -2.532399892807007, -2.161900043487549, -2.234600067138672, -2.4126999378204346, -2.282099962234497, -2.3856000900268555, -2.0418999195098877, -2.2204999923706055, -2.1644999980926514, -1.929800033569336, -2.207900047302246, -2.1579999923706055, -1.514799952507019, -2.1080000400543213, -1.9522000551223755, -1.708899974822998, -1.8001999855041504, -1.9164999723434448, -1.4810999631881714, -1.8708000183105469, -1.5707999467849731, -1.8029999732971191, -1.8896000385284424, -1.6585999727249146, -1.468000054359436, -1.228600025177002, -1.694599986076355, -1.6613999605178833, -1.82669997215271, -1.857200026512146, 1.2913000583648682, 1.2907999753952026, 1.2906999588012695, 1.2905999422073364, 1.2904000282287598, 1.2904000282287598, 1.2904000282287598, 1.2904000282287598, 1.2904000282287598, 1.2903000116348267, 1.2903000116348267, 1.2901999950408936, 1.2900999784469604, 1.2900999784469604, 1.2899999618530273, 1.2899999618530273, 1.2899999618530273, 1.2899999618530273, 1.2899999618530273, 1.2899999618530273, 1.2899999618530273, 1.2899999618530273, 1.2898999452590942, 1.2898000478744507, 1.2898000478744507, 1.2898000478744507, 1.2897000312805176, 1.2897000312805176, 1.2897000312805176, 1.2897000312805176, 1.2897000312805176, 1.2896000146865845, 1.2896000146865845, 1.2896000146865845, 1.2893999814987183, 1.2894999980926514, 1.2896000146865845, 1.2894999980926514, 1.289199948310852, 1.2892999649047852, 1.2894999980926514, 1.2890000343322754, 1.2892999649047852, -2.6668999195098877, -2.478600025177002, -2.2284998893737793, -2.544100046157837, -2.5518999099731445, -2.1791000366210938, -2.4203999042510986, -2.374000072479248, -2.2548000812530518, -2.36080002784729, -2.210099935531616, -1.9398000240325928, -2.3378000259399414, -2.122299909591675, -2.0715999603271484, -1.624899983406067, -1.6924999952316284, -1.785599946975708, -2.237600088119507, -2.220599889755249, -1.7920000553131104, -1.9264999628067017, -1.7337000370025635, -1.8279000520706177, -1.5707000494003296, -2.1779000759124756, -2.0185999870300293, -1.4228999614715576, -1.6926000118255615, -1.4700000286102295, -1.905900001525879, -1.8559999465942383, 1.2939000129699707, 1.2935999631881714, 1.2932000160217285, 1.2928999662399292, 1.292799949645996, 1.292799949645996, 1.2927000522613525, 1.2926000356674194, 1.2926000356674194, 1.2925000190734863, 1.2922999858856201, 1.2922999858856201, 1.292199969291687, 1.292199969291687, 1.292099952697754, 1.2920000553131104, 1.2920000553131104, 1.2920000553131104, 1.2920000553131104, 1.2920000553131104, 1.2919000387191772, 1.2919000387191772, 1.2919000387191772, 1.2918000221252441, 1.2918000221252441, 1.2918000221252441, 1.2918000221252441, 1.2918000221252441, 1.2918000221252441, 1.291700005531311, 1.291700005531311, 1.291700005531311, 1.291599988937378, 1.2914999723434448, 1.2910000085830688, 1.291200041770935, 1.2913999557495117, 1.2908999919891357, 1.2913999557495117, 1.2907999753952026, -2.6556999683380127, -2.3610000610351562, -2.2339999675750732, -2.2641000747680664, -2.551800012588501, -2.3826000690460205, -2.1930999755859375, -2.2435998916625977, -2.1452999114990234, -2.1161999702453613, -2.6767001152038574, -2.2035999298095703, -2.650099992752075, -2.1278998851776123, -1.8065999746322632, -2.3178000450134277, -2.0013999938964844, -1.7971999645233154, -1.7972999811172485, -2.3810999393463135, -2.0090999603271484, -1.718400001525879, -1.5809999704360962, -2.10479998588562, -1.8926000595092773, -1.5526000261306763, -1.763700008392334, -1.5592999458312988, -1.9180999994277954, -1.8631000518798828]}, \"token.table\": {\"Topic\": [1, 1, 1, 1, 1, 1, 1, 1, 1, 1, 1, 1, 1, 1, 1, 1, 1, 1, 1, 1, 1, 1, 1, 1, 1, 1, 1, 1, 1, 1, 1, 1, 1, 1, 1, 1, 1, 1, 1, 1, 1, 1, 1, 1, 1, 1, 1, 1, 1, 1, 1, 1, 1, 1, 1, 1, 1, 1, 1, 1, 1, 1, 1, 1, 1, 1, 1, 1, 1, 1, 1, 1, 1, 1, 1, 1, 1, 1, 1, 1, 1, 1, 1, 1, 1, 1, 1, 1, 1, 1, 1, 1, 1, 1, 1, 1, 1, 1, 1, 1, 1, 1, 1, 1, 1, 1, 1, 1, 1, 1, 1, 1, 1, 1, 1, 1, 1, 1, 1, 1, 1, 1, 1, 1, 1, 1, 1, 1, 1, 1, 1, 1, 1, 1, 1, 1, 1, 1, 1, 1, 1, 1, 1, 1, 1, 1, 1, 1, 1, 1, 1, 1, 1, 1, 1, 1, 1, 1, 1, 1, 1, 1, 1, 1, 1, 1, 1, 1, 1, 1, 1, 1, 1, 1, 1, 1, 1, 1, 1, 1, 1, 1, 1, 1, 1, 1, 1, 1, 1, 1, 1, 1, 1, 1, 1, 1, 1, 1, 1, 1, 1, 1, 1, 1, 1, 1, 1, 1, 1, 1, 1, 1, 1, 1, 1, 1, 1, 1, 1, 1, 1, 1, 1, 1, 1, 1, 1, 1, 1, 1, 1, 1, 1, 1, 1, 1, 1, 1, 1, 1, 1, 1, 1, 1, 1, 1, 1, 1], \"Freq\": [0.9048347473144531, 0.9049124121665955, 0.9051821231842041, 0.9817566275596619, 0.9044808745384216, 0.9982665777206421, 1.001051902770996, 0.9053785800933838, 0.9052383899688721, 0.9060126543045044, 0.9048469662666321, 0.9048417806625366, 0.9039997458457947, 0.9867802262306213, 0.9048425555229187, 0.9050382971763611, 0.9889549016952515, 0.9049776792526245, 0.9049600958824158, 0.9062769412994385, 0.906269907951355, 0.9051834940910339, 1.0034493207931519, 0.9048674702644348, 0.9047600626945496, 0.9941768050193787, 0.9056180715560913, 0.9053487777709961, 0.9050113558769226, 0.9059275388717651, 0.9044755101203918, 0.9920052289962769, 0.9935503005981445, 0.9055319428443909, 0.9040932059288025, 0.9997531771659851, 0.9050220847129822, 0.9056559205055237, 0.9041323661804199, 0.9056218862533569, 0.999781608581543, 0.9901549816131592, 0.9040579199790955, 0.903662919998169, 0.9045566916465759, 0.9041758179664612, 0.9037464261054993, 0.9045073986053467, 0.9043416380882263, 0.906405508518219, 0.9055994749069214, 0.9042118191719055, 0.9040850400924683, 0.905306875705719, 0.9041239023208618, 0.9040673971176147, 0.9043420553207397, 0.9053484201431274, 0.9057106971740723, 0.9045087099075317, 0.9043633937835693, 0.9048151969909668, 0.9060519933700562, 0.9035654664039612, 0.9049461483955383, 0.9919272661209106, 0.9050341844558716, 0.9045398235321045, 0.9057185053825378, 0.9910925030708313, 1.0102286338806152, 0.9050540328025818, 0.9046541452407837, 0.9955928921699524, 0.9046702980995178, 0.9880213141441345, 0.9054586291313171, 0.9045875668525696, 1.0266690254211426, 0.9039973616600037, 0.9054795503616333, 0.9058099389076233, 0.9956193566322327, 0.9042406678199768, 1.0057810544967651, 0.9913230538368225, 0.9916266798973083, 0.9054381251335144, 0.9049215912818909, 0.904166579246521, 0.9059125781059265, 0.9856792688369751, 0.9046710729598999, 0.9052513837814331, 0.9049737453460693, 0.9821197986602783, 0.9048556089401245, 0.9965477585792542, 0.9041262269020081, 0.9051923155784607, 0.9047396183013916, 0.9052761197090149, 0.9043252468109131, 0.9044638276100159, 0.9039152264595032, 0.9058079719543457, 0.9043431878089905, 0.9045853614807129, 1.003455400466919, 0.9050116539001465, 0.9967637658119202, 0.9042474031448364, 0.9977452754974365, 0.905204713344574, 0.9044222831726074, 0.904721736907959, 0.9041082859039307, 0.9928750395774841, 1.0022588968276978, 0.9041762351989746, 0.9047551155090332, 0.9047400951385498, 0.9052971005439758, 0.9046487808227539, 0.9945747256278992, 0.9863299131393433, 0.9045134782791138, 0.9057459831237793, 0.9052443504333496, 0.9052302837371826, 0.9046939015388489, 0.90382319688797, 0.9046350121498108, 0.9039172530174255, 0.904667317867279, 0.9044555425643921, 0.9040288925170898, 0.9039314985275269, 0.9039256572723389, 0.9048515558242798, 0.9046570658683777, 0.9043079018592834, 0.9055633544921875, 0.9902151823043823, 0.9923329949378967, 0.9059016108512878, 0.9043721556663513, 1.0079094171524048, 0.9052634835243225, 1.000907063484192, 0.9041451215744019, 0.9043618440628052, 0.9044501781463623, 0.904637336730957, 0.9057419896125793, 0.9930465221405029, 0.9787976145744324, 0.9049610495567322, 0.9052885174751282, 0.905427098274231, 0.904848575592041, 0.905257523059845, 0.9041888117790222, 0.9050288200378418, 0.9058213829994202, 0.9064362645149231, 0.9977513551712036, 0.9049869179725647, 0.905046284198761, 0.9044221043586731, 0.904394805431366, 0.9053685665130615, 0.9053655862808228, 0.9050121903419495, 0.9050511717796326, 0.9044427871704102, 0.9044955372810364, 0.903816282749176, 0.9039662480354309, 0.9045427441596985, 0.9046890735626221, 0.9046071767807007, 0.9051193594932556, 0.90493243932724, 0.9043976068496704, 0.9047989249229431, 0.9046996831893921, 0.9046955704689026, 0.9041715264320374, 0.9047726988792419, 0.9055328369140625, 0.9043997526168823, 0.9983193278312683, 0.904603123664856, 0.9046393632888794, 0.9046719670295715, 0.9961830973625183, 0.9045596718788147, 0.9040015339851379, 0.9047335386276245, 0.9051519632339478, 0.9044971466064453, 0.9036466479301453, 0.9040166139602661, 0.9045518636703491, 0.9058668613433838, 1.010622262954712, 0.9052743315696716, 0.9039441347122192, 0.907176673412323, 0.9050453901290894, 0.9072438478469849, 0.9051454067230225, 0.9052090048789978, 0.9043062329292297, 0.9040247797966003, 0.9844556450843811, 0.9046581387519836, 0.9050468802452087, 0.9053054451942444, 1.0014108419418335, 0.9890944957733154, 0.906341552734375, 0.9999536275863647, 0.9054756760597229, 0.9043110609054565, 0.9884559512138367, 0.9040994644165039, 0.9048440456390381, 0.9053062796592712, 1.0046504735946655, 0.9060782194137573, 0.9047969579696655, 0.9040783047676086, 0.9052778482437134, 1.0063607692718506, 0.9044721126556396, 0.9047667384147644, 0.9879664778709412, 0.9054531455039978, 0.9049328565597534, 0.9062131643295288, 0.9052302837371826, 0.9060879945755005, 0.9965908527374268, 0.9919080138206482, 0.9966239929199219, 0.9983882904052734], \"Term\": [\"address\", \"adopt\", \"agenc\", \"also\", \"although\", \"america\", \"american\", \"apart\", \"attract\", \"autowork\", \"bankruptci\", \"bay\", \"beachhead\", \"believ\", \"bell\", \"beneath\", \"better\", \"blue\", \"brand\", \"broaden\", \"brochur\", \"broke\", \"busi\", \"carver\", \"cemeteri\", \"chang\", \"cheaper\", \"chines\", \"choos\", \"chute\", \"colombia\", \"come\", \"commun\", \"complain\", \"condemn\", \"congress\", \"convict\", \"cook\", \"coordin\", \"cop\", \"countri\", \"creat\", \"creativ\", \"cross\", \"cuba\", \"cuban\", \"decenc\", \"decid\", \"deepen\", \"deepli\", \"deport\", \"devot\", \"directli\", \"dirti\", \"disciplin\", \"dish\", \"disput\", \"district\", \"dough\", \"drew\", \"drop\", \"drought\", \"dwight\", \"eager\", \"echo\", \"economi\", \"edg\", \"embargo\", \"endur\", \"even\", \"everi\", \"exercis\", \"fallen\", \"famili\", \"fascism\", \"first\", \"flag\", \"foe\", \"forc\", \"former\", \"franc\", \"frontier\", \"futur\", \"garag\", \"get\", \"give\", \"go\", \"gold\", \"grade\", \"grandkid\", \"gravit\", \"great\", \"group\", \"gruel\", \"haven\", \"health\", \"hedg\", \"help\", \"heroic\", \"honestli\", \"hospit\", \"humanitarian\", \"hurt\", \"iii\", \"imper\", \"impress\", \"influx\", \"inventor\", \"job\", \"joke\", \"keep\", \"killer\", \"know\", \"known\", \"latin\", \"legislatur\", \"lender\", \"let\", \"like\", \"livelihood\", \"lockhe\", \"lone\", \"loud\", \"loyalti\", \"make\", \"mani\", \"manner\", \"marathon\", \"marketplac\", \"marvel\", \"mat\", \"merriweath\", \"mileston\", \"millennia\", \"miner\", \"minneapoli\", \"mire\", \"misfortun\", \"missil\", \"mistreat\", \"mosqu\", \"motiv\", \"movement\", \"must\", \"nation\", \"nationwid\", \"nativ\", \"need\", \"needless\", \"new\", \"nice\", \"nonmilitari\", \"nonprofit\", \"notion\", \"occur\", \"one\", \"opportun\", \"orient\", \"osama\", \"ought\", \"overcam\", \"overcom\", \"overrid\", \"panel\", \"paycheck\", \"pentagon\", \"peopl\", \"peril\", \"pickup\", \"platform\", \"plea\", \"preexist\", \"princip\", \"privaci\", \"prove\", \"raid\", \"ration\", \"recip\", \"reconfirm\", \"recov\", \"regard\", \"reignit\", \"relationship\", \"releas\", \"relief\", \"remak\", \"remington\", \"rescu\", \"respond\", \"restraint\", \"retool\", \"riddl\", \"right\", \"russian\", \"sale\", \"salli\", \"secur\", \"sell\", \"selv\", \"sequest\", \"sexual\", \"slain\", \"softbank\", \"sophomor\", \"spill\", \"squeez\", \"state\", \"straight\", \"stumbl\", \"succe\", \"suffer\", \"surpris\", \"survey\", \"suspicion\", \"symbol\", \"tackl\", \"take\", \"taught\", \"tenth\", \"test\", \"time\", \"today\", \"tom\", \"tonight\", \"turnov\", \"unansw\", \"unit\", \"unlimit\", \"updat\", \"urgent\", \"us\", \"util\", \"verizon\", \"villag\", \"violat\", \"want\", \"warn\", \"wash\", \"way\", \"weaker\", \"went\", \"wise\", \"wish\", \"withdrawn\", \"work\", \"worker\", \"world\", \"year\"]}, \"R\": 30, \"lambda.step\": 0.01, \"plot.opts\": {\"xlab\": \"PC1\", \"ylab\": \"PC2\"}, \"topic.order\": [5, 7, 6, 4, 1, 3, 2]};\n",
              "\n",
              "function LDAvis_load_lib(url, callback){\n",
              "  var s = document.createElement('script');\n",
              "  s.src = url;\n",
              "  s.async = true;\n",
              "  s.onreadystatechange = s.onload = callback;\n",
              "  s.onerror = function(){console.warn(\"failed to load library \" + url);};\n",
              "  document.getElementsByTagName(\"head\")[0].appendChild(s);\n",
              "}\n",
              "\n",
              "if(typeof(LDAvis) !== \"undefined\"){\n",
              "   // already loaded: just create the visualization\n",
              "   !function(LDAvis){\n",
              "       new LDAvis(\"#\" + \"ldavis_el24601400434219829121574968532\", ldavis_el24601400434219829121574968532_data);\n",
              "   }(LDAvis);\n",
              "}else if(typeof define === \"function\" && define.amd){\n",
              "   // require.js is available: use it to load d3/LDAvis\n",
              "   require.config({paths: {d3: \"https://cdnjs.cloudflare.com/ajax/libs/d3/3.5.5/d3.min\"}});\n",
              "   require([\"d3\"], function(d3){\n",
              "      window.d3 = d3;\n",
              "      LDAvis_load_lib(\"https://cdn.rawgit.com/bmabey/pyLDAvis/files/ldavis.v1.0.0.js\", function(){\n",
              "        new LDAvis(\"#\" + \"ldavis_el24601400434219829121574968532\", ldavis_el24601400434219829121574968532_data);\n",
              "      });\n",
              "    });\n",
              "}else{\n",
              "    // require.js not available: dynamically load d3 & LDAvis\n",
              "    LDAvis_load_lib(\"https://cdnjs.cloudflare.com/ajax/libs/d3/3.5.5/d3.min.js\", function(){\n",
              "         LDAvis_load_lib(\"https://cdn.rawgit.com/bmabey/pyLDAvis/files/ldavis.v1.0.0.js\", function(){\n",
              "                 new LDAvis(\"#\" + \"ldavis_el24601400434219829121574968532\", ldavis_el24601400434219829121574968532_data);\n",
              "            })\n",
              "         });\n",
              "}\n",
              "</script>"
            ],
            "text/plain": [
              "<IPython.core.display.HTML object>"
            ]
          },
          "metadata": {
            "tags": []
          },
          "execution_count": 158
        }
      ]
    },
    {
      "cell_type": "code",
      "metadata": {
        "id": "z6EaX43jo9VF",
        "colab_type": "code",
        "colab": {
          "base_uri": "https://localhost:8080/",
          "height": 646
        },
        "outputId": "f319b059-e3ab-4c0f-8438-0896d8b46c89"
      },
      "source": [
        "# Load the library with the CountVectorizer method\n",
        "from sklearn.feature_extraction.text import CountVectorizer\n",
        "import numpy as np\n",
        "import matplotlib.pyplot as plt\n",
        "import seaborn as sns\n",
        "sns.set_style('whitegrid')\n",
        "%matplotlib inline\n",
        "# Helper function\n",
        "def plot_10_most_common_words(count_data, count_vectorizer):\n",
        "    import matplotlib.pyplot as plt\n",
        "    words = count_vectorizer.get_feature_names()\n",
        "    total_counts = np.zeros(len(words))\n",
        "    for t in count_data:\n",
        "        total_counts+=t.toarray()[0]\n",
        "    \n",
        "    count_dict = (zip(words, total_counts))\n",
        "    count_dict = sorted(count_dict, key=lambda x:x[1], reverse=True)[0:10]\n",
        "    words = [w[0] for w in count_dict]\n",
        "    counts = [w[1] for w in count_dict]\n",
        "    x_pos = np.arange(len(words)) \n",
        "    \n",
        "    plt.figure(2, figsize=(15, 15/1.6180))\n",
        "    plt.subplot(title='10 most common words')\n",
        "    sns.set_context(\"notebook\", font_scale=1.25, rc={\"lines.linewidth\": 2.5})\n",
        "    sns.barplot(x_pos, counts, palette='husl')\n",
        "    plt.xticks(x_pos, words, rotation=90) \n",
        "    plt.xlabel('words')\n",
        "    plt.ylabel('counts')\n",
        "    plt.show()\n",
        "# Initialise the count vectorizer with the English stop words\n",
        "count_vectorizer = CountVectorizer(stop_words='english')\n",
        "# Fit and transform the processed titles\n",
        "count_data = count_vectorizer.fit_transform(stemmed)\n",
        "# Visualise the 10 most common words\n",
        "plot_10_most_common_words(count_data, count_vectorizer)"
      ],
      "execution_count": 159,
      "outputs": [
        {
          "output_type": "display_data",
          "data": {
            "image/png": "[encoded data removed]",
            "text/plain": [
              "<Figure size 1080x667.491 with 1 Axes>"
            ]
          },
          "metadata": {
            "tags": [],
            "needs_background": "light"
          }
        }
      ]
    },
    {
      "cell_type": "code",
      "metadata": {
        "id": "5QQbXQamqgHv",
        "colab_type": "code",
        "colab": {
          "base_uri": "https://localhost:8080/",
          "height": 119
        },
        "outputId": "1af8243b-0930-42a9-d878-0fb130e2f995"
      },
      "source": [
        "print(count_vectorizer)"
      ],
      "execution_count": 160,
      "outputs": [
        {
          "output_type": "stream",
          "text": [
            "CountVectorizer(analyzer='word', binary=False, decode_error='strict',\n",
            "                dtype=<class 'numpy.int64'>, encoding='utf-8', input='content',\n",
            "                lowercase=True, max_df=1.0, max_features=None, min_df=1,\n",
            "                ngram_range=(1, 1), preprocessor=None, stop_words='english',\n",
            "                strip_accents=None, token_pattern='(?u)\\\\b\\\\w\\\\w+\\\\b',\n",
            "                tokenizer=None, vocabulary=None)\n"
          ],
          "name": "stdout"
        }
      ]
    },
    {
      "cell_type": "code",
      "metadata": {
        "id": "PXkPBpGmquHB",
        "colab_type": "code",
        "colab": {
          "base_uri": "https://localhost:8080/",
          "height": 51
        },
        "outputId": "2ae65e00-2d76-496e-ef7f-f1705a5d8fe2"
      },
      "source": [
        "count_data"
      ],
      "execution_count": 161,
      "outputs": [
        {
          "output_type": "execute_result",
          "data": {
            "text/plain": [
              "<8819x2065 sparse matrix of type '<class 'numpy.int64'>'\n",
              "\twith 7918 stored elements in Compressed Sparse Row format>"
            ]
          },
          "metadata": {
            "tags": []
          },
          "execution_count": 161
        }
      ]
    },
    {
      "cell_type": "code",
      "metadata": {
        "id": "iHEpIOBippEB",
        "colab_type": "code",
        "colab": {
          "base_uri": "https://localhost:8080/",
          "height": 544
        },
        "outputId": "9998401a-c3f1-4b68-f076-5c7cc8435de8"
      },
      "source": [
        "import warnings\n",
        "warnings.simplefilter(\"ignore\", DeprecationWarning)\n",
        "# Load the LDA model from sk-learn\n",
        "from sklearn.decomposition import LatentDirichletAllocation as LDA\n",
        " \n",
        "# Helper function\n",
        "def print_topics(model, count_vectorizer, n_top_words):\n",
        "    words = count_vectorizer.get_feature_names()\n",
        "    for topic_idx, topic in enumerate(model.components_):\n",
        "        print(\"\\nTopic #%d:\" % topic_idx)\n",
        "        print(\" \".join([words[i]\n",
        "                        for i in topic.argsort()[:-n_top_words - 1:-1]]))\n",
        "        \n",
        "# Tweak the two parameters below\n",
        "number_topics = 10\n",
        "number_words = 10\n",
        "# Create and fit the LDA model\n",
        "lda = LDA(n_components=number_topics, n_jobs=-1, random_state= 42)\n",
        "lda.fit(count_data)\n",
        "# Print the topics found by the LDA model\n",
        "print(\"Topics found via LDA:\")\n",
        "print_topics(lda, count_vectorizer, number_words)"
      ],
      "execution_count": 162,
      "outputs": [
        {
          "output_type": "stream",
          "text": [
            "Topics found via LDA:\n",
            "\n",
            "Topic #0:\n",
            "work new need secur mani opportun school live energi set\n",
            "\n",
            "Topic #1:\n",
            "world way govern power thank pay children start polit access\n",
            "\n",
            "Topic #2:\n",
            "help futur let commun support togeth lead say life stand\n",
            "\n",
            "Topic #3:\n",
            "job peopl state want right dream wage long join fair\n",
            "\n",
            "Topic #4:\n",
            "america nation like tonight chang better great reform care home\n",
            "\n",
            "Topic #5:\n",
            "year famili citizen good forc insur leader promis rais vote\n",
            "\n",
            "Topic #6:\n",
            "busi economi creat believ law final presid voic thing progress\n",
            "\n",
            "Topic #7:\n",
            "american time know unit million protect ask immigr past young\n",
            "\n",
            "Topic #8:\n",
            "make congress come war tax cut build love kid place\n",
            "\n",
            "Topic #9:\n",
            "countri everi worker today save health colleg alli militari student\n"
          ],
          "name": "stdout"
        }
      ]
    },
    {
      "cell_type": "code",
      "metadata": {
        "id": "hOAaV-0rI6JA",
        "colab_type": "code",
        "colab": {}
      },
      "source": [
        "from pydrive.auth import GoogleAuth\n",
        "from pydrive.drive import GoogleDrive\n",
        "from google.colab import auth\n",
        "from oauth2client.client import GoogleCredentials\n",
        "import pandas as pd"
      ],
      "execution_count": 0,
      "outputs": []
    },
    {
      "cell_type": "code",
      "metadata": {
        "id": "bgzEatfiJcED",
        "colab_type": "code",
        "colab": {}
      },
      "source": [
        "auth.authenticate_user()\n",
        "gauth = GoogleAuth()\n",
        "gauth.credentials = GoogleCredentials.get_application_default()\n",
        "drive = GoogleDrive(gauth)"
      ],
      "execution_count": 0,
      "outputs": []
    },
    {
      "cell_type": "code",
      "metadata": {
        "id": "RMR9Na9_r8Ff",
        "colab_type": "code",
        "colab": {}
      },
      "source": [
        "link = 'https://drive.google.com/file/d/13exn9tpHYLnKbRpxZTGmdxP96oTiW7AD/view?usp=sharing'"
      ],
      "execution_count": 0,
      "outputs": []
    },
    {
      "cell_type": "code",
      "metadata": {
        "id": "AP-n7DvQGMOr",
        "colab_type": "code",
        "colab": {}
      },
      "source": [
        "downloaded = drive.CreateFile({'id':\"13exn9tpHYLnKbRpxZTGmdxP96oTiW7AD\"}) \n",
        "downloaded.GetContentFile('LDALabellingNB.csv')"
      ],
      "execution_count": 0,
      "outputs": []
    },
    {
      "cell_type": "code",
      "metadata": {
        "id": "ymX7y7tSGMQv",
        "colab_type": "code",
        "colab": {}
      },
      "source": [
        "df_new =pd.read_csv('LDALabellingNB.csv')"
      ],
      "execution_count": 0,
      "outputs": []
    },
    {
      "cell_type": "code",
      "metadata": {
        "id": "dKxwZS0cGMUF",
        "colab_type": "code",
        "colab": {
          "base_uri": "https://localhost:8080/",
          "height": 359
        },
        "outputId": "f8792677-1fd4-472e-b880-8e29c01492b1"
      },
      "source": [
        "df_new"
      ],
      "execution_count": 193,
      "outputs": [
        {
          "output_type": "execute_result",
          "data": {
            "text/html": [
              "<div>\n",
              "<style scoped>\n",
              "    .dataframe tbody tr th:only-of-type {\n",
              "        vertical-align: middle;\n",
              "    }\n",
              "\n",
              "    .dataframe tbody tr th {\n",
              "        vertical-align: top;\n",
              "    }\n",
              "\n",
              "    .dataframe thead th {\n",
              "        text-align: right;\n",
              "    }\n",
              "</style>\n",
              "<table border=\"1\" class=\"dataframe\">\n",
              "  <thead>\n",
              "    <tr style=\"text-align: right;\">\n",
              "      <th></th>\n",
              "      <th>Label</th>\n",
              "      <th>Word1</th>\n",
              "      <th>Word2</th>\n",
              "      <th>Word3</th>\n",
              "      <th>Word4</th>\n",
              "      <th>Word5</th>\n",
              "      <th>Word6</th>\n",
              "      <th>Word7</th>\n",
              "      <th>Word8</th>\n",
              "      <th>Word9</th>\n",
              "      <th>Word10</th>\n",
              "    </tr>\n",
              "  </thead>\n",
              "  <tbody>\n",
              "    <tr>\n",
              "      <th>0</th>\n",
              "      <td>Job assurance</td>\n",
              "      <td>job</td>\n",
              "      <td>new</td>\n",
              "      <td>make</td>\n",
              "      <td>workers</td>\n",
              "      <td>today</td>\n",
              "      <td>work</td>\n",
              "      <td>united</td>\n",
              "      <td>americans</td>\n",
              "      <td>states</td>\n",
              "      <td>years</td>\n",
              "    </tr>\n",
              "    <tr>\n",
              "      <th>1</th>\n",
              "      <td>Congress Power</td>\n",
              "      <td>america</td>\n",
              "      <td>world</td>\n",
              "      <td>future</td>\n",
              "      <td>help</td>\n",
              "      <td>year</td>\n",
              "      <td>protect</td>\n",
              "      <td>congress</td>\n",
              "      <td>power</td>\n",
              "      <td>care</td>\n",
              "      <td>states</td>\n",
              "    </tr>\n",
              "    <tr>\n",
              "      <th>2</th>\n",
              "      <td>American People</td>\n",
              "      <td>year</td>\n",
              "      <td>work</td>\n",
              "      <td>just</td>\n",
              "      <td>want</td>\n",
              "      <td>know</td>\n",
              "      <td>make</td>\n",
              "      <td>people</td>\n",
              "      <td>states</td>\n",
              "      <td>america</td>\n",
              "      <td>years</td>\n",
              "    </tr>\n",
              "    <tr>\n",
              "      <th>3</th>\n",
              "      <td>Leadership</td>\n",
              "      <td>american</td>\n",
              "      <td>believe</td>\n",
              "      <td>business</td>\n",
              "      <td>country</td>\n",
              "      <td>tax</td>\n",
              "      <td>security</td>\n",
              "      <td>america</td>\n",
              "      <td>leadership</td>\n",
              "      <td>make</td>\n",
              "      <td>new</td>\n",
              "    </tr>\n",
              "    <tr>\n",
              "      <th>4</th>\n",
              "      <td>Health</td>\n",
              "      <td>american</td>\n",
              "      <td>people</td>\n",
              "      <td>america</td>\n",
              "      <td>world</td>\n",
              "      <td>right</td>\n",
              "      <td>jobs</td>\n",
              "      <td>years</td>\n",
              "      <td>new</td>\n",
              "      <td>need</td>\n",
              "      <td>health</td>\n",
              "    </tr>\n",
              "    <tr>\n",
              "      <th>5</th>\n",
              "      <td>Government Support</td>\n",
              "      <td>time</td>\n",
              "      <td>years</td>\n",
              "      <td>change</td>\n",
              "      <td>long</td>\n",
              "      <td>year</td>\n",
              "      <td>great</td>\n",
              "      <td>govenment</td>\n",
              "      <td>mr</td>\n",
              "      <td>support</td>\n",
              "      <td>ve</td>\n",
              "    </tr>\n",
              "    <tr>\n",
              "      <th>6</th>\n",
              "      <td>Democrats</td>\n",
              "      <td>americans</td>\n",
              "      <td>work</td>\n",
              "      <td>people</td>\n",
              "      <td>tonight</td>\n",
              "      <td>new</td>\n",
              "      <td>nation</td>\n",
              "      <td>democrats</td>\n",
              "      <td>congress</td>\n",
              "      <td>childern</td>\n",
              "      <td>health</td>\n",
              "    </tr>\n",
              "    <tr>\n",
              "      <th>7</th>\n",
              "      <td>World War II</td>\n",
              "      <td>families</td>\n",
              "      <td>america</td>\n",
              "      <td>let</td>\n",
              "      <td>war</td>\n",
              "      <td>work</td>\n",
              "      <td>world</td>\n",
              "      <td>country</td>\n",
              "      <td>make</td>\n",
              "      <td>ll</td>\n",
              "      <td>going</td>\n",
              "    </tr>\n",
              "    <tr>\n",
              "      <th>8</th>\n",
              "      <td>Diplomacy</td>\n",
              "      <td>like</td>\n",
              "      <td>american</td>\n",
              "      <td>ll</td>\n",
              "      <td>america</td>\n",
              "      <td>country</td>\n",
              "      <td>just</td>\n",
              "      <td>help</td>\n",
              "      <td>diplomacy</td>\n",
              "      <td>support</td>\n",
              "      <td>time</td>\n",
              "    </tr>\n",
              "    <tr>\n",
              "      <th>9</th>\n",
              "      <td>Security</td>\n",
              "      <td>security</td>\n",
              "      <td>americans</td>\n",
              "      <td>god</td>\n",
              "      <td>time</td>\n",
              "      <td>ve</td>\n",
              "      <td>things</td>\n",
              "      <td>bless</td>\n",
              "      <td>new</td>\n",
              "      <td>country</td>\n",
              "      <td>come</td>\n",
              "    </tr>\n",
              "  </tbody>\n",
              "</table>\n",
              "</div>"
            ],
            "text/plain": [
              "                Label      Word1      Word2  ...       Word8     Word9  Word10\n",
              "0       Job assurance        job        new  ...   americans    states   years\n",
              "1      Congress Power    america      world  ...       power      care  states\n",
              "2     American People       year       work  ...      states   america   years\n",
              "3          Leadership   american    believe  ...  leadership      make     new\n",
              "4              Health   american     people  ...         new      need  health\n",
              "5  Government Support       time      years  ...          mr   support      ve\n",
              "6           Democrats  americans       work  ...    congress  childern  health\n",
              "7        World War II   families    america  ...       make         ll   going\n",
              "8           Diplomacy       like   american  ...   diplomacy   support    time\n",
              "9            Security   security  americans  ...         new   country    come\n",
              "\n",
              "[10 rows x 11 columns]"
            ]
          },
          "metadata": {
            "tags": []
          },
          "execution_count": 193
        }
      ]
    },
    {
      "cell_type": "code",
      "metadata": {
        "id": "8mbcj3vMGMS8",
        "colab_type": "code",
        "colab": {}
      },
      "source": [
        "df_new['LDA_Labels']=df_new.Word1 + ' ' + df_new.Word2 +' ' + df_new.Word3 +' ' + df_new.Word4 +' ' + df_new.Word5 +' ' + df_new.Word6 +' ' + df_new.Word7 +' ' + df_new.Word8 +' ' + df_new.Word9 +' ' + df_new.Word10"
      ],
      "execution_count": 0,
      "outputs": []
    },
    {
      "cell_type": "code",
      "metadata": {
        "id": "G5ZXD4BQLMFu",
        "colab_type": "code",
        "colab": {
          "base_uri": "https://localhost:8080/",
          "height": 68
        },
        "outputId": "d784fac9-69b3-4d12-e33c-290c2d4e762e"
      },
      "source": [
        "df_new.columns"
      ],
      "execution_count": 195,
      "outputs": [
        {
          "output_type": "execute_result",
          "data": {
            "text/plain": [
              "Index(['Label', 'Word1', 'Word2', 'Word3', 'Word4', 'Word5', 'Word6', 'Word7',\n",
              "       'Word8', 'Word9', 'Word10', 'LDA_Labels'],\n",
              "      dtype='object')"
            ]
          },
          "metadata": {
            "tags": []
          },
          "execution_count": 195
        }
      ]
    },
    {
      "cell_type": "code",
      "metadata": {
        "id": "Y-Nqy17ELMH3",
        "colab_type": "code",
        "colab": {}
      },
      "source": [
        "from nltk.tokenize import word_tokenize, sent_tokenize\n",
        "tokens = [[w.lower() for w in word_tokenize(text)] for text in df_new.LDA_Labels]"
      ],
      "execution_count": 0,
      "outputs": []
    },
    {
      "cell_type": "code",
      "metadata": {
        "id": "JFHPW78rLMLJ",
        "colab_type": "code",
        "colab": {
          "base_uri": "https://localhost:8080/",
          "height": 1000
        },
        "outputId": "912ee0fe-0db2-435b-ebdf-549a140cc2b6"
      },
      "source": [
        "tokens"
      ],
      "execution_count": 197,
      "outputs": [
        {
          "output_type": "execute_result",
          "data": {
            "text/plain": [
              "[['job',\n",
              "  'new',\n",
              "  'make',\n",
              "  'workers',\n",
              "  'today',\n",
              "  'work',\n",
              "  'united',\n",
              "  'americans',\n",
              "  'states',\n",
              "  'years'],\n",
              " ['america',\n",
              "  'world',\n",
              "  'future',\n",
              "  'help',\n",
              "  'year',\n",
              "  'protect',\n",
              "  'congress',\n",
              "  'power',\n",
              "  'care',\n",
              "  'states'],\n",
              " ['year',\n",
              "  'work',\n",
              "  'just',\n",
              "  'want',\n",
              "  'know',\n",
              "  'make',\n",
              "  'people',\n",
              "  'states',\n",
              "  'america',\n",
              "  'years'],\n",
              " ['american',\n",
              "  'believe',\n",
              "  'business',\n",
              "  'country',\n",
              "  'tax',\n",
              "  'security',\n",
              "  'america',\n",
              "  'leadership',\n",
              "  'make',\n",
              "  'new'],\n",
              " ['american',\n",
              "  'people',\n",
              "  'america',\n",
              "  'world',\n",
              "  'right',\n",
              "  'jobs',\n",
              "  'years',\n",
              "  'new',\n",
              "  'need',\n",
              "  'health'],\n",
              " ['time',\n",
              "  'years',\n",
              "  'change',\n",
              "  'long',\n",
              "  'year',\n",
              "  'great',\n",
              "  'govenment',\n",
              "  'mr',\n",
              "  'support',\n",
              "  've'],\n",
              " ['americans',\n",
              "  'work',\n",
              "  'people',\n",
              "  'tonight',\n",
              "  'new',\n",
              "  'nation',\n",
              "  'democrats',\n",
              "  'congress',\n",
              "  'childern',\n",
              "  'health'],\n",
              " ['families',\n",
              "  'america',\n",
              "  'let',\n",
              "  'war',\n",
              "  'work',\n",
              "  'world',\n",
              "  'country',\n",
              "  'make',\n",
              "  'll',\n",
              "  'going'],\n",
              " ['like',\n",
              "  'american',\n",
              "  'll',\n",
              "  'america',\n",
              "  'country',\n",
              "  'just',\n",
              "  'help',\n",
              "  'diplomacy',\n",
              "  'support',\n",
              "  'time'],\n",
              " ['security',\n",
              "  'americans',\n",
              "  'god',\n",
              "  'time',\n",
              "  've',\n",
              "  'things',\n",
              "  'bless',\n",
              "  'new',\n",
              "  'country',\n",
              "  'come']]"
            ]
          },
          "metadata": {
            "tags": []
          },
          "execution_count": 197
        }
      ]
    },
    {
      "cell_type": "code",
      "metadata": {
        "id": "ugFMo9nNLMMz",
        "colab_type": "code",
        "colab": {}
      },
      "source": [
        "dict = gensim.corpora.Dictionary(tokens)"
      ],
      "execution_count": 0,
      "outputs": []
    },
    {
      "cell_type": "code",
      "metadata": {
        "id": "97e7UmtlLMJ8",
        "colab_type": "code",
        "colab": {}
      },
      "source": [
        "#To convert tokenized topics to vectors\n",
        "corpus = [dict.doc2bow(tokens) for tokens in tokens]"
      ],
      "execution_count": 0,
      "outputs": []
    },
    {
      "cell_type": "code",
      "metadata": {
        "id": "29qBEMD5LXDs",
        "colab_type": "code",
        "colab": {
          "base_uri": "https://localhost:8080/",
          "height": 207
        },
        "outputId": "05b285e9-e9cb-4e02-b1b2-edec2fc1c162"
      },
      "source": [
        "tf_idf = gensim.models.TfidfModel(corpus)\n",
        "for doc in tf_idf[corpus]:\n",
        "    print([[dict[id], np.around(freq, decimals=2)] for id, freq in doc])"
      ],
      "execution_count": 200,
      "outputs": [
        {
          "output_type": "stream",
          "text": [
            "[['americans', 0.23], ['job', 0.44], ['make', 0.18], ['new', 0.13], ['states', 0.23], ['today', 0.44], ['united', 0.44], ['work', 0.18], ['workers', 0.44], ['years', 0.18]]\n",
            "[['states', 0.22], ['america', 0.09], ['care', 0.41], ['congress', 0.29], ['future', 0.41], ['help', 0.29], ['power', 0.41], ['protect', 0.41], ['world', 0.22], ['year', 0.22]]\n",
            "[['make', 0.2], ['states', 0.27], ['work', 0.2], ['years', 0.2], ['america', 0.11], ['year', 0.27], ['just', 0.36], ['know', 0.51], ['people', 0.27], ['want', 0.51]]\n",
            "[['make', 0.17], ['new', 0.13], ['america', 0.1], ['american', 0.23], ['believe', 0.44], ['business', 0.44], ['country', 0.17], ['leadership', 0.44], ['security', 0.31], ['tax', 0.44]]\n",
            "[['new', 0.14], ['years', 0.19], ['america', 0.1], ['world', 0.24], ['people', 0.24], ['american', 0.24], ['health', 0.33], ['jobs', 0.47], ['need', 0.47], ['right', 0.47]]\n",
            "[['years', 0.15], ['year', 0.2], ['change', 0.39], ['govenment', 0.39], ['great', 0.39], ['long', 0.39], ['mr', 0.39], ['support', 0.27], ['time', 0.2], ['ve', 0.27]]\n",
            "[['americans', 0.22], ['new', 0.13], ['work', 0.17], ['congress', 0.29], ['people', 0.22], ['health', 0.29], ['childern', 0.42], ['democrats', 0.42], ['nation', 0.42], ['tonight', 0.42]]\n",
            "[['make', 0.17], ['work', 0.17], ['america', 0.1], ['world', 0.23], ['country', 0.17], ['families', 0.43], ['going', 0.43], ['let', 0.43], ['ll', 0.3], ['war', 0.43]]\n",
            "[['america', 0.1], ['help', 0.32], ['just', 0.32], ['american', 0.24], ['country', 0.18], ['support', 0.32], ['time', 0.24], ['ll', 0.32], ['diplomacy', 0.46], ['like', 0.46]]\n",
            "[['americans', 0.22], ['new', 0.13], ['country', 0.17], ['security', 0.29], ['time', 0.22], ['ve', 0.29], ['bless', 0.42], ['come', 0.42], ['god', 0.42], ['things', 0.42]]\n"
          ],
          "name": "stdout"
        }
      ]
    },
    {
      "cell_type": "code",
      "metadata": {
        "id": "s6SYZuJZLZF6",
        "colab_type": "code",
        "colab": {
          "base_uri": "https://localhost:8080/",
          "height": 71
        },
        "outputId": "022c1c05-c7b9-4882-8fee-cd237525509b"
      },
      "source": [
        "sims = gensim.similarities.Similarity('.',tf_idf[corpus],\n",
        "                                        num_features=len(dict))"
      ],
      "execution_count": 201,
      "outputs": [
        {
          "output_type": "stream",
          "text": [
            "/usr/local/lib/python3.6/dist-packages/gensim/matutils.py:718: FutureWarning: Conversion of the second argument of issubdtype from `int` to `np.signedinteger` is deprecated. In future, it will be treated as `np.int64 == np.dtype(int).type`.\n",
            "  if np.issubdtype(vec.dtype, np.int):\n"
          ],
          "name": "stderr"
        }
      ]
    },
    {
      "cell_type": "code",
      "metadata": {
        "id": "lB1p8oOVLdYc",
        "colab_type": "code",
        "colab": {}
      },
      "source": [
        "mat = []\n",
        "\n",
        "file1=['Thank you very much. Mr. Speaker, Mr. Vice President, members of Congress, the first lady of the United States']\n",
        "file2=['I am here tonight to deliver a message of unity and strength, and it is a message deeply delivered from my heart']\n",
        "file3=['But then the quiet voices became a loud chorus, as thousands of citizens now spoke out together, from cities small and large, all across our country']\n",
        "file=[file1,file2,file3]\n",
        "def IsSimilarText(sentences):\n",
        "  for sentence in sentences:\n",
        "    tokens = sent_tokenize(sentence)\n",
        "    for line in tokens:\n",
        "        mat.append(line)\n",
        "  print(\"\\nNumber of documents:\",len(mat))  \n",
        "  for line in mat:\n",
        "      query_doc = [w.lower() for w in word_tokenize(line)]\n",
        "      query_doc_bow = dict.doc2bow(query_doc) \n",
        "  query_doc_tf_idf = tf_idf[query_doc_bow]\n",
        "  max_number = float('-inf')\n",
        "  label=-1\n",
        "  for i,j in enumerate(sims[query_doc_tf_idf]):\n",
        "    print('Similarity with ',i,'the Label is',j)\n",
        "    if j > max_number:\n",
        "      label = i\n",
        "      max_number = j\n",
        "  print(\"\\nLabel for this Topic is:\",df_new.Label[label])"
      ],
      "execution_count": 0,
      "outputs": []
    },
    {
      "cell_type": "code",
      "metadata": {
        "id": "aQUjYnEuLhLQ",
        "colab_type": "code",
        "colab": {
          "base_uri": "https://localhost:8080/",
          "height": 1000
        },
        "outputId": "32ec4532-ba49-43f5-b6d9-8f560fbf83e9"
      },
      "source": [
        "print(\"Printing all labels:\\n\",df_new.Label)\n",
        "for i in file:\n",
        "  print(\"\\n\",i,\"\\n\")\n",
        "  IsSimilarText(i)"
      ],
      "execution_count": 203,
      "outputs": [
        {
          "output_type": "stream",
          "text": [
            "Printing all labels:\n",
            " 0         Job assurance\n",
            "1        Congress Power\n",
            "2       American People\n",
            "3            Leadership\n",
            "4                Health\n",
            "5    Government Support\n",
            "6             Democrats\n",
            "7          World War II\n",
            "8             Diplomacy\n",
            "9              Security\n",
            "Name: Label, dtype: object\n",
            "\n",
            " ['Thank you very much. Mr. Speaker, Mr. Vice President, members of Congress, the first lady of the United States'] \n",
            "\n",
            "\n",
            "Number of documents: 2\n",
            "Similarity with  0 the Label is 0.42427853\n",
            "Similarity with  1 the Label is 0.23740247\n",
            "Similarity with  2 the Label is 0.105203815\n",
            "Similarity with  3 the Label is 0.0\n",
            "Similarity with  4 the Label is 0.0\n",
            "Similarity with  5 the Label is 0.0\n",
            "Similarity with  6 the Label is 0.15318702\n",
            "Similarity with  7 the Label is 0.0\n",
            "Similarity with  8 the Label is 0.0\n",
            "Similarity with  9 the Label is 0.0\n",
            "\n",
            "Label for this Topic is: Job assurance\n",
            "\n",
            " ['I am here tonight to deliver a message of unity and strength, and it is a message deeply delivered from my heart'] \n",
            "\n",
            "\n",
            "Number of documents: 3\n",
            "Similarity with  0 the Label is 0.0\n",
            "Similarity with  1 the Label is 0.0\n",
            "Similarity with  2 the Label is 0.0\n",
            "Similarity with  3 the Label is 0.0\n",
            "Similarity with  4 the Label is 0.0\n",
            "Similarity with  5 the Label is 0.0\n",
            "Similarity with  6 the Label is 0.41620094\n",
            "Similarity with  7 the Label is 0.0\n",
            "Similarity with  8 the Label is 0.0\n",
            "Similarity with  9 the Label is 0.0\n",
            "\n",
            "Label for this Topic is: Democrats\n",
            "\n",
            " ['But then the quiet voices became a loud chorus, as thousands of citizens now spoke out together, from cities small and large, all across our country'] \n",
            "\n",
            "\n",
            "Number of documents: 4\n",
            "Similarity with  0 the Label is 0.0\n",
            "Similarity with  1 the Label is 0.0\n",
            "Similarity with  2 the Label is 0.0\n",
            "Similarity with  3 the Label is 0.17419848\n",
            "Similarity with  4 the Label is 0.0\n",
            "Similarity with  5 the Label is 0.0\n",
            "Similarity with  6 the Label is 0.0\n",
            "Similarity with  7 the Label is 0.1730788\n",
            "Similarity with  8 the Label is 0.18338807\n",
            "Similarity with  9 the Label is 0.16562301\n",
            "\n",
            "Label for this Topic is: Diplomacy\n"
          ],
          "name": "stdout"
        },
        {
          "output_type": "stream",
          "text": [
            "/usr/local/lib/python3.6/dist-packages/smart_open/smart_open_lib.py:410: UserWarning: This function is deprecated, use smart_open.open instead. See the migration notes for details: https://github.com/RaRe-Technologies/smart_open/blob/master/README.rst#migrating-to-the-new-open-function\n",
            "  'See the migration notes for details: %s' % _MIGRATION_NOTES_URL\n",
            "/usr/local/lib/python3.6/dist-packages/gensim/similarities/docsim.py:518: FutureWarning: arrays to stack must be passed as a \"sequence\" type such as list or tuple. Support for non-sequence iterables such as generators is deprecated as of NumPy 1.16 and will raise an error in the future.\n",
            "  result = numpy.hstack(shard_results)\n"
          ],
          "name": "stderr"
        }
      ]
    }
  ]
}