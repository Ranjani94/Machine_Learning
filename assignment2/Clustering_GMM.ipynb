{
  "nbformat": 4,
  "nbformat_minor": 0,
  "metadata": {
    "colab": {
      "name": "Clustering_GMM.ipynb",
      "provenance": [],
      "authorship_tag": "ABX9TyPS+5ADVK9Nycp1+f4Yjwmb",
      "include_colab_link": true
    },
    "kernelspec": {
      "name": "python3",
      "display_name": "Python 3"
    }
  },
  "cells": [
    {
      "cell_type": "markdown",
      "metadata": {
        "id": "view-in-github",
        "colab_type": "text"
      },
      "source": [
        "<a href=\"https://colab.research.google.com/github/Ranjani94/Machine_Learning/blob/master/assignment2/Clustering_GMM.ipynb\" target=\"_parent\"><img src=\"https://colab.research.google.com/assets/colab-badge.svg\" alt=\"Open In Colab\"/></a>"
      ]
    },
    {
      "cell_type": "code",
      "metadata": {
        "id": "P62OhXtmxipM",
        "colab_type": "code",
        "colab": {
          "base_uri": "https://localhost:8080/",
          "height": 289
        },
        "outputId": "57af3045-05c4-4e4a-c290-bc595eea9352"
      },
      "source": [
        "import matplotlib as mpl\n",
        "import matplotlib.pyplot as plt\n",
        "import numpy as np\n",
        "import pandas as pd\n",
        "data_link = 'https://raw.githubusercontent.com/Ranjani94/Machine_Learning/master/assignment1/AQ_Boston_Cam-Quincy.csv'\n",
        "data = pd.read_csv(data_link)\n",
        "data.head()"
      ],
      "execution_count": 10,
      "outputs": [
        {
          "output_type": "execute_result",
          "data": {
            "text/html": [
              "<div>\n",
              "<style scoped>\n",
              "    .dataframe tbody tr th:only-of-type {\n",
              "        vertical-align: middle;\n",
              "    }\n",
              "\n",
              "    .dataframe tbody tr th {\n",
              "        vertical-align: top;\n",
              "    }\n",
              "\n",
              "    .dataframe thead th {\n",
              "        text-align: right;\n",
              "    }\n",
              "</style>\n",
              "<table border=\"1\" class=\"dataframe\">\n",
              "  <thead>\n",
              "    <tr style=\"text-align: right;\">\n",
              "      <th></th>\n",
              "      <th>['location'</th>\n",
              "      <th>'city'</th>\n",
              "      <th>'country'</th>\n",
              "      <th>'utc'</th>\n",
              "      <th>'local'</th>\n",
              "      <th>'parameter'</th>\n",
              "      <th>'value'</th>\n",
              "      <th>'unit'</th>\n",
              "      <th>'latitude'</th>\n",
              "      <th>'longitude'</th>\n",
              "      <th>'attribution']</th>\n",
              "      <th>Unnamed: 11</th>\n",
              "      <th>Unnamed: 12</th>\n",
              "    </tr>\n",
              "  </thead>\n",
              "  <tbody>\n",
              "    <tr>\n",
              "      <th>0</th>\n",
              "      <td>['Portsmouth'</td>\n",
              "      <td>'Boston-Cambridge-Quincy'</td>\n",
              "      <td>'US'</td>\n",
              "      <td>'2020-02-09T18:00:00.000Z'</td>\n",
              "      <td>'2020-02-09T13:00:00-05:00'</td>\n",
              "      <td>'o3'</td>\n",
              "      <td>'0.035'</td>\n",
              "      <td>'ppm'</td>\n",
              "      <td>'43.075371'</td>\n",
              "      <td>'-70.748017'</td>\n",
              "      <td>'[{\"name\":\"US EPA AirNow\"</td>\n",
              "      <td>url:\"http://www.airnow.gov/\"}</td>\n",
              "      <td>{\"name\":\"New Hampshire Dept. of Environmental ...</td>\n",
              "    </tr>\n",
              "    <tr>\n",
              "      <th>1</th>\n",
              "      <td>['Odiorne State Park'</td>\n",
              "      <td>'Boston-Cambridge-Quincy'</td>\n",
              "      <td>'US'</td>\n",
              "      <td>'2020-02-09T18:00:00.000Z'</td>\n",
              "      <td>'2020-02-09T13:00:00-05:00'</td>\n",
              "      <td>'o3'</td>\n",
              "      <td>'0.038'</td>\n",
              "      <td>'ppm'</td>\n",
              "      <td>'43.045269'</td>\n",
              "      <td>'-70.713958'</td>\n",
              "      <td>'[{\"name\":\"US EPA AirNow\"</td>\n",
              "      <td>url:\"http://www.airnow.gov/\"}</td>\n",
              "      <td>{\"name\":\"New Hampshire Dept. of Environmental ...</td>\n",
              "    </tr>\n",
              "    <tr>\n",
              "      <th>2</th>\n",
              "      <td>['Portsmouth'</td>\n",
              "      <td>'Boston-Cambridge-Quincy'</td>\n",
              "      <td>'US'</td>\n",
              "      <td>'2020-02-09T18:00:00.000Z'</td>\n",
              "      <td>'2020-02-09T13:00:00-05:00'</td>\n",
              "      <td>'pm10'</td>\n",
              "      <td>'10'</td>\n",
              "      <td>'µg/m³'</td>\n",
              "      <td>'43.075371'</td>\n",
              "      <td>'-70.748017'</td>\n",
              "      <td>'[{\"name\":\"US EPA AirNow\"</td>\n",
              "      <td>url:\"http://www.airnow.gov/\"}</td>\n",
              "      <td>{\"name\":\"New Hampshire Dept. of Environmental ...</td>\n",
              "    </tr>\n",
              "    <tr>\n",
              "      <th>3</th>\n",
              "      <td>['Portsmouth'</td>\n",
              "      <td>'Boston-Cambridge-Quincy'</td>\n",
              "      <td>'US'</td>\n",
              "      <td>'2020-02-09T18:00:00.000Z'</td>\n",
              "      <td>'2020-02-09T13:00:00-05:00'</td>\n",
              "      <td>'pm25'</td>\n",
              "      <td>'4.8'</td>\n",
              "      <td>'µg/m³'</td>\n",
              "      <td>'43.075371'</td>\n",
              "      <td>'-70.748017'</td>\n",
              "      <td>'[{\"name\":\"US EPA AirNow\"</td>\n",
              "      <td>url:\"http://www.airnow.gov/\"}</td>\n",
              "      <td>{\"name\":\"New Hampshire Dept. of Environmental ...</td>\n",
              "    </tr>\n",
              "    <tr>\n",
              "      <th>4</th>\n",
              "      <td>['LYNN'</td>\n",
              "      <td>'Boston-Cambridge-Quincy'</td>\n",
              "      <td>'US'</td>\n",
              "      <td>'2020-02-09T17:00:00.000Z'</td>\n",
              "      <td>'2020-02-09T12:00:00-05:00'</td>\n",
              "      <td>'no2'</td>\n",
              "      <td>'0.008'</td>\n",
              "      <td>'ppm'</td>\n",
              "      <td>'42.474701'</td>\n",
              "      <td>'-70.971901'</td>\n",
              "      <td>'[{\"name\":\"US EPA AirNow\"</td>\n",
              "      <td>url:\"http://www.airnow.gov/\"}</td>\n",
              "      <td>{\"name\":\"Massachusetts Dept. of Environmental ...</td>\n",
              "    </tr>\n",
              "  </tbody>\n",
              "</table>\n",
              "</div>"
            ],
            "text/plain": [
              "             ['location'  ...                                        Unnamed: 12\n",
              "0          ['Portsmouth'  ...  {\"name\":\"New Hampshire Dept. of Environmental ...\n",
              "1  ['Odiorne State Park'  ...  {\"name\":\"New Hampshire Dept. of Environmental ...\n",
              "2          ['Portsmouth'  ...  {\"name\":\"New Hampshire Dept. of Environmental ...\n",
              "3          ['Portsmouth'  ...  {\"name\":\"New Hampshire Dept. of Environmental ...\n",
              "4                ['LYNN'  ...  {\"name\":\"Massachusetts Dept. of Environmental ...\n",
              "\n",
              "[5 rows x 13 columns]"
            ]
          },
          "metadata": {
            "tags": []
          },
          "execution_count": 10
        }
      ]
    },
    {
      "cell_type": "code",
      "metadata": {
        "id": "L1LT7iPiq4mv",
        "colab_type": "code",
        "colab": {
          "base_uri": "https://localhost:8080/",
          "height": 255
        },
        "outputId": "09f0505f-84d5-4122-fe70-c096584230a1"
      },
      "source": [
        "data.dtypes"
      ],
      "execution_count": 11,
      "outputs": [
        {
          "output_type": "execute_result",
          "data": {
            "text/plain": [
              "['location'        object\n",
              " 'city'            object\n",
              " 'country'         object\n",
              " 'utc'             object\n",
              " 'local'           object\n",
              " 'parameter'       object\n",
              " 'value'           object\n",
              " 'unit'            object\n",
              " 'latitude'        object\n",
              " 'longitude'       object\n",
              " 'attribution']    object\n",
              "Unnamed: 11        object\n",
              "Unnamed: 12        object\n",
              "dtype: object"
            ]
          },
          "metadata": {
            "tags": []
          },
          "execution_count": 11
        }
      ]
    },
    {
      "cell_type": "markdown",
      "metadata": {
        "id": "iwwo_AIS37iO",
        "colab_type": "text"
      },
      "source": [
        "##Cleaning the data"
      ]
    },
    {
      "cell_type": "code",
      "metadata": {
        "id": "KdMxQRr1x6tz",
        "colab_type": "code",
        "colab": {
          "base_uri": "https://localhost:8080/",
          "height": 204
        },
        "outputId": "f39a129f-d5a9-42d2-a294-0e545faa83c4"
      },
      "source": [
        "data = data.apply(lambda s:s.str.replace('\\'', \"\").str.replace('[', \"\"))\n",
        "data.columns = data.columns.str.strip().str.replace('[', '').str.replace(']', '').str.replace('\\'','')\n",
        "data.drop(data.columns[[10,11,12]], axis=1, inplace=True)\n",
        "data.head(5)"
      ],
      "execution_count": 12,
      "outputs": [
        {
          "output_type": "execute_result",
          "data": {
            "text/html": [
              "<div>\n",
              "<style scoped>\n",
              "    .dataframe tbody tr th:only-of-type {\n",
              "        vertical-align: middle;\n",
              "    }\n",
              "\n",
              "    .dataframe tbody tr th {\n",
              "        vertical-align: top;\n",
              "    }\n",
              "\n",
              "    .dataframe thead th {\n",
              "        text-align: right;\n",
              "    }\n",
              "</style>\n",
              "<table border=\"1\" class=\"dataframe\">\n",
              "  <thead>\n",
              "    <tr style=\"text-align: right;\">\n",
              "      <th></th>\n",
              "      <th>location</th>\n",
              "      <th>city</th>\n",
              "      <th>country</th>\n",
              "      <th>utc</th>\n",
              "      <th>local</th>\n",
              "      <th>parameter</th>\n",
              "      <th>value</th>\n",
              "      <th>unit</th>\n",
              "      <th>latitude</th>\n",
              "      <th>longitude</th>\n",
              "    </tr>\n",
              "  </thead>\n",
              "  <tbody>\n",
              "    <tr>\n",
              "      <th>0</th>\n",
              "      <td>Portsmouth</td>\n",
              "      <td>Boston-Cambridge-Quincy</td>\n",
              "      <td>US</td>\n",
              "      <td>2020-02-09T18:00:00.000Z</td>\n",
              "      <td>2020-02-09T13:00:00-05:00</td>\n",
              "      <td>o3</td>\n",
              "      <td>0.035</td>\n",
              "      <td>ppm</td>\n",
              "      <td>43.075371</td>\n",
              "      <td>-70.748017</td>\n",
              "    </tr>\n",
              "    <tr>\n",
              "      <th>1</th>\n",
              "      <td>Odiorne State Park</td>\n",
              "      <td>Boston-Cambridge-Quincy</td>\n",
              "      <td>US</td>\n",
              "      <td>2020-02-09T18:00:00.000Z</td>\n",
              "      <td>2020-02-09T13:00:00-05:00</td>\n",
              "      <td>o3</td>\n",
              "      <td>0.038</td>\n",
              "      <td>ppm</td>\n",
              "      <td>43.045269</td>\n",
              "      <td>-70.713958</td>\n",
              "    </tr>\n",
              "    <tr>\n",
              "      <th>2</th>\n",
              "      <td>Portsmouth</td>\n",
              "      <td>Boston-Cambridge-Quincy</td>\n",
              "      <td>US</td>\n",
              "      <td>2020-02-09T18:00:00.000Z</td>\n",
              "      <td>2020-02-09T13:00:00-05:00</td>\n",
              "      <td>pm10</td>\n",
              "      <td>10</td>\n",
              "      <td>µg/m³</td>\n",
              "      <td>43.075371</td>\n",
              "      <td>-70.748017</td>\n",
              "    </tr>\n",
              "    <tr>\n",
              "      <th>3</th>\n",
              "      <td>Portsmouth</td>\n",
              "      <td>Boston-Cambridge-Quincy</td>\n",
              "      <td>US</td>\n",
              "      <td>2020-02-09T18:00:00.000Z</td>\n",
              "      <td>2020-02-09T13:00:00-05:00</td>\n",
              "      <td>pm25</td>\n",
              "      <td>4.8</td>\n",
              "      <td>µg/m³</td>\n",
              "      <td>43.075371</td>\n",
              "      <td>-70.748017</td>\n",
              "    </tr>\n",
              "    <tr>\n",
              "      <th>4</th>\n",
              "      <td>LYNN</td>\n",
              "      <td>Boston-Cambridge-Quincy</td>\n",
              "      <td>US</td>\n",
              "      <td>2020-02-09T17:00:00.000Z</td>\n",
              "      <td>2020-02-09T12:00:00-05:00</td>\n",
              "      <td>no2</td>\n",
              "      <td>0.008</td>\n",
              "      <td>ppm</td>\n",
              "      <td>42.474701</td>\n",
              "      <td>-70.971901</td>\n",
              "    </tr>\n",
              "  </tbody>\n",
              "</table>\n",
              "</div>"
            ],
            "text/plain": [
              "             location                      city  ...    latitude    longitude\n",
              "0          Portsmouth   Boston-Cambridge-Quincy  ...   43.075371   -70.748017\n",
              "1  Odiorne State Park   Boston-Cambridge-Quincy  ...   43.045269   -70.713958\n",
              "2          Portsmouth   Boston-Cambridge-Quincy  ...   43.075371   -70.748017\n",
              "3          Portsmouth   Boston-Cambridge-Quincy  ...   43.075371   -70.748017\n",
              "4                LYNN   Boston-Cambridge-Quincy  ...   42.474701   -70.971901\n",
              "\n",
              "[5 rows x 10 columns]"
            ]
          },
          "metadata": {
            "tags": []
          },
          "execution_count": 12
        }
      ]
    },
    {
      "cell_type": "code",
      "metadata": {
        "id": "Ks3c-ytrrOAK",
        "colab_type": "code",
        "colab": {
          "base_uri": "https://localhost:8080/",
          "height": 204
        },
        "outputId": "ba17d686-daff-4ed1-f31d-1f867bf65120"
      },
      "source": [
        "c = data['location'].astype('category')\n",
        "d = dict(enumerate(c.cat.categories))\n",
        "data['location'] = c.cat.codes\n",
        "\n",
        "import datetime\n",
        "data['date'] = pd.DatetimeIndex(data['local']).date\n",
        "data.head()"
      ],
      "execution_count": 13,
      "outputs": [
        {
          "output_type": "execute_result",
          "data": {
            "text/html": [
              "<div>\n",
              "<style scoped>\n",
              "    .dataframe tbody tr th:only-of-type {\n",
              "        vertical-align: middle;\n",
              "    }\n",
              "\n",
              "    .dataframe tbody tr th {\n",
              "        vertical-align: top;\n",
              "    }\n",
              "\n",
              "    .dataframe thead th {\n",
              "        text-align: right;\n",
              "    }\n",
              "</style>\n",
              "<table border=\"1\" class=\"dataframe\">\n",
              "  <thead>\n",
              "    <tr style=\"text-align: right;\">\n",
              "      <th></th>\n",
              "      <th>location</th>\n",
              "      <th>city</th>\n",
              "      <th>country</th>\n",
              "      <th>utc</th>\n",
              "      <th>local</th>\n",
              "      <th>parameter</th>\n",
              "      <th>value</th>\n",
              "      <th>unit</th>\n",
              "      <th>latitude</th>\n",
              "      <th>longitude</th>\n",
              "      <th>date</th>\n",
              "    </tr>\n",
              "  </thead>\n",
              "  <tbody>\n",
              "    <tr>\n",
              "      <th>0</th>\n",
              "      <td>7</td>\n",
              "      <td>Boston-Cambridge-Quincy</td>\n",
              "      <td>US</td>\n",
              "      <td>2020-02-09T18:00:00.000Z</td>\n",
              "      <td>2020-02-09T13:00:00-05:00</td>\n",
              "      <td>o3</td>\n",
              "      <td>0.035</td>\n",
              "      <td>ppm</td>\n",
              "      <td>43.075371</td>\n",
              "      <td>-70.748017</td>\n",
              "      <td>2020-02-09</td>\n",
              "    </tr>\n",
              "    <tr>\n",
              "      <th>1</th>\n",
              "      <td>6</td>\n",
              "      <td>Boston-Cambridge-Quincy</td>\n",
              "      <td>US</td>\n",
              "      <td>2020-02-09T18:00:00.000Z</td>\n",
              "      <td>2020-02-09T13:00:00-05:00</td>\n",
              "      <td>o3</td>\n",
              "      <td>0.038</td>\n",
              "      <td>ppm</td>\n",
              "      <td>43.045269</td>\n",
              "      <td>-70.713958</td>\n",
              "      <td>2020-02-09</td>\n",
              "    </tr>\n",
              "    <tr>\n",
              "      <th>2</th>\n",
              "      <td>7</td>\n",
              "      <td>Boston-Cambridge-Quincy</td>\n",
              "      <td>US</td>\n",
              "      <td>2020-02-09T18:00:00.000Z</td>\n",
              "      <td>2020-02-09T13:00:00-05:00</td>\n",
              "      <td>pm10</td>\n",
              "      <td>10</td>\n",
              "      <td>µg/m³</td>\n",
              "      <td>43.075371</td>\n",
              "      <td>-70.748017</td>\n",
              "      <td>2020-02-09</td>\n",
              "    </tr>\n",
              "    <tr>\n",
              "      <th>3</th>\n",
              "      <td>7</td>\n",
              "      <td>Boston-Cambridge-Quincy</td>\n",
              "      <td>US</td>\n",
              "      <td>2020-02-09T18:00:00.000Z</td>\n",
              "      <td>2020-02-09T13:00:00-05:00</td>\n",
              "      <td>pm25</td>\n",
              "      <td>4.8</td>\n",
              "      <td>µg/m³</td>\n",
              "      <td>43.075371</td>\n",
              "      <td>-70.748017</td>\n",
              "      <td>2020-02-09</td>\n",
              "    </tr>\n",
              "    <tr>\n",
              "      <th>4</th>\n",
              "      <td>5</td>\n",
              "      <td>Boston-Cambridge-Quincy</td>\n",
              "      <td>US</td>\n",
              "      <td>2020-02-09T17:00:00.000Z</td>\n",
              "      <td>2020-02-09T12:00:00-05:00</td>\n",
              "      <td>no2</td>\n",
              "      <td>0.008</td>\n",
              "      <td>ppm</td>\n",
              "      <td>42.474701</td>\n",
              "      <td>-70.971901</td>\n",
              "      <td>2020-02-09</td>\n",
              "    </tr>\n",
              "  </tbody>\n",
              "</table>\n",
              "</div>"
            ],
            "text/plain": [
              "   location                      city  ...    longitude        date\n",
              "0         7   Boston-Cambridge-Quincy  ...   -70.748017  2020-02-09\n",
              "1         6   Boston-Cambridge-Quincy  ...   -70.713958  2020-02-09\n",
              "2         7   Boston-Cambridge-Quincy  ...   -70.748017  2020-02-09\n",
              "3         7   Boston-Cambridge-Quincy  ...   -70.748017  2020-02-09\n",
              "4         5   Boston-Cambridge-Quincy  ...   -70.971901  2020-02-09\n",
              "\n",
              "[5 rows x 11 columns]"
            ]
          },
          "metadata": {
            "tags": []
          },
          "execution_count": 13
        }
      ]
    },
    {
      "cell_type": "code",
      "metadata": {
        "id": "h33mybrPrOLh",
        "colab_type": "code",
        "colab": {
          "base_uri": "https://localhost:8080/",
          "height": 255
        },
        "outputId": "dff0104f-6025-48b1-daa4-a7ebb739a66a"
      },
      "source": [
        "data_loc = data[(data['location'] == 7)]\n",
        "print(data_loc)"
      ],
      "execution_count": 14,
      "outputs": [
        {
          "output_type": "stream",
          "text": [
            "      location                      city  ...    longitude        date\n",
            "0            7   Boston-Cambridge-Quincy  ...   -70.748017  2020-02-09\n",
            "2            7   Boston-Cambridge-Quincy  ...   -70.748017  2020-02-09\n",
            "3            7   Boston-Cambridge-Quincy  ...   -70.748017  2020-02-09\n",
            "9            7   Boston-Cambridge-Quincy  ...   -70.748017  2020-02-09\n",
            "11           7   Boston-Cambridge-Quincy  ...   -70.748017  2020-02-09\n",
            "...        ...                       ...  ...          ...         ...\n",
            "9977         7   Boston-Cambridge-Quincy  ...   -70.748017  2020-01-18\n",
            "9978         7   Boston-Cambridge-Quincy  ...   -70.748017  2020-01-18\n",
            "9986         7   Boston-Cambridge-Quincy  ...   -70.748017  2020-01-17\n",
            "9987         7   Boston-Cambridge-Quincy  ...   -70.748017  2020-01-17\n",
            "9995         7   Boston-Cambridge-Quincy  ...   -70.748017  2020-01-17\n",
            "\n",
            "[2139 rows x 11 columns]\n"
          ],
          "name": "stdout"
        }
      ]
    },
    {
      "cell_type": "markdown",
      "metadata": {
        "id": "-_kPEZfK4LXN",
        "colab_type": "text"
      },
      "source": [
        "#Pivoting the table"
      ]
    },
    {
      "cell_type": "code",
      "metadata": {
        "id": "3gtgxv3OrOON",
        "colab_type": "code",
        "colab": {
          "base_uri": "https://localhost:8080/",
          "height": 204
        },
        "outputId": "c259863a-1c11-4c8f-8d5c-b6c4c7df5a9d"
      },
      "source": [
        "#Pivoting the table\n",
        "table = pd.pivot_table(data, values='value', index=['location', 'local','date'], columns=['parameter'], aggfunc=np.sum, fill_value=0)\n",
        "table.reset_index(inplace=True)\n",
        "table.columns=table.columns.str.strip()\n",
        "\n",
        "def float_convert(var):\n",
        "    table[var]=table[var].astype(float)\n",
        "    \n",
        "arr=['co','no2','o3','pm10','pm25','so2']\n",
        "for i in arr:\n",
        "    float_convert(i)\n",
        "table.head()"
      ],
      "execution_count": 16,
      "outputs": [
        {
          "output_type": "execute_result",
          "data": {
            "text/html": [
              "<div>\n",
              "<style scoped>\n",
              "    .dataframe tbody tr th:only-of-type {\n",
              "        vertical-align: middle;\n",
              "    }\n",
              "\n",
              "    .dataframe tbody tr th {\n",
              "        vertical-align: top;\n",
              "    }\n",
              "\n",
              "    .dataframe thead th {\n",
              "        text-align: right;\n",
              "    }\n",
              "</style>\n",
              "<table border=\"1\" class=\"dataframe\">\n",
              "  <thead>\n",
              "    <tr style=\"text-align: right;\">\n",
              "      <th>parameter</th>\n",
              "      <th>location</th>\n",
              "      <th>local</th>\n",
              "      <th>date</th>\n",
              "      <th>co</th>\n",
              "      <th>no2</th>\n",
              "      <th>o3</th>\n",
              "      <th>pm10</th>\n",
              "      <th>pm25</th>\n",
              "      <th>so2</th>\n",
              "    </tr>\n",
              "  </thead>\n",
              "  <tbody>\n",
              "    <tr>\n",
              "      <th>0</th>\n",
              "      <td>0</td>\n",
              "      <td>2020-01-17T23:00:00-05:00</td>\n",
              "      <td>2020-01-17</td>\n",
              "      <td>0.0</td>\n",
              "      <td>0.008</td>\n",
              "      <td>0.0</td>\n",
              "      <td>0.0</td>\n",
              "      <td>0.0</td>\n",
              "      <td>0.0</td>\n",
              "    </tr>\n",
              "    <tr>\n",
              "      <th>1</th>\n",
              "      <td>0</td>\n",
              "      <td>2020-01-18T00:00:00-05:00</td>\n",
              "      <td>2020-01-18</td>\n",
              "      <td>0.0</td>\n",
              "      <td>0.009</td>\n",
              "      <td>0.0</td>\n",
              "      <td>0.0</td>\n",
              "      <td>0.0</td>\n",
              "      <td>0.0</td>\n",
              "    </tr>\n",
              "    <tr>\n",
              "      <th>2</th>\n",
              "      <td>0</td>\n",
              "      <td>2020-01-18T01:00:00-05:00</td>\n",
              "      <td>2020-01-18</td>\n",
              "      <td>0.0</td>\n",
              "      <td>0.008</td>\n",
              "      <td>0.0</td>\n",
              "      <td>0.0</td>\n",
              "      <td>0.0</td>\n",
              "      <td>0.0</td>\n",
              "    </tr>\n",
              "    <tr>\n",
              "      <th>3</th>\n",
              "      <td>0</td>\n",
              "      <td>2020-01-18T02:00:00-05:00</td>\n",
              "      <td>2020-01-18</td>\n",
              "      <td>0.0</td>\n",
              "      <td>0.008</td>\n",
              "      <td>0.0</td>\n",
              "      <td>0.0</td>\n",
              "      <td>0.0</td>\n",
              "      <td>0.0</td>\n",
              "    </tr>\n",
              "    <tr>\n",
              "      <th>4</th>\n",
              "      <td>0</td>\n",
              "      <td>2020-01-18T03:00:00-05:00</td>\n",
              "      <td>2020-01-18</td>\n",
              "      <td>0.0</td>\n",
              "      <td>0.007</td>\n",
              "      <td>0.0</td>\n",
              "      <td>0.0</td>\n",
              "      <td>0.0</td>\n",
              "      <td>0.0</td>\n",
              "    </tr>\n",
              "  </tbody>\n",
              "</table>\n",
              "</div>"
            ],
            "text/plain": [
              "parameter  location                       local        date  ...  pm10  pm25  so2\n",
              "0                 0   2020-01-17T23:00:00-05:00  2020-01-17  ...   0.0   0.0  0.0\n",
              "1                 0   2020-01-18T00:00:00-05:00  2020-01-18  ...   0.0   0.0  0.0\n",
              "2                 0   2020-01-18T01:00:00-05:00  2020-01-18  ...   0.0   0.0  0.0\n",
              "3                 0   2020-01-18T02:00:00-05:00  2020-01-18  ...   0.0   0.0  0.0\n",
              "4                 0   2020-01-18T03:00:00-05:00  2020-01-18  ...   0.0   0.0  0.0\n",
              "\n",
              "[5 rows x 9 columns]"
            ]
          },
          "metadata": {
            "tags": []
          },
          "execution_count": 16
        }
      ]
    },
    {
      "cell_type": "markdown",
      "metadata": {
        "id": "COoNbjpK4P-n",
        "colab_type": "text"
      },
      "source": [
        "##Grouping by mean"
      ]
    },
    {
      "cell_type": "code",
      "metadata": {
        "id": "D7TcyvSPyoG3",
        "colab_type": "code",
        "colab": {
          "base_uri": "https://localhost:8080/",
          "height": 204
        },
        "outputId": "89a44ccc-23eb-4eb4-ca9f-917d3b4a9f80"
      },
      "source": [
        "AQI_table = table.groupby(table['date']).mean()\n",
        "AQI_table.reset_index(inplace=True)\n",
        "AQI_table.head(5)"
      ],
      "execution_count": 17,
      "outputs": [
        {
          "output_type": "execute_result",
          "data": {
            "text/html": [
              "<div>\n",
              "<style scoped>\n",
              "    .dataframe tbody tr th:only-of-type {\n",
              "        vertical-align: middle;\n",
              "    }\n",
              "\n",
              "    .dataframe tbody tr th {\n",
              "        vertical-align: top;\n",
              "    }\n",
              "\n",
              "    .dataframe thead th {\n",
              "        text-align: right;\n",
              "    }\n",
              "</style>\n",
              "<table border=\"1\" class=\"dataframe\">\n",
              "  <thead>\n",
              "    <tr style=\"text-align: right;\">\n",
              "      <th>parameter</th>\n",
              "      <th>date</th>\n",
              "      <th>location</th>\n",
              "      <th>co</th>\n",
              "      <th>no2</th>\n",
              "      <th>o3</th>\n",
              "      <th>pm10</th>\n",
              "      <th>pm25</th>\n",
              "      <th>so2</th>\n",
              "    </tr>\n",
              "  </thead>\n",
              "  <tbody>\n",
              "    <tr>\n",
              "      <th>0</th>\n",
              "      <td>2020-01-17</td>\n",
              "      <td>3.142857</td>\n",
              "      <td>0.025714</td>\n",
              "      <td>0.003286</td>\n",
              "      <td>0.027857</td>\n",
              "      <td>0.000000</td>\n",
              "      <td>2.085714</td>\n",
              "      <td>0.000286</td>\n",
              "    </tr>\n",
              "    <tr>\n",
              "      <th>1</th>\n",
              "      <td>2020-01-18</td>\n",
              "      <td>3.142857</td>\n",
              "      <td>0.035476</td>\n",
              "      <td>0.006679</td>\n",
              "      <td>0.022405</td>\n",
              "      <td>1.630952</td>\n",
              "      <td>2.784524</td>\n",
              "      <td>0.000435</td>\n",
              "    </tr>\n",
              "    <tr>\n",
              "      <th>2</th>\n",
              "      <td>2020-01-19</td>\n",
              "      <td>3.473684</td>\n",
              "      <td>0.051513</td>\n",
              "      <td>0.006072</td>\n",
              "      <td>0.018553</td>\n",
              "      <td>2.046053</td>\n",
              "      <td>4.243421</td>\n",
              "      <td>0.000520</td>\n",
              "    </tr>\n",
              "    <tr>\n",
              "      <th>3</th>\n",
              "      <td>2020-01-20</td>\n",
              "      <td>3.149701</td>\n",
              "      <td>0.028443</td>\n",
              "      <td>0.003856</td>\n",
              "      <td>0.025341</td>\n",
              "      <td>2.143713</td>\n",
              "      <td>1.910180</td>\n",
              "      <td>0.000407</td>\n",
              "    </tr>\n",
              "    <tr>\n",
              "      <th>4</th>\n",
              "      <td>2020-01-21</td>\n",
              "      <td>3.142857</td>\n",
              "      <td>0.047798</td>\n",
              "      <td>0.008589</td>\n",
              "      <td>0.020762</td>\n",
              "      <td>2.464286</td>\n",
              "      <td>2.785714</td>\n",
              "      <td>0.000476</td>\n",
              "    </tr>\n",
              "  </tbody>\n",
              "</table>\n",
              "</div>"
            ],
            "text/plain": [
              "parameter        date  location        co  ...      pm10      pm25       so2\n",
              "0          2020-01-17  3.142857  0.025714  ...  0.000000  2.085714  0.000286\n",
              "1          2020-01-18  3.142857  0.035476  ...  1.630952  2.784524  0.000435\n",
              "2          2020-01-19  3.473684  0.051513  ...  2.046053  4.243421  0.000520\n",
              "3          2020-01-20  3.149701  0.028443  ...  2.143713  1.910180  0.000407\n",
              "4          2020-01-21  3.142857  0.047798  ...  2.464286  2.785714  0.000476\n",
              "\n",
              "[5 rows x 8 columns]"
            ]
          },
          "metadata": {
            "tags": []
          },
          "execution_count": 17
        }
      ]
    },
    {
      "cell_type": "markdown",
      "metadata": {
        "id": "UGC8ILbf4pAk",
        "colab_type": "text"
      },
      "source": [
        "##Installing the Air_Quality_Index library"
      ]
    },
    {
      "cell_type": "code",
      "metadata": {
        "id": "PHkgC1nKsmcF",
        "colab_type": "code",
        "colab": {
          "base_uri": "https://localhost:8080/",
          "height": 170
        },
        "outputId": "4781e6c2-6b2e-42e3-c721-136f92795eb9"
      },
      "source": [
        "pip install python-aqi"
      ],
      "execution_count": 20,
      "outputs": [
        {
          "output_type": "stream",
          "text": [
            "Collecting python-aqi\n",
            "  Downloading https://files.pythonhosted.org/packages/41/89/42266c6fb056ef52776effba731acaf2bf3b564f7845ef970918ee9f68f9/python-aqi-0.6.1.tar.gz\n",
            "Building wheels for collected packages: python-aqi\n",
            "  Building wheel for python-aqi (setup.py) ... \u001b[?25l\u001b[?25hdone\n",
            "  Created wheel for python-aqi: filename=python_aqi-0.6.1-cp36-none-any.whl size=9661 sha256=dd20b78d8d09bf8af53d41e05472085f9c9f0a11848772edd568fe95789ace26\n",
            "  Stored in directory: /root/.cache/pip/wheels/19/d1/a3/e86a721d62c4ccb26cad2d0900d3c4cdf3f9848215882e0547\n",
            "Successfully built python-aqi\n",
            "Installing collected packages: python-aqi\n",
            "Successfully installed python-aqi-0.6.1\n"
          ],
          "name": "stdout"
        }
      ]
    },
    {
      "cell_type": "code",
      "metadata": {
        "id": "WfG1MJSnsQdq",
        "colab_type": "code",
        "colab": {
          "base_uri": "https://localhost:8080/",
          "height": 204
        },
        "outputId": "edbc7f58-7dc6-4a1b-d1f3-8ca8be790c65"
      },
      "source": [
        "import aqi\n",
        "\n",
        "def cal_PM10aqi(value):\n",
        "  PM10_aqi = aqi.to_iaqi(aqi.POLLUTANT_PM10, str(value))\n",
        "  return PM10_aqi\n",
        "\n",
        "def cal_PM25aqi(value):\n",
        "  PM25_aqi = aqi.to_iaqi(aqi.POLLUTANT_PM25, str(value))\n",
        "  return PM25_aqi\n",
        "\n",
        "AQI_table['PM10_aqi'] = AQI_table.apply(lambda idx: cal_PM10aqi(idx['pm10']), axis=1)\n",
        "AQI_table['PM25_aqi'] = AQI_table.apply(lambda idx: cal_PM25aqi(idx['pm25']), axis=1)\n",
        "AQI_table.drop(['date'], axis=1,inplace=True)\n",
        "MEAN_AQI = AQI_table\n",
        "MEAN_AQI.head()"
      ],
      "execution_count": 30,
      "outputs": [
        {
          "output_type": "execute_result",
          "data": {
            "text/html": [
              "<div>\n",
              "<style scoped>\n",
              "    .dataframe tbody tr th:only-of-type {\n",
              "        vertical-align: middle;\n",
              "    }\n",
              "\n",
              "    .dataframe tbody tr th {\n",
              "        vertical-align: top;\n",
              "    }\n",
              "\n",
              "    .dataframe thead th {\n",
              "        text-align: right;\n",
              "    }\n",
              "</style>\n",
              "<table border=\"1\" class=\"dataframe\">\n",
              "  <thead>\n",
              "    <tr style=\"text-align: right;\">\n",
              "      <th>parameter</th>\n",
              "      <th>location</th>\n",
              "      <th>co</th>\n",
              "      <th>no2</th>\n",
              "      <th>o3</th>\n",
              "      <th>pm10</th>\n",
              "      <th>pm25</th>\n",
              "      <th>so2</th>\n",
              "      <th>PM10_aqi</th>\n",
              "      <th>PM25_aqi</th>\n",
              "      <th>cluster</th>\n",
              "    </tr>\n",
              "  </thead>\n",
              "  <tbody>\n",
              "    <tr>\n",
              "      <th>0</th>\n",
              "      <td>3.142857</td>\n",
              "      <td>0.025714</td>\n",
              "      <td>0.003286</td>\n",
              "      <td>0.027857</td>\n",
              "      <td>0.000000</td>\n",
              "      <td>2.085714</td>\n",
              "      <td>0.000286</td>\n",
              "      <td>0</td>\n",
              "      <td>8</td>\n",
              "      <td>1</td>\n",
              "    </tr>\n",
              "    <tr>\n",
              "      <th>1</th>\n",
              "      <td>3.142857</td>\n",
              "      <td>0.035476</td>\n",
              "      <td>0.006679</td>\n",
              "      <td>0.022405</td>\n",
              "      <td>1.630952</td>\n",
              "      <td>2.784524</td>\n",
              "      <td>0.000435</td>\n",
              "      <td>1</td>\n",
              "      <td>11</td>\n",
              "      <td>1</td>\n",
              "    </tr>\n",
              "    <tr>\n",
              "      <th>2</th>\n",
              "      <td>3.473684</td>\n",
              "      <td>0.051513</td>\n",
              "      <td>0.006072</td>\n",
              "      <td>0.018553</td>\n",
              "      <td>2.046053</td>\n",
              "      <td>4.243421</td>\n",
              "      <td>0.000520</td>\n",
              "      <td>2</td>\n",
              "      <td>18</td>\n",
              "      <td>2</td>\n",
              "    </tr>\n",
              "    <tr>\n",
              "      <th>3</th>\n",
              "      <td>3.149701</td>\n",
              "      <td>0.028443</td>\n",
              "      <td>0.003856</td>\n",
              "      <td>0.025341</td>\n",
              "      <td>2.143713</td>\n",
              "      <td>1.910180</td>\n",
              "      <td>0.000407</td>\n",
              "      <td>2</td>\n",
              "      <td>8</td>\n",
              "      <td>1</td>\n",
              "    </tr>\n",
              "    <tr>\n",
              "      <th>4</th>\n",
              "      <td>3.142857</td>\n",
              "      <td>0.047798</td>\n",
              "      <td>0.008589</td>\n",
              "      <td>0.020762</td>\n",
              "      <td>2.464286</td>\n",
              "      <td>2.785714</td>\n",
              "      <td>0.000476</td>\n",
              "      <td>2</td>\n",
              "      <td>11</td>\n",
              "      <td>1</td>\n",
              "    </tr>\n",
              "  </tbody>\n",
              "</table>\n",
              "</div>"
            ],
            "text/plain": [
              "parameter  location        co       no2  ...  PM10_aqi  PM25_aqi  cluster\n",
              "0          3.142857  0.025714  0.003286  ...         0         8        1\n",
              "1          3.142857  0.035476  0.006679  ...         1        11        1\n",
              "2          3.473684  0.051513  0.006072  ...         2        18        2\n",
              "3          3.149701  0.028443  0.003856  ...         2         8        1\n",
              "4          3.142857  0.047798  0.008589  ...         2        11        1\n",
              "\n",
              "[5 rows x 10 columns]"
            ]
          },
          "metadata": {
            "tags": []
          },
          "execution_count": 30
        }
      ]
    },
    {
      "cell_type": "markdown",
      "metadata": {
        "id": "IDNtwA5z0Fz4",
        "colab_type": "text"
      },
      "source": [
        "##Elbow Method"
      ]
    },
    {
      "cell_type": "code",
      "metadata": {
        "id": "rJ-kuBN-0Dp-",
        "colab_type": "code",
        "colab": {
          "base_uri": "https://localhost:8080/",
          "height": 295
        },
        "outputId": "8b62f190-e0dc-4a40-c7b3-f83df3c08360"
      },
      "source": [
        "def elbow_method():\n",
        "    Error =[]\n",
        "    for i in range(1, 11):\n",
        "        kmeans = KMeans(n_clusters = i).fit(MEAN_AQI)\n",
        "        kmeans.fit(MEAN_AQI)\n",
        "        Error.append(kmeans.inertia_)\n",
        "    plt.plot(range(1, 11), Error)\n",
        "    plt.title('Elbow method')\n",
        "    plt.xlabel('No of clusters')\n",
        "    plt.ylabel('Error')\n",
        "    plt.show()\n",
        "\n",
        "elbow_method()"
      ],
      "execution_count": 32,
      "outputs": [
        {
          "output_type": "display_data",
          "data": {
            "image/png": "[encoded data removed]",
            "text/plain": [
              "<Figure size 432x288 with 1 Axes>"
            ]
          },
          "metadata": {
            "tags": []
          }
        }
      ]
    },
    {
      "cell_type": "markdown",
      "metadata": {
        "id": "pApITkCb076y",
        "colab_type": "text"
      },
      "source": [
        "##K-Means\n"
      ]
    },
    {
      "cell_type": "code",
      "metadata": {
        "id": "Vllyo4t-sQha",
        "colab_type": "code",
        "colab": {
          "base_uri": "https://localhost:8080/",
          "height": 204
        },
        "outputId": "9a1e084b-611a-4f7b-c1b0-ccb5d9f043db"
      },
      "source": [
        "#X = MEAN_AQI.iloc[:,1:].values\n",
        "#print(X)\n",
        "from sklearn.cluster import KMeans\n",
        "kmeans = KMeans(n_clusters=3)\n",
        "y = kmeans.fit_predict(MEAN_AQI.iloc[:,1:].values)\n",
        "MEAN_AQI['cluster'] = y\n",
        "MEAN_AQI.head()\n",
        "#AQI_table.head()\n",
        "\n"
      ],
      "execution_count": 36,
      "outputs": [
        {
          "output_type": "execute_result",
          "data": {
            "text/html": [
              "<div>\n",
              "<style scoped>\n",
              "    .dataframe tbody tr th:only-of-type {\n",
              "        vertical-align: middle;\n",
              "    }\n",
              "\n",
              "    .dataframe tbody tr th {\n",
              "        vertical-align: top;\n",
              "    }\n",
              "\n",
              "    .dataframe thead th {\n",
              "        text-align: right;\n",
              "    }\n",
              "</style>\n",
              "<table border=\"1\" class=\"dataframe\">\n",
              "  <thead>\n",
              "    <tr style=\"text-align: right;\">\n",
              "      <th>parameter</th>\n",
              "      <th>location</th>\n",
              "      <th>co</th>\n",
              "      <th>no2</th>\n",
              "      <th>o3</th>\n",
              "      <th>pm10</th>\n",
              "      <th>pm25</th>\n",
              "      <th>so2</th>\n",
              "      <th>PM10_aqi</th>\n",
              "      <th>PM25_aqi</th>\n",
              "      <th>cluster</th>\n",
              "    </tr>\n",
              "  </thead>\n",
              "  <tbody>\n",
              "    <tr>\n",
              "      <th>0</th>\n",
              "      <td>3.142857</td>\n",
              "      <td>0.025714</td>\n",
              "      <td>0.003286</td>\n",
              "      <td>0.027857</td>\n",
              "      <td>0.000000</td>\n",
              "      <td>2.085714</td>\n",
              "      <td>0.000286</td>\n",
              "      <td>0</td>\n",
              "      <td>8</td>\n",
              "      <td>1</td>\n",
              "    </tr>\n",
              "    <tr>\n",
              "      <th>1</th>\n",
              "      <td>3.142857</td>\n",
              "      <td>0.035476</td>\n",
              "      <td>0.006679</td>\n",
              "      <td>0.022405</td>\n",
              "      <td>1.630952</td>\n",
              "      <td>2.784524</td>\n",
              "      <td>0.000435</td>\n",
              "      <td>1</td>\n",
              "      <td>11</td>\n",
              "      <td>1</td>\n",
              "    </tr>\n",
              "    <tr>\n",
              "      <th>2</th>\n",
              "      <td>3.473684</td>\n",
              "      <td>0.051513</td>\n",
              "      <td>0.006072</td>\n",
              "      <td>0.018553</td>\n",
              "      <td>2.046053</td>\n",
              "      <td>4.243421</td>\n",
              "      <td>0.000520</td>\n",
              "      <td>2</td>\n",
              "      <td>18</td>\n",
              "      <td>0</td>\n",
              "    </tr>\n",
              "    <tr>\n",
              "      <th>3</th>\n",
              "      <td>3.149701</td>\n",
              "      <td>0.028443</td>\n",
              "      <td>0.003856</td>\n",
              "      <td>0.025341</td>\n",
              "      <td>2.143713</td>\n",
              "      <td>1.910180</td>\n",
              "      <td>0.000407</td>\n",
              "      <td>2</td>\n",
              "      <td>8</td>\n",
              "      <td>1</td>\n",
              "    </tr>\n",
              "    <tr>\n",
              "      <th>4</th>\n",
              "      <td>3.142857</td>\n",
              "      <td>0.047798</td>\n",
              "      <td>0.008589</td>\n",
              "      <td>0.020762</td>\n",
              "      <td>2.464286</td>\n",
              "      <td>2.785714</td>\n",
              "      <td>0.000476</td>\n",
              "      <td>2</td>\n",
              "      <td>11</td>\n",
              "      <td>1</td>\n",
              "    </tr>\n",
              "  </tbody>\n",
              "</table>\n",
              "</div>"
            ],
            "text/plain": [
              "parameter  location        co       no2  ...  PM10_aqi  PM25_aqi  cluster\n",
              "0          3.142857  0.025714  0.003286  ...         0         8        1\n",
              "1          3.142857  0.035476  0.006679  ...         1        11        1\n",
              "2          3.473684  0.051513  0.006072  ...         2        18        0\n",
              "3          3.149701  0.028443  0.003856  ...         2         8        1\n",
              "4          3.142857  0.047798  0.008589  ...         2        11        1\n",
              "\n",
              "[5 rows x 10 columns]"
            ]
          },
          "metadata": {
            "tags": []
          },
          "execution_count": 36
        }
      ]
    },
    {
      "cell_type": "code",
      "metadata": {
        "id": "Qn4PnlNJ2k4W",
        "colab_type": "code",
        "colab": {
          "base_uri": "https://localhost:8080/",
          "height": 280
        },
        "outputId": "1572e4f9-4c39-432e-b4e1-2910fee4dd30"
      },
      "source": [
        "plt.scatter(MEAN_AQI['PM25_aqi'], MEAN_AQI['o3'], s=60, c=y, cmap='rainbow')\n",
        "plt.xlabel(\"PM25_aqi\")\n",
        "plt.ylabel(\"o3\")\n",
        "plt.show()"
      ],
      "execution_count": 39,
      "outputs": [
        {
          "output_type": "display_data",
          "data": {
            "image/png": "[encoded data removed]",
            "text/plain": [
              "<Figure size 432x288 with 1 Axes>"
            ]
          },
          "metadata": {
            "tags": []
          }
        }
      ]
    },
    {
      "cell_type": "code",
      "metadata": {
        "id": "lREtLvy2sQja",
        "colab_type": "code",
        "colab": {
          "base_uri": "https://localhost:8080/",
          "height": 280
        },
        "outputId": "b5b4bfb9-8034-4bf9-998b-cb325827ebcc"
      },
      "source": [
        "plt.scatter(MEAN_AQI['PM10_aqi'], MEAN_AQI['o3'], s=70, c=y, cmap='rainbow')\n",
        "plt.xlabel('PM10_aqi')\n",
        "plt.ylabel('O3')\n",
        "plt.show()"
      ],
      "execution_count": 41,
      "outputs": [
        {
          "output_type": "display_data",
          "data": {
            "image/png": "[encoded data removed]",
            "text/plain": [
              "<Figure size 432x288 with 1 Axes>"
            ]
          },
          "metadata": {
            "tags": []
          }
        }
      ]
    },
    {
      "cell_type": "markdown",
      "metadata": {
        "id": "VfHPoBWO3GLZ",
        "colab_type": "text"
      },
      "source": [
        "##GMM_Clustering"
      ]
    },
    {
      "cell_type": "code",
      "metadata": {
        "id": "xE8uMiaB3JfO",
        "colab_type": "code",
        "colab": {
          "base_uri": "https://localhost:8080/",
          "height": 204
        },
        "outputId": "d90cd095-8f11-4495-b8d0-d3eefaabea2b"
      },
      "source": [
        "from sklearn.mixture import GaussianMixture\n",
        "MEAN_AQI.drop(['cluster'], axis=1,inplace=True)\n",
        "gmm = GaussianMixture(n_components = 3 , covariance_type='spherical').fit(MEAN_AQI.iloc[:,1:].values)\n",
        "y_gmm = gmm.predict(MEAN_AQI.iloc[:,1:].values)\n",
        "MEAN_AQI['clusterGMM'] = y_gmm\n",
        "MEAN_AQI.tail()"
      ],
      "execution_count": 42,
      "outputs": [
        {
          "output_type": "execute_result",
          "data": {
            "text/html": [
              "<div>\n",
              "<style scoped>\n",
              "    .dataframe tbody tr th:only-of-type {\n",
              "        vertical-align: middle;\n",
              "    }\n",
              "\n",
              "    .dataframe tbody tr th {\n",
              "        vertical-align: top;\n",
              "    }\n",
              "\n",
              "    .dataframe thead th {\n",
              "        text-align: right;\n",
              "    }\n",
              "</style>\n",
              "<table border=\"1\" class=\"dataframe\">\n",
              "  <thead>\n",
              "    <tr style=\"text-align: right;\">\n",
              "      <th>parameter</th>\n",
              "      <th>location</th>\n",
              "      <th>co</th>\n",
              "      <th>no2</th>\n",
              "      <th>o3</th>\n",
              "      <th>pm10</th>\n",
              "      <th>pm25</th>\n",
              "      <th>so2</th>\n",
              "      <th>PM10_aqi</th>\n",
              "      <th>PM25_aqi</th>\n",
              "      <th>clusterGMM</th>\n",
              "    </tr>\n",
              "  </thead>\n",
              "  <tbody>\n",
              "    <tr>\n",
              "      <th>19</th>\n",
              "      <td>3.497326</td>\n",
              "      <td>0.032888</td>\n",
              "      <td>0.007572</td>\n",
              "      <td>0.020032</td>\n",
              "      <td>2.470588</td>\n",
              "      <td>2.497861</td>\n",
              "      <td>0.000540</td>\n",
              "      <td>2</td>\n",
              "      <td>10</td>\n",
              "      <td>0</td>\n",
              "    </tr>\n",
              "    <tr>\n",
              "      <th>20</th>\n",
              "      <td>3.500000</td>\n",
              "      <td>0.028906</td>\n",
              "      <td>0.006302</td>\n",
              "      <td>0.021281</td>\n",
              "      <td>0.916667</td>\n",
              "      <td>1.595312</td>\n",
              "      <td>0.000464</td>\n",
              "      <td>0</td>\n",
              "      <td>6</td>\n",
              "      <td>2</td>\n",
              "    </tr>\n",
              "    <tr>\n",
              "      <th>21</th>\n",
              "      <td>3.507853</td>\n",
              "      <td>0.032565</td>\n",
              "      <td>0.004853</td>\n",
              "      <td>0.019607</td>\n",
              "      <td>0.340314</td>\n",
              "      <td>0.935602</td>\n",
              "      <td>0.000497</td>\n",
              "      <td>0</td>\n",
              "      <td>4</td>\n",
              "      <td>2</td>\n",
              "    </tr>\n",
              "    <tr>\n",
              "      <th>22</th>\n",
              "      <td>3.500000</td>\n",
              "      <td>0.020208</td>\n",
              "      <td>0.001859</td>\n",
              "      <td>0.028714</td>\n",
              "      <td>1.171875</td>\n",
              "      <td>1.728125</td>\n",
              "      <td>0.000333</td>\n",
              "      <td>1</td>\n",
              "      <td>7</td>\n",
              "      <td>2</td>\n",
              "    </tr>\n",
              "    <tr>\n",
              "      <th>23</th>\n",
              "      <td>3.509615</td>\n",
              "      <td>0.031635</td>\n",
              "      <td>0.008067</td>\n",
              "      <td>0.020654</td>\n",
              "      <td>3.038462</td>\n",
              "      <td>2.973077</td>\n",
              "      <td>0.000413</td>\n",
              "      <td>3</td>\n",
              "      <td>12</td>\n",
              "      <td>0</td>\n",
              "    </tr>\n",
              "  </tbody>\n",
              "</table>\n",
              "</div>"
            ],
            "text/plain": [
              "parameter  location        co       no2  ...  PM10_aqi  PM25_aqi  clusterGMM\n",
              "19         3.497326  0.032888  0.007572  ...         2        10           0\n",
              "20         3.500000  0.028906  0.006302  ...         0         6           2\n",
              "21         3.507853  0.032565  0.004853  ...         0         4           2\n",
              "22         3.500000  0.020208  0.001859  ...         1         7           2\n",
              "23         3.509615  0.031635  0.008067  ...         3        12           0\n",
              "\n",
              "[5 rows x 10 columns]"
            ]
          },
          "metadata": {
            "tags": []
          },
          "execution_count": 42
        }
      ]
    },
    {
      "cell_type": "code",
      "metadata": {
        "id": "uHM-dlZ93JhE",
        "colab_type": "code",
        "colab": {
          "base_uri": "https://localhost:8080/",
          "height": 280
        },
        "outputId": "5c90a3a3-9d0d-4d2d-e337-062a09027865"
      },
      "source": [
        "plt.scatter(MEAN_AQI['PM10_aqi'], MEAN_AQI['o3'], s=70, c=y_gmm, cmap='rainbow')\n",
        "plt.xlabel('PM10_aqi')\n",
        "plt.ylabel('O3')\n",
        "plt.show()"
      ],
      "execution_count": 45,
      "outputs": [
        {
          "output_type": "display_data",
          "data": {
            "image/png": "[encoded data removed]",
            "text/plain": [
              "<Figure size 432x288 with 1 Axes>"
            ]
          },
          "metadata": {
            "tags": []
          }
        }
      ]
    },
    {
      "cell_type": "code",
      "metadata": {
        "id": "SNur7Svj3kCS",
        "colab_type": "code",
        "colab": {
          "base_uri": "https://localhost:8080/",
          "height": 280
        },
        "outputId": "38253ff4-2cd5-49f5-9666-2ea06f1dd5d3"
      },
      "source": [
        "plt.scatter(MEAN_AQI['PM25_aqi'], MEAN_AQI['o3'], s=60, c=y_gmm, cmap='rainbow')\n",
        "plt.xlabel(\"PM25_aqi\")\n",
        "plt.ylabel(\"o3\")\n",
        "plt.show()"
      ],
      "execution_count": 46,
      "outputs": [
        {
          "output_type": "display_data",
          "data": {
            "image/png": "[encoded data removed]",
            "text/plain": [
              "<Figure size 432x288 with 1 Axes>"
            ]
          },
          "metadata": {
            "tags": []
          }
        }
      ]
    }
  ]
}